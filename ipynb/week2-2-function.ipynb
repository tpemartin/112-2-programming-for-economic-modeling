{
 "cells": [
  {
   "cell_type": "code",
   "execution_count": 30,
   "metadata": {},
   "outputs": [],
   "source": [
    "from IPython.core.interactiveshell import InteractiveShell\n",
    "InteractiveShell.ast_node_interactivity = \"all\""
   ]
  },
  {
   "cell_type": "markdown",
   "metadata": {},
   "source": [
    "# 1. Functions\n",
    "\n",
    "## 1.1. How to define a function\n",
    "\n",
    "Follow the lecture note [Functions](https://python-programming.quantecon.org/functions.html)\n",
    "\n",
    "  * Execution of the function terminates when the first return is hit\n",
    "  * Functions can be (and often are) defined inside other functions.  \n",
    "  * Any object can be passed to a function as an argument, including other functions.\n",
    "  * A function can return any kind of object, including functions."
   ]
  },
  {
   "cell_type": "markdown",
   "metadata": {},
   "source": [
    "Suppose you want to compute the same Cobb-Douglas preference under different bundle of consumptions.\n"
   ]
  },
  {
   "cell_type": "code",
   "execution_count": 27,
   "metadata": {},
   "outputs": [],
   "source": [
    "def CobbDouglas(x, y, alpha):\n",
    "    return x**alpha * y**(1-alpha)\n",
    "\n",
    "def Constructor_Cobb_Douglas(alpha):\n",
    "    def CobbDouglas(x, y):\n",
    "        return x**alpha * y**(1-alpha)\n",
    "    return CobbDouglas"
   ]
  },
  {
   "cell_type": "code",
   "execution_count": 29,
   "metadata": {},
   "outputs": [
    {
     "data": {
      "text/plain": [
       "1.7320508075688772"
      ]
     },
     "execution_count": 29,
     "metadata": {},
     "output_type": "execute_result"
    }
   ],
   "source": [
    "CobbDouglas(1, 2, 0.5)\n",
    "CobbDouglas(1, 3, 0.5)\n",
    "\n",
    "cd = Constructor_Cobb_Douglas(0.5)\n",
    "cd(1, 2)\n",
    "cd(1, 3)"
   ]
  },
  {
   "cell_type": "markdown",
   "metadata": {},
   "source": [
    "## 1.2 Scoping rules\n",
    "\n",
    "Local scope (function body) -> Birthplace all the way up."
   ]
  },
  {
   "cell_type": "code",
   "execution_count": null,
   "metadata": {},
   "outputs": [
    {
     "name": "stdout",
     "output_type": "stream",
     "text": [
      "1\n",
      "4\n"
     ]
    }
   ],
   "source": [
    "x=4\n",
    "def a():\n",
    "    y=1\n",
    "    def b():\n",
    "        print(y)\n",
    "        print(x)\n",
    "    b()\n",
    "\n",
    "a()\n",
    "    "
   ]
  },
  {
   "cell_type": "markdown",
   "metadata": {},
   "source": [
    "# Exercise A\n",
    "\n",
    "Continue from Week2-1 Exercise B\n",
    "\n",
    "In general, we can write the demand equation as $ q^d = Dp + h $, where\n",
    "\n",
    "- $ q^d $ is an $ n \\times 1 $ vector of demand quantities for $ n $ different goods.  \n",
    "- $ D $ is an $ n \\times n $ “coefficient” matrix.  \n",
    "- $ h $ is an $ n \\times 1 $ vector of constant values.  \n",
    "\n",
    "\n",
    "Similarly, we can write the supply equation as $ q^s = Cp + e $, where\n",
    "\n",
    "- $ q^d $ is an $ n \\times 1 $ vector of supply quantities for the same goods.  \n",
    "- $ C $ is an $ n \\times n $ “coefficient” matrix.  \n",
    "- $ e $ is an $ n \\times 1 $ vector of constant values.  \n",
    "\n",
    "\n",
    "To find an equilibrium, we solve $ Dp + h = Cp + e $\n",
    "\n",
    "$$\n",
    "p = (C-D)^{-1} h\n",
    "q = Dp + h\n",
    "$$\n",
    "\n",
    "Write a function `compute_equilibrium_price`. \n",
    "\n",
    "  * Think carefully the inputs you need.  \n",
    "  * Think carefully the output object type."
   ]
  },
  {
   "cell_type": "markdown",
   "metadata": {},
   "source": [
    "## 1.1 Modules\n",
    "\n",
    "You can build a local module and import it\n",
    "\n",
    "  * Create a file named `mymodule.py` in the same directory as your notebook\n",
    "  * Put the following code in it \n",
    "  * In your notebook, you can import it by `import mymodule`"
   ]
  },
  {
   "cell_type": "code",
   "execution_count": 26,
   "metadata": {},
   "outputs": [
    {
     "name": "stdout",
     "output_type": "stream",
     "text": [
      "{'beta': 0.96, 'u': <function consumer_example.<locals>.<lambda> at 0x11a08cd60>}\n"
     ]
    }
   ],
   "source": [
    "import olg2 as olg \n",
    "\n",
    "ce = olg.consumer_example() \n",
    "print(ce)"
   ]
  },
  {
   "cell_type": "markdown",
   "metadata": {},
   "source": [
    "Given the log utility function, optimal consumption will link saving and wage as follows:\n",
    "\n",
    "$$\n",
    "s_t = s(w_t, R_{t+1}) = \\frac{\\beta}{1+\\beta} w_t \\tag{23.6}\n",
    "$$"
   ]
  },
  {
   "cell_type": "code",
   "execution_count": 12,
   "metadata": {},
   "outputs": [
    {
     "data": {
      "text/plain": [
       "0.4897959183673469"
      ]
     },
     "execution_count": 12,
     "metadata": {},
     "output_type": "execute_result"
    }
   ],
   "source": [
    "def saving(w, R):\n",
    "    return (ce[\"beta\"]/(1+ce[\"beta\"]))*w\n",
    "\n",
    "saving(1, 1.05)"
   ]
  },
  {
   "cell_type": "markdown",
   "metadata": {},
   "source": [
    "When `saving` is called, `ce` must exist in the global namespace.(aka global environment)"
   ]
  },
  {
   "cell_type": "markdown",
   "metadata": {},
   "source": [
    "# OOP\n",
    "\n",
    "[python OOP](https://python-programming.quantecon.org/python_oop.html#)\n",
    "\n",
    "The OLG consumer has personal attributes on their preference only (i.e. $\\beta$ and utility function $u(c) = \\log(c)$). Things other than optimal consumption (saving) are not what they can change, like budget constraint, wage, interest rate, etc."
   ]
  },
  {
   "cell_type": "code",
   "execution_count": 23,
   "metadata": {},
   "outputs": [],
   "source": [
    "class Consumer:\n",
    "    def __init__(self, beta, u):\n",
    "        self.beta = beta\n",
    "        self.u = u\n",
    "    def saving(self, w, R):\n",
    "        return (self.beta/(1+self.beta))*w\n",
    "\n",
    "import numpy as np\n",
    "c = Consumer(0.9, lambda c: np.log(c))"
   ]
  },
  {
   "cell_type": "markdown",
   "metadata": {},
   "source": [
    "  * `self` should be the first argument of any method since any method call will implicitly throw in the object itself as the first argument. Explicitly a method call does not need to pass in `self` as an argument.\n",
    "    \n",
    "  * No need to worry if `beta` information is available in the global namespace. It is part of the object properties. So always accessible.\n",
    "\n",
    "> Class name should be capitalized. Method name should be lower case."
   ]
  },
  {
   "cell_type": "code",
   "execution_count": 24,
   "metadata": {},
   "outputs": [
    {
     "data": {
      "text/plain": [
       "0.4736842105263158"
      ]
     },
     "execution_count": 24,
     "metadata": {},
     "output_type": "execute_result"
    }
   ],
   "source": [
    "c.beta\n",
    "c.u(2)\n",
    "c.saving(1, 1.05)"
   ]
  },
  {
   "cell_type": "markdown",
   "metadata": {},
   "source": [
    "\\_\\_init\\_\\_ carries the fundamental picture of your model. Any other equilibrium conditions, first order conditions, etc. should be defined as methods of the class."
   ]
  },
  {
   "cell_type": "markdown",
   "metadata": {},
   "source": [
    "# Exercise B\n",
    "\n",
    "Continue from exercise B, construct a DemandSupply class."
   ]
  }
 ],
 "metadata": {
  "kernelspec": {
   "display_name": ".venv",
   "language": "python",
   "name": "python3"
  },
  "language_info": {
   "codemirror_mode": {
    "name": "ipython",
    "version": 3
   },
   "file_extension": ".py",
   "mimetype": "text/x-python",
   "name": "python",
   "nbconvert_exporter": "python",
   "pygments_lexer": "ipython3",
   "version": "3.11.5"
  },
  "orig_nbformat": 4
 },
 "nbformat": 4,
 "nbformat_minor": 2
}
