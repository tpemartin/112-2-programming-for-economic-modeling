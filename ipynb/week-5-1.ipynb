{
 "cells": [
  {
   "cell_type": "code",
   "execution_count": 96,
   "metadata": {},
   "outputs": [],
   "source": [
    "from IPython.core.interactiveshell import InteractiveShell\n",
    "InteractiveShell.ast_node_interactivity = \"all\""
   ]
  },
  {
   "cell_type": "markdown",
   "metadata": {},
   "source": [
    "# Composition\n",
    "\n",
    "In OOP different classes can be related to each other in different ways. One of the most common ways is composition. Composition is a way to combine different classes into a new class. The new class is called a composite class. The composite class is made up of the other classes. The composite class can be used just like any other class. The composite class can have its own attributes and methods. The composite class can also have attributes and methods from the other classes. The composite class can also have attributes and methods that are a combination of the other classes."
   ]
  },
  {
   "cell_type": "markdown",
   "metadata": {},
   "source": [
    "## Overlapping generation model\n",
    "\n",
    "### 1 Consumer: Log utility\n",
    "\n",
    "Suppose that utility for individuals born at time $ t $ takes the form\n",
    "\n",
    "\n",
    "<a id='equation-eq-crra'></a>\n",
    "$$\n",
    "U_t = u(c_t) + \\beta u(c_{t+1}) \\tag{23.1}\n",
    "$$\n",
    "\n",
    "Here\n",
    "\n",
    "- $ u: \\log(c)$  \n",
    "- $ \\beta \\in (0, 1) $ is the discount factor  \n",
    "- $ c_t $ is time $ t $ consumption of the individual born at time $ t $  \n",
    "- $ c_{t+1} $ is time $ t+1 $ consumption of the same individual  \n",
    "\n",
    "Solving for saving, we get\n",
    "\n",
    "\n",
    "<a id='equation-saving-log-2-olg'></a>\n",
    "$$\n",
    "s_t = s(w_t, R_{t+1}) = \\frac{\\beta}{1+\\beta} w_t \\tag{23.6}\n",
    "$$\n",
    "\n",
    "Saving turns into investment. Assume 100% capital depreciation so that $s_t$ turns into $k_{t+1}$. In optimum, \n",
    "\n",
    "$$\n",
    "k_{t+1} = s(w_t, R_{t+1}) = \\frac{\\beta}{1+\\beta} w_t \\tag{23.6b}\n",
    "$$\n",
    "\n",
    "Also consumers are capital owner. Producer actually rents capital from consumers. So, consumers receive rental income from producers."
   ]
  },
  {
   "cell_type": "code",
   "execution_count": 97,
   "metadata": {},
   "outputs": [],
   "source": [
    "class Consumer_LogUtility:\n",
    "    def __init__(self, beta):\n",
    "        self.beta = beta\n",
    "    def foc_c(self, knext, w, R): # (23.6b)\n",
    "        return knext - (self.beta/(1+self.beta))*w\n"
   ]
  },
  {
   "cell_type": "markdown",
   "metadata": {},
   "source": [
    "### 2 Producer: Cobb-Douglas\n",
    "\n",
    "For each integer $ t \\geq 0 $, output $ y_t $ in period $ t $ is given by\n",
    "the **Cobb-Douglas production function**\n",
    "\n",
    "\n",
    "<a id='equation-cobb-douglas'></a>\n",
    "$$\n",
    "y_t = k_t^{\\alpha} \\ell_t^{1-\\alpha} \\tag{23.7}\n",
    "$$\n",
    "\n",
    "Here $ k_t $ is capital, $ \\ell_t $ is labor, and  $ \\alpha $ is a parameter\n",
    "(sometimes called the “output elasticity of capital”).\n",
    "\n",
    "The profit maximization problem of the firm is\n",
    "\n",
    "\n",
    "<a id='equation-opt-profit-olg'></a>\n",
    "$$\n",
    "\\max_{k_t, \\ell_t} \\{ k^{\\alpha}_t \\ell_t^{1-\\alpha} - R_t k_t - \\ell_t w_t   \\} \\tag{23.8}\n",
    "$$\n",
    "\n",
    "The first-order conditions are obtained by taking the derivative of the\n",
    "objective function with respect to capital and labor respectively and setting\n",
    "them to zero:\n",
    "\n",
    "$$\n",
    "(1-\\alpha)(k_t / \\ell_t)^{\\alpha} = w_t\n",
    "    \\quad \\text{and} \\quad\n",
    "    \\alpha (k_t / \\ell_t)^{\\alpha - 1} = R_t \\tag{23.9}\n",
    "$$\n"
   ]
  },
  {
   "cell_type": "code",
   "execution_count": 98,
   "metadata": {},
   "outputs": [],
   "source": [
    "class Producer_cobbDouglas:\n",
    "    def __init__(self, alpha):\n",
    "        self.alpha = alpha\n",
    "    def foc_l(self, k, l, w): # (23.9)\n",
    "        return (1-self.alpha)*(k/l)**self.alpha - w\n",
    "    def foc_k(self, k, l, R): # (23.9)\n",
    "        return self.alpha*(l/k)**(1-self.alpha) - R\n"
   ]
  },
  {
   "cell_type": "markdown",
   "metadata": {},
   "source": [
    "### 3 Dynamic equilibrium\n",
    "\n",
    "In Macroeconomics, dynamic equilibrium is a set of solutions for **ENDOGENOUS** variables each date that \n",
    "\n",
    "- satisfies all FOCs\n",
    "- satisfies all constraints, \n",
    "\n",
    "and is normally presented as a function of parameters and\n",
    "\n",
    "- predetermined variables, e.g. today's capital stock (predetermined yesterday).\n",
    "\n",
    "> Dynamical endogenous variables are variables with a time subscript which are not shocks -- there is no shock in the model. In OLG case here, they are $(k_{t+1}, w_t, R_t)$ (other than $c_t$).\n",
    "\n",
    "Both agents, consumer and producer, have their FOCs equal to zero satisfied. Assume $\\ell_t=1$ for all $t$. And $k_0$ is given. Then, we have\n",
    "\n",
    "$$\n",
    "\\begin{aligned}\n",
    "    w_t &= (1-\\alpha) k_t^{\\alpha} \\\\\n",
    "    R_t &= \\alpha k_t^{\\alpha - 1}\n",
    "\\end{aligned}\n",
    "$$\n",
    "\n",
    "The dynamics goes as follows:\n",
    "\n",
    "$$\n",
    "\\begin{aligned}\n",
    "    k_{t+1} &= s(w_t, R_{t+1}) \\\\\n",
    "    &= \\frac{\\beta}{1+\\beta} w_t \\\\\n",
    "    &= \\frac{\\beta}{1+\\beta} (1-\\alpha) k_t^{\\alpha}\n",
    "\\end{aligned}\n",
    "$$\n",
    "\n"
   ]
  },
  {
   "cell_type": "code",
   "execution_count": 99,
   "metadata": {},
   "outputs": [],
   "source": [
    "class OLGMarket:\n",
    "    def __init__(self, consumer, producer, k0):\n",
    "        self.consumer = consumer\n",
    "        self.producer = producer\n",
    "        self.k0 = k0\n",
    "        self.k = k0\n",
    "        self.equilibrium_dynamics = [[k0, None, None]]\n",
    "    def equilibrium(self):\n",
    "        \"\"\"\n",
    "        return a tuple of (knext, w, R)\n",
    "        and track the dynamics in self.equilibrium_dynamics\n",
    "        \"\"\" # docstring: documentation string\n",
    "        \n",
    "        alpha = self.producer.alpha\n",
    "        beta = self.consumer.beta\n",
    "\n",
    "        w = (1-alpha)*self.k**alpha\n",
    "        R = alpha*(self.k)**(alpha-1)\n",
    "        knext = (beta/(1+beta))*w\n",
    "\n",
    "        # keep track of the dynamics\n",
    "        self.equilibrium_dynamics[len(self.equilibrium_dynamics)-1][1] = w\n",
    "        self.equilibrium_dynamics[len(self.equilibrium_dynamics)-1][2] = R\n",
    "        self.equilibrium_dynamics.append([knext, None, None])\n",
    "\n",
    "        # set the market time to the next period\n",
    "        self.k = knext\n",
    "        return (knext, w, R)\n",
    "\n"
   ]
  },
  {
   "cell_type": "code",
   "execution_count": 100,
   "metadata": {},
   "outputs": [],
   "source": [
    "consumer = Consumer_LogUtility(0.9)\n",
    "producer = Producer_cobbDouglas(0.3)\n",
    "market = OLGMarket(consumer, producer, 1)"
   ]
  },
  {
   "cell_type": "code",
   "execution_count": 101,
   "metadata": {},
   "outputs": [
    {
     "name": "stdout",
     "output_type": "stream",
     "text": [
      "\n",
      "        return a tuple of (knext, w, R)\n",
      "        and track the dynamics in self.equilibrium_dynamics\n",
      "        \n"
     ]
    }
   ],
   "source": [
    "print(market.equilibrium.__doc__)"
   ]
  },
  {
   "cell_type": "code",
   "execution_count": 102,
   "metadata": {},
   "outputs": [
    {
     "data": {
      "text/plain": [
       "(1, [[1, None, None]])"
      ]
     },
     "execution_count": 102,
     "metadata": {},
     "output_type": "execute_result"
    }
   ],
   "source": [
    "# initial state\n",
    "market.k0, market.equilibrium_dynamics"
   ]
  },
  {
   "cell_type": "code",
   "execution_count": 103,
   "metadata": {},
   "outputs": [
    {
     "data": {
      "text/plain": [
       "(0.33157894736842103, 0.7, 0.3)"
      ]
     },
     "execution_count": 103,
     "metadata": {},
     "output_type": "execute_result"
    },
    {
     "data": {
      "text/plain": [
       "(1, [[1, 0.7, 0.3], [0.33157894736842103, None, None]])"
      ]
     },
     "execution_count": 103,
     "metadata": {},
     "output_type": "execute_result"
    }
   ],
   "source": [
    "# dynamic equilibrium\n",
    "market.equilibrium()\n",
    "\n",
    "market.k0, market.equilibrium_dynamics"
   ]
  },
  {
   "cell_type": "code",
   "execution_count": null,
   "metadata": {},
   "outputs": [],
   "source": [
    "# simulate the dynamics\n",
    "for t in range(30):\n",
    "    market.equilibrium()\n",
    "\n",
    "market.equilibrium_dynamics"
   ]
  },
  {
   "cell_type": "code",
   "execution_count": 89,
   "metadata": {},
   "outputs": [
    {
     "data": {
      "text/html": [
       "<div>\n",
       "<style scoped>\n",
       "    .dataframe tbody tr th:only-of-type {\n",
       "        vertical-align: middle;\n",
       "    }\n",
       "\n",
       "    .dataframe tbody tr th {\n",
       "        vertical-align: top;\n",
       "    }\n",
       "\n",
       "    .dataframe thead th {\n",
       "        text-align: right;\n",
       "    }\n",
       "</style>\n",
       "<table border=\"1\" class=\"dataframe\">\n",
       "  <thead>\n",
       "    <tr style=\"text-align: right;\">\n",
       "      <th></th>\n",
       "      <th>k</th>\n",
       "      <th>w</th>\n",
       "      <th>R</th>\n",
       "    </tr>\n",
       "  </thead>\n",
       "  <tbody>\n",
       "    <tr>\n",
       "      <th>0</th>\n",
       "      <td>1.000000</td>\n",
       "      <td>0.700000</td>\n",
       "      <td>0.300000</td>\n",
       "    </tr>\n",
       "    <tr>\n",
       "      <th>1</th>\n",
       "      <td>0.331579</td>\n",
       "      <td>0.502660</td>\n",
       "      <td>0.649696</td>\n",
       "    </tr>\n",
       "    <tr>\n",
       "      <th>2</th>\n",
       "      <td>0.238102</td>\n",
       "      <td>0.455121</td>\n",
       "      <td>0.819195</td>\n",
       "    </tr>\n",
       "    <tr>\n",
       "      <th>3</th>\n",
       "      <td>0.215584</td>\n",
       "      <td>0.441756</td>\n",
       "      <td>0.878193</td>\n",
       "    </tr>\n",
       "    <tr>\n",
       "      <th>4</th>\n",
       "      <td>0.209253</td>\n",
       "      <td>0.437824</td>\n",
       "      <td>0.896708</td>\n",
       "    </tr>\n",
       "  </tbody>\n",
       "</table>\n",
       "</div>"
      ],
      "text/plain": [
       "          k         w         R\n",
       "0  1.000000  0.700000  0.300000\n",
       "1  0.331579  0.502660  0.649696\n",
       "2  0.238102  0.455121  0.819195\n",
       "3  0.215584  0.441756  0.878193\n",
       "4  0.209253  0.437824  0.896708"
      ]
     },
     "execution_count": 89,
     "metadata": {},
     "output_type": "execute_result"
    }
   ],
   "source": [
    "# turn market.equilibrium_dynamics into a DataFrame\n",
    "import pandas as pd\n",
    "import copy\n",
    "df = pd.DataFrame(market.equilibrium_dynamics, columns=['k', 'w', 'R'])\n",
    "df.head()"
   ]
  },
  {
   "cell_type": "code",
   "execution_count": 113,
   "metadata": {},
   "outputs": [
    {
     "data": {
      "text/plain": [
       "RangeIndex(start=0, stop=31, step=1)"
      ]
     },
     "execution_count": 113,
     "metadata": {},
     "output_type": "execute_result"
    },
    {
     "data": {
      "text/plain": [
       "Index(['k', 'w', 'R'], dtype='object')"
      ]
     },
     "execution_count": 113,
     "metadata": {},
     "output_type": "execute_result"
    },
    {
     "data": {
      "text/plain": [
       "['k', 'w', 'R']"
      ]
     },
     "execution_count": 113,
     "metadata": {},
     "output_type": "execute_result"
    }
   ],
   "source": [
    "df.index\n",
    "df.columns\n",
    "[x for x in df.columns]"
   ]
  },
  {
   "cell_type": "markdown",
   "metadata": {},
   "source": [
    "- `DataFrame.index` is the index of the `DataFrame`. It is a `pd.Index` object."
   ]
  },
  {
   "cell_type": "code",
   "execution_count": null,
   "metadata": {},
   "outputs": [],
   "source": [
    "# use plotly to plot the dynamics for the first 10 periods\n",
    "import plotly.express as px\n",
    "periods = 10\n",
    "fig = px.line(df[:periods], x=df.index[:periods], y=df.columns)\n",
    "fig.show()"
   ]
  },
  {
   "cell_type": "markdown",
   "metadata": {},
   "source": [
    "![](img/dynamic_eq.png)"
   ]
  }
 ],
 "metadata": {
  "kernelspec": {
   "display_name": ".venv",
   "language": "python",
   "name": "python3"
  },
  "language_info": {
   "codemirror_mode": {
    "name": "ipython",
    "version": 3
   },
   "file_extension": ".py",
   "mimetype": "text/x-python",
   "name": "python",
   "nbconvert_exporter": "python",
   "pygments_lexer": "ipython3",
   "version": "3.11.5"
  },
  "orig_nbformat": 4
 },
 "nbformat": 4,
 "nbformat_minor": 2
}
