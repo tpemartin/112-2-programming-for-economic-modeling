{
 "cells": [
  {
   "cell_type": "code",
   "execution_count": 107,
   "metadata": {},
   "outputs": [],
   "source": [
    "from IPython.core.interactiveshell import InteractiveShell\n",
    "InteractiveShell.ast_node_interactivity = \"all\""
   ]
  },
  {
   "cell_type": "markdown",
   "metadata": {},
   "source": [
    "# Composition\n",
    "\n",
    "In OOP different classes can be related to each other in different ways. One of the most common ways is composition. Composition is a way to combine different classes into a new class. The new class is called a composite class. The composite class is made up of the other classes. The composite class can be used just like any other class. The composite class can have its own attributes and methods. The composite class can also have attributes and methods from the other classes. The composite class can also have attributes and methods that are a combination of the other classes."
   ]
  },
  {
   "cell_type": "markdown",
   "metadata": {},
   "source": [
    "## Overlapping generation model\n",
    "\n",
    "### 1 Consumer: Log utility\n",
    "\n",
    "Suppose that utility for individuals born at time $ t $ takes the form\n",
    "\n",
    "\n",
    "<a id='equation-eq-crra'></a>\n",
    "$$\n",
    "U_t = u(c_t) + \\beta u(c_{t+1}) \\tag{23.1}\n",
    "$$\n",
    "\n",
    "Here\n",
    "\n",
    "- $ u: \\log(c)$  \n",
    "- $ \\beta \\in (0, 1) $ is the discount factor  \n",
    "- $ c_t $ is time $ t $ consumption of the individual born at time $ t $  \n",
    "- $ c_{t+1} $ is time $ t+1 $ consumption of the same individual  \n",
    "\n",
    "Solving for saving, we get\n",
    "\n",
    "\n",
    "<a id='equation-saving-log-2-olg'></a>\n",
    "$$\n",
    "s_t = s(w_t, R_{t+1}) = \\frac{\\beta}{1+\\beta} w_t \\tag{23.6}\n",
    "$$\n",
    "\n",
    "Saving turns into investment. Assume 100% capital depreciation so that $s_t$ turns into $k_{t+1}$. In optimum, \n",
    "\n",
    "$$\n",
    "k_{t+1} = s(w_t, R_{t+1}) = \\frac{\\beta}{1+\\beta} w_t \\tag{23.6b}\n",
    "$$\n",
    "\n",
    "Also consumers are capital owner. Producer actually rents capital from consumers. So, consumers receive rental income from producers."
   ]
  },
  {
   "cell_type": "code",
   "execution_count": 108,
   "metadata": {
    "tags": [
     "Consumer_logUtility"
    ]
   },
   "outputs": [],
   "source": [
    "class Consumer_LogUtility:\n",
    "    def __init__(self, beta):\n",
    "        self.beta = beta\n",
    "    def foc_c(self, knext: float, w: float, R: float): # (23.6b)\n",
    "        \"\"\"\n",
    "        First order condition of the consumer's problem\n",
    "        (knext, w, R)\n",
    "        \"\"\"\n",
    "        return knext - (self.beta/(1+self.beta))*w\n"
   ]
  },
  {
   "cell_type": "markdown",
   "metadata": {},
   "source": [
    "> `\"\"\"` or `'''` is used for multi-line comments.\n",
    "\n",
    "> We can access a function's docstring using the `help` function."
   ]
  },
  {
   "cell_type": "markdown",
   "metadata": {},
   "source": [
    "\n",
    "#### Function built-in attributes\n",
    "\n",
    "There are some commonly used built-in attributes:\n",
    "\n",
    "- `__doc__`: the docstring of the function\n",
    "- `__defaults__`: a tuple containing default values for arguments\n",
    "- `__annotations__`: a dict containing annotations (see below)\n",
    "\n",
    "\n",
    "##### 1 Docstrings and defaults"
   ]
  },
  {
   "cell_type": "code",
   "execution_count": 109,
   "metadata": {},
   "outputs": [
    {
     "name": "stdout",
     "output_type": "stream",
     "text": [
      "\n",
      "    First order condition of the consumer's problem\n",
      "    (knew, w, R)\n",
      "    \n",
      "(0.96,)\n"
     ]
    }
   ],
   "source": [
    "# example of function with docstring, defaults, keyword arguments, annotations\n",
    "def foc_c(knext, w, R, beta= 0.96):\n",
    "    \"\"\"\n",
    "    First order condition of the consumer's problem\n",
    "    (knew, w, R)\n",
    "    \"\"\"\n",
    "    return knext - (beta/(1+beta))*w\n",
    "\n",
    "\n",
    "print(foc_c.__doc__)\n",
    "print(foc_c.__defaults__)\n"
   ]
  },
  {
   "cell_type": "markdown",
   "metadata": {},
   "source": [
    "##### 2 Annotations\n",
    "\n",
    "Annotations are a new feature in Python 3. They provide a way to attach metadata to function `arguments` and `return values`. Tell users what types of arguments a function accepts and what type of value it returns.\n"
   ]
  },
  {
   "cell_type": "code",
   "execution_count": 110,
   "metadata": {},
   "outputs": [
    {
     "name": "stdout",
     "output_type": "stream",
     "text": [
      "{'knext': <class 'float'>, 'w': <class 'float'>, 'R': <class 'float'>, 'beta': <class 'float'>, 'return': <class 'float'>}\n"
     ]
    }
   ],
   "source": [
    "def foc_c(knext: float, w: float, R: float, beta: float= 0.96)-> float:\n",
    "    \"\"\"\n",
    "    First order condition of the consumer's problem\n",
    "    (knew, w, R)\n",
    "    \"\"\"\n",
    "    return knext - (beta/(1+beta))*w\n",
    "\n",
    "print(foc_c.__annotations__)"
   ]
  },
  {
   "cell_type": "markdown",
   "metadata": {},
   "source": [
    "> You can choose to annotate only partially. For example, you can annotate only the arguments but not the return value. You can also annotate only some arguments. \n",
    "\n",
    "> To find the right type expression, you can create an example value and use `type()` to find its type. For example, `type(1)` is `int`, `type('hello')` is `str`, and `type([1, 2, 3])` is `list`."
   ]
  },
  {
   "cell_type": "code",
   "execution_count": 111,
   "metadata": {},
   "outputs": [
    {
     "ename": "TypeError",
     "evalue": "unsupported operand type(s) for ** or pow(): 'list' and 'int'",
     "output_type": "error",
     "traceback": [
      "\u001b[0;31m---------------------------------------------------------------------------\u001b[0m",
      "\u001b[0;31mTypeError\u001b[0m                                 Traceback (most recent call last)",
      "\u001b[1;32m/Users/martin/Documents/GitHub/112-2-programming-for-economic-modeling/ipynb/week-5-1.ipynb Cell 11\u001b[0m line \u001b[0;36m4\n\u001b[1;32m      <a href='vscode-notebook-cell:/Users/martin/Documents/GitHub/112-2-programming-for-economic-modeling/ipynb/week-5-1.ipynb#X63sZmlsZQ%3D%3D?line=0'>1</a>\u001b[0m \u001b[39mdef\u001b[39;00m \u001b[39mfun\u001b[39m(x):\n\u001b[1;32m      <a href='vscode-notebook-cell:/Users/martin/Documents/GitHub/112-2-programming-for-economic-modeling/ipynb/week-5-1.ipynb#X63sZmlsZQ%3D%3D?line=1'>2</a>\u001b[0m     \u001b[39mreturn\u001b[39;00m x\u001b[39m*\u001b[39m\u001b[39m*\u001b[39m\u001b[39m2\u001b[39m\n\u001b[0;32m----> <a href='vscode-notebook-cell:/Users/martin/Documents/GitHub/112-2-programming-for-economic-modeling/ipynb/week-5-1.ipynb#X63sZmlsZQ%3D%3D?line=3'>4</a>\u001b[0m fun([\u001b[39m2\u001b[39;49m,\u001b[39m3\u001b[39;49m,\u001b[39m4\u001b[39;49m])\n",
      "\u001b[1;32m/Users/martin/Documents/GitHub/112-2-programming-for-economic-modeling/ipynb/week-5-1.ipynb Cell 11\u001b[0m line \u001b[0;36m2\n\u001b[1;32m      <a href='vscode-notebook-cell:/Users/martin/Documents/GitHub/112-2-programming-for-economic-modeling/ipynb/week-5-1.ipynb#X63sZmlsZQ%3D%3D?line=0'>1</a>\u001b[0m \u001b[39mdef\u001b[39;00m \u001b[39mfun\u001b[39m(x):\n\u001b[0;32m----> <a href='vscode-notebook-cell:/Users/martin/Documents/GitHub/112-2-programming-for-economic-modeling/ipynb/week-5-1.ipynb#X63sZmlsZQ%3D%3D?line=1'>2</a>\u001b[0m     \u001b[39mreturn\u001b[39;00m x\u001b[39m*\u001b[39;49m\u001b[39m*\u001b[39;49m\u001b[39m2\u001b[39;49m\n",
      "\u001b[0;31mTypeError\u001b[0m: unsupported operand type(s) for ** or pow(): 'list' and 'int'"
     ]
    }
   ],
   "source": [
    "def fun(x):\n",
    "    return x**2\n",
    "\n",
    "fun([2,3,4])\n"
   ]
  },
  {
   "cell_type": "markdown",
   "metadata": {},
   "source": [
    "Annotate that `x` should be a numpy array of floats."
   ]
  },
  {
   "cell_type": "code",
   "execution_count": null,
   "metadata": {},
   "outputs": [
    {
     "data": {
      "text/plain": [
       "numpy.ndarray"
      ]
     },
     "execution_count": 88,
     "metadata": {},
     "output_type": "execute_result"
    }
   ],
   "source": [
    "# create an example\n",
    "import numpy as np\n",
    "\n",
    "x = np.array([1,2,3,4,5])\n",
    "# use type to check the type of x\n",
    "type(x)"
   ]
  },
  {
   "cell_type": "code",
   "execution_count": null,
   "metadata": {},
   "outputs": [
    {
     "name": "stdout",
     "output_type": "stream",
     "text": [
      "Help on function fun in module __main__:\n",
      "\n",
      "fun(x: numpy.ndarray)\n",
      "\n"
     ]
    }
   ],
   "source": [
    "def fun(x: np.ndarray):\n",
    "    return x**2\n",
    "\n",
    "help(fun)"
   ]
  },
  {
   "cell_type": "code",
   "execution_count": null,
   "metadata": {},
   "outputs": [
    {
     "data": {
      "text/plain": [
       "array([ 4,  9, 16])"
      ]
     },
     "execution_count": 92,
     "metadata": {},
     "output_type": "execute_result"
    }
   ],
   "source": [
    "fun(np.array([2,3,4]))"
   ]
  },
  {
   "cell_type": "markdown",
   "metadata": {},
   "source": [
    "#### Exercise annotate CES utility method"
   ]
  },
  {
   "cell_type": "code",
   "execution_count": null,
   "metadata": {},
   "outputs": [],
   "source": [
    "import numpy as np\n",
    "class CESingeneral:\n",
    "    def __init__(self, sigma, alpha):\n",
    "        self.sigma=sigma\n",
    "        self.alpha=alpha\n",
    "    def utility(self, x):\n",
    "        result=self.alpha*x**(-self.sigma)\n",
    "        return (result.sum())**(-1/self.sigma)\n",
    "    \n",
    "sigma=0.5\n",
    "alpha=np.array([0.7, 0.2, 0.1])\n",
    "cesg=CESingeneral(sigma,alpha)"
   ]
  },
  {
   "cell_type": "markdown",
   "metadata": {},
   "source": [
    "The above setup requires `result` be a Numpy.ndarray so that it is equipped with `sum` method. Add annotation to remind users that `x` in `utility` method should be a Numpy.ndarray."
   ]
  },
  {
   "cell_type": "markdown",
   "metadata": {},
   "source": [
    "### 2 Producer: Cobb-Douglas\n",
    "\n",
    "For each integer $ t \\geq 0 $, output $ y_t $ in period $ t $ is given by\n",
    "the **Cobb-Douglas production function**\n",
    "\n",
    "\n",
    "<a id='equation-cobb-douglas'></a>\n",
    "$$\n",
    "y_t = k_t^{\\alpha} \\ell_t^{1-\\alpha} \\tag{23.7}\n",
    "$$\n",
    "\n",
    "Here $ k_t $ is capital, $ \\ell_t $ is labor, and  $ \\alpha $ is a parameter\n",
    "(sometimes called the “output elasticity of capital”).\n",
    "\n",
    "The profit maximization problem of the firm is\n",
    "\n",
    "\n",
    "<a id='equation-opt-profit-olg'></a>\n",
    "$$\n",
    "\\max_{k_t, \\ell_t} \\{ k^{\\alpha}_t \\ell_t^{1-\\alpha} - R_t k_t - \\ell_t w_t   \\} \\tag{23.8}\n",
    "$$\n",
    "\n",
    "The first-order conditions are obtained by taking the derivative of the\n",
    "objective function with respect to capital and labor respectively and setting\n",
    "them to zero:\n",
    "\n",
    "$$\n",
    "(1-\\alpha)(k_t / \\ell_t)^{\\alpha} = w_t\n",
    "    \\quad \\text{and} \\quad\n",
    "    \\alpha (k_t / \\ell_t)^{\\alpha - 1} = R_t \\tag{23.9}\n",
    "$$\n"
   ]
  },
  {
   "cell_type": "code",
   "execution_count": 113,
   "metadata": {
    "tags": [
     "Producer_cobbDouglas"
    ]
   },
   "outputs": [],
   "source": [
    "class Producer_cobbDouglas:\n",
    "    def __init__(self, alpha):\n",
    "        self.alpha = alpha\n",
    "    def foc_l(self, k, w, l=1): # (23.9)\n",
    "        \"\"\" \n",
    "        FOC with respect to labor\n",
    "        (k, l, w)\n",
    "        \"\"\"\n",
    "        return (1-self.alpha)*(k/l)**self.alpha - w\n",
    "    def foc_k(self, k, R, l=1): # (23.9)\n",
    "        \"\"\"\n",
    "        FOC with respect to capital\n",
    "        (k, l, R)\n",
    "        \"\"\"\n",
    "        return self.alpha*(l/k)**(1-self.alpha) - R\n"
   ]
  },
  {
   "cell_type": "markdown",
   "metadata": {},
   "source": [
    "### 3 Dynamic equilibrium\n",
    "\n",
    "In Macroeconomics, dynamic equilibrium is a set of solutions for **ENDOGENOUS** variables each date that \n",
    "\n",
    "- satisfies all FOCs\n",
    "- satisfies all constraints, \n",
    "\n",
    "and is normally presented as a function of parameters and\n",
    "\n",
    "- predetermined variables, e.g. today's capital stock (predetermined yesterday).\n",
    "\n",
    "> Dynamical endogenous variables are variables with a time subscript which are not shocks -- there is no shock in the model. In OLG case here, they are $(k_{t+1}, w_t, R_t)$ (other than $c_t$).\n",
    "\n",
    "Both agents, consumer and producer, have their FOCs equal to zero satisfied. Assume $\\ell_t=1$ for all $t$. And $k_0$ is given. Then, we have\n",
    "\n",
    "$$\n",
    "\\begin{aligned}\n",
    "    w_t &= (1-\\alpha) k_t^{\\alpha} \\\\\n",
    "    R_t &= \\alpha k_t^{\\alpha - 1}\n",
    "\\end{aligned}\n",
    "$$\n",
    "\n",
    "The dynamics goes as follows:\n",
    "\n",
    "$$\n",
    "\\begin{aligned}\n",
    "    k_{t+1} &= s(w_t, R_{t+1}) \\\\\n",
    "    &= \\frac{\\beta}{1+\\beta} w_t \\\\\n",
    "    &= \\frac{\\beta}{1+\\beta} (1-\\alpha) k_t^{\\alpha}\n",
    "\\end{aligned}\n",
    "$$\n",
    "\n"
   ]
  },
  {
   "cell_type": "code",
   "execution_count": 125,
   "metadata": {
    "tags": [
     "OLGMarket"
    ]
   },
   "outputs": [],
   "source": [
    "class OLGMarket:\n",
    "    def __init__(self, consumer, producer, k0):\n",
    "        self.consumer = consumer\n",
    "        self.producer = producer\n",
    "        self.k0 = k0\n",
    "        self.k = k0\n",
    "        self.equilibrium_dynamics = [[k0, None, None]]\n",
    "    def generate_onePeriod_equilibrium(self):\n",
    "        \"\"\"\n",
    "        return a tuple of (knext, w, R)\n",
    "        and track the dynamics in self.equilibrium_dynamics\n",
    "        \"\"\" # docstring: documentation string\n",
    "        \n",
    "        alpha = self.producer.alpha\n",
    "        beta = self.consumer.beta\n",
    "\n",
    "        w = (1-alpha)*self.k**alpha\n",
    "        R = alpha*(self.k)**(alpha-1)\n",
    "        knext = (beta/(1+beta))*w\n",
    "\n",
    "        # keep track of the dynamics\n",
    "        self.equilibrium_dynamics[len(self.equilibrium_dynamics)-1][1] = w\n",
    "        self.equilibrium_dynamics[len(self.equilibrium_dynamics)-1][2] = R\n",
    "        self.equilibrium_dynamics.append([knext, None, None])\n",
    "\n",
    "        # set the market time to the next period\n",
    "        self.k = knext\n",
    "        return (knext, w, R)\n",
    "    \n",
    "    def clear_equilibrium_dynamics(self):\n",
    "        self.equilibrium_dynamics = [[self.k0, None, None]]\n",
    "        self.k = self.k0\n",
    "\n"
   ]
  },
  {
   "cell_type": "code",
   "execution_count": 177,
   "metadata": {},
   "outputs": [],
   "source": [
    "consumer = Consumer_LogUtility(0.9)\n",
    "producer = Producer_cobbDouglas(0.3)\n",
    "market = OLGMarket(consumer, producer, 1)"
   ]
  },
  {
   "cell_type": "code",
   "execution_count": 127,
   "metadata": {},
   "outputs": [
    {
     "data": {
      "text/plain": [
       "(1, [[1, None, None]])"
      ]
     },
     "execution_count": 127,
     "metadata": {},
     "output_type": "execute_result"
    }
   ],
   "source": [
    "# initial state\n",
    "market.k0, market.equilibrium_dynamics"
   ]
  },
  {
   "cell_type": "code",
   "execution_count": 128,
   "metadata": {},
   "outputs": [
    {
     "data": {
      "text/plain": [
       "(0.33157894736842103, 0.7, 0.3)"
      ]
     },
     "execution_count": 128,
     "metadata": {},
     "output_type": "execute_result"
    },
    {
     "data": {
      "text/plain": [
       "(1, [[1, 0.7, 0.3], [0.33157894736842103, None, None]])"
      ]
     },
     "execution_count": 128,
     "metadata": {},
     "output_type": "execute_result"
    }
   ],
   "source": [
    "# dynamic equilibrium\n",
    "market.generate_onePeriod_equilibrium()\n",
    "\n",
    "market.k0, market.equilibrium_dynamics"
   ]
  },
  {
   "cell_type": "code",
   "execution_count": 129,
   "metadata": {},
   "outputs": [
    {
     "data": {
      "text/plain": [
       "[[1, 0.7, 0.3],\n",
       " [0.33157894736842103, 0.5026597658109342, 0.6496962959461055],\n",
       " [0.23810199433149515, 0.4551210785224081, 0.8191946957141344],\n",
       " [0.21558366877377225, 0.4417563465167363, 0.8781933695814612],\n",
       " [0.20925300624476983, 0.4378239873111994, 0.8967080333618369],\n",
       " [0.2073903097789892, 0.4366511196537161, 0.9023381774043994],\n",
       " [0.20683474088860238, 0.436299872418994, 0.9040341037719941],\n",
       " [0.20666836061952348, 0.436194553355657, 0.9045435029644798],\n",
       " [0.20661847264215333, 0.43616296259444404, 0.9046963786862854],\n",
       " [0.20660350859736823, 0.4361534858122312, 0.9047422464409072],\n",
       " [0.2065990195952674, 0.43615064281771954, 0.9047560072207563],\n",
       " [0.20659767291365663, 0.43614978992297976, 0.9047601354955237],\n",
       " [0.20659726891088517, 0.436149534054883, 0.9047613739816269],\n",
       " [0.20659714771020773, 0.4361494572944833, 0.9047617455277887],\n",
       " [0.2065971113500184, 0.436149434266366, 0.9047618569916669],\n",
       " [0.20659710044196286, 0.436149427357931, 0.904761890430833],\n",
       " [0.20659709716954627, 0.4361494252854005, 0.9047619004625831],\n",
       " [0.20659709618782132, 0.4361494246636414, 0.9047619034721082],\n",
       " [0.20659709589330386, 0.4361494244771137, 0.9047619043749657],\n",
       " [0.20659709580494862, 0.43614942442115534, 0.9047619046458228],\n",
       " [0.206597095778442, 0.4361494244043678, 0.9047619047270802],\n",
       " [0.20659709577049004, 0.43614942439933163, 0.9047619047514573],\n",
       " [0.20659709576810448, 0.4361494243978208, 0.9047619047587704],\n",
       " [0.2065970957673888, 0.4361494243973675, 0.9047619047609643],\n",
       " [0.20659709576717408, 0.43614942439723153, 0.9047619047616225],\n",
       " [0.2065970957671097, 0.43614942439719073, 0.90476190476182],\n",
       " [0.20659709576709037, 0.43614942439717846, 0.9047619047618791],\n",
       " [0.20659709576708454, 0.4361494243971748, 0.904761904761897],\n",
       " [0.20659709576708282, 0.4361494243971737, 0.9047619047619023],\n",
       " [0.2065970957670823, 0.4361494243971734, 0.9047619047619039],\n",
       " [0.20659709576708216, 0.43614942439717325, 0.9047619047619043],\n",
       " [0.20659709576708207, None, None]]"
      ]
     },
     "execution_count": 129,
     "metadata": {},
     "output_type": "execute_result"
    }
   ],
   "source": [
    "# simulate the dynamics\n",
    "for t in range(30):\n",
    "    _ = market.generate_onePeriod_equilibrium()\n",
    "\n",
    "market.equilibrium_dynamics"
   ]
  },
  {
   "cell_type": "markdown",
   "metadata": {},
   "source": [
    "> `_ = ...` is used to suppress the output of a cell. When function returned value is not binded with an object, it will be printed in the screen. `_ = ` is to create a binding -- hence, no printing. `_` refers to some object to be ignored."
   ]
  },
  {
   "cell_type": "markdown",
   "metadata": {},
   "source": []
  },
  {
   "cell_type": "code",
   "execution_count": 182,
   "metadata": {},
   "outputs": [
    {
     "data": {
      "text/html": [
       "<div>\n",
       "<style scoped>\n",
       "    .dataframe tbody tr th:only-of-type {\n",
       "        vertical-align: middle;\n",
       "    }\n",
       "\n",
       "    .dataframe tbody tr th {\n",
       "        vertical-align: top;\n",
       "    }\n",
       "\n",
       "    .dataframe thead th {\n",
       "        text-align: right;\n",
       "    }\n",
       "</style>\n",
       "<table border=\"1\" class=\"dataframe\">\n",
       "  <thead>\n",
       "    <tr style=\"text-align: right;\">\n",
       "      <th></th>\n",
       "      <th>k</th>\n",
       "      <th>w</th>\n",
       "      <th>R</th>\n",
       "    </tr>\n",
       "  </thead>\n",
       "  <tbody>\n",
       "    <tr>\n",
       "      <th>0</th>\n",
       "      <td>1.000000</td>\n",
       "      <td>0.5</td>\n",
       "      <td>0.5</td>\n",
       "    </tr>\n",
       "    <tr>\n",
       "      <th>1</th>\n",
       "      <td>0.205882</td>\n",
       "      <td>0.5</td>\n",
       "      <td>0.5</td>\n",
       "    </tr>\n",
       "    <tr>\n",
       "      <th>2</th>\n",
       "      <td>0.205882</td>\n",
       "      <td>0.5</td>\n",
       "      <td>0.5</td>\n",
       "    </tr>\n",
       "    <tr>\n",
       "      <th>3</th>\n",
       "      <td>0.205882</td>\n",
       "      <td>0.7</td>\n",
       "      <td>0.3</td>\n",
       "    </tr>\n",
       "    <tr>\n",
       "      <th>4</th>\n",
       "      <td>0.311111</td>\n",
       "      <td>NaN</td>\n",
       "      <td>NaN</td>\n",
       "    </tr>\n",
       "  </tbody>\n",
       "</table>\n",
       "</div>"
      ],
      "text/plain": [
       "          k    w    R\n",
       "0  1.000000  0.5  0.5\n",
       "1  0.205882  0.5  0.5\n",
       "2  0.205882  0.5  0.5\n",
       "3  0.205882  0.7  0.3\n",
       "4  0.311111  NaN  NaN"
      ]
     },
     "execution_count": 182,
     "metadata": {},
     "output_type": "execute_result"
    }
   ],
   "source": [
    "# turn market.equilibrium_dynamics into a DataFrame\n",
    "import pandas as pd\n",
    "import copy\n",
    "df = pd.DataFrame(market.equilibrium_dynamics, columns=['k', 'w', 'R'])\n",
    "df.head()"
   ]
  },
  {
   "cell_type": "markdown",
   "metadata": {},
   "source": [
    "A data frame has `index` and `columns` attributes."
   ]
  },
  {
   "cell_type": "code",
   "execution_count": 137,
   "metadata": {},
   "outputs": [
    {
     "data": {
      "text/plain": [
       "RangeIndex(start=0, stop=32, step=1)"
      ]
     },
     "execution_count": 137,
     "metadata": {},
     "output_type": "execute_result"
    },
    {
     "data": {
      "text/plain": [
       "Index(['k', 'w', 'R'], dtype='object')"
      ]
     },
     "execution_count": 137,
     "metadata": {},
     "output_type": "execute_result"
    }
   ],
   "source": [
    "df.index # define the row index\n",
    "df.columns # define the column index"
   ]
  },
  {
   "cell_type": "code",
   "execution_count": 143,
   "metadata": {},
   "outputs": [
    {
     "data": {
      "text/plain": [
       "RangeIndex(start=0, stop=10, step=1)"
      ]
     },
     "execution_count": 143,
     "metadata": {},
     "output_type": "execute_result"
    },
    {
     "data": {
      "text/plain": [
       "Index(['k', 'w'], dtype='object')"
      ]
     },
     "execution_count": 143,
     "metadata": {},
     "output_type": "execute_result"
    }
   ],
   "source": [
    "# to keep the first 10 rows\n",
    "df.index[:10]\n",
    "# to keep the first 2 columns\n",
    "df.columns[:2]"
   ]
  },
  {
   "cell_type": "code",
   "execution_count": 193,
   "metadata": {},
   "outputs": [
    {
     "data": {
      "application/vnd.plotly.v1+json": {
       "config": {
        "plotlyServerURL": "https://plot.ly"
       },
       "data": [
        {
         "hovertemplate": "variable=k<br>x=%{x}<br>value=%{y}<extra></extra>",
         "legendgroup": "k",
         "line": {
          "color": "#636efa",
          "dash": "solid"
         },
         "marker": {
          "symbol": "circle"
         },
         "mode": "lines",
         "name": "k",
         "orientation": "v",
         "showlegend": true,
         "type": "scatter",
         "x": [
          0,
          1,
          2,
          3,
          4
         ],
         "xaxis": "x",
         "y": [
          1,
          0.20588235294117646,
          0.20588235294117646,
          0.20588235294117646,
          0.3111111111111111
         ],
         "yaxis": "y"
        },
        {
         "hovertemplate": "variable=w<br>x=%{x}<br>value=%{y}<extra></extra>",
         "legendgroup": "w",
         "line": {
          "color": "#EF553B",
          "dash": "solid"
         },
         "marker": {
          "symbol": "circle"
         },
         "mode": "lines",
         "name": "w",
         "orientation": "v",
         "showlegend": true,
         "type": "scatter",
         "x": [
          0,
          1,
          2,
          3,
          4
         ],
         "xaxis": "x",
         "y": [
          0.5,
          0.5,
          0.5,
          0.7,
          null
         ],
         "yaxis": "y"
        },
        {
         "hovertemplate": "variable=R<br>x=%{x}<br>value=%{y}<extra></extra>",
         "legendgroup": "R",
         "line": {
          "color": "#00cc96",
          "dash": "solid"
         },
         "marker": {
          "symbol": "circle"
         },
         "mode": "lines",
         "name": "R",
         "orientation": "v",
         "showlegend": true,
         "type": "scatter",
         "x": [
          0,
          1,
          2,
          3,
          4
         ],
         "xaxis": "x",
         "y": [
          0.5,
          0.5,
          0.5,
          0.3,
          null
         ],
         "yaxis": "y"
        }
       ],
       "layout": {
        "legend": {
         "title": {
          "text": "variable"
         },
         "tracegroupgap": 0
        },
        "margin": {
         "t": 60
        },
        "template": {
         "data": {
          "bar": [
           {
            "error_x": {
             "color": "#2a3f5f"
            },
            "error_y": {
             "color": "#2a3f5f"
            },
            "marker": {
             "line": {
              "color": "#E5ECF6",
              "width": 0.5
             },
             "pattern": {
              "fillmode": "overlay",
              "size": 10,
              "solidity": 0.2
             }
            },
            "type": "bar"
           }
          ],
          "barpolar": [
           {
            "marker": {
             "line": {
              "color": "#E5ECF6",
              "width": 0.5
             },
             "pattern": {
              "fillmode": "overlay",
              "size": 10,
              "solidity": 0.2
             }
            },
            "type": "barpolar"
           }
          ],
          "carpet": [
           {
            "aaxis": {
             "endlinecolor": "#2a3f5f",
             "gridcolor": "white",
             "linecolor": "white",
             "minorgridcolor": "white",
             "startlinecolor": "#2a3f5f"
            },
            "baxis": {
             "endlinecolor": "#2a3f5f",
             "gridcolor": "white",
             "linecolor": "white",
             "minorgridcolor": "white",
             "startlinecolor": "#2a3f5f"
            },
            "type": "carpet"
           }
          ],
          "choropleth": [
           {
            "colorbar": {
             "outlinewidth": 0,
             "ticks": ""
            },
            "type": "choropleth"
           }
          ],
          "contour": [
           {
            "colorbar": {
             "outlinewidth": 0,
             "ticks": ""
            },
            "colorscale": [
             [
              0,
              "#0d0887"
             ],
             [
              0.1111111111111111,
              "#46039f"
             ],
             [
              0.2222222222222222,
              "#7201a8"
             ],
             [
              0.3333333333333333,
              "#9c179e"
             ],
             [
              0.4444444444444444,
              "#bd3786"
             ],
             [
              0.5555555555555556,
              "#d8576b"
             ],
             [
              0.6666666666666666,
              "#ed7953"
             ],
             [
              0.7777777777777778,
              "#fb9f3a"
             ],
             [
              0.8888888888888888,
              "#fdca26"
             ],
             [
              1,
              "#f0f921"
             ]
            ],
            "type": "contour"
           }
          ],
          "contourcarpet": [
           {
            "colorbar": {
             "outlinewidth": 0,
             "ticks": ""
            },
            "type": "contourcarpet"
           }
          ],
          "heatmap": [
           {
            "colorbar": {
             "outlinewidth": 0,
             "ticks": ""
            },
            "colorscale": [
             [
              0,
              "#0d0887"
             ],
             [
              0.1111111111111111,
              "#46039f"
             ],
             [
              0.2222222222222222,
              "#7201a8"
             ],
             [
              0.3333333333333333,
              "#9c179e"
             ],
             [
              0.4444444444444444,
              "#bd3786"
             ],
             [
              0.5555555555555556,
              "#d8576b"
             ],
             [
              0.6666666666666666,
              "#ed7953"
             ],
             [
              0.7777777777777778,
              "#fb9f3a"
             ],
             [
              0.8888888888888888,
              "#fdca26"
             ],
             [
              1,
              "#f0f921"
             ]
            ],
            "type": "heatmap"
           }
          ],
          "heatmapgl": [
           {
            "colorbar": {
             "outlinewidth": 0,
             "ticks": ""
            },
            "colorscale": [
             [
              0,
              "#0d0887"
             ],
             [
              0.1111111111111111,
              "#46039f"
             ],
             [
              0.2222222222222222,
              "#7201a8"
             ],
             [
              0.3333333333333333,
              "#9c179e"
             ],
             [
              0.4444444444444444,
              "#bd3786"
             ],
             [
              0.5555555555555556,
              "#d8576b"
             ],
             [
              0.6666666666666666,
              "#ed7953"
             ],
             [
              0.7777777777777778,
              "#fb9f3a"
             ],
             [
              0.8888888888888888,
              "#fdca26"
             ],
             [
              1,
              "#f0f921"
             ]
            ],
            "type": "heatmapgl"
           }
          ],
          "histogram": [
           {
            "marker": {
             "pattern": {
              "fillmode": "overlay",
              "size": 10,
              "solidity": 0.2
             }
            },
            "type": "histogram"
           }
          ],
          "histogram2d": [
           {
            "colorbar": {
             "outlinewidth": 0,
             "ticks": ""
            },
            "colorscale": [
             [
              0,
              "#0d0887"
             ],
             [
              0.1111111111111111,
              "#46039f"
             ],
             [
              0.2222222222222222,
              "#7201a8"
             ],
             [
              0.3333333333333333,
              "#9c179e"
             ],
             [
              0.4444444444444444,
              "#bd3786"
             ],
             [
              0.5555555555555556,
              "#d8576b"
             ],
             [
              0.6666666666666666,
              "#ed7953"
             ],
             [
              0.7777777777777778,
              "#fb9f3a"
             ],
             [
              0.8888888888888888,
              "#fdca26"
             ],
             [
              1,
              "#f0f921"
             ]
            ],
            "type": "histogram2d"
           }
          ],
          "histogram2dcontour": [
           {
            "colorbar": {
             "outlinewidth": 0,
             "ticks": ""
            },
            "colorscale": [
             [
              0,
              "#0d0887"
             ],
             [
              0.1111111111111111,
              "#46039f"
             ],
             [
              0.2222222222222222,
              "#7201a8"
             ],
             [
              0.3333333333333333,
              "#9c179e"
             ],
             [
              0.4444444444444444,
              "#bd3786"
             ],
             [
              0.5555555555555556,
              "#d8576b"
             ],
             [
              0.6666666666666666,
              "#ed7953"
             ],
             [
              0.7777777777777778,
              "#fb9f3a"
             ],
             [
              0.8888888888888888,
              "#fdca26"
             ],
             [
              1,
              "#f0f921"
             ]
            ],
            "type": "histogram2dcontour"
           }
          ],
          "mesh3d": [
           {
            "colorbar": {
             "outlinewidth": 0,
             "ticks": ""
            },
            "type": "mesh3d"
           }
          ],
          "parcoords": [
           {
            "line": {
             "colorbar": {
              "outlinewidth": 0,
              "ticks": ""
             }
            },
            "type": "parcoords"
           }
          ],
          "pie": [
           {
            "automargin": true,
            "type": "pie"
           }
          ],
          "scatter": [
           {
            "fillpattern": {
             "fillmode": "overlay",
             "size": 10,
             "solidity": 0.2
            },
            "type": "scatter"
           }
          ],
          "scatter3d": [
           {
            "line": {
             "colorbar": {
              "outlinewidth": 0,
              "ticks": ""
             }
            },
            "marker": {
             "colorbar": {
              "outlinewidth": 0,
              "ticks": ""
             }
            },
            "type": "scatter3d"
           }
          ],
          "scattercarpet": [
           {
            "marker": {
             "colorbar": {
              "outlinewidth": 0,
              "ticks": ""
             }
            },
            "type": "scattercarpet"
           }
          ],
          "scattergeo": [
           {
            "marker": {
             "colorbar": {
              "outlinewidth": 0,
              "ticks": ""
             }
            },
            "type": "scattergeo"
           }
          ],
          "scattergl": [
           {
            "marker": {
             "colorbar": {
              "outlinewidth": 0,
              "ticks": ""
             }
            },
            "type": "scattergl"
           }
          ],
          "scattermapbox": [
           {
            "marker": {
             "colorbar": {
              "outlinewidth": 0,
              "ticks": ""
             }
            },
            "type": "scattermapbox"
           }
          ],
          "scatterpolar": [
           {
            "marker": {
             "colorbar": {
              "outlinewidth": 0,
              "ticks": ""
             }
            },
            "type": "scatterpolar"
           }
          ],
          "scatterpolargl": [
           {
            "marker": {
             "colorbar": {
              "outlinewidth": 0,
              "ticks": ""
             }
            },
            "type": "scatterpolargl"
           }
          ],
          "scatterternary": [
           {
            "marker": {
             "colorbar": {
              "outlinewidth": 0,
              "ticks": ""
             }
            },
            "type": "scatterternary"
           }
          ],
          "surface": [
           {
            "colorbar": {
             "outlinewidth": 0,
             "ticks": ""
            },
            "colorscale": [
             [
              0,
              "#0d0887"
             ],
             [
              0.1111111111111111,
              "#46039f"
             ],
             [
              0.2222222222222222,
              "#7201a8"
             ],
             [
              0.3333333333333333,
              "#9c179e"
             ],
             [
              0.4444444444444444,
              "#bd3786"
             ],
             [
              0.5555555555555556,
              "#d8576b"
             ],
             [
              0.6666666666666666,
              "#ed7953"
             ],
             [
              0.7777777777777778,
              "#fb9f3a"
             ],
             [
              0.8888888888888888,
              "#fdca26"
             ],
             [
              1,
              "#f0f921"
             ]
            ],
            "type": "surface"
           }
          ],
          "table": [
           {
            "cells": {
             "fill": {
              "color": "#EBF0F8"
             },
             "line": {
              "color": "white"
             }
            },
            "header": {
             "fill": {
              "color": "#C8D4E3"
             },
             "line": {
              "color": "white"
             }
            },
            "type": "table"
           }
          ]
         },
         "layout": {
          "annotationdefaults": {
           "arrowcolor": "#2a3f5f",
           "arrowhead": 0,
           "arrowwidth": 1
          },
          "autotypenumbers": "strict",
          "coloraxis": {
           "colorbar": {
            "outlinewidth": 0,
            "ticks": ""
           }
          },
          "colorscale": {
           "diverging": [
            [
             0,
             "#8e0152"
            ],
            [
             0.1,
             "#c51b7d"
            ],
            [
             0.2,
             "#de77ae"
            ],
            [
             0.3,
             "#f1b6da"
            ],
            [
             0.4,
             "#fde0ef"
            ],
            [
             0.5,
             "#f7f7f7"
            ],
            [
             0.6,
             "#e6f5d0"
            ],
            [
             0.7,
             "#b8e186"
            ],
            [
             0.8,
             "#7fbc41"
            ],
            [
             0.9,
             "#4d9221"
            ],
            [
             1,
             "#276419"
            ]
           ],
           "sequential": [
            [
             0,
             "#0d0887"
            ],
            [
             0.1111111111111111,
             "#46039f"
            ],
            [
             0.2222222222222222,
             "#7201a8"
            ],
            [
             0.3333333333333333,
             "#9c179e"
            ],
            [
             0.4444444444444444,
             "#bd3786"
            ],
            [
             0.5555555555555556,
             "#d8576b"
            ],
            [
             0.6666666666666666,
             "#ed7953"
            ],
            [
             0.7777777777777778,
             "#fb9f3a"
            ],
            [
             0.8888888888888888,
             "#fdca26"
            ],
            [
             1,
             "#f0f921"
            ]
           ],
           "sequentialminus": [
            [
             0,
             "#0d0887"
            ],
            [
             0.1111111111111111,
             "#46039f"
            ],
            [
             0.2222222222222222,
             "#7201a8"
            ],
            [
             0.3333333333333333,
             "#9c179e"
            ],
            [
             0.4444444444444444,
             "#bd3786"
            ],
            [
             0.5555555555555556,
             "#d8576b"
            ],
            [
             0.6666666666666666,
             "#ed7953"
            ],
            [
             0.7777777777777778,
             "#fb9f3a"
            ],
            [
             0.8888888888888888,
             "#fdca26"
            ],
            [
             1,
             "#f0f921"
            ]
           ]
          },
          "colorway": [
           "#636efa",
           "#EF553B",
           "#00cc96",
           "#ab63fa",
           "#FFA15A",
           "#19d3f3",
           "#FF6692",
           "#B6E880",
           "#FF97FF",
           "#FECB52"
          ],
          "font": {
           "color": "#2a3f5f"
          },
          "geo": {
           "bgcolor": "white",
           "lakecolor": "white",
           "landcolor": "#E5ECF6",
           "showlakes": true,
           "showland": true,
           "subunitcolor": "white"
          },
          "hoverlabel": {
           "align": "left"
          },
          "hovermode": "closest",
          "mapbox": {
           "style": "light"
          },
          "paper_bgcolor": "white",
          "plot_bgcolor": "#E5ECF6",
          "polar": {
           "angularaxis": {
            "gridcolor": "white",
            "linecolor": "white",
            "ticks": ""
           },
           "bgcolor": "#E5ECF6",
           "radialaxis": {
            "gridcolor": "white",
            "linecolor": "white",
            "ticks": ""
           }
          },
          "scene": {
           "xaxis": {
            "backgroundcolor": "#E5ECF6",
            "gridcolor": "white",
            "gridwidth": 2,
            "linecolor": "white",
            "showbackground": true,
            "ticks": "",
            "zerolinecolor": "white"
           },
           "yaxis": {
            "backgroundcolor": "#E5ECF6",
            "gridcolor": "white",
            "gridwidth": 2,
            "linecolor": "white",
            "showbackground": true,
            "ticks": "",
            "zerolinecolor": "white"
           },
           "zaxis": {
            "backgroundcolor": "#E5ECF6",
            "gridcolor": "white",
            "gridwidth": 2,
            "linecolor": "white",
            "showbackground": true,
            "ticks": "",
            "zerolinecolor": "white"
           }
          },
          "shapedefaults": {
           "line": {
            "color": "#2a3f5f"
           }
          },
          "ternary": {
           "aaxis": {
            "gridcolor": "white",
            "linecolor": "white",
            "ticks": ""
           },
           "baxis": {
            "gridcolor": "white",
            "linecolor": "white",
            "ticks": ""
           },
           "bgcolor": "#E5ECF6",
           "caxis": {
            "gridcolor": "white",
            "linecolor": "white",
            "ticks": ""
           }
          },
          "title": {
           "x": 0.05
          },
          "xaxis": {
           "automargin": true,
           "gridcolor": "white",
           "linecolor": "white",
           "ticks": "",
           "title": {
            "standoff": 15
           },
           "zerolinecolor": "white",
           "zerolinewidth": 2
          },
          "yaxis": {
           "automargin": true,
           "gridcolor": "white",
           "linecolor": "white",
           "ticks": "",
           "title": {
            "standoff": 15
           },
           "zerolinecolor": "white",
           "zerolinewidth": 2
          }
         }
        },
        "xaxis": {
         "anchor": "y",
         "domain": [
          0,
          1
         ],
         "title": {
          "text": "x"
         }
        },
        "yaxis": {
         "anchor": "x",
         "domain": [
          0,
          1
         ],
         "title": {
          "text": "value"
         }
        }
       }
      }
     },
     "metadata": {},
     "output_type": "display_data"
    }
   ],
   "source": [
    "# use plotly to plot the dynamics for the first 10 periods\n",
    "import plotly.express as px\n",
    "periods = 10\n",
    "fig = px.line(df[:periods], x=df.index[:periods], y=df.columns)\n",
    "fig.show()"
   ]
  },
  {
   "cell_type": "markdown",
   "metadata": {},
   "source": [
    "![img/dynamic_eq.png](img/dynamic_eq.png)"
   ]
  },
  {
   "cell_type": "markdown",
   "metadata": {},
   "source": [
    "> for `Pandas.dataFrame[.]`, if `.` is integer, it refers to `index`; if `.` is string, it refers to `columns`.\n"
   ]
  },
  {
   "cell_type": "code",
   "execution_count": 186,
   "metadata": {},
   "outputs": [
    {
     "data": {
      "text/html": [
       "<div>\n",
       "<style scoped>\n",
       "    .dataframe tbody tr th:only-of-type {\n",
       "        vertical-align: middle;\n",
       "    }\n",
       "\n",
       "    .dataframe tbody tr th {\n",
       "        vertical-align: top;\n",
       "    }\n",
       "\n",
       "    .dataframe thead th {\n",
       "        text-align: right;\n",
       "    }\n",
       "</style>\n",
       "<table border=\"1\" class=\"dataframe\">\n",
       "  <thead>\n",
       "    <tr style=\"text-align: right;\">\n",
       "      <th></th>\n",
       "      <th>k</th>\n",
       "      <th>w</th>\n",
       "      <th>R</th>\n",
       "    </tr>\n",
       "  </thead>\n",
       "  <tbody>\n",
       "    <tr>\n",
       "      <th>1</th>\n",
       "      <td>0.205882</td>\n",
       "      <td>0.5</td>\n",
       "      <td>0.5</td>\n",
       "    </tr>\n",
       "    <tr>\n",
       "      <th>2</th>\n",
       "      <td>0.205882</td>\n",
       "      <td>0.5</td>\n",
       "      <td>0.5</td>\n",
       "    </tr>\n",
       "  </tbody>\n",
       "</table>\n",
       "</div>"
      ],
      "text/plain": [
       "          k    w    R\n",
       "1  0.205882  0.5  0.5\n",
       "2  0.205882  0.5  0.5"
      ]
     },
     "execution_count": 186,
     "metadata": {},
     "output_type": "execute_result"
    },
    {
     "data": {
      "text/html": [
       "<div>\n",
       "<style scoped>\n",
       "    .dataframe tbody tr th:only-of-type {\n",
       "        vertical-align: middle;\n",
       "    }\n",
       "\n",
       "    .dataframe tbody tr th {\n",
       "        vertical-align: top;\n",
       "    }\n",
       "\n",
       "    .dataframe thead th {\n",
       "        text-align: right;\n",
       "    }\n",
       "</style>\n",
       "<table border=\"1\" class=\"dataframe\">\n",
       "  <thead>\n",
       "    <tr style=\"text-align: right;\">\n",
       "      <th></th>\n",
       "      <th>k</th>\n",
       "      <th>R</th>\n",
       "    </tr>\n",
       "  </thead>\n",
       "  <tbody>\n",
       "    <tr>\n",
       "      <th>0</th>\n",
       "      <td>1.000000</td>\n",
       "      <td>0.5</td>\n",
       "    </tr>\n",
       "    <tr>\n",
       "      <th>1</th>\n",
       "      <td>0.205882</td>\n",
       "      <td>0.5</td>\n",
       "    </tr>\n",
       "    <tr>\n",
       "      <th>2</th>\n",
       "      <td>0.205882</td>\n",
       "      <td>0.5</td>\n",
       "    </tr>\n",
       "    <tr>\n",
       "      <th>3</th>\n",
       "      <td>0.205882</td>\n",
       "      <td>0.3</td>\n",
       "    </tr>\n",
       "    <tr>\n",
       "      <th>4</th>\n",
       "      <td>0.311111</td>\n",
       "      <td>NaN</td>\n",
       "    </tr>\n",
       "  </tbody>\n",
       "</table>\n",
       "</div>"
      ],
      "text/plain": [
       "          k    R\n",
       "0  1.000000  0.5\n",
       "1  0.205882  0.5\n",
       "2  0.205882  0.5\n",
       "3  0.205882  0.3\n",
       "4  0.311111  NaN"
      ]
     },
     "execution_count": 186,
     "metadata": {},
     "output_type": "execute_result"
    }
   ],
   "source": [
    "df[1:3]\n",
    "df[['k','R']]"
   ]
  },
  {
   "cell_type": "code",
   "execution_count": 149,
   "metadata": {},
   "outputs": [],
   "source": [
    "market.clear_equilibrium_dynamics()\n",
    "consumer.beta = 0.7\n",
    "producer.alpha = 0.5"
   ]
  },
  {
   "cell_type": "code",
   "execution_count": null,
   "metadata": {},
   "outputs": [],
   "source": [
    "# simulate the dynamics\n",
    "for t in range(30):\n",
    "    _ = market.generate_onePeriod_equilibrium()\n",
    "\n",
    "market.equilibrium_dynamics"
   ]
  },
  {
   "cell_type": "code",
   "execution_count": null,
   "metadata": {},
   "outputs": [],
   "source": [
    "# overly the dynamics\n",
    "df2 = pd.DataFrame(market.equilibrium_dynamics, columns=['k', 'w', 'R'])\n",
    "\n",
    "# overly first 10 periods on plotly express\n",
    "fig = px.line(df[:periods], x=df.index[:periods], y=df.columns)\n",
    "fig.add_scatter(x=df2.index[:periods], y=df2['k'][:periods], name='k')\n",
    "fig.add_scatter(x=df2.index[:periods], y=df2['w'][:periods], name='w')\n",
    "fig.add_scatter(x=df2.index[:periods], y=df2['R'][:periods], name='R')\n"
   ]
  },
  {
   "cell_type": "markdown",
   "metadata": {},
   "source": []
  },
  {
   "cell_type": "code",
   "execution_count": null,
   "metadata": {},
   "outputs": [],
   "source": [
    "\n",
    "fig.show()"
   ]
  },
  {
   "cell_type": "markdown",
   "metadata": {},
   "source": [
    "![](img/dynamic2_2.png)"
   ]
  },
  {
   "cell_type": "markdown",
   "metadata": {},
   "source": [
    "## OOP: Composition\n",
    "\n",
    "Composition in object-oriented programming (OOP) is a design principle that allows objects to be composed or constructed using other objects. It is a relationship between classes where one class contains an instance of another class as a member variable. The composed object is an integral part of the containing object and cannot exist independently.\n",
    "\n",
    "Composition is often used when one class represents a \"has-a\" relationship with another class. It allows for building complex objects by combining smaller, reusable components. \n",
    "\n",
    "In our OLG example, an instance of Market is a composition of an instance of Consumer and an instance of Producer. Therefore, Market has-a Consumer and has-a Producer. \n",
    "\n",
    "In addition, a composed class should be responsive to its composite members.\n",
    "\n",
    "Furthermore, since instance of a class is mutable, when we change the state of an instance of Consumer, the state of an instance of Market changes as well.\n"
   ]
  },
  {
   "cell_type": "code",
   "execution_count": 180,
   "metadata": {},
   "outputs": [
    {
     "data": {
      "text/plain": [
       "(0.20588235294117646, 0.5, 0.5)"
      ]
     },
     "execution_count": 180,
     "metadata": {},
     "output_type": "execute_result"
    },
    {
     "data": {
      "text/plain": [
       "(0.3111111111111111, 0.7, 0.3)"
      ]
     },
     "execution_count": 180,
     "metadata": {},
     "output_type": "execute_result"
    }
   ],
   "source": [
    "consumer.beta = 0.7\n",
    "producer.alpha = 0.5\n",
    "market.k = 1\n",
    "market.generate_onePeriod_equilibrium()\n",
    "\n",
    "consumer.beta = 0.8\n",
    "producer.alpha = 0.3\n",
    "market.k = 1\n",
    "market.generate_onePeriod_equilibrium()"
   ]
  },
  {
   "cell_type": "markdown",
   "metadata": {},
   "source": [
    "# Exercise Supply and Demand Shocks\n"
   ]
  },
  {
   "cell_type": "code",
   "execution_count": 174,
   "metadata": {},
   "outputs": [
    {
     "data": {
      "text/plain": [
       "(array([[4.41176471],\n",
       "        [1.17647059]]),\n",
       " array([[50.        ],\n",
       "        [33.82352941]]))"
      ]
     },
     "execution_count": 174,
     "metadata": {},
     "output_type": "execute_result"
    }
   ],
   "source": [
    "import numpy as np\n",
    "from numpy.linalg import inv\n",
    "class Demand:\n",
    "    def __init__(self, D, h):\n",
    "        self.D=D\n",
    "        self.h=h\n",
    "    def quantity(self, pd):\n",
    "        qd=np.array((self.D@pd)+self.h)\n",
    "        return qd\n",
    "class Supply:\n",
    "    def __init__(self, C, e):\n",
    "        self.C=C\n",
    "        self.e=e\n",
    "    def quantity(self, ps):\n",
    "        qs=np.array((self.C@ps)+self.e)\n",
    "        return qs \n",
    "class Market:\n",
    "    def __init__(self, demand, supply):\n",
    "        self.demand=demand\n",
    "        self.supply=supply\n",
    "    def price(self):\n",
    "        pe=inv(C-D)@(h-e)\n",
    "        return pe\n",
    "    def quantity(self):\n",
    "        qe=D@self.price()+h\n",
    "        return qe\n",
    "    def equilibrium(self):\n",
    "        pe=self.price()\n",
    "        qe=self.quantity()\n",
    "        return pe, qe\n",
    "\n",
    "\n",
    "D=np.array([\n",
    "    [-10,-5],\n",
    "    [-1,-10]\n",
    "])\n",
    "h=np.array([\n",
    "    [100],\n",
    "    [50]\n",
    "])\n",
    "C=np.array([\n",
    "    [10,5],\n",
    "    [5,10]\n",
    "])\n",
    "e=np.array([\n",
    "    [0],\n",
    "    [0]\n",
    "])\n",
    "\n",
    "demand = Demand(D, h)\n",
    "supply = Supply(C, e)\n",
    "market = Market(demand, supply)\n",
    "\n",
    "\n",
    "market.equilibrium()"
   ]
  },
  {
   "cell_type": "markdown",
   "metadata": {},
   "source": [
    "However, when we change demand `h`, the following still gives the same equilibrium output."
   ]
  },
  {
   "cell_type": "code",
   "execution_count": null,
   "metadata": {},
   "outputs": [],
   "source": [
    "demand.h = np.array([[80],[50]])\n",
    "market.equilibrium()"
   ]
  },
  {
   "cell_type": "markdown",
   "metadata": {},
   "source": [
    "Please modify the code so that when we change demand or supply attributes, the equilibrium output changes accordingly."
   ]
  },
  {
   "cell_type": "markdown",
   "metadata": {},
   "source": [
    "# Exercise Central Limit Theorem\n",
    "\n",
    "CLT says that the sum of many independent random variables will be approximately normally distributed. In math, \n",
    "\n",
    "$$\n",
    "\\frac{1}{\\sqrt{n}} \\sum_{i=1}^n (X_i - \\mu) \\xrightarrow{d} N(0, \\sigma^2)\n",
    "$$\n",
    "\n",
    "where $X_i$ are i.i.d. random variables with mean $\\mu$ and variance $\\sigma^2$."
   ]
  },
  {
   "cell_type": "code",
   "execution_count": null,
   "metadata": {},
   "outputs": [],
   "source": [
    "x_factory = Xfactor(np.array([2, 3, 4, 17, 33]))\n",
    "\n",
    "x_factory.random_sample(1000)\n",
    "x_factory.mean\n",
    "x_factory.variance\n",
    "\n",
    "\n",
    "clt = CLT(x_factory, \n",
    "    1000 # sample size 1000\n",
    "    )\n",
    "\n",
    "clt.simulate_distribution(\n",
    "    10000 # how many times to simulate\n",
    ")\n",
    "\n"
   ]
  },
  {
   "cell_type": "markdown",
   "metadata": {},
   "source": [
    "# Exercise AR(1) process\n",
    "\n",
    "Consider the following AR(1) process:\n",
    "\n",
    "$$\n",
    "x_{t+1} = \\rho x_t + \\epsilon_{t+1}\n",
    "$$\n",
    "\n",
    "where $\\epsilon_{t+1} \\sim N(0, \\sigma^2)$.\n",
    "\n"
   ]
  },
  {
   "cell_type": "code",
   "execution_count": null,
   "metadata": {},
   "outputs": [],
   "source": [
    "ar1 = AR1(0.9, 0.1)\n",
    "ar1.simulate_onePeriod()"
   ]
  },
  {
   "cell_type": "markdown",
   "metadata": {},
   "source": [
    "You can random draw an $\\epsilon$ from normal distribution using `np.random.normal(0, sigma, 1)`."
   ]
  },
  {
   "cell_type": "code",
   "execution_count": 192,
   "metadata": {},
   "outputs": [
    {
     "name": "stdout",
     "output_type": "stream",
     "text": [
      "[0.18549249]\n"
     ]
    }
   ],
   "source": [
    "sigma = 0.2\n",
    "epsilon = np.random.normal(0, sigma, 1)\n",
    "print(epsilon)"
   ]
  },
  {
   "cell_type": "code",
   "execution_count": null,
   "metadata": {},
   "outputs": [],
   "source": [
    "# simulate the dynamics for 30 periods\n",
    "for t in range(30):\n",
    "    _ = ar1.simulate_onePeriod()\n",
    "\n",
    "ar1.simulated_dynamics"
   ]
  },
  {
   "cell_type": "markdown",
   "metadata": {},
   "source": [
    "# Exercise VAR\n",
    "\n",
    "Consider the following 2 variable VAR model of order 1:\n",
    "\n",
    "$$\n",
    "\\begin{aligned}\n",
    "    y_{1, t+1} &= \\phi_{11} y_{1, t} + \\phi_{12} y_{2, t} + \\epsilon_{1, t+1} \\\\\n",
    "    y_{2, t+1} &= \\phi_{21} y_{1, t} + \\phi_{22} y_{2, t} + \\epsilon_{2, t+1}\n",
    "\\end{aligned}    \n",
    "$$\n"
   ]
  },
  {
   "cell_type": "markdown",
   "metadata": {},
   "source": []
  }
 ],
 "metadata": {
  "kernelspec": {
   "display_name": ".venv",
   "language": "python",
   "name": "python3"
  },
  "language_info": {
   "codemirror_mode": {
    "name": "ipython",
    "version": 3
   },
   "file_extension": ".py",
   "mimetype": "text/x-python",
   "name": "python",
   "nbconvert_exporter": "python",
   "pygments_lexer": "ipython3",
   "version": "3.11.5"
  },
  "orig_nbformat": 4
 },
 "nbformat": 4,
 "nbformat_minor": 2
}
