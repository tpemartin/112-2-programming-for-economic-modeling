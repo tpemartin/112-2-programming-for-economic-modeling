{
 "cells": [
  {
   "cell_type": "markdown",
   "metadata": {},
   "source": [
    "# Module\n",
    "\n"
   ]
  },
  {
   "cell_type": "markdown",
   "metadata": {},
   "source": [
    "## Search path\n",
    "\n",
    "We need to configure your Python environment so that when we do `from {moduleName}` it knows where to look for that `{moduleName}` folder. This is done through:\n",
    "\n",
    "1. Locate the site-packages directory. \n",
    "2. Add a `.pth` file, say `my-path.pth` to that directory. Inside `my-path.pth` are directories you want to add to the search path.\n",
    "\n",
    "To locate your environment's site-packages directory, run the following:\n"
   ]
  },
  {
   "cell_type": "code",
   "execution_count": 1,
   "metadata": {},
   "outputs": [
    {
     "name": "stdout",
     "output_type": "stream",
     "text": [
      "['/Users/martin/Documents/GitHub/112-2-programming-for-economic-modeling/ipynb', '/Library/Frameworks/Python.framework/Versions/3.11/lib/python311.zip', '/Library/Frameworks/Python.framework/Versions/3.11/lib/python3.11', '/Library/Frameworks/Python.framework/Versions/3.11/lib/python3.11/lib-dynload', '', '/Users/martin/Documents/GitHub/112-2-programming-for-economic-modeling/.venv/lib/python3.11/site-packages', '/Users/martin/Documents/GitHub/112-2-programming-for-economic-modeling/module']\n"
     ]
    }
   ],
   "source": [
    "import sys\n",
    "print(sys.path)"
   ]
  },
  {
   "cell_type": "markdown",
   "metadata": {},
   "source": [
    "Look for the path that ends with `.../pythonX.X/site-packages`. Reload your VScode. Use `sys.path` to check if the path is added to the search path."
   ]
  },
  {
   "cell_type": "markdown",
   "metadata": {},
   "source": [
    "## Module folder\n",
    "\n",
    "In Python, we can turn a folder said named `my-module` into a **SEARCHABLE** module by adding a **EMPTY** `__init__.py` file to it.\n",
    "\n",
    "Module folder:\n",
    "\n",
    "- Searchable: `sys.path` will search for it.\n",
    "- Empty `__init__.py` inside."
   ]
  },
  {
   "cell_type": "markdown",
   "metadata": {},
   "source": [
    "Consider the following folder structure with subfolder and files:\n",
    "\n",
    "```\n",
    "mymodule\n",
    "├── __init__.py\n",
    "├── group1\n",
    "│   └── extensions.py\n",
    "└── basic.py\n",
    "```\n",
    "\n",
    "- Empty `__init__.py` only needs to sit in the root folder of the module.\n",
    "\n",
    "Then you can:"
   ]
  },
  {
   "cell_type": "code",
   "execution_count": null,
   "metadata": {},
   "outputs": [],
   "source": [
    "import mymodule.basic as basic\n",
    "import mymodule.group1.extensions as extensions"
   ]
  },
  {
   "cell_type": "markdown",
   "metadata": {},
   "source": [
    "To access functions, objects in `basic.py` through `basic` and `extensions.py` through `extensions`:\n",
    "\n"
   ]
  },
  {
   "cell_type": "markdown",
   "metadata": {},
   "source": [
    "## Module Reload"
   ]
  },
  {
   "cell_type": "code",
   "execution_count": null,
   "metadata": {},
   "outputs": [],
   "source": [
    "import importlib\n",
    "\n",
    "importlib.reload(basic) # reload basic module"
   ]
  }
 ],
 "metadata": {
  "kernelspec": {
   "display_name": ".venv",
   "language": "python",
   "name": "python3"
  },
  "language_info": {
   "codemirror_mode": {
    "name": "ipython",
    "version": 3
   },
   "file_extension": ".py",
   "mimetype": "text/x-python",
   "name": "python",
   "nbconvert_exporter": "python",
   "pygments_lexer": "ipython3",
   "version": "3.11.5"
  }
 },
 "nbformat": 4,
 "nbformat_minor": 2
}
