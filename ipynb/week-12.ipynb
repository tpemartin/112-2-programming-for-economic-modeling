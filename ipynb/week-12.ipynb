{
 "cells": [
  {
   "cell_type": "markdown",
   "metadata": {},
   "source": [
    "# Recap"
   ]
  },
  {
   "cell_type": "markdown",
   "metadata": {},
   "source": [
    "## Standalone Game\n",
    "\n",
    "A standalone app that runs on single computer only. \n"
   ]
  },
  {
   "cell_type": "markdown",
   "metadata": {},
   "source": [
    "### Prisoner's Dilemma\n",
    "\n",
    "||C|D|\n",
    "|---|---|---|\n",
    "|**C**|3,3|0,5|\n",
    "|**D**|5,0|1,1|\n"
   ]
  },
  {
   "cell_type": "code",
   "execution_count": 2,
   "metadata": {},
   "outputs": [],
   "source": [
    "from gamepy.game import Game\n",
    "\n",
    "# prisioner's dilemma\n",
    "game = Game(\n",
    "    [\"Alice\", \"Bob\"],\n",
    "    [[\"C\",\"D\"],[\"C\",\"D\"]],\n",
    "    {(\"C\",\"C\"):(3,3), (\"C\",\"D\"):(0,5), \n",
    "     (\"D\",\"C\"):(5,0), (\"D\",\"D\"):(1,1)}\n",
    ")\n",
    "Alice, Bob = game.players"
   ]
  },
  {
   "cell_type": "code",
   "execution_count": 3,
   "metadata": {},
   "outputs": [
    {
     "data": {
      "text/plain": [
       "(3, 3)"
      ]
     },
     "execution_count": 3,
     "metadata": {},
     "output_type": "execute_result"
    }
   ],
   "source": [
    "Alice.play(\"C\")\n",
    "Bob.play(\"C\")\n",
    "game.payoff()"
   ]
  },
  {
   "cell_type": "markdown",
   "metadata": {},
   "source": [
    "### Paper-Rock-Scissors\n",
    "\n",
    "Paper-Scissor-Rock game can be expressed as the following normal form:\n",
    "\n",
    "| | P | S | R |\n",
    "| --- | --- | --- | --- |\n",
    "| P | 0, 0 | -1, 1 | 1, -1 |\n",
    "| S | 1, -1 | 0, 0 | -1, 1 |\n",
    "| R | -1, 1 | 1, -1 | 0, 0 |\n"
   ]
  },
  {
   "cell_type": "code",
   "execution_count": 4,
   "metadata": {},
   "outputs": [],
   "source": [
    "game2 = Game(\n",
    "    [\"Alice\", \"Bob\"],\n",
    "    [[\"P\",\"S\",\"R\"],[\"P\",\"S\",\"R\"]],\n",
    "    {(\"P\",\"P\"):(0,0), (\"P\",\"S\"):(-1,1), (\"P\",\"R\"):(1,-1),\n",
    "     (\"S\",\"P\"):(1,-1), (\"S\",\"S\"):(0,0), (\"S\",\"R\"):(-1,1),\n",
    "     (\"R\",\"P\"):(-1,1), (\"R\",\"S\"):(1,-1), (\"R\",\"R\"):(0,0)}\n",
    ")\n",
    "Alice2, Bob2 = game2.players"
   ]
  },
  {
   "cell_type": "code",
   "execution_count": 5,
   "metadata": {},
   "outputs": [
    {
     "data": {
      "text/plain": [
       "(-1, 1)"
      ]
     },
     "execution_count": 5,
     "metadata": {},
     "output_type": "execute_result"
    }
   ],
   "source": [
    "Alice2.play(\"P\")\n",
    "Bob2.play(\"S\")\n",
    "game2.payoff()"
   ]
  },
  {
   "cell_type": "markdown",
   "metadata": {},
   "source": [
    "## Games class\n",
    "\n",
    "A class that contains all the games that we want to play. \n",
    "\n",
    "  "
   ]
  },
  {
   "cell_type": "code",
   "execution_count": 8,
   "metadata": {},
   "outputs": [],
   "source": [
    "from gamepy.gamemenu.menu import menus\n",
    "\n",
    "class Games:\n",
    "    menus = menus\n",
    "    def __init__(self):\n",
    "        pass\n",
    "    \n"
   ]
  },
  {
   "cell_type": "markdown",
   "metadata": {},
   "source": [
    "> `menus` is a variable created within the `menu.py` module. No only functions and classes can be imported, but also variables."
   ]
  },
  {
   "cell_type": "markdown",
   "metadata": {},
   "source": [
    "# Class properties\n",
    "\n",
    "## Access the class properties\n",
    "\n",
    "`menus` is a class property. It can be accessed:"
   ]
  },
  {
   "cell_type": "code",
   "execution_count": null,
   "metadata": {},
   "outputs": [],
   "source": [
    "# throuth the class constructor\n",
    "Games.menus\n",
    "\n",
    "# through an instance of the class\n",
    "games = Games()\n",
    "games.menus\n",
    "\n",
    "# through the __class__ attribute of an instance\n",
    "games.__class__.menus"
   ]
  },
  {
   "cell_type": "markdown",
   "metadata": {},
   "source": [
    "- If there is an instance property also called `menus`, the instance property will be used."
   ]
  },
  {
   "cell_type": "code",
   "execution_count": 11,
   "metadata": {},
   "outputs": [],
   "source": [
    "class Games:\n",
    "    menus = menus\n",
    "    def __init__(self):\n",
    "        self.menus = \"instance menus\"\n",
    "    "
   ]
  },
  {
   "cell_type": "code",
   "execution_count": 13,
   "metadata": {},
   "outputs": [
    {
     "data": {
      "text/plain": [
       "('instance menus',\n",
       " {'g-1': {'game_id': 'g-1',\n",
       "   'name': \"prisoner's dilemma\",\n",
       "   'players': ['player1', 'player2'],\n",
       "   'strategies': [['C', 'D'], ['C', 'D']],\n",
       "   'payoff_matrix': {('C', 'C'): (-1, -1),\n",
       "    ('C', 'D'): (-3, 0),\n",
       "    ('D', 'C'): (0, -3),\n",
       "    ('D', 'D'): (-2, -2)}},\n",
       "  'g-2': {'game_id': 'g-2',\n",
       "   'name': 'paper, scissors, rock',\n",
       "   'players': ['player1', 'player2'],\n",
       "   'strategies': [['paper', 'scissors', 'rock'],\n",
       "    ['paper', 'scissors', 'rock']],\n",
       "   'payoff_matrix': {('paper', 'paper'): (0, 0),\n",
       "    ('paper', 'scissors'): (-1, 1),\n",
       "    ('paper', 'rock'): (1, -1),\n",
       "    ('scissors', 'paper'): (1, -1),\n",
       "    ('scissors', 'scissors'): (0, 0),\n",
       "    ('scissors', 'rock'): (-1, 1),\n",
       "    ('rock', 'paper'): (-1, 1),\n",
       "    ('rock', 'scissors'): (1, -1),\n",
       "    ('rock', 'rock'): (0, 0)}}})"
      ]
     },
     "execution_count": 13,
     "metadata": {},
     "output_type": "execute_result"
    }
   ],
   "source": [
    "games = Games()\n",
    "\n",
    "games.menus, Games.menus"
   ]
  },
  {
   "cell_type": "markdown",
   "metadata": {},
   "source": [
    "## Difference between class property and instance property\n",
    "\n",
    "- Class property is shared by all instances of the class.\n",
    "- Instance property is unique to each instance of the class."
   ]
  },
  {
   "cell_type": "code",
   "execution_count": 14,
   "metadata": {},
   "outputs": [],
   "source": [
    "class Games:\n",
    "    menus = menus\n",
    "    def __init__(self, name):\n",
    "        self.name = name\n",
    "    \n"
   ]
  },
  {
   "cell_type": "code",
   "execution_count": 15,
   "metadata": {},
   "outputs": [],
   "source": [
    "games1 = Games(\"g1\")\n",
    "games2 = Games(\"g2\")"
   ]
  },
  {
   "cell_type": "code",
   "execution_count": 16,
   "metadata": {},
   "outputs": [
    {
     "data": {
      "text/plain": [
       "('g1', 'g2')"
      ]
     },
     "execution_count": 16,
     "metadata": {},
     "output_type": "execute_result"
    }
   ],
   "source": [
    "games1.name, games2.name"
   ]
  },
  {
   "cell_type": "code",
   "execution_count": 17,
   "metadata": {},
   "outputs": [
    {
     "data": {
      "text/plain": [
       "({'g-1': {'game_id': 'g-1',\n",
       "   'name': \"prisoner's dilemma\",\n",
       "   'players': ['player1', 'player2'],\n",
       "   'strategies': [['C', 'D'], ['C', 'D']],\n",
       "   'payoff_matrix': {('C', 'C'): (-1, -1),\n",
       "    ('C', 'D'): (-3, 0),\n",
       "    ('D', 'C'): (0, -3),\n",
       "    ('D', 'D'): (-2, -2)}},\n",
       "  'g-2': {'game_id': 'g-2',\n",
       "   'name': 'paper, scissors, rock',\n",
       "   'players': ['player1', 'player2'],\n",
       "   'strategies': [['paper', 'scissors', 'rock'],\n",
       "    ['paper', 'scissors', 'rock']],\n",
       "   'payoff_matrix': {('paper', 'paper'): (0, 0),\n",
       "    ('paper', 'scissors'): (-1, 1),\n",
       "    ('paper', 'rock'): (1, -1),\n",
       "    ('scissors', 'paper'): (1, -1),\n",
       "    ('scissors', 'scissors'): (0, 0),\n",
       "    ('scissors', 'rock'): (-1, 1),\n",
       "    ('rock', 'paper'): (-1, 1),\n",
       "    ('rock', 'scissors'): (1, -1),\n",
       "    ('rock', 'rock'): (0, 0)}}},\n",
       " {'g-1': {'game_id': 'g-1',\n",
       "   'name': \"prisoner's dilemma\",\n",
       "   'players': ['player1', 'player2'],\n",
       "   'strategies': [['C', 'D'], ['C', 'D']],\n",
       "   'payoff_matrix': {('C', 'C'): (-1, -1),\n",
       "    ('C', 'D'): (-3, 0),\n",
       "    ('D', 'C'): (0, -3),\n",
       "    ('D', 'D'): (-2, -2)}},\n",
       "  'g-2': {'game_id': 'g-2',\n",
       "   'name': 'paper, scissors, rock',\n",
       "   'players': ['player1', 'player2'],\n",
       "   'strategies': [['paper', 'scissors', 'rock'],\n",
       "    ['paper', 'scissors', 'rock']],\n",
       "   'payoff_matrix': {('paper', 'paper'): (0, 0),\n",
       "    ('paper', 'scissors'): (-1, 1),\n",
       "    ('paper', 'rock'): (1, -1),\n",
       "    ('scissors', 'paper'): (1, -1),\n",
       "    ('scissors', 'scissors'): (0, 0),\n",
       "    ('scissors', 'rock'): (-1, 1),\n",
       "    ('rock', 'paper'): (-1, 1),\n",
       "    ('rock', 'scissors'): (1, -1),\n",
       "    ('rock', 'rock'): (0, 0)}}})"
      ]
     },
     "execution_count": 17,
     "metadata": {},
     "output_type": "execute_result"
    }
   ],
   "source": [
    "games1.menus, games2.menus"
   ]
  },
  {
   "cell_type": "markdown",
   "metadata": {},
   "source": [
    "> When you need different instances to share the same information, use class property. When you need each instance to have its own information, use instance property."
   ]
  },
  {
   "cell_type": "markdown",
   "metadata": {},
   "source": []
  },
  {
   "cell_type": "markdown",
   "metadata": {},
   "source": [
    "# Exercise \n",
    "\n",
    "Given the Game class that we have created in the lecture that can create a prisoner's dilemma game as:"
   ]
  },
  {
   "cell_type": "code",
   "execution_count": 18,
   "metadata": {},
   "outputs": [],
   "source": [
    "from gamepy.game import Game\n",
    "\n",
    "# prisioner's dilemma\n",
    "game = Game(\n",
    "    [\"player1\", \"player2\"],\n",
    "    [[\"C\",\"D\"],[\"C\",\"D\"]],\n",
    "    {(\"C\",\"C\"):(3,3), (\"C\",\"D\"):(0,5), \n",
    "     (\"D\",\"C\"):(5,0), (\"D\",\"D\"):(1,1)}\n",
    ")\n",
    "Alice, Bob = game.players\n",
    "\n",
    "game2 = Game(\n",
    "    [\"player1\", \"player2\"],\n",
    "    [[\"P\",\"S\",\"R\"],[\"P\",\"S\",\"R\"]],\n",
    "    {(\"P\",\"P\"):(0,0), (\"P\",\"S\"):(-1,1), (\"P\",\"R\"):(1,-1),\n",
    "     (\"S\",\"P\"):(1,-1), (\"S\",\"S\"):(0,0), (\"S\",\"R\"):(-1,1),\n",
    "     (\"R\",\"P\"):(-1,1), (\"R\",\"S\"):(1,-1), (\"R\",\"R\"):(0,0)}\n",
    ")\n",
    "Alice2, Bob2 = game2.players"
   ]
  },
  {
   "cell_type": "markdown",
   "metadata": {},
   "source": [
    "Consider the following Games class prototype:\n"
   ]
  },
  {
   "cell_type": "code",
   "execution_count": 27,
   "metadata": {},
   "outputs": [],
   "source": [
    "from gamepy.game import Game\n",
    "from gamepy.gamemenu.menu import menus\n",
    "\n",
    "# a prototype\n",
    "class Games:\n",
    "    menus = menus\n",
    "    def __init__(self):\n",
    "        pass"
   ]
  },
  {
   "cell_type": "markdown",
   "metadata": {},
   "source": [
    " Develop `Games` further to accommodate the following user interface requirements:"
   ]
  },
  {
   "cell_type": "code",
   "execution_count": null,
   "metadata": {},
   "outputs": [],
   "source": [
    "games = Games()\n",
    "game = games.new('g-1')\n",
    "Alice, Bob = game.players\n",
    "\n",
    "game2 = games.new('g-2')\n",
    "Alice2, Bob2 = game2.players"
   ]
  },
  {
   "cell_type": "markdown",
   "metadata": {},
   "source": [
    "That is to design a `new` method that cann create a `game` instance from `Game` class based in `game_id`."
   ]
  },
  {
   "cell_type": "markdown",
   "metadata": {},
   "source": [
    "## @property\n",
    "\n",
    "`@property` is a decorator that allows us to define a method that can be accessed **AS A PROPERTY**.\n"
   ]
  },
  {
   "cell_type": "code",
   "execution_count": null,
   "metadata": {},
   "outputs": [],
   "source": [
    "games = Games()\n"
   ]
  },
  {
   "cell_type": "code",
   "execution_count": 34,
   "metadata": {},
   "outputs": [
    {
     "data": {
      "text/plain": [
       "(\"prisoner's dilemma\", 'paper, scissors, rock')"
      ]
     },
     "execution_count": 34,
     "metadata": {},
     "output_type": "execute_result"
    }
   ],
   "source": [
    "games.menus['g-1']['name'], games.menus['g-2']['name']"
   ]
  },
  {
   "cell_type": "code",
   "execution_count": 37,
   "metadata": {},
   "outputs": [
    {
     "data": {
      "text/plain": [
       "{'g-1': \"prisoner's dilemma\", 'g-2': 'paper, scissors, rock'}"
      ]
     },
     "execution_count": 37,
     "metadata": {},
     "output_type": "execute_result"
    }
   ],
   "source": [
    "# dictionary comprehension\n",
    "{k: v['name'] for k, v in games.menus.items()}"
   ]
  },
  {
   "cell_type": "code",
   "execution_count": 38,
   "metadata": {},
   "outputs": [],
   "source": [
    "class Games:\n",
    "    menus = menus\n",
    "    def __init__(self):\n",
    "        pass\n",
    "    @property\n",
    "    def short_menus(self):\n",
    "        return {k: v['name'] for k, v in self.menus.items()}"
   ]
  },
  {
   "cell_type": "code",
   "execution_count": 39,
   "metadata": {},
   "outputs": [
    {
     "data": {
      "text/plain": [
       "{'g-1': \"prisoner's dilemma\", 'g-2': 'paper, scissors, rock'}"
      ]
     },
     "execution_count": 39,
     "metadata": {},
     "output_type": "execute_result"
    }
   ],
   "source": [
    "games = Games()\n",
    "games.short_menus"
   ]
  },
  {
   "cell_type": "markdown",
   "metadata": {},
   "source": [
    "# TBC"
   ]
  },
  {
   "cell_type": "code",
   "execution_count": null,
   "metadata": {},
   "outputs": [],
   "source": [
    "# GameCient\n",
    "\n",
    "gc = GameClient()\n",
    "game = gc.game(game_id=\"game-1\")\n",
    "room = game.room()\n",
    "player = game.player(name = \"player-1\")\n",
    "player.join(room)"
   ]
  },
  {
   "cell_type": "code",
   "execution_count": 24,
   "metadata": {},
   "outputs": [],
   "source": [
    "class Player:\n",
    "    def __init__(self, name):\n",
    "        self.name = name\n",
    "        self.player_id  = player_id()\n",
    "    def join(self, room):\n",
    "        room.register_player(self)\n",
    "    \n",
    "class Room:\n",
    "    def __init__(self, room_id=None):\n",
    "        self.roomd_id = room_id if room_id else room_id()\n",
    "        # register in game-room-id, game-id column in sheet game-room\n",
    "        self.sheet_row = register_room(self) \n",
    "        self.players = []\n",
    "    def register_player(self, player):\n",
    "        self.players.append(player)\n",
    "\n",
    "class Game:\n",
    "    def __init__(self, game_id=None):\n",
    "        self.game_id = game_id if game_id else game_id()\n",
    "        self.room = None\n",
    "    def room(self, room_id=None):\n",
    "        room = Room(room_id)\n",
    "        self.rooms.append(room)\n",
    "        return room\n",
    "        \n",
    "# helpers\n",
    "def register_room(room):\n",
    "    sheet_row = None\n",
    "    return sheet_row\n",
    "\n",
    "def register_player(player):\n",
    "    pass    \n"
   ]
  },
  {
   "cell_type": "code",
   "execution_count": 25,
   "metadata": {},
   "outputs": [
    {
     "data": {
      "text/plain": [
       "'p-7gcs'"
      ]
     },
     "execution_count": 25,
     "metadata": {},
     "output_type": "execute_result"
    }
   ],
   "source": [
    "player = Player(\"player-1\")\n",
    "player.name\n",
    "player.player_id"
   ]
  },
  {
   "cell_type": "code",
   "execution_count": 9,
   "metadata": {},
   "outputs": [],
   "source": [
    "import string\n",
    "import random\n",
    "\n",
    "# > Function that creates random id from hex characters\n",
    "def random_id(prefix, len=4):\n",
    "    return prefix + '-'+''.join(random.choice(string.digits+string.ascii_lowercase) for _ in range(len))"
   ]
  },
  {
   "cell_type": "code",
   "execution_count": 21,
   "metadata": {},
   "outputs": [
    {
     "data": {
      "text/plain": [
       "'g-3fxh'"
      ]
     },
     "execution_count": 21,
     "metadata": {},
     "output_type": "execute_result"
    }
   ],
   "source": [
    "random_id('g')"
   ]
  },
  {
   "cell_type": "code",
   "execution_count": 23,
   "metadata": {},
   "outputs": [],
   "source": [
    "def game_id():\n",
    "    return random_id('g')\n",
    "def room_id():\n",
    "    return random_id('r')\n",
    "def player_id():\n",
    "    return random_id('p')"
   ]
  }
 ],
 "metadata": {
  "kernelspec": {
   "display_name": ".venv",
   "language": "python",
   "name": "python3"
  },
  "language_info": {
   "codemirror_mode": {
    "name": "ipython",
    "version": 3
   },
   "file_extension": ".py",
   "mimetype": "text/x-python",
   "name": "python",
   "nbconvert_exporter": "python",
   "pygments_lexer": "ipython3",
   "version": "3.11.5"
  }
 },
 "nbformat": 4,
 "nbformat_minor": 2
}
