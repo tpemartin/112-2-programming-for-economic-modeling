{
 "cells": [
  {
   "cell_type": "code",
   "execution_count": 65,
   "metadata": {},
   "outputs": [],
   "source": [
    "from IPython.core.interactiveshell import InteractiveShell\n",
    "InteractiveShell.ast_node_interactivity = \"all\""
   ]
  },
  {
   "cell_type": "markdown",
   "metadata": {},
   "source": [
    "# Running Code\n",
    "\n",
    "In .py file, `shift + enter` to run one line of code or the selected lines of code\n",
    "\n",
    "  * It will run the code and print the output in the console\n",
    "In Jupyter notebook, you click ![](img/run%20button.png) to run whole code chunk, or click ![](img/runbyline.png) to run line by line.\n",
    "\n",
    "To have an interactive window, in command palette, type `> Jupyter: Create Interactive Window` "
   ]
  },
  {
   "cell_type": "markdown",
   "metadata": {},
   "source": [
    "# 1 Python Module\n",
    "\n",
    "Consider the following module importation example:"
   ]
  },
  {
   "cell_type": "code",
   "execution_count": 48,
   "metadata": {},
   "outputs": [],
   "source": [
    "import pandas as pd\n",
    "import os\n",
    "import matplotlib as mpl\n",
    "import numpy as np"
   ]
  },
  {
   "cell_type": "markdown",
   "metadata": {},
   "source": [
    "> make sure you have the module installed in your computer at the right Python environment. \n",
    "> At **Command palette** (Ctrl+Shift+P or Cmd+Shift+P in Mac) select **> Python: Create Terminal** to open a terminal that is using the right Python environment (which is `.venv` ) and install the module using `pip install <module-name>`.\n",
    "> \n",
    "> ```bash\n",
    "> pip install pandas matpotlib numpy\n",
    "> ```\n",
    "\n"
   ]
  },
  {
   "cell_type": "markdown",
   "metadata": {},
   "source": [
    "## 1.1 What a module offers\n",
    "\n",
    "Once imported you an use the alias after `as` to access module functions. For example, the `numpy` module is imported with the alias `np` and the function `array()` is called using `np.array()`.\n"
   ]
  },
  {
   "cell_type": "markdown",
   "metadata": {},
   "source": [
    "## 1.2 VSCode intellisence type of completion\n",
    "\n",
    "  * [icon meanings](https://code.visualstudio.com/docs/editor/intellisense#_types-of-completions)\n",
    "\n",
    "![](img/intellisense.png)\n",
    "\n"
   ]
  },
  {
   "cell_type": "markdown",
   "metadata": {},
   "source": [
    "## 1.3 Frequently used functions\n",
    "\n",
    "Sometimes there is a function you used often and you don't want to write the module name every time you call the function. You can import the function directly using the second method. For example, the `array()` function from the `numpy` module:\n"
   ]
  },
  {
   "cell_type": "code",
   "execution_count": 22,
   "metadata": {},
   "outputs": [],
   "source": [
    "from numpy import array # usage array([1,2,3])\n",
    "from numpy import array as arr # usage arr([1,2,3])"
   ]
  },
  {
   "cell_type": "markdown",
   "metadata": {},
   "source": [
    "## 1.4 Module file structure  \n",
    "\n",
    "A module is basically a collection of .py files that sits under the folder of the module name. For example, the `numpy` module sits at `.venv/lib/python3.11/site-packages/numpy` folder. \n",
    "\n",
    "```python\n",
    "import numpy ...\n",
    "from numpy ...\n",
    "```\n",
    "\n",
    "Means go to a module folder called `numpy` and do `...`. If the functions you want sits under a subfoler, say `numpy.random`, you can do:\n",
    "\n",
    "```python\n",
    "import numpy.random ...\n",
    "from numpy.random ...\n",
    "```"
   ]
  },
  {
   "cell_type": "markdown",
   "metadata": {},
   "source": [
    "# 2 Data types\n",
    "\n",
    "## 2.1 Python Data Types\n",
    "\n",
    "  * [Python Data Types](https://www.w3schools.com/python/python_datatypes.asp)\n"
   ]
  },
  {
   "cell_type": "code",
   "execution_count": 22,
   "metadata": {},
   "outputs": [
    {
     "name": "stdout",
     "output_type": "stream",
     "text": [
      "range(0, 5)\n"
     ]
    }
   ],
   "source": [
    "# primitive data types\n",
    "_string = \"Hello World\"\n",
    "_integer = 1  \n",
    "_float = 1.0  \n",
    "_boolean = True # of False\n",
    "_none = None # for a missig value\n",
    "\n",
    "# collection data types\n",
    "_range = range(5) # 0, 1, 2, 3, 4\n",
    "print(_range)\n",
    "_list = [\"apple\", 1, True]\n",
    "_tuple = (\"apple\", 1, True)\n",
    "_set = {\"apple\", \"orage\", \"banana\"}\n",
    "_dictionary = {\n",
    "    \"name\": \"John\", \n",
    "    \"age\": 36}  # \"name\": \"John\" is a key-value pair where key is \"name\""
   ]
  },
  {
   "cell_type": "markdown",
   "metadata": {},
   "source": [
    "\n",
    "## 2.2 Mutability and Immutability\n",
    "\n",
    "Consider the following code:\n",
    "\n",
    "```\n",
    "a = some value\n",
    "b = a\n",
    "b = other value\n",
    "```\n",
    "\n",
    "  * `a = some value` will have computer find a memory space and passed its **location** back to `a`. Therefore, later when we `print(a)`. Computer will use that **location address** to read the value stored.  \n",
    "  * At the second line, `b` is created and `a` will pass some information regarding `b`'s representing value. There are two possible passing methods:  \n",
    "    * passing the **memory location**; or just\n",
    "    * read the value and passs **just the value** \n",
    "```\n",
    "# if a is immutable\n",
    "b = other value # a is still some value\n",
    "\n",
    "# if a is mutable\n",
    "b = other value # a becomes other value\n",
    "```"
   ]
  },
  {
   "cell_type": "markdown",
   "metadata": {},
   "source": [
    "### a. Primitives are immutable\n",
    "All **primitive types** are immutable. They are single value data types. \n",
    "\n",
    "  * `int`: `a = 2`\n",
    "  * `float`: `a = 2.0`\n",
    "  * `bool`: `a = True`\n",
    "  * `str`: `a = \"Hello World\"`\n",
    "  * `None`: `a = None` for missing value"
   ]
  },
  {
   "cell_type": "markdown",
   "metadata": {},
   "source": [
    "### b. Most collections are mutable\n",
    "\n",
    "Ｆor non-primitive types (i.e. collections of values), they are mostly mutable. \n",
    "\n",
    "  * `list`: `a = [1, 2, 3]`\n",
    "  * `dict` (dictionary): `a = {\"a\": 1, \"b\": 2, \"c\": 3}`\n",
    "  * `set`: `a = {1, 2, 3}`\n"
   ]
  },
  {
   "cell_type": "markdown",
   "metadata": {},
   "source": [
    "### c. Collections with unchangeable values are immutable\n",
    "\n",
    "  * `tuple`: `a = (1, 2, 3)`\n",
    "  * `frozenset`: `a = frozenset({1, 2, 3})`"
   ]
  },
  {
   "cell_type": "markdown",
   "metadata": {},
   "source": [
    "You can also create tuple by using `a = 1, 2, 3` without the brackets."
   ]
  },
  {
   "cell_type": "code",
   "execution_count": 27,
   "metadata": {},
   "outputs": [
    {
     "ename": "TypeError",
     "evalue": "'tuple' object does not support item assignment",
     "output_type": "error",
     "traceback": [
      "\u001b[0;31m---------------------------------------------------------------------------\u001b[0m",
      "\u001b[0;31mTypeError\u001b[0m                                 Traceback (most recent call last)",
      "\u001b[1;32m/Users/martin/Documents/GitHub/112-2-programming-for-economic-modeling/ipynb/week-2-1-module-data-type.ipynb Cell 16\u001b[0m line \u001b[0;36m6\n\u001b[1;32m      <a href='vscode-notebook-cell:/Users/martin/Documents/GitHub/112-2-programming-for-economic-modeling/ipynb/week-2-1-module-data-type.ipynb#X20sZmlsZQ%3D%3D?line=1'>2</a>\u001b[0m b \u001b[39m=\u001b[39m (\u001b[39m1\u001b[39m, \u001b[39m2\u001b[39m, \u001b[39m3\u001b[39m)\n\u001b[1;32m      <a href='vscode-notebook-cell:/Users/martin/Documents/GitHub/112-2-programming-for-economic-modeling/ipynb/week-2-1-module-data-type.ipynb#X20sZmlsZQ%3D%3D?line=3'>4</a>\u001b[0m a[\u001b[39m0\u001b[39m] \u001b[39m=\u001b[39m \u001b[39m5\u001b[39m \n\u001b[0;32m----> <a href='vscode-notebook-cell:/Users/martin/Documents/GitHub/112-2-programming-for-economic-modeling/ipynb/week-2-1-module-data-type.ipynb#X20sZmlsZQ%3D%3D?line=5'>6</a>\u001b[0m b[\u001b[39m0\u001b[39;49m] \u001b[39m=\u001b[39m \u001b[39m5\u001b[39m \u001b[39m# error. Unchangeable - immutable\u001b[39;00m\n",
      "\u001b[0;31mTypeError\u001b[0m: 'tuple' object does not support item assignment"
     ]
    }
   ],
   "source": [
    "a = [1, 2, 3]\n",
    "b = (1, 2, 3)\n",
    "\n",
    "a[0] = 5 \n",
    "\n",
    "b[0] = 5 # error. Unchangeable - immutable"
   ]
  },
  {
   "cell_type": "markdown",
   "metadata": {},
   "source": [
    "# 3. List and dictionary\n",
    "\n",
    "The most commonly used collective data types are `list` and `dict` -- both are mutable.  \n",
    "\n",
    "* Okay to change their values.  \n",
    "* Must use `.copy()` to make a copy of the values. (Using `=` to make a copy is NO NO.)"
   ]
  },
  {
   "cell_type": "markdown",
   "metadata": {},
   "source": [
    "## 3.1 Change values"
   ]
  },
  {
   "cell_type": "code",
   "execution_count": null,
   "metadata": {},
   "outputs": [
    {
     "name": "stdout",
     "output_type": "stream",
     "text": [
      "[10, 2, 3, 4, 5]\n",
      "{'name': 'Jane', 'age': 36, 'birthday': '01/01/1985'}\n",
      "[10, 2, 3, 4]\n",
      "{'name': 'Jane', 'age': 36}\n",
      "[7, 10, 2, 3, 4, 6]\n",
      "{'name': 'Jane', 'age': 36, 'birthday': '01/01/1985'}\n"
     ]
    }
   ],
   "source": [
    "list_example = [1, 2, 3, 4, 5]\n",
    "dict_example = {\"name\": \"John\", \"age\": 36, \"birthday\": \"01/01/1985\"}\n",
    "\n",
    "# change values\n",
    "list_example[0] = 10\n",
    "dict_example[\"name\"] = \"Jane\"\n",
    "print(list_example)\n",
    "print(dict_example)\n",
    "\n",
    "# delete values\n",
    "del list_example[4]\n",
    "del dict_example[\"birthday\"]\n",
    "print(list_example)\n",
    "print(dict_example)\n",
    "\n",
    "# add values\n",
    "list_example.append(6) # add 6 to the end of the list\n",
    "list_example.insert(0, 7) # add 4 to the beginning of the list\n",
    "dict_example[\"birthday\"] = \"01/01/1985\"\n",
    "print(list_example)\n",
    "print(dict_example)"
   ]
  },
  {
   "cell_type": "markdown",
   "metadata": {},
   "source": [
    "## 3.2 Make a copy"
   ]
  },
  {
   "cell_type": "code",
   "execution_count": 43,
   "metadata": {},
   "outputs": [
    {
     "name": "stdout",
     "output_type": "stream",
     "text": [
      "[7, 10, 2, 3, 4, 6]\n",
      "{'name': 'Jane', 'age': 36, 'birthday': '01/01/1985'}\n"
     ]
    },
    {
     "data": {
      "text/plain": [
       "([7, 10, 2, 3, 4, 6], {'name': 'Jane', 'age': 36, 'birthday': '01/01/1985'})"
      ]
     },
     "execution_count": 43,
     "metadata": {},
     "output_type": "execute_result"
    }
   ],
   "source": [
    "list_example_copy = list_example.copy()\n",
    "dict_example_copy = dict_example.copy()\n",
    "\n",
    "list_example_copy[0] = 20\n",
    "dict_example_copy[\"name\"] = \"Gary\"\n",
    "\n",
    "print(list_example)\n",
    "print(dict_example)"
   ]
  },
  {
   "cell_type": "markdown",
   "metadata": {},
   "source": [
    "#  4. Numpy Array\n",
    "\n",
    "List `[]` applies to a collection of data even if they are of different types. Since list can not be used to do math, even if all the values in a list are numbers, you can not do math with them.\n",
    "\n",
    "Numpy array is a collection of data that are of the same type. It is a data type that is designed for math."
   ]
  },
  {
   "cell_type": "code",
   "execution_count": 1,
   "metadata": {},
   "outputs": [],
   "source": [
    "import numpy as np"
   ]
  },
  {
   "cell_type": "code",
   "execution_count": 13,
   "metadata": {},
   "outputs": [
    {
     "data": {
      "text/plain": [
       "(array([1., 1., 1.]), array([2, 4, 6]))"
      ]
     },
     "execution_count": 13,
     "metadata": {},
     "output_type": "execute_result"
    }
   ],
   "source": [
    "x = np.ones(3)            # Vector of three ones\n",
    "y = np.array((2, 4, 6))   # Converts tuple (2, 4, 6) into a NumPy array\n",
    "x, y"
   ]
  },
  {
   "cell_type": "code",
   "execution_count": 16,
   "metadata": {},
   "outputs": [
    {
     "name": "stdout",
     "output_type": "stream",
     "text": [
      "[3. 5. 7.]\n",
      "[2. 4. 6.]\n",
      "12.0\n"
     ]
    }
   ],
   "source": [
    "print(x + y)                    # Add (element-by-element)\n",
    "print(x * y)                  # Multiply (element-by-element)\n",
    "print(x @ y)                  # Dot product"
   ]
  },
  {
   "cell_type": "code",
   "execution_count": 7,
   "metadata": {},
   "outputs": [
    {
     "data": {
      "text/plain": [
       "(array([[1, 2],\n",
       "        [3, 4]]),\n",
       " array([[1., 0., 0.],\n",
       "        [0., 1., 0.],\n",
       "        [0., 0., 1.]]),\n",
       " array([[1., 1.],\n",
       "        [1., 1.],\n",
       "        [1., 1.]]))"
      ]
     },
     "execution_count": 7,
     "metadata": {},
     "output_type": "execute_result"
    }
   ],
   "source": [
    "A = np.array(\n",
    "    ((1, 2),\n",
    "     (3, 4))\n",
    "     )\n",
    "I = np.identity(3)\n",
    "ones = np.ones((3, 2))\n",
    "\n",
    "A, I, ones"
   ]
  },
  {
   "cell_type": "code",
   "execution_count": 23,
   "metadata": {},
   "outputs": [
    {
     "data": {
      "text/plain": [
       "array([[1, 3],\n",
       "       [2, 4]])"
      ]
     },
     "execution_count": 23,
     "metadata": {},
     "output_type": "execute_result"
    },
    {
     "data": {
      "text/plain": [
       "array([[-2. ,  1. ],\n",
       "       [ 1.5, -0.5]])"
      ]
     },
     "execution_count": 23,
     "metadata": {},
     "output_type": "execute_result"
    }
   ],
   "source": [
    "# transpose\n",
    "A.T\n",
    "\n",
    "# inverse\n",
    "np.linalg.inv(A)\n"
   ]
  },
  {
   "cell_type": "markdown",
   "metadata": {},
   "source": [
    "> Try to import just `inv` "
   ]
  },
  {
   "cell_type": "markdown",
   "metadata": {},
   "source": [
    "# 5. Data frame\n",
    "\n",
    "Data frame is a collection of data that are of different types. It is a data type that is designed for data analysis.\n",
    "\n",
    "To create a data frame, you need to import the `pandas` module.\n"
   ]
  },
  {
   "cell_type": "code",
   "execution_count": 24,
   "metadata": {},
   "outputs": [
    {
     "data": {
      "text/html": [
       "<div>\n",
       "<style scoped>\n",
       "    .dataframe tbody tr th:only-of-type {\n",
       "        vertical-align: middle;\n",
       "    }\n",
       "\n",
       "    .dataframe tbody tr th {\n",
       "        vertical-align: top;\n",
       "    }\n",
       "\n",
       "    .dataframe thead th {\n",
       "        text-align: right;\n",
       "    }\n",
       "</style>\n",
       "<table border=\"1\" class=\"dataframe\">\n",
       "  <thead>\n",
       "    <tr style=\"text-align: right;\">\n",
       "      <th></th>\n",
       "      <th>name</th>\n",
       "      <th>age</th>\n",
       "      <th>birthday</th>\n",
       "    </tr>\n",
       "  </thead>\n",
       "  <tbody>\n",
       "    <tr>\n",
       "      <th>0</th>\n",
       "      <td>John</td>\n",
       "      <td>36</td>\n",
       "      <td>01/01/1985</td>\n",
       "    </tr>\n",
       "    <tr>\n",
       "      <th>1</th>\n",
       "      <td>Jane</td>\n",
       "      <td>24</td>\n",
       "      <td>01/01/1997</td>\n",
       "    </tr>\n",
       "    <tr>\n",
       "      <th>2</th>\n",
       "      <td>Mary</td>\n",
       "      <td>30</td>\n",
       "      <td>01/01/1991</td>\n",
       "    </tr>\n",
       "  </tbody>\n",
       "</table>\n",
       "</div>"
      ],
      "text/plain": [
       "   name  age    birthday\n",
       "0  John   36  01/01/1985\n",
       "1  Jane   24  01/01/1997\n",
       "2  Mary   30  01/01/1991"
      ]
     },
     "execution_count": 24,
     "metadata": {},
     "output_type": "execute_result"
    }
   ],
   "source": [
    "import pandas as pd\n",
    "\n",
    "# create data frame\n",
    "df = pd.DataFrame({\n",
    "    \"name\": [\"John\", \"Jane\", \"Mary\"],\n",
    "    \"age\": [36, 24, 30],\n",
    "    \"birthday\": [\"01/01/1985\", \"01/01/1997\", \"01/01/1991\"]\n",
    "})\n",
    "\n",
    "df"
   ]
  },
  {
   "cell_type": "code",
   "execution_count": 31,
   "metadata": {},
   "outputs": [
    {
     "data": {
      "text/plain": [
       "0    John\n",
       "1    Jane\n",
       "2    Mary\n",
       "Name: name, dtype: object"
      ]
     },
     "execution_count": 31,
     "metadata": {},
     "output_type": "execute_result"
    },
    {
     "data": {
      "text/plain": [
       "name              John\n",
       "age                 36\n",
       "birthday    01/01/1985\n",
       "Name: 0, dtype: object"
      ]
     },
     "execution_count": 31,
     "metadata": {},
     "output_type": "execute_result"
    },
    {
     "data": {
      "text/html": [
       "<div>\n",
       "<style scoped>\n",
       "    .dataframe tbody tr th:only-of-type {\n",
       "        vertical-align: middle;\n",
       "    }\n",
       "\n",
       "    .dataframe tbody tr th {\n",
       "        vertical-align: top;\n",
       "    }\n",
       "\n",
       "    .dataframe thead th {\n",
       "        text-align: right;\n",
       "    }\n",
       "</style>\n",
       "<table border=\"1\" class=\"dataframe\">\n",
       "  <thead>\n",
       "    <tr style=\"text-align: right;\">\n",
       "      <th></th>\n",
       "      <th>name</th>\n",
       "      <th>age</th>\n",
       "      <th>birthday</th>\n",
       "    </tr>\n",
       "  </thead>\n",
       "  <tbody>\n",
       "    <tr>\n",
       "      <th>0</th>\n",
       "      <td>John</td>\n",
       "      <td>36</td>\n",
       "      <td>01/01/1985</td>\n",
       "    </tr>\n",
       "    <tr>\n",
       "      <th>2</th>\n",
       "      <td>Mary</td>\n",
       "      <td>30</td>\n",
       "      <td>01/01/1991</td>\n",
       "    </tr>\n",
       "  </tbody>\n",
       "</table>\n",
       "</div>"
      ],
      "text/plain": [
       "   name  age    birthday\n",
       "0  John   36  01/01/1985\n",
       "2  Mary   30  01/01/1991"
      ]
     },
     "execution_count": 31,
     "metadata": {},
     "output_type": "execute_result"
    },
    {
     "data": {
      "text/html": [
       "<div>\n",
       "<style scoped>\n",
       "    .dataframe tbody tr th:only-of-type {\n",
       "        vertical-align: middle;\n",
       "    }\n",
       "\n",
       "    .dataframe tbody tr th {\n",
       "        vertical-align: top;\n",
       "    }\n",
       "\n",
       "    .dataframe thead th {\n",
       "        text-align: right;\n",
       "    }\n",
       "</style>\n",
       "<table border=\"1\" class=\"dataframe\">\n",
       "  <thead>\n",
       "    <tr style=\"text-align: right;\">\n",
       "      <th></th>\n",
       "      <th>name</th>\n",
       "      <th>age</th>\n",
       "      <th>birthday</th>\n",
       "    </tr>\n",
       "  </thead>\n",
       "  <tbody>\n",
       "    <tr>\n",
       "      <th>0</th>\n",
       "      <td>John</td>\n",
       "      <td>36</td>\n",
       "      <td>01/01/1985</td>\n",
       "    </tr>\n",
       "    <tr>\n",
       "      <th>1</th>\n",
       "      <td>Jane</td>\n",
       "      <td>24</td>\n",
       "      <td>01/01/1997</td>\n",
       "    </tr>\n",
       "  </tbody>\n",
       "</table>\n",
       "</div>"
      ],
      "text/plain": [
       "   name  age    birthday\n",
       "0  John   36  01/01/1985\n",
       "1  Jane   24  01/01/1997"
      ]
     },
     "execution_count": 31,
     "metadata": {},
     "output_type": "execute_result"
    }
   ],
   "source": [
    "# retrieve data\n",
    "df[\"name\"] # retrieve column \"name\"\n",
    "# retrieve a row\n",
    "df.iloc[0] # retrieve row 0\n",
    "\n",
    "# retrieve multiple rows\n",
    "df.iloc[[0, 2]] # retrieve row 0 and 2"
   ]
  },
  {
   "cell_type": "markdown",
   "metadata": {},
   "source": [
    "## Sequential retrerival\n",
    "\n",
    "In Python you can retreive sequence of values from a list, tuple, or string using `[:]`. \n",
    "\n",
    "  * `[:]` is used to retrieve a sequence of values.\n",
    "  "
   ]
  },
  {
   "cell_type": "code",
   "execution_count": 36,
   "metadata": {},
   "outputs": [
    {
     "data": {
      "text/plain": [
       "[2, 4]"
      ]
     },
     "execution_count": 36,
     "metadata": {},
     "output_type": "execute_result"
    }
   ],
   "source": [
    "list_example = [2, 4, 8, 15, 16, 23, 42]\n",
    "\n",
    "list_example[0:2] # retrieve element 0 and 1\n"
   ]
  },
  {
   "cell_type": "markdown",
   "metadata": {},
   "source": [
    "> sequential retrieval's end index is exclusive."
   ]
  },
  {
   "cell_type": "code",
   "execution_count": 37,
   "metadata": {},
   "outputs": [
    {
     "data": {
      "text/plain": [
       "42"
      ]
     },
     "execution_count": 37,
     "metadata": {},
     "output_type": "execute_result"
    }
   ],
   "source": [
    "list_example[-1] # retrieve last element\n",
    "list_example[0:6:2] # retrieve element 0, 2, 4"
   ]
  },
  {
   "cell_type": "markdown",
   "metadata": {},
   "source": [
    "The same method can be used in `DataFrame.iloc[]` to retrieve a sequence of rows or columns.\n"
   ]
  },
  {
   "cell_type": "code",
   "execution_count": null,
   "metadata": {},
   "outputs": [
    {
     "data": {
      "text/html": [
       "<div>\n",
       "<style scoped>\n",
       "    .dataframe tbody tr th:only-of-type {\n",
       "        vertical-align: middle;\n",
       "    }\n",
       "\n",
       "    .dataframe tbody tr th {\n",
       "        vertical-align: top;\n",
       "    }\n",
       "\n",
       "    .dataframe thead th {\n",
       "        text-align: right;\n",
       "    }\n",
       "</style>\n",
       "<table border=\"1\" class=\"dataframe\">\n",
       "  <thead>\n",
       "    <tr style=\"text-align: right;\">\n",
       "      <th></th>\n",
       "      <th>name</th>\n",
       "      <th>age</th>\n",
       "      <th>birthday</th>\n",
       "    </tr>\n",
       "  </thead>\n",
       "  <tbody>\n",
       "    <tr>\n",
       "      <th>0</th>\n",
       "      <td>John</td>\n",
       "      <td>36</td>\n",
       "      <td>01/01/1985</td>\n",
       "    </tr>\n",
       "    <tr>\n",
       "      <th>1</th>\n",
       "      <td>Jane</td>\n",
       "      <td>24</td>\n",
       "      <td>01/01/1997</td>\n",
       "    </tr>\n",
       "  </tbody>\n",
       "</table>\n",
       "</div>"
      ],
      "text/plain": [
       "   name  age    birthday\n",
       "0  John   36  01/01/1985\n",
       "1  Jane   24  01/01/1997"
      ]
     },
     "metadata": {},
     "output_type": "display_data"
    },
    {
     "data": {
      "text/html": [
       "<div>\n",
       "<style scoped>\n",
       "    .dataframe tbody tr th:only-of-type {\n",
       "        vertical-align: middle;\n",
       "    }\n",
       "\n",
       "    .dataframe tbody tr th {\n",
       "        vertical-align: top;\n",
       "    }\n",
       "\n",
       "    .dataframe thead th {\n",
       "        text-align: right;\n",
       "    }\n",
       "</style>\n",
       "<table border=\"1\" class=\"dataframe\">\n",
       "  <thead>\n",
       "    <tr style=\"text-align: right;\">\n",
       "      <th></th>\n",
       "      <th>name</th>\n",
       "      <th>age</th>\n",
       "    </tr>\n",
       "  </thead>\n",
       "  <tbody>\n",
       "    <tr>\n",
       "      <th>0</th>\n",
       "      <td>John</td>\n",
       "      <td>36</td>\n",
       "    </tr>\n",
       "    <tr>\n",
       "      <th>1</th>\n",
       "      <td>Jane</td>\n",
       "      <td>24</td>\n",
       "    </tr>\n",
       "  </tbody>\n",
       "</table>\n",
       "</div>"
      ],
      "text/plain": [
       "   name  age\n",
       "0  John   36\n",
       "1  Jane   24"
      ]
     },
     "metadata": {},
     "output_type": "display_data"
    }
   ],
   "source": [
    "df.iloc[0:2] # retrieve row 0 and 1\n",
    "df.iloc[0:2, 0:2] # retrieve row 0 and 1, column 0 and 1"
   ]
  },
  {
   "cell_type": "markdown",
   "metadata": {},
   "source": [
    "# 6. Import files\n",
    "\n",
    "## 6.1 JSON file\n",
    "\n",
    "JSON file is the most common format to store data and exchange data between different systems. No matter what programming language you use, you can easily import a JSON file into your program.\n",
    "\n",
    "To import a JSON file in Python, you can use the `json` module, which is a part of the standard library. Here is an example:\n",
    "\n",
    "```python\n",
    "import json\n",
    "\n",
    "with open('path_to_your_file.json') as f:\n",
    "    data = json.load(f)\n",
    "\n",
    "# Now 'data' holds the content of your JSON file\n",
    "```\n",
    "In this code, \n",
    "\n",
    "- First, we import the `json` module.\n",
    "- We use the built-in `open()` function to open the file. \n",
    "- The `'path_to_your_file.json'` should be replaced with the path to your JSON file. \n",
    "- We use the `json.load()` function to load the JSON file into the `data` variable. \n",
    "\n",
    "After this script is run, `data` will hold the contents of the JSON file as a Python object. If the JSON file contains a JSON object, `data` will be a dictionary. If the JSON file contains a JSON array, `data` will be a list."
   ]
  },
  {
   "cell_type": "markdown",
   "metadata": {},
   "source": [
    "Download [foodPandaMenu_a0ab.json](https://raw.githubusercontent.com/tpemartin/112-2-programming-for-economic-modeling/main/data/foodpandaMenu_a0ab.json) to your `root/data` folder. "
   ]
  },
  {
   "cell_type": "markdown",
   "metadata": {},
   "source": [
    "## 6.2 File Path\n"
   ]
  },
  {
   "cell_type": "code",
   "execution_count": null,
   "metadata": {},
   "outputs": [
    {
     "name": "stdout",
     "output_type": "stream",
     "text": [
      "{'id': 28673, 'code': 'a0ab', 'accepts_instructions': True, 'address': '(△) 基隆市安樂區基金一路116-3號', 'address_line2': '', 'budget': 2, 'chain': {'code': '', 'name': '', 'main_vendor_code': '', 'url_key': ''}, 'city': {'name': 'Keelung City'}, 'cuisines': [{'id': 1227, 'name': '炒飯', 'url_key': 'chao-fan', 'main': False}, {'id': 201, 'name': '麵食', 'url_key': 'mian-shi', 'main': False}, {'id': 248, 'name': '台式', 'url_key': 'tai-shi', 'main': True}], 'custom_location_url': '', 'customer_type': 'all', 'delivery_box': '', 'delivery_fee_type': 'amount', 'description': '', 'distance': 0.929286742989499, 'food_characteristics': [{'id': 55, 'name': '<店內價>', 'is_halal': False, 'is_vegetarian': False}], 'has_delivery_provider': True, 'hero_image': 'https://images.deliveryhero.io/image/fd-tw/LH/a0ab-hero.jpg', 'hero_listing_image': 'https://images.deliveryhero.io/image/fd-tw/LH/a0ab-listing.jpg', 'is_new_until': '2019-11-04T00:00:00Z', 'premium_position': 0, 'latitude': 25.1401844, 'logo': '', 'longitude': 121.7125329, 'loyalty_percentage_amount': 0.0, 'loyalty_program_enabled': False, 'maximum_express_order_amount': 0, 'metadata': {'has_discount': False, 'timezone': 'Asia/Taipei', 'close_reasons': [], 'available_in': '2023-08-05T17:00:00+0800', 'events': [], 'is_delivery_available': False, 'is_pickup_available': True, 'is_dine_in_available': False, 'is_express_delivery_available': False, 'is_temporary_closed': False, 'is_flood_feature_closed': False}, 'minimum_delivery_fee': 25.0, 'minimum_delivery_time': 40.0, 'minimum_order_amount': 99.0, 'minimum_pickup_time': 10.0, 'name': '豪記一碗小羊肉', 'payment_types': [], 'post_code': '204', 'primary_cuisine_id': 248, 'rating': 4.7, 'redirection_url': 'https://foodpanda.com.tw/restaurant/a0ab/hao-ji-wan-xiao-yang-rou', 'review_number': 2140, 'review_with_comment_number': 0, 'score': 0.0, 'service_fee_percentage_amount': 0, 'service_tax_percentage_amount': 0, 'tag': '', 'tags': [], 'url_key': 'hao-ji-wan-xiao-yang-rou', 'vat_percentage_amount': 0, 'characteristics': {'cuisines': [{'id': 1227, 'name': '炒飯', 'url_key': 'chao-fan', 'main': False}, {'id': 201, 'name': '麵食', 'url_key': 'mian-shi', 'main': False}, {'id': 248, 'name': '台式', 'url_key': 'tai-shi', 'main': True}], 'food_characteristics': [{'id': 55, 'name': '<店內價>', 'is_halal': False, 'is_vegetarian': False}], 'primary_cuisine': {'id': 248, 'name': '台式', 'url_key': 'tai-shi', 'main': True}}, 'vendor_points': 83772, 'vertical': 'restaurants', 'vertical_segment': 'restaurants', 'vertical_parent': 'Restaurant', 'web_path': 'https://foodpanda.com.tw/restaurant/a0ab/hao-ji-wan-xiao-yang-rou', 'website': '', 'has_online_payment': True, 'discounts_info': [], 'discounts': [], 'vendor_legal_information': {'legal_name': '黃淑芬', 'trade_register_number': ''}, 'disclaimers': [], 'customer_phone': '+886224322659', 'vertical_type_ids': ['restaurants'], 'delivery_provider': 'platform_delivery', 'is_active': True, 'is_best_in_city': False, 'is_checkout_comment_enabled': False, 'is_delivery_enabled': True, 'is_new': False, 'is_pickup_enabled': True, 'is_premium': False, 'is_preorder_enabled': True, 'is_replacement_dish_enabled': False, 'is_service_fee_enabled': False, 'is_service_tax_enabled': False, 'is_service_tax_visible': False, 'is_test': False, 'is_vat_disabled': False, 'is_vat_included_in_product_price': True, 'is_vat_visible': False, 'is_voucher_enabled': True, 'is_promoted': False, 'tag_ids': []}\n"
     ]
    }
   ],
   "source": [
    "# import json file\n",
    "import json\n",
    "\n",
    "with open('../data/foodpandaMenu_a0ab.json') as f:\n",
    "    dd = json.load(f)\n",
    "\n",
    "print(dd)"
   ]
  },
  {
   "cell_type": "markdown",
   "metadata": {},
   "source": [
    "\n",
    "In programming, a file has two types of paths:  \n",
    "\n",
    "- **Relative path**: relative to the current working directory.  \n",
    "- **Absolute path**: the full path to the file.  \n",
    "\n",
    "For example, suppose you have a file with the absolute path `C:\\Users\\username\\Documents\\data.json`. If the current working directory is `C:\\Users\\username\\Documents`, then the relative path to the file `data.json` is `data.json`. If the current working directory is `C:\\Users\\username`, then the relative path to the file `data.json` is `Documents\\data.json`.\n",
    "\n",
    "In Python, you can get the current working directory using the `os` module (`os` module comes with Python installation. No need to install it first.). Here is an example:\n"
   ]
  },
  {
   "cell_type": "code",
   "execution_count": null,
   "metadata": {},
   "outputs": [],
   "source": [
    "import os\n",
    "\n",
    "cwd = os.getcwd()\n",
    "print(cwd)"
   ]
  },
  {
   "cell_type": "markdown",
   "metadata": {},
   "source": [
    "In my computer, I have the following folder structure:\n",
    "\n",
    "```\n",
    "root\n",
    "├── data\n",
    "│   ├── ...\n",
    "│   └── w_2023-02-07.json\n",
    "└── ipynb\n",
    "    └── week-2.ipynb\n",
    "```\n",
    "\n",
    "  * `root` means the project root folder. \n",
    "\n",
    "My `week-2.ipynb` working directory is `ipynb` folder. To access the file `w_2023-02-07.json` in `data` folder, we can use `..` which means the parent folder of the current working directory. \n",
    "\n",
    "Hence we can use `../data/w_2023-02-07.json` to access the file `w_2023-02-07.json` in `data` folder.\n",
    "\n"
   ]
  },
  {
   "cell_type": "markdown",
   "metadata": {},
   "source": [
    "> **Note**:  \n",
    "> 1. All the discussion regarding relative path here is based on that you have set up a Python environment and linked your Jupyter Notebook to the Python environment correctly.\n",
    "> 2. If you are running .py file, the current working directory is the folder where project root is. (This means if data folder's relative paths are the same across developers, the code line to access that file will be the same across developers regardless of where they saved their scripts inside the project root.)"
   ]
  },
  {
   "cell_type": "markdown",
   "metadata": {},
   "source": [
    "#### Exercise\n",
    "\n",
    "\n",
    "Create two files named `test.py` in different folders of your root with the following code:\n",
    "\n",
    "```python\n",
    "import os\n",
    "\n",
    "cwd = os.getcwd()\n",
    "print(cwd)\n",
    "```\n",
    "\n",
    "Verify that they both have the same `cwd`, then import the same json file inside your project folder"
   ]
  },
  {
   "cell_type": "markdown",
   "metadata": {},
   "source": [
    "## 6.3 CSV file\n",
    "\n"
   ]
  },
  {
   "cell_type": "code",
   "execution_count": 4,
   "metadata": {},
   "outputs": [],
   "source": [
    "\n",
    "import pandas as pd\n",
    "\n",
    "df = pd.read_csv(\"https://raw.githubusercontent.com/tpemartin/\"\\\n",
    "                 \"github-data/master/Cornwell%20and%20Rupert.csv\")"
   ]
  },
  {
   "cell_type": "markdown",
   "metadata": {},
   "source": [
    "In Mac some people may encouter SSL: CERTIFICATE_VERIFY_FAILED error. To solve this problem, look for `Install Certificates.command` in your Python folder. Its path may look like \n",
    "`/Applications/Python 3.11/Install Certificates.command`, then run\n",
    "\n",
    "```bash\n",
    "sudo /Applications/Python\\ 3.11/Install\\ Certificates.command\n",
    "```\n",
    "  * `\\ ` escape space in bash"
   ]
  },
  {
   "cell_type": "markdown",
   "metadata": {},
   "source": [
    "# Download through command"
   ]
  },
  {
   "cell_type": "code",
   "execution_count": 1,
   "metadata": {},
   "outputs": [],
   "source": [
    "import requests\n",
    "\n",
    "url = 'https://raw.githubusercontent.com/tpemartin/'\\\n",
    "    '112-2-programming-for-economic-modeling/main/data/foodpandaMenu_a0ab.json'  # URL of the file to download\n",
    "response = requests.get(url)\n",
    "\n",
    "# Ensure the request was successful\n",
    "response.raise_for_status()\n",
    "\n",
    "# Open the file in write mode\n",
    "with open('foodpandaMenu_a0ab.json', 'wb') as file:\n",
    "    file.write(response.content)\n"
   ]
  },
  {
   "cell_type": "markdown",
   "metadata": {},
   "source": [
    "### File modes:  \n"
   ]
  },
  {
   "cell_type": "markdown",
   "metadata": {},
   "source": [
    "\n",
    "In Python, the `open` function is used to open a file and it takes a mode parameter. Here are the available modes:\n",
    "\n",
    "1. `'r'`: Read mode which is used when the file is only being read. This is the default mode if no mode is specified.\n",
    "\n",
    "2. `'w'`: Write mode for rewriting the contents of a file.\n",
    "\n",
    "3. `'x'`: Exclusive creation mode for creating a new file. If the file already exists, the operation fails.\n",
    "\n",
    "4. `'a'`: Append mode for appending new content to the end of the file.\n",
    "\n",
    "5. `'b'`: Binary mode for reading or writing binary data.\n",
    "\n",
    "6. `'t'`: Text mode for reading or writing string data. This is the default mode if no mode is specified.\n",
    "\n",
    "7. `'+'`: Updating mode for reading and writing to the same file.\n",
    "\n",
    "These modes can also be combined. For example:\n",
    "\n",
    "- `'rb'`: Read in binary mode.\n",
    "- `'wt'`: Write in text mode.\n",
    "- `'a+'`: Append and read.\n",
    "- `'r+b'`: Read and write in binary mode.\n",
    "  \n",
    "Note: `'b'`, `'t'`, and `'+'` can be appended to `'r'`, `'w'`, `'x'`, and `'a'`."
   ]
  },
  {
   "cell_type": "markdown",
   "metadata": {},
   "source": [
    "# 7. Saving your work\n",
    "\n",
    "In Python variables can be saved in a file using the `pickle` module. Here is an example:\n"
   ]
  },
  {
   "cell_type": "code",
   "execution_count": null,
   "metadata": {},
   "outputs": [],
   "source": [
    "import pickle  \n",
    "\n",
    "# Save a dictionary into a pickle file.  \n",
    "favorite_color = { \"lion\": \"yellow\", \"kitty\": \"red\" }  \n",
    "with open( \"save.p\", \"wb\" ) as f:  \n",
    "    pickle.dump(favorite_color, f)   \n",
    "\n",
    "\n",
    "# To load the dictionary back from the pickle file.  \n",
    "with open( \"save.p\", \"rb\" ) as f:\n",
    "    favorite_color = pickle.load(f)\n"
   ]
  },
  {
   "cell_type": "markdown",
   "metadata": {},
   "source": [
    "  * Notice where `save.p` is saved in your computer (depending on you run it inside .ipynb or .py).   \n",
    "  * `pickle` module is for Python developers only. It is not for sharing data with other non-python developers."
   ]
  },
  {
   "cell_type": "markdown",
   "metadata": {},
   "source": [
    "If you are to share your saved variables with non-Python users, you can use the `json` module to save your variables in a JSON file. Here is an example:"
   ]
  },
  {
   "cell_type": "code",
   "execution_count": null,
   "metadata": {},
   "outputs": [],
   "source": [
    "import json\n",
    "\n",
    "with open('save.json', 'w') as f:\n",
    "    json.dump(favorite_color, f)\n"
   ]
  }
 ],
 "metadata": {
  "kernelspec": {
   "display_name": ".venv",
   "language": "python",
   "name": "python3"
  },
  "language_info": {
   "codemirror_mode": {
    "name": "ipython",
    "version": 3
   },
   "file_extension": ".py",
   "mimetype": "text/x-python",
   "name": "python",
   "nbconvert_exporter": "python",
   "pygments_lexer": "ipython3",
   "version": "3.11.5"
  },
  "orig_nbformat": 4
 },
 "nbformat": 4,
 "nbformat_minor": 2
}
