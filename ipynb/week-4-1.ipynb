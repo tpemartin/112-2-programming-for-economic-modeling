{
 "cells": [
  {
   "cell_type": "code",
   "execution_count": 3,
   "metadata": {},
   "outputs": [],
   "source": [
    "from IPython.core.interactiveshell import InteractiveShell\n",
    "InteractiveShell.ast_node_interactivity = \"all\""
   ]
  },
  {
   "cell_type": "markdown",
   "metadata": {},
   "source": [
    "# Game theory\n",
    "\n",
    "In game theory, a game is defined as\n",
    "\n",
    "- a set of players\n",
    "- a set of strategies for each player\n",
    "- a payoff function for each player\n",
    "- a specification of what each player knows\n",
    "- a specification of what each player believes about what other players know\n",
    "- a specification of what each player believes about what other players believe about what other players know\n",
    "\n",
    "Consider the following 2x2 game with players A and B written in normal form: \n",
    "\n",
    "| | B1 | B2 |\n",
    "| --- | --- | --- |\n",
    "| A1 | 1,1 | 0,0 |\n",
    "| A2 | 0,0 | 2,2 |\n",
    "\n"
   ]
  },
  {
   "cell_type": "markdown",
   "metadata": {},
   "source": [
    "## 1 Strategy Spaces\n",
    "\n",
    "For a player, a strategy space is the set of all possible strategies that player can choose from. In the above game, each player has two strategies, so the strategy space for each player is $\\{A1, A2\\}$ and $\\{B1, B2\\}$ respectively."
   ]
  },
  {
   "cell_type": "code",
   "execution_count": 2,
   "metadata": {},
   "outputs": [],
   "source": [
    "\n",
    "playerA_strategies = [\"A1\", \"A2\"]\n",
    "playerB_strategies = [\"B1\", \"B2\"]"
   ]
  },
  {
   "cell_type": "markdown",
   "metadata": {},
   "source": [
    "## 2 Player class\n",
    "\n",
    "The above description is the basis for the Player class below. An instance of Player, a player, has the following attributes:\n",
    "\n",
    "- name: the name of the player\n",
    "- strategy_space: the strategy space of the player\n",
    "\n",
    "A player has the following methods:\n",
    "\n",
    "- play: choose a strategy from his/her strategy space"
   ]
  },
  {
   "cell_type": "code",
   "execution_count": 3,
   "metadata": {},
   "outputs": [],
   "source": [
    "class Player:\n",
    "    def __init__(self, name, strategies):\n",
    "        self.name = name\n",
    "        self.strategies = strategies\n",
    "        self.played_strategy = None\n",
    "    def play(self, strategy):\n",
    "        self.played_strategy = strategy\n",
    "        return strategy\n",
    "\n",
    "playerA = Player(\"A\", playerA_strategies)\n",
    "playerB = Player(\"B\", playerB_strategies)"
   ]
  },
  {
   "cell_type": "code",
   "execution_count": 4,
   "metadata": {},
   "outputs": [
    {
     "data": {
      "text/plain": [
       "(None, None)"
      ]
     },
     "execution_count": 4,
     "metadata": {},
     "output_type": "execute_result"
    }
   ],
   "source": [
    "# strategy profile\n",
    "playerA.played_strategy, playerB.played_strategy"
   ]
  },
  {
   "cell_type": "code",
   "execution_count": 5,
   "metadata": {},
   "outputs": [
    {
     "data": {
      "text/plain": [
       "'A1'"
      ]
     },
     "execution_count": 5,
     "metadata": {},
     "output_type": "execute_result"
    },
    {
     "data": {
      "text/plain": [
       "'B2'"
      ]
     },
     "execution_count": 5,
     "metadata": {},
     "output_type": "execute_result"
    },
    {
     "data": {
      "text/plain": [
       "('A1', 'B2')"
      ]
     },
     "execution_count": 5,
     "metadata": {},
     "output_type": "execute_result"
    }
   ],
   "source": [
    "playerA.play(\"A1\")\n",
    "playerB.play(\"B2\")\n",
    "\n",
    "# strategy profile\n",
    "playerA.played_strategy, playerB.played_strategy"
   ]
  },
  {
   "cell_type": "markdown",
   "metadata": {},
   "source": [
    "> A player's `played_strategy` attribute is changed by the `play` method under the hood."
   ]
  },
  {
   "cell_type": "markdown",
   "metadata": {},
   "source": [
    "## 2 Payoff Function\n",
    "\n",
    "A payoff function is a function that maps a `strategy profile` to a `set of each player's payoff`. \n",
    "* A strategy profile is a tuple of strategies, one for each player.  \n",
    "* A payoff is a number that represents the utility of a player.\n",
    "\n",
    "In the above game, the payoff function can be defined as follows:"
   ]
  },
  {
   "cell_type": "code",
   "execution_count": 6,
   "metadata": {},
   "outputs": [
    {
     "data": {
      "text/plain": [
       "(1, 1)"
      ]
     },
     "execution_count": 6,
     "metadata": {},
     "output_type": "execute_result"
    }
   ],
   "source": [
    "payoffMatrix = {\n",
    "    ('A1', 'B1'): (1, 1), \n",
    "    ('A1', 'B2'): (0, 0), \n",
    "    ('A2', 'B1'): (0, 0), \n",
    "    ('A2', 'B2'): (2, 2)\n",
    "}\n",
    "def payoff(strategyA, strategyB):\n",
    "    return payoffMatrix[(strategyA, strategyB)]\n",
    "\n",
    "payoff('A1', 'B1')"
   ]
  },
  {
   "cell_type": "markdown",
   "metadata": {},
   "source": [
    "* `payoffMatrix` is a dictionary that maps a strategy profile (key) to a set of payoffs (value)."
   ]
  },
  {
   "cell_type": "markdown",
   "metadata": {},
   "source": [
    "## 3 Game class\n",
    "\n",
    "A game consists of \n",
    "\n",
    "- a set of players (Player class)\n",
    "- a payoff function (payoffMatrix)\n",
    "\n",
    "And when both players played their strategies, the payoff can be calculated.\n",
    "\n"
   ]
  },
  {
   "cell_type": "code",
   "execution_count": 7,
   "metadata": {},
   "outputs": [
    {
     "data": {
      "text/plain": [
       "(1, 1)"
      ]
     },
     "execution_count": 7,
     "metadata": {},
     "output_type": "execute_result"
    },
    {
     "name": "stdout",
     "output_type": "stream",
     "text": [
      "Not all players have played yet.\n"
     ]
    }
   ],
   "source": [
    "payoffMatrix = {\n",
    "    ('A1', 'B1'): (1, 1), \n",
    "    ('A1', 'B2'): (0, 0), \n",
    "    ('A2', 'B1'): (0, 0), \n",
    "    ('A2', 'B2'): (2, 2)\n",
    "}\n",
    "def payoff(strategyA, strategyB):\n",
    "    # check if strategyA and strategyB are both not None\n",
    "    if strategyA and strategyB:\n",
    "        return payoffMatrix[(strategyA, strategyB)]\n",
    "    else:\n",
    "        print(\"Not all players have played yet.\")\n",
    "\n",
    "payoff('A1', 'B1')\n",
    "payoff(None, 'B1')"
   ]
  },
  {
   "cell_type": "code",
   "execution_count": 8,
   "metadata": {},
   "outputs": [],
   "source": [
    "class Game:\n",
    "    def __init__(self, playerA, playerB, payoffMatrix):\n",
    "        self.players = playerA, playerB\n",
    "        self.payoffMatrix = payoffMatrix\n",
    "    def payoff(self):\n",
    "        if self.players[0].played_strategy and self.players[1].played_strategy:\n",
    "            return self.payoffMatrix[(self.players[0].played_strategy, self.players[1].played_strategy)]\n",
    "        else:\n",
    "            print(\"Not all players have played yet.\")\n"
   ]
  },
  {
   "cell_type": "markdown",
   "metadata": {},
   "source": [
    "* An instance of Game requires instances of Player class. We say that a Game class is a composition of Player class.  \n",
    "* `payoff` method only needs `self` to obtain the played strategies of both players."
   ]
  },
  {
   "cell_type": "code",
   "execution_count": 9,
   "metadata": {},
   "outputs": [],
   "source": [
    "playerA = Player(\"A\", [\"A1\", \"A2\"])\n",
    "playerB = Player(\"B\", [\"B1\", \"B2\"])\n",
    "game = Game(playerA, playerB, \n",
    "            {\n",
    "                ('A1', 'B1'): (1, 1), \n",
    "                ('A1', 'B2'): (0, 0), \n",
    "                ('A2', 'B1'): (0, 0), \n",
    "                ('A2', 'B2'): (2, 2)\n",
    "            }\n",
    "            )"
   ]
  },
  {
   "cell_type": "code",
   "execution_count": 10,
   "metadata": {},
   "outputs": [
    {
     "data": {
      "text/plain": [
       "'A1'"
      ]
     },
     "execution_count": 10,
     "metadata": {},
     "output_type": "execute_result"
    },
    {
     "data": {
      "text/plain": [
       "('A1', None)"
      ]
     },
     "execution_count": 10,
     "metadata": {},
     "output_type": "execute_result"
    },
    {
     "data": {
      "text/plain": [
       "'B2'"
      ]
     },
     "execution_count": 10,
     "metadata": {},
     "output_type": "execute_result"
    },
    {
     "data": {
      "text/plain": [
       "('A1', 'B2')"
      ]
     },
     "execution_count": 10,
     "metadata": {},
     "output_type": "execute_result"
    }
   ],
   "source": [
    "playerA.play(\"A1\")\n",
    "game.players[0].played_strategy, game.players[1].played_strategy\n",
    "\n",
    "playerB.play(\"B2\")\n",
    "game.players[0].played_strategy, game.players[1].played_strategy"
   ]
  },
  {
   "cell_type": "code",
   "execution_count": 11,
   "metadata": {},
   "outputs": [
    {
     "data": {
      "text/plain": [
       "(0, 0)"
      ]
     },
     "execution_count": 11,
     "metadata": {},
     "output_type": "execute_result"
    }
   ],
   "source": [
    "game.payoff()"
   ]
  },
  {
   "cell_type": "markdown",
   "metadata": {},
   "source": [
    "* When a player instance, say `playerA`, played, it changes not only its own `played_strategy` attribute (i.e. `playerA.played_strategy`) but also the `playerA.played_strategy` attribute of the game instance (i.e. `game.playerA.played_strategy`). This is because an instance is presented by a **mutable** `self` object, when we passed `playerA` to `game` instance, we passed the (memory address) reference of `playerA` to `game` instance. Therefore, when `playerA` changes its `played_strategy` attribute, `game` instance can see the change."
   ]
  },
  {
   "cell_type": "code",
   "execution_count": 12,
   "metadata": {},
   "outputs": [
    {
     "data": {
      "text/plain": [
       "('A1', 'B1')"
      ]
     },
     "execution_count": 12,
     "metadata": {},
     "output_type": "execute_result"
    },
    {
     "data": {
      "text/plain": [
       "(1, 1)"
      ]
     },
     "execution_count": 12,
     "metadata": {},
     "output_type": "execute_result"
    }
   ],
   "source": [
    "playerA.play(\"A1\"), playerB.play(\"B1\")\n",
    "game.payoff()\n"
   ]
  },
  {
   "cell_type": "code",
   "execution_count": 13,
   "metadata": {},
   "outputs": [
    {
     "data": {
      "text/plain": [
       "('A1', 'B2')"
      ]
     },
     "execution_count": 13,
     "metadata": {},
     "output_type": "execute_result"
    },
    {
     "data": {
      "text/plain": [
       "(0, 0)"
      ]
     },
     "execution_count": 13,
     "metadata": {},
     "output_type": "execute_result"
    }
   ],
   "source": [
    "# B deviates\n",
    "playerA.play(\"A1\"), playerB.play(\"B2\")\n",
    "game.payoff()"
   ]
  },
  {
   "cell_type": "code",
   "execution_count": 14,
   "metadata": {},
   "outputs": [
    {
     "data": {
      "text/plain": [
       "('A2', 'B1')"
      ]
     },
     "execution_count": 14,
     "metadata": {},
     "output_type": "execute_result"
    },
    {
     "data": {
      "text/plain": [
       "(0, 0)"
      ]
     },
     "execution_count": 14,
     "metadata": {},
     "output_type": "execute_result"
    }
   ],
   "source": [
    "# A deviates\n",
    "playerA.play(\"A2\"), playerB.play(\"B1\")\n",
    "game.payoff()"
   ]
  },
  {
   "cell_type": "markdown",
   "metadata": {},
   "source": [
    "### Mixed strategy"
   ]
  },
  {
   "cell_type": "markdown",
   "metadata": {},
   "source": [
    "#### How to draw a strategy"
   ]
  },
  {
   "cell_type": "code",
   "execution_count": 10,
   "metadata": {},
   "outputs": [
    {
     "data": {
      "text/plain": [
       "'A1'"
      ]
     },
     "execution_count": 10,
     "metadata": {},
     "output_type": "execute_result"
    }
   ],
   "source": [
    "import numpy as np\n",
    "\n",
    "chosen_strategy = np.random.choice(playerA.strategies, p=[0.35, 0.65])\n",
    "chosen_strategy"
   ]
  },
  {
   "cell_type": "code",
   "execution_count": 15,
   "metadata": {},
   "outputs": [
    {
     "data": {
      "text/plain": [
       "<Figure size 600x50 with 0 Axes>"
      ]
     },
     "execution_count": 15,
     "metadata": {},
     "output_type": "execute_result"
    },
    {
     "data": {
      "text/plain": [
       "<BarContainer object of 1 artists>"
      ]
     },
     "execution_count": 15,
     "metadata": {},
     "output_type": "execute_result"
    },
    {
     "data": {
      "text/plain": [
       "<BarContainer object of 1 artists>"
      ]
     },
     "execution_count": 15,
     "metadata": {},
     "output_type": "execute_result"
    },
    {
     "data": {
      "text/plain": [
       "<BarContainer object of 1 artists>"
      ]
     },
     "execution_count": 15,
     "metadata": {},
     "output_type": "execute_result"
    },
    {
     "data": {
      "text/plain": [
       "<BarContainer object of 1 artists>"
      ]
     },
     "execution_count": 15,
     "metadata": {},
     "output_type": "execute_result"
    },
    {
     "data": {
      "image/png": "[encoded data removed]",
      "text/plain": [
       "<Figure size 600x50 with 1 Axes>"
      ]
     },
     "metadata": {},
     "output_type": "display_data"
    }
   ],
   "source": [
    "\n",
    "import matplotlib.pyplot as plt\n",
    "\n",
    "# Segment lengths\n",
    "lengths = [0.1, 0.2, 0.3, 0.4]\n",
    "\n",
    "# Colors for each segment\n",
    "colors = ['red', 'green', 'blue', 'yellow']\n",
    "\n",
    "# Start of the bar\n",
    "left = 0\n",
    "\n",
    "# Create figure with specific height (in this case, 2 inches)\n",
    "plt.figure(figsize=[6, 0.5])\n",
    "\n",
    "for idx, length in enumerate(lengths):\n",
    "    # Add a segment of the bar\n",
    "    plt.barh(y=1, width=length, left=left, color=colors[idx])\n",
    "    # Move the starting point of the next segment\n",
    "    left += length\n",
    "\n",
    "# Remove y-axis labels\n",
    "plt.gca().yaxis.set_major_locator(plt.NullLocator())\n",
    "\n",
    "plt.show()\n"
   ]
  },
  {
   "cell_type": "markdown",
   "metadata": {},
   "source": [
    "Suppose we assign the probabilities $(0.1, 0.2, 0.3, 0.4)$ to the strategies $(S1, S2, S3, S4)$\n",
    " \n",
    "If a random drawed number is:\n",
    "\n",
    "- $0 \\leq x < 0.1$, then the strategy is $S1$  \n",
    "- $0.1 \\leq x < 0.3$, then the strategy is $S2$\n",
    "- $0.3 \\leq x < 0.6$, then the strategy is $S3$\n",
    "- $0.6 \\leq x < 1$, then the strategy is $S4$\n",
    "\n",
    "We can construct a cumulative probabilities from probabilities $(0.1, 0.2, 0.3, 0.4)$ as $(0.1, 0.3, 0.6, 1)$ and draw a random number $x$ from $[0, 1)$, then the strategy is the largest $i$ such that $x < cumulative[i]$.\n",
    "\n",
    "For example,  \n",
    "- if $x = 0.25$, then the largest $i$ such that $0.25 < cumulative[i]$ is $i = 1$, so the strategy is $S2$.  \n",
    "- if $x = 0.6$, then the largest $i$ such that $0.6 < cumulative[i]$ is $i = 2$, so the strategy is $S3$.\n",
    "\n",
    "\n"
   ]
  },
  {
   "cell_type": "code",
   "execution_count": 16,
   "metadata": {},
   "outputs": [
    {
     "data": {
      "text/plain": [
       "array([0.1, 0.3, 0.6, 1. ])"
      ]
     },
     "execution_count": 16,
     "metadata": {},
     "output_type": "execute_result"
    }
   ],
   "source": [
    "import numpy as np\n",
    "cumprob = np.cumsum([0.1, 0.2, 0.3, 0.4]) # cumulative probabilities\n",
    "cumprob\n",
    "\n"
   ]
  },
  {
   "cell_type": "code",
   "execution_count": 17,
   "metadata": {},
   "outputs": [
    {
     "data": {
      "text/plain": [
       "array([False,  True,  True,  True])"
      ]
     },
     "execution_count": 17,
     "metadata": {},
     "output_type": "execute_result"
    },
    {
     "data": {
      "text/plain": [
       "1"
      ]
     },
     "execution_count": 17,
     "metadata": {},
     "output_type": "execute_result"
    }
   ],
   "source": [
    "\n",
    "# given x = 0.25 choose the first value in cumprob that is larger than x\n",
    "x = 0.25\n",
    "cumprob > x\n",
    "np.argmax(cumprob > x) # index of first True value, i.e. index of the pure strategy to play\n",
    "\n"
   ]
  },
  {
   "cell_type": "code",
   "execution_count": 18,
   "metadata": {},
   "outputs": [
    {
     "data": {
      "text/plain": [
       "(['A1', 'A2'], [0.4, 0.6])"
      ]
     },
     "execution_count": 18,
     "metadata": {},
     "output_type": "execute_result"
    }
   ],
   "source": [
    "strategies = playerA_strategies\n",
    "probabilities = [0.4, 0.6]\n",
    "strategies, probabilities\n"
   ]
  },
  {
   "cell_type": "code",
   "execution_count": 19,
   "metadata": {},
   "outputs": [
    {
     "data": {
      "text/plain": [
       "'A1'"
      ]
     },
     "execution_count": 19,
     "metadata": {},
     "output_type": "execute_result"
    }
   ],
   "source": [
    "\n",
    "import random\n",
    "x = random.random()\n",
    "cumprob = np.cumsum(probabilities)\n",
    "strategies[np.argmax(cumprob > x)]"
   ]
  },
  {
   "cell_type": "markdown",
   "metadata": {},
   "source": [
    "# Game Theory App\n",
    "\n",
    "We want to turn the above game into a desktop app. The app has the following features:\n",
    "\n",
    "1. When `game` instance is created, it has a `game-id` attribute.  \n",
    "2. Players can join the game by entering the `game-id` and the player name they want to use from the player list."
   ]
  },
  {
   "cell_type": "code",
   "execution_count": 20,
   "metadata": {},
   "outputs": [
    {
     "ename": "TypeError",
     "evalue": "Game.__init__() got an unexpected keyword argument 'cloud'",
     "output_type": "error",
     "traceback": [
      "\u001b[0;31m---------------------------------------------------------------------------\u001b[0m",
      "\u001b[0;31mTypeError\u001b[0m                                 Traceback (most recent call last)",
      "\u001b[1;32m/Users/martin/Documents/GitHub/112-2-programming-for-economic-modeling/ipynb/week-4-1.ipynb Cell 33\u001b[0m line \u001b[0;36m4\n\u001b[1;32m      <a href='vscode-notebook-cell:/Users/martin/Documents/GitHub/112-2-programming-for-economic-modeling/ipynb/week-4-1.ipynb#X44sZmlsZQ%3D%3D?line=1'>2</a>\u001b[0m playerA \u001b[39m=\u001b[39m Player(\u001b[39m\"\u001b[39m\u001b[39mA\u001b[39m\u001b[39m\"\u001b[39m, [\u001b[39m\"\u001b[39m\u001b[39mA1\u001b[39m\u001b[39m\"\u001b[39m, \u001b[39m\"\u001b[39m\u001b[39mA2\u001b[39m\u001b[39m\"\u001b[39m])\n\u001b[1;32m      <a href='vscode-notebook-cell:/Users/martin/Documents/GitHub/112-2-programming-for-economic-modeling/ipynb/week-4-1.ipynb#X44sZmlsZQ%3D%3D?line=2'>3</a>\u001b[0m playerB \u001b[39m=\u001b[39m Player(\u001b[39m\"\u001b[39m\u001b[39mB\u001b[39m\u001b[39m\"\u001b[39m, [\u001b[39m\"\u001b[39m\u001b[39mB1\u001b[39m\u001b[39m\"\u001b[39m, \u001b[39m\"\u001b[39m\u001b[39mB2\u001b[39m\u001b[39m\"\u001b[39m])\n\u001b[0;32m----> <a href='vscode-notebook-cell:/Users/martin/Documents/GitHub/112-2-programming-for-economic-modeling/ipynb/week-4-1.ipynb#X44sZmlsZQ%3D%3D?line=3'>4</a>\u001b[0m game \u001b[39m=\u001b[39m Game(playerA, playerB, {\n\u001b[1;32m      <a href='vscode-notebook-cell:/Users/martin/Documents/GitHub/112-2-programming-for-economic-modeling/ipynb/week-4-1.ipynb#X44sZmlsZQ%3D%3D?line=4'>5</a>\u001b[0m                 (\u001b[39m'\u001b[39;49m\u001b[39mA1\u001b[39;49m\u001b[39m'\u001b[39;49m, \u001b[39m'\u001b[39;49m\u001b[39mB1\u001b[39;49m\u001b[39m'\u001b[39;49m): (\u001b[39m1\u001b[39;49m, \u001b[39m1\u001b[39;49m), \n\u001b[1;32m      <a href='vscode-notebook-cell:/Users/martin/Documents/GitHub/112-2-programming-for-economic-modeling/ipynb/week-4-1.ipynb#X44sZmlsZQ%3D%3D?line=5'>6</a>\u001b[0m                 (\u001b[39m'\u001b[39;49m\u001b[39mA1\u001b[39;49m\u001b[39m'\u001b[39;49m, \u001b[39m'\u001b[39;49m\u001b[39mB2\u001b[39;49m\u001b[39m'\u001b[39;49m): (\u001b[39m0\u001b[39;49m, \u001b[39m0\u001b[39;49m), \n\u001b[1;32m      <a href='vscode-notebook-cell:/Users/martin/Documents/GitHub/112-2-programming-for-economic-modeling/ipynb/week-4-1.ipynb#X44sZmlsZQ%3D%3D?line=6'>7</a>\u001b[0m                 (\u001b[39m'\u001b[39;49m\u001b[39mA2\u001b[39;49m\u001b[39m'\u001b[39;49m, \u001b[39m'\u001b[39;49m\u001b[39mB1\u001b[39;49m\u001b[39m'\u001b[39;49m): (\u001b[39m0\u001b[39;49m, \u001b[39m0\u001b[39;49m), \n\u001b[1;32m      <a href='vscode-notebook-cell:/Users/martin/Documents/GitHub/112-2-programming-for-economic-modeling/ipynb/week-4-1.ipynb#X44sZmlsZQ%3D%3D?line=7'>8</a>\u001b[0m                 (\u001b[39m'\u001b[39;49m\u001b[39mA2\u001b[39;49m\u001b[39m'\u001b[39;49m, \u001b[39m'\u001b[39;49m\u001b[39mB2\u001b[39;49m\u001b[39m'\u001b[39;49m): (\u001b[39m2\u001b[39;49m, \u001b[39m2\u001b[39;49m)\n\u001b[1;32m      <a href='vscode-notebook-cell:/Users/martin/Documents/GitHub/112-2-programming-for-economic-modeling/ipynb/week-4-1.ipynb#X44sZmlsZQ%3D%3D?line=8'>9</a>\u001b[0m             }, cloud \u001b[39m=\u001b[39;49m \u001b[39mTrue\u001b[39;49;00m)\n",
      "\u001b[0;31mTypeError\u001b[0m: Game.__init__() got an unexpected keyword argument 'cloud'"
     ]
    }
   ],
   "source": [
    "# one way to start a game\n",
    "playerA = Player(\"A\", [\"A1\", \"A2\"])\n",
    "playerB = Player(\"B\", [\"B1\", \"B2\"])\n",
    "game = Game(playerA, playerB, {\n",
    "                ('A1', 'B1'): (1, 1), \n",
    "                ('A1', 'B2'): (0, 0), \n",
    "                ('A2', 'B1'): (0, 0), \n",
    "                ('A2', 'B2'): (2, 2)\n",
    "            }, cloud = True)\n"
   ]
  },
  {
   "cell_type": "markdown",
   "metadata": {},
   "source": [
    "- `cloud = True`: the app is deployed on the cloud, so the `gameId` is generated by the app.\n",
    "- Extra features:  \n",
    "    - `gameId` attribute: `Game.gameId`  \n",
    "\n",
    "Two separate players can play the game by entering the `gameId`:"
   ]
  },
  {
   "cell_type": "code",
   "execution_count": null,
   "metadata": {},
   "outputs": [],
   "source": [
    "# player 1 in his/her computer\n",
    "game = Game(gameId=\"{gameId}\")\n",
    "player1 = game.players[0]\n",
    "\n",
    "# player 1 plays\n",
    "player1.play(\"A1\")"
   ]
  },
  {
   "cell_type": "code",
   "execution_count": null,
   "metadata": {},
   "outputs": [],
   "source": [
    "# player 2 in his/her computer\n",
    "game = Game(gameId=\"{gameId}\")\n",
    "player2 = game.players[1]\n",
    "\n",
    "# player 2 plays\n",
    "player2.play(\"B1\")"
   ]
  },
  {
   "cell_type": "code",
   "execution_count": null,
   "metadata": {},
   "outputs": [],
   "source": [
    "# both players can check their payoff of the latest round\n",
    "game.payoff(n=0)\n",
    "\n",
    "# both players can check their payoff of the second to the last round\n",
    "game.payoff(n=1)\n",
    "\n",
    "# both players can check their payoff of every round\n",
    "game.payoff(n=-1)"
   ]
  },
  {
   "cell_type": "code",
   "execution_count": null,
   "metadata": {},
   "outputs": [
    {
     "data": {
      "text/plain": [
       "['A', 'B']"
      ]
     },
     "execution_count": 24,
     "metadata": {},
     "output_type": "execute_result"
    }
   ],
   "source": [
    "# take out name attribute from each value in game.players\n",
    "# and put them into a list\n",
    "[player.name for player in game.players]"
   ]
  },
  {
   "cell_type": "code",
   "execution_count": null,
   "metadata": {},
   "outputs": [],
   "source": [
    "playerA = GameApp(\"game-id\", \"player name\")"
   ]
  },
  {
   "cell_type": "code",
   "execution_count": null,
   "metadata": {},
   "outputs": [],
   "source": [
    "playerA.play(\"A1\")"
   ]
  },
  {
   "cell_type": "code",
   "execution_count": 1,
   "metadata": {
    "tags": [
     "game-module"
    ]
   },
   "outputs": [
    {
     "name": "stdout",
     "output_type": "stream",
     "text": [
      "/Users/martin/Documents/GitHub/112-2-programming-for-economic-modeling/ipynb\n",
      "File ID: 1pkO_bElj2qS5scpHkTPtavyI4abxTZHl\n",
      "File ID: 1e85SCJkDJMU2cO-zBWCAyMjwJ5R5vMNR\n"
     ]
    }
   ],
   "source": [
    "from py.game.twoByN import *\n",
    "\n",
    "\n",
    "playerA = Player(\"A\", [\"A1\", \"A2\"])\n",
    "playerB = Player(\"B\", [\"B1\", \"B2\"])\n",
    "game = Game(playerA, playerB, {\n",
    "                ('A1', 'B1'): (1, 1), \n",
    "                ('A1', 'B2'): (0, 0), \n",
    "                ('A2', 'B1'): (0, 0), \n",
    "                ('A2', 'B2'): (2, 2)\n",
    "            }, cloud=True)\n"
   ]
  },
  {
   "cell_type": "code",
   "execution_count": 2,
   "metadata": {},
   "outputs": [
    {
     "data": {
      "text/plain": [
       "('r0d41faa8', 'p7bb2', 'p66c7')"
      ]
     },
     "execution_count": 2,
     "metadata": {},
     "output_type": "execute_result"
    }
   ],
   "source": [
    "game.gameId, game.players[0].playerId, game.players[1].playerId"
   ]
  },
  {
   "cell_type": "code",
   "execution_count": 1,
   "metadata": {},
   "outputs": [
    {
     "name": "stdout",
     "output_type": "stream",
     "text": [
      "Files:\n",
      "r0d41faa8 (1pkO_bElj2qS5scpHkTPtavyI4abxTZHl)\n",
      "game.json (1CND6IOX5aGHBJH5_t-o0ktAUWXCjEEqt)\n",
      "fbeEEcFAa (12ZIXQSBrp5H_5NrSuX1h_s71S1uAkjog)\n",
      "vcb19ffEA (1l5dDi4-XyX_VZVQBWabPA_B01H-qC4yg)\n",
      "tBbB6c906 (1bdJEHVCY5J1niYU2L1tHVcuZDfFx13zz)\n",
      "s5D64aB95 (1pjR7ibBtoWbPvnqE1lvYxeLrRNCXjBr1)\n",
      "sAD14BA62 (1cd_3KayCGmMW4Il0tLhzfwCoHEx0P4hQ)\n",
      "L3AEC3ABc (1hR4xd1V6a5CwxvivGBi4f1aHT052whSG)\n",
      "PfE2E51cb (1F4wylZJY-ViL8pm-aVSkbggGww9L99kL)\n",
      "t1Fd6eE9B (1I8IqndAN6OPWvw3gqo84M12ovWR2S2X0)\n",
      "xF6CBD6D6 (1ocTmhKzzPvta1RZZJE_CR1ho5NCZ1VlX)\n",
      "e44DFe4d8 (1gEvtRuKrxBjnF3VN2TBVlmSZkj1gKImm)\n",
      "G3a5AD743 (11lNqSb7tNyUrOLZBulZSB2UK8uZ_MB8F)\n",
      "test.json (1JGNPfWGwnexWbKTVSWIFYxRUFo9-Akhg)\n",
      "test.json1EdMkDrkSRATLiYMhjnn0Mk2_JFRzsx46 (1vNJgO7qsqsjdIJhNN_bA0GhJx15D_96P)\n",
      "g001 (1fRdWFMnsuN3oZ3erO1zm1p6ITzC7DJBD)\n",
      "subdir (1M72YchId5rO82uWhDXYsMvj2rPDmteXy)\n",
      "gameInfo-2.json (1knoXus9tgzNCSdf8Ovw6i0SKpHtspV95)\n"
     ]
    }
   ],
   "source": [
    "import py.google.upload as gd\n",
    "\n",
    "items = gd.list_files(\"1EdMkDrkSRATLiYMhjnn0Mk2_JFRzsx46\")"
   ]
  },
  {
   "cell_type": "code",
   "execution_count": 2,
   "metadata": {},
   "outputs": [],
   "source": [
    "# find the first item that satisfies the condition\n",
    "item = next(item for item in items if item['name'] == 'r0d41faa8')"
   ]
  },
  {
   "cell_type": "markdown",
   "metadata": {},
   "source": [
    "item"
   ]
  },
  {
   "cell_type": "markdown",
   "metadata": {},
   "source": [
    "## What to save in the cloud"
   ]
  },
  {
   "cell_type": "code",
   "execution_count": null,
   "metadata": {},
   "outputs": [],
   "source": [
    "game = Game(playerA, playerB, {\n",
    "                ('A1', 'B1'): (1, 1), \n",
    "                ('A1', 'B2'): (0, 0), \n",
    "                ('A2', 'B1'): (0, 0), \n",
    "                ('A2', 'B2'): (2, 2)\n",
    "            }, cloud = True)"
   ]
  },
  {
   "cell_type": "code",
   "execution_count": 22,
   "metadata": {},
   "outputs": [
    {
     "name": "stdout",
     "output_type": "stream",
     "text": [
      "File ID: 1JGNPfWGwnexWbKTVSWIFYxRUFo9-Akhg\n"
     ]
    },
    {
     "data": {
      "text/plain": [
       "{'id': '1JGNPfWGwnexWbKTVSWIFYxRUFo9-Akhg'}"
      ]
     },
     "execution_count": 22,
     "metadata": {},
     "output_type": "execute_result"
    }
   ],
   "source": [
    "import py.google.upload as gd\n",
    "\n"
   ]
  },
  {
   "cell_type": "markdown",
   "metadata": {},
   "source": [
    "## 1 Game class with cloud storage\n",
    "\n",
    "We want to store the game instance in the cloud so that players can join the game from different computers.\n",
    "\n",
    "When we created `game`, we want three files to be created in the cloud:\n",
    "\n",
    "* `{player name}.json`: Two files for two players. Each file contains the player's attributes (`name` and `strategy_space`, `played_strategy`).  \n",
    "* `payoffMatrix.json`: The payoff matrix of the game.\n",
    "\n",
    "We choose Google drive as our cloud storage. We use `PyDrive` to access Google drive. \n"
   ]
  },
  {
   "cell_type": "markdown",
   "metadata": {},
   "source": [
    "## 2 Player class with cloud storage\n",
    "\n",
    "We want to store the player instance in the cloud so that players can join the game from different computers. We use `pickle` to serialize the player instance and store it in the cloud.\n"
   ]
  },
  {
   "cell_type": "markdown",
   "metadata": {},
   "source": [
    "# TBC"
   ]
  },
  {
   "cell_type": "code",
   "execution_count": 88,
   "metadata": {},
   "outputs": [],
   "source": [
    "gameInfo = {\n",
    "    \"gameId\": game.gameId,\n",
    "    \"player1\": {\n",
    "        \"name\": game.player1.name,\n",
    "        \"strategies\": game.player1.strategies,\n",
    "        \"played_strategy\": game.player1.played_strategy\n",
    "    },\n",
    "    \"player2\": {\n",
    "        \"name\": game.player2.name,\n",
    "        \"strategies\": game.player2.strategies,\n",
    "        \"played_strategy\": game.player2.played_strategy\n",
    "    },\n",
    "    \"payoffMatrix\": game.payoffMatrix\n",
    "}"
   ]
  },
  {
   "cell_type": "code",
   "execution_count": 89,
   "metadata": {},
   "outputs": [
    {
     "ename": "TypeError",
     "evalue": "keys must be str, int, float, bool or None, not tuple",
     "output_type": "error",
     "traceback": [
      "\u001b[0;31m---------------------------------------------------------------------------\u001b[0m",
      "\u001b[0;31mTypeError\u001b[0m                                 Traceback (most recent call last)",
      "\u001b[1;32m/Users/martin/Documents/GitHub/112-2-programming-for-economic-modeling/ipynb/week-4-1.ipynb Cell 17\u001b[0m line \u001b[0;36m3\n\u001b[1;32m      <a href='vscode-notebook-cell:/Users/martin/Documents/GitHub/112-2-programming-for-economic-modeling/ipynb/week-4-1.ipynb#X53sZmlsZQ%3D%3D?line=0'>1</a>\u001b[0m \u001b[39mimport\u001b[39;00m \u001b[39mjson\u001b[39;00m\n\u001b[1;32m      <a href='vscode-notebook-cell:/Users/martin/Documents/GitHub/112-2-programming-for-economic-modeling/ipynb/week-4-1.ipynb#X53sZmlsZQ%3D%3D?line=1'>2</a>\u001b[0m \u001b[39mwith\u001b[39;00m \u001b[39mopen\u001b[39m(\u001b[39m'\u001b[39m\u001b[39mgame-1.json\u001b[39m\u001b[39m'\u001b[39m, \u001b[39m'\u001b[39m\u001b[39mw\u001b[39m\u001b[39m'\u001b[39m) \u001b[39mas\u001b[39;00m f:\n\u001b[0;32m----> <a href='vscode-notebook-cell:/Users/martin/Documents/GitHub/112-2-programming-for-economic-modeling/ipynb/week-4-1.ipynb#X53sZmlsZQ%3D%3D?line=2'>3</a>\u001b[0m     json\u001b[39m.\u001b[39;49mdump(gameInfo, f, indent\u001b[39m=\u001b[39;49m\u001b[39m4\u001b[39;49m)\n",
      "File \u001b[0;32m/Library/Frameworks/Python.framework/Versions/3.11/lib/python3.11/json/__init__.py:179\u001b[0m, in \u001b[0;36mdump\u001b[0;34m(obj, fp, skipkeys, ensure_ascii, check_circular, allow_nan, cls, indent, separators, default, sort_keys, **kw)\u001b[0m\n\u001b[1;32m    173\u001b[0m     iterable \u001b[39m=\u001b[39m \u001b[39mcls\u001b[39m(skipkeys\u001b[39m=\u001b[39mskipkeys, ensure_ascii\u001b[39m=\u001b[39mensure_ascii,\n\u001b[1;32m    174\u001b[0m         check_circular\u001b[39m=\u001b[39mcheck_circular, allow_nan\u001b[39m=\u001b[39mallow_nan, indent\u001b[39m=\u001b[39mindent,\n\u001b[1;32m    175\u001b[0m         separators\u001b[39m=\u001b[39mseparators,\n\u001b[1;32m    176\u001b[0m         default\u001b[39m=\u001b[39mdefault, sort_keys\u001b[39m=\u001b[39msort_keys, \u001b[39m*\u001b[39m\u001b[39m*\u001b[39mkw)\u001b[39m.\u001b[39miterencode(obj)\n\u001b[1;32m    177\u001b[0m \u001b[39m# could accelerate with writelines in some versions of Python, at\u001b[39;00m\n\u001b[1;32m    178\u001b[0m \u001b[39m# a debuggability cost\u001b[39;00m\n\u001b[0;32m--> 179\u001b[0m \u001b[39mfor\u001b[39;00m chunk \u001b[39min\u001b[39;00m iterable:\n\u001b[1;32m    180\u001b[0m     fp\u001b[39m.\u001b[39mwrite(chunk)\n",
      "File \u001b[0;32m/Library/Frameworks/Python.framework/Versions/3.11/lib/python3.11/json/encoder.py:432\u001b[0m, in \u001b[0;36m_make_iterencode.<locals>._iterencode\u001b[0;34m(o, _current_indent_level)\u001b[0m\n\u001b[1;32m    430\u001b[0m     \u001b[39myield from\u001b[39;00m _iterencode_list(o, _current_indent_level)\n\u001b[1;32m    431\u001b[0m \u001b[39melif\u001b[39;00m \u001b[39misinstance\u001b[39m(o, \u001b[39mdict\u001b[39m):\n\u001b[0;32m--> 432\u001b[0m     \u001b[39myield from\u001b[39;00m _iterencode_dict(o, _current_indent_level)\n\u001b[1;32m    433\u001b[0m \u001b[39melse\u001b[39;00m:\n\u001b[1;32m    434\u001b[0m     \u001b[39mif\u001b[39;00m markers \u001b[39mis\u001b[39;00m \u001b[39mnot\u001b[39;00m \u001b[39mNone\u001b[39;00m:\n",
      "File \u001b[0;32m/Library/Frameworks/Python.framework/Versions/3.11/lib/python3.11/json/encoder.py:406\u001b[0m, in \u001b[0;36m_make_iterencode.<locals>._iterencode_dict\u001b[0;34m(dct, _current_indent_level)\u001b[0m\n\u001b[1;32m    404\u001b[0m         \u001b[39melse\u001b[39;00m:\n\u001b[1;32m    405\u001b[0m             chunks \u001b[39m=\u001b[39m _iterencode(value, _current_indent_level)\n\u001b[0;32m--> 406\u001b[0m         \u001b[39myield from\u001b[39;00m chunks\n\u001b[1;32m    407\u001b[0m \u001b[39mif\u001b[39;00m newline_indent \u001b[39mis\u001b[39;00m \u001b[39mnot\u001b[39;00m \u001b[39mNone\u001b[39;00m:\n\u001b[1;32m    408\u001b[0m     _current_indent_level \u001b[39m-\u001b[39m\u001b[39m=\u001b[39m \u001b[39m1\u001b[39m\n",
      "File \u001b[0;32m/Library/Frameworks/Python.framework/Versions/3.11/lib/python3.11/json/encoder.py:377\u001b[0m, in \u001b[0;36m_make_iterencode.<locals>._iterencode_dict\u001b[0;34m(dct, _current_indent_level)\u001b[0m\n\u001b[1;32m    375\u001b[0m     \u001b[39mcontinue\u001b[39;00m\n\u001b[1;32m    376\u001b[0m \u001b[39melse\u001b[39;00m:\n\u001b[0;32m--> 377\u001b[0m     \u001b[39mraise\u001b[39;00m \u001b[39mTypeError\u001b[39;00m(\u001b[39mf\u001b[39m\u001b[39m'\u001b[39m\u001b[39mkeys must be str, int, float, bool or None, \u001b[39m\u001b[39m'\u001b[39m\n\u001b[1;32m    378\u001b[0m                     \u001b[39mf\u001b[39m\u001b[39m'\u001b[39m\u001b[39mnot \u001b[39m\u001b[39m{\u001b[39;00mkey\u001b[39m.\u001b[39m\u001b[39m__class__\u001b[39m\u001b[39m.\u001b[39m\u001b[39m__name__\u001b[39m\u001b[39m}\u001b[39;00m\u001b[39m'\u001b[39m)\n\u001b[1;32m    379\u001b[0m \u001b[39mif\u001b[39;00m first:\n\u001b[1;32m    380\u001b[0m     first \u001b[39m=\u001b[39m \u001b[39mFalse\u001b[39;00m\n",
      "\u001b[0;31mTypeError\u001b[0m: keys must be str, int, float, bool or None, not tuple"
     ]
    }
   ],
   "source": [
    "import json\n",
    "with open('game-1.json', 'w') as f:\n",
    "    json.dump(gameInfo, f, indent=4)"
   ]
  },
  {
   "cell_type": "markdown",
   "metadata": {},
   "source": [
    "* TypeError: keys must be str, int, float, bool or None, not tuple"
   ]
  },
  {
   "cell_type": "code",
   "execution_count": 81,
   "metadata": {},
   "outputs": [
    {
     "data": {
      "text/plain": [
       "{\"('A1', 'B1')\": (1, 1),\n",
       " \"('A1', 'B2')\": (0, 0),\n",
       " \"('A2', 'B1')\": (0, 0),\n",
       " \"('A2', 'B2')\": (2, 2)}"
      ]
     },
     "execution_count": 81,
     "metadata": {},
     "output_type": "execute_result"
    }
   ],
   "source": [
    "payoffMatrix = {\n",
    "    (\"A1\", \"B1\"): (1, 1),\n",
    "    (\"A1\", \"B2\"): (0, 0),\n",
    "    (\"A2\", \"B1\"): (0, 0),\n",
    "    (\"A2\", \"B2\"): (2, 2)\n",
    "}\n",
    "# change payoffMatrix keys to be strings\n",
    "payoffMatrix2 = {str(k):v for k,v in payoffMatrix.items()}\n",
    "payoffMatrix2\n"
   ]
  },
  {
   "cell_type": "code",
   "execution_count": 90,
   "metadata": {},
   "outputs": [],
   "source": [
    "def stringfy_keys(d):\n",
    "    return {str(k):v for k,v in d.items()}\n",
    "\n",
    "gameInfo = {\n",
    "    \"gameId\": game.gameId,\n",
    "    \"player1\": {\n",
    "        \"name\": game.player1.name,\n",
    "        \"strategies\": game.player1.strategies,\n",
    "        \"played_strategy\": game.player1.played_strategy\n",
    "    },\n",
    "    \"player2\": {\n",
    "        \"name\": game.player2.name,\n",
    "        \"strategies\": game.player2.strategies,\n",
    "        \"played_strategy\": game.player2.played_strategy\n",
    "    },\n",
    "    \"payoffMatrix\": stringfy_keys(game.payoffMatrix)\n",
    "}"
   ]
  },
  {
   "cell_type": "code",
   "execution_count": 92,
   "metadata": {},
   "outputs": [],
   "source": [
    "# to save gameInfo as json  \n",
    "import json\n",
    "with open('gameInfo.json', 'w') as fp:\n",
    "    json.dump(gameInfo, fp)"
   ]
  },
  {
   "cell_type": "markdown",
   "metadata": {},
   "source": [
    "# Google drive API\n",
    "\n",
    "Follow quickstart to setup the environment:\n",
    "* [quick start](https://developers.google.com/drive/api/v3/quickstart/python)\n",
    "\n",
    "[Google Drive API PyDoc documentation](https://developers.google.com/resources/api-libraries/documentation/drive/v3/python/latest/index.html)"
   ]
  },
  {
   "cell_type": "code",
   "execution_count": 57,
   "metadata": {},
   "outputs": [
    {
     "data": {
      "text/plain": [
       "('A2', 'B1')"
      ]
     },
     "execution_count": 57,
     "metadata": {},
     "output_type": "execute_result"
    }
   ],
   "source": [
    "playerA.play(\"A2\")\n",
    "playerB.play(\"B1\")\n",
    "\n",
    "game.player1.played_strategy, game.player2.played_strategy"
   ]
  },
  {
   "cell_type": "code",
   "execution_count": 58,
   "metadata": {},
   "outputs": [
    {
     "data": {
      "text/plain": [
       "(1, 1)"
      ]
     },
     "execution_count": 58,
     "metadata": {},
     "output_type": "execute_result"
    }
   ],
   "source": [
    "playerA.play(\"A1\")\n",
    "playerB.play(\"B1\")\n",
    "game.payoff_withPlayedStrategies()"
   ]
  },
  {
   "cell_type": "code",
   "execution_count": 53,
   "metadata": {},
   "outputs": [
    {
     "data": {
      "text/plain": [
       "(0, 0)"
      ]
     },
     "execution_count": 53,
     "metadata": {},
     "output_type": "execute_result"
    }
   ],
   "source": [
    "playerA.play(\"A2\")\n",
    "playerB.play(\"B1\")\n",
    "game.payoff_withPlayedStrategies()"
   ]
  },
  {
   "cell_type": "code",
   "execution_count": 59,
   "metadata": {},
   "outputs": [
    {
     "data": {
      "text/plain": [
       "<__main__.Player at 0x11218fc90>"
      ]
     },
     "execution_count": 59,
     "metadata": {},
     "output_type": "execute_result"
    }
   ],
   "source": [
    "{\n",
    "    gameId: \"238f9x\",\n",
    "    playedStrategies: {\n",
    "        \"A\": \"A1\",\n",
    "        \"B\": \"B2\"\n",
    "    }\n",
    "}\n"
   ]
  }
 ],
 "metadata": {
  "kernelspec": {
   "display_name": ".venv",
   "language": "python",
   "name": "python3"
  },
  "language_info": {
   "codemirror_mode": {
    "name": "ipython",
    "version": 3
   },
   "file_extension": ".py",
   "mimetype": "text/x-python",
   "name": "python",
   "nbconvert_exporter": "python",
   "pygments_lexer": "ipython3",
   "version": "3.11.5"
  },
  "orig_nbformat": 4
 },
 "nbformat": 4,
 "nbformat_minor": 2
}
