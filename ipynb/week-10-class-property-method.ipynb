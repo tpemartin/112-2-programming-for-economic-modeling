{
 "cells": [
  {
   "cell_type": "markdown",
   "metadata": {},
   "source": [
    "# Game Object\n",
    "\n",
    "In Game Theory, a game can be presented in two forms: normal form and extensive form. Normal form is a matrix, while extensive form is a tree. In this class, we will focus on normal form games.\n",
    "\n",
    "Here we only focus on \n",
    "\n",
    "  - 2 players game\n",
    "  - Its payoff matrix (i.e. its normal form) can be presented as a 2 dimensional matrix\n",
    "    - Each player has a finite number of pure strategies\n",
    "\n",
    "## Prisoner's Dilemma \n",
    "\n",
    "An example is\n",
    "\n",
    "  - 2 players: Alice (row player) and Bob (column player)\n",
    "  - Each player has 2 pure strategies: cooperate (C) and defect (D)\n",
    "  - The payoff matrix is\n",
    "  \n",
    "  | | C | D |\n",
    "  | --- | --- | --- |\n",
    "  | C | -1, -1 | -3, 0 |\n",
    "  | D | 0, -3 | -2, -2 |\n",
    "  "
   ]
  },
  {
   "cell_type": "code",
   "execution_count": 68,
   "metadata": {},
   "outputs": [],
   "source": [
    "alice = Player(\"Alice\", ['C', 'D'])\n",
    "bob = Player(\"Bob\", ['C', 'D'])\n",
    "payoffMatrix = {\n",
    "    ('C', 'C'): (-1, -1),\n",
    "    ('C', 'D'): (-3, 0),\n",
    "    ('D', 'C'): (0, -3),\n",
    "    ('D', 'D'): (-2, -2)\n",
    "}\n",
    "def payoff_func(strategies: tuple[str, str]) -> tuple[float, float]:\n",
    "    return payoffMatrix[strategies]"
   ]
  },
  {
   "cell_type": "code",
   "execution_count": 69,
   "metadata": {},
   "outputs": [
    {
     "data": {
      "text/plain": [
       "'C'"
      ]
     },
     "execution_count": 69,
     "metadata": {},
     "output_type": "execute_result"
    }
   ],
   "source": [
    "alice.name\n",
    "alice.strategies # show pure strategies of Alice\n",
    "alice.played_strategy # show played strategy of Alice, None by default\n",
    "alice.play('C')\n",
    "alice.played_strategy # show 'C'"
   ]
  },
  {
   "cell_type": "markdown",
   "metadata": {},
   "source": [
    "### Player class"
   ]
  },
  {
   "cell_type": "markdown",
   "metadata": {},
   "source": [
    "#### A prototype"
   ]
  },
  {
   "cell_type": "code",
   "execution_count": 71,
   "metadata": {},
   "outputs": [],
   "source": [
    "# Start from a prototype of only properties\n",
    "\n",
    "class Player:\n",
    "    def __init__(self, name: str, strategies: list[str]):\n",
    "        self.name = name\n",
    "        self.strategies = strategies\n",
    "        self.played_strategy = None\n",
    "    def play(self, played_strategy):\n",
    "        pass\n"
   ]
  },
  {
   "cell_type": "markdown",
   "metadata": {},
   "source": [
    "#### Design play method helper"
   ]
  },
  {
   "cell_type": "code",
   "execution_count": 72,
   "metadata": {},
   "outputs": [],
   "source": [
    "player = Player(\"Alice\", ['C', 'D'])"
   ]
  },
  {
   "cell_type": "code",
   "execution_count": null,
   "metadata": {},
   "outputs": [],
   "source": [
    "# play method has one input, called played_strategy for example\n",
    "played_strategy = \"C\"\n",
    "\n",
    "# we want the following to happen\n",
    "## Anything you want to happen under the hood\n",
    "player.played_strategy = played_strategy\n"
   ]
  },
  {
   "cell_type": "markdown",
   "metadata": {},
   "source": [
    "> Wrap up above to a `play_method` helper function with first input `player`, and `played_strategy` as the second input."
   ]
  },
  {
   "cell_type": "code",
   "execution_count": null,
   "metadata": {},
   "outputs": [],
   "source": [
    "def play_method(play, played_strategy):\n",
    "    play.played_strategy = played_strategy"
   ]
  },
  {
   "cell_type": "markdown",
   "metadata": {},
   "source": [
    "#### Attach helper to the class"
   ]
  },
  {
   "cell_type": "code",
   "execution_count": 73,
   "metadata": {},
   "outputs": [],
   "source": [
    "class Player:\n",
    "    def __init__(self, name: str, strategies: list[str]):\n",
    "        self.name = name\n",
    "        self.strategies = strategies\n",
    "        self.played_strategy = None\n",
    "    def play(self, played_strategy):\n",
    "        play_method(self, played_strategy)\n",
    "\n",
    "# helper functions\n",
    "def play_method(play, played_strategy):\n",
    "    play.played_strategy = played_strategy"
   ]
  },
  {
   "cell_type": "markdown",
   "metadata": {},
   "source": [
    "### Game class"
   ]
  },
  {
   "cell_type": "code",
   "execution_count": 74,
   "metadata": {},
   "outputs": [],
   "source": [
    "game = Game(alice, bob, payoff_func)"
   ]
  },
  {
   "cell_type": "code",
   "execution_count": 75,
   "metadata": {},
   "outputs": [
    {
     "data": {
      "text/plain": [
       "(-3, 0)"
      ]
     },
     "execution_count": 75,
     "metadata": {},
     "output_type": "execute_result"
    }
   ],
   "source": [
    "game.payoff_function # show payoff_function\n",
    "game.players # show [alice, bob]\n",
    "\n",
    "# method payoff\n",
    "## after\n",
    "alice.play('C')\n",
    "bob.play('D')\n",
    "## we can compute payoff\n",
    "game.payoff() # show "
   ]
  },
  {
   "cell_type": "markdown",
   "metadata": {},
   "source": [
    "#### A prototype"
   ]
  },
  {
   "cell_type": "code",
   "execution_count": 80,
   "metadata": {},
   "outputs": [],
   "source": [
    "class Game:\n",
    "    def __init__(self, player1, player2, payoff_function):\n",
    "        self.players = [player1, player2]\n",
    "        self.payoff_function = payoff_function\n",
    "    def payoff(self):\n",
    "        pass"
   ]
  },
  {
   "cell_type": "code",
   "execution_count": 81,
   "metadata": {},
   "outputs": [],
   "source": [
    "game = Game(alice, bob, payoff_func)"
   ]
  },
  {
   "cell_type": "markdown",
   "metadata": {},
   "source": [
    "#### Design payoff helper"
   ]
  },
  {
   "cell_type": "code",
   "execution_count": 83,
   "metadata": {},
   "outputs": [
    {
     "data": {
      "text/plain": [
       "(-3, 0)"
      ]
     },
     "execution_count": 83,
     "metadata": {},
     "output_type": "execute_result"
    }
   ],
   "source": [
    "## after\n",
    "alice.play('C')\n",
    "bob.play('D')\n",
    "\n",
    "## compute payoff\n",
    "strategies = game.players[0].played_strategy, game.players[1].played_strategy\n",
    "game.payoff_function(strategies)"
   ]
  },
  {
   "cell_type": "code",
   "execution_count": null,
   "metadata": {},
   "outputs": [],
   "source": [
    "# helper function\n",
    "def payoff(game):\n",
    "    strategies = game.players[0].played_strategy, game.players[1].played_strategy\n",
    "    return game.payoff_function(strategies)\n"
   ]
  },
  {
   "cell_type": "markdown",
   "metadata": {},
   "source": [
    "#### Attach helper to the class"
   ]
  },
  {
   "cell_type": "code",
   "execution_count": 84,
   "metadata": {},
   "outputs": [],
   "source": [
    "class Game:\n",
    "    def __init__(self, player1, player2, payoff_function):\n",
    "        self.players = [player1, player2]\n",
    "        self.payoff_function = payoff_function\n",
    "    def payoff(self):\n",
    "        payoff(self)\n",
    "\n",
    "# helper function\n",
    "def payoff(game):\n",
    "    strategies = game.players[0].played_strategy, game.players[1].played_strategy\n",
    "    return game.payoff_function(strategies)\n"
   ]
  },
  {
   "cell_type": "markdown",
   "metadata": {},
   "source": [
    "## Complete Game class"
   ]
  },
  {
   "cell_type": "markdown",
   "metadata": {},
   "source": [
    "### Beta version"
   ]
  },
  {
   "cell_type": "code",
   "execution_count": 85,
   "metadata": {},
   "outputs": [],
   "source": [
    "class Player:\n",
    "    def __init__(self, name: str, strategies: list[str]):\n",
    "        self.name = name\n",
    "        self.strategies = strategies\n",
    "        self.played_strategy = None\n",
    "    def play(self, played_strategy):\n",
    "        play_method(self, played_strategy)\n",
    "\n",
    "class Game:\n",
    "    def __init__(self, player1, player2, payoff_function):\n",
    "        self.players = [player1, player2]\n",
    "        self.payoff_function = payoff_function\n",
    "    def payoff(self):\n",
    "        payoff(self)\n",
    "\n",
    "# helper function\n",
    "def payoff(game):\n",
    "    strategies = game.players[0].played_strategy, game.players[1].played_strategy\n",
    "    return game.payoff_function(strategies)\n",
    "\n",
    "def play_method(play, played_strategy):\n",
    "    play.played_strategy = played_strategy"
   ]
  },
  {
   "cell_type": "markdown",
   "metadata": {},
   "source": [
    "### Validate Played Strategy"
   ]
  },
  {
   "cell_type": "code",
   "execution_count": 89,
   "metadata": {},
   "outputs": [],
   "source": [
    "player = Player(\"Alice\", ['C', 'D'])\n"
   ]
  },
  {
   "cell_type": "code",
   "execution_count": 92,
   "metadata": {},
   "outputs": [
    {
     "ename": "ValueError",
     "evalue": "Invalid strategy",
     "output_type": "error",
     "traceback": [
      "\u001b[0;31m---------------------------------------------------------------------------\u001b[0m",
      "\u001b[0;31mValueError\u001b[0m                                Traceback (most recent call last)",
      "\u001b[1;32m/Users/martin/Documents/GitHub/112-2-programming-for-economic-modeling/ipynb/week-10-class-property-method.ipynb Cell 31\u001b[0m line \u001b[0;36m4\n\u001b[1;32m      <a href='vscode-notebook-cell:/Users/martin/Documents/GitHub/112-2-programming-for-economic-modeling/ipynb/week-10-class-property-method.ipynb#Y106sZmlsZQ%3D%3D?line=0'>1</a>\u001b[0m played_strategy \u001b[39m=\u001b[39m \u001b[39m\"\u001b[39m\u001b[39mM\u001b[39m\u001b[39m\"\u001b[39m\n\u001b[1;32m      <a href='vscode-notebook-cell:/Users/martin/Documents/GitHub/112-2-programming-for-economic-modeling/ipynb/week-10-class-property-method.ipynb#Y106sZmlsZQ%3D%3D?line=2'>3</a>\u001b[0m \u001b[39mif\u001b[39;00m played_strategy \u001b[39mnot\u001b[39;00m \u001b[39min\u001b[39;00m player\u001b[39m.\u001b[39mstrategies:\n\u001b[0;32m----> <a href='vscode-notebook-cell:/Users/martin/Documents/GitHub/112-2-programming-for-economic-modeling/ipynb/week-10-class-property-method.ipynb#Y106sZmlsZQ%3D%3D?line=3'>4</a>\u001b[0m     \u001b[39mraise\u001b[39;00m \u001b[39mValueError\u001b[39;00m(\u001b[39m\"\u001b[39m\u001b[39mInvalid strategy\u001b[39m\u001b[39m\"\u001b[39m)\n\u001b[1;32m      <a href='vscode-notebook-cell:/Users/martin/Documents/GitHub/112-2-programming-for-economic-modeling/ipynb/week-10-class-property-method.ipynb#Y106sZmlsZQ%3D%3D?line=4'>5</a>\u001b[0m \u001b[39melse\u001b[39;00m:\n\u001b[1;32m      <a href='vscode-notebook-cell:/Users/martin/Documents/GitHub/112-2-programming-for-economic-modeling/ipynb/week-10-class-property-method.ipynb#Y106sZmlsZQ%3D%3D?line=5'>6</a>\u001b[0m     player\u001b[39m.\u001b[39mplayed_strategy \u001b[39m=\u001b[39m played_strategy\n",
      "\u001b[0;31mValueError\u001b[0m: Invalid strategy"
     ]
    }
   ],
   "source": [
    "played_strategy = \"M\"\n",
    "\n",
    "if played_strategy not in player.strategies:\n",
    "    raise ValueError(\"Invalid strategy\")\n",
    "else:\n",
    "    player.played_strategy = played_strategy\n",
    "\n",
    "\n"
   ]
  },
  {
   "cell_type": "code",
   "execution_count": null,
   "metadata": {},
   "outputs": [],
   "source": [
    "def play_method(player, played_strategy):\n",
    "    if played_strategy not in player.strategies:\n",
    "        raise ValueError(\"Invalid strategy\")\n",
    "    else:\n",
    "        player.played_strategy = played_strategy\n"
   ]
  },
  {
   "cell_type": "markdown",
   "metadata": {},
   "source": [
    "#### Raise an exception\n",
    "\n",
    "When function bounds to fail, we want it to break as soon as possible and given an usefull error message. This can be done in Python through raising an exception. For example, the following function raises an exception when the input value caused the problem.\n",
    "\n",
    "```python\n",
    "raised  {typeOfError}(\"message\")\n",
    "```\n",
    "\n",
    "There are several exceptions in Python. The following are the most common ones.\n",
    "\n",
    "| Exception | Description |\n",
    "| --- | --- |\n",
    "| `TypeError` | Raised when an operation or function is applied to an object of inappropriate type. |\n",
    "| `NameError` | Raised when a local or global name is not found. |\n",
    "| `ZeroDivisionError` | Raised when the second operand of division or modulo operation is zero. |\n",
    "| `IndexError` | Raised when a sequence index is out of range. |\n",
    "| `KeyError` | Raised when a key is not found in a dictionary. |\n",
    "| `ValueError` | Raised when the built-in function for a data type has the valid type of arguments, but the arguments have invalid values specified. |\n",
    "| `AttributeError` | Raised when an attribute reference or assignment fails. |\n"
   ]
  },
  {
   "cell_type": "markdown",
   "metadata": {},
   "source": [
    "### Validate Both played"
   ]
  },
  {
   "cell_type": "code",
   "execution_count": 93,
   "metadata": {},
   "outputs": [],
   "source": [
    "game = Game(alice, bob, payoff_func)"
   ]
  },
  {
   "cell_type": "code",
   "execution_count": null,
   "metadata": {},
   "outputs": [],
   "source": [
    "def payoff(game):\n",
    "    played_strategies = game.players[0].played_strategy, game.players[1].played_strategy\n",
    "    if all(played_strategies):\n",
    "        # if both players have played their strategies\n",
    "        return game.payoff_function(played_strategies)\n",
    "    else:\n",
    "        print(\"Not all players have played their strategies yet.\")\n"
   ]
  },
  {
   "cell_type": "markdown",
   "metadata": {},
   "source": [
    "### Upgrade version"
   ]
  },
  {
   "cell_type": "code",
   "execution_count": 94,
   "metadata": {},
   "outputs": [],
   "source": [
    "class Player:\n",
    "    def __init__(self, name: str, strategies: list[str]):\n",
    "        self.name = name\n",
    "        self.strategies = strategies\n",
    "        self.played_strategy = None\n",
    "    def play(self, played_strategy):\n",
    "        play_method(self, played_strategy)\n",
    "\n",
    "class Game:\n",
    "    def __init__(self, player1, player2, payoff_function):\n",
    "        self.players = [player1, player2]\n",
    "        self.payoff_function = payoff_function\n",
    "    def payoff(self):\n",
    "        payoff(self)\n",
    "\n",
    "# helper function\n",
    "def payoff(game):\n",
    "    played_strategies = game.players[0].played_strategy, game.players[1].played_strategy\n",
    "    if all(played_strategies):\n",
    "        # if both players have played their strategies\n",
    "        return game.payoff_function(played_strategies)\n",
    "    else:\n",
    "        print(\"Not all players have played their strategies yet.\")\n",
    "\n",
    "def play_method(player, played_strategy):\n",
    "    if played_strategy not in player.strategies:\n",
    "        raise ValueError(\"Invalid strategy\")\n",
    "    else:\n",
    "        player.played_strategy = played_strategy\n"
   ]
  },
  {
   "cell_type": "markdown",
   "metadata": {},
   "source": [
    "# Exercise Another Game User Interface\n",
    "\n",
    "  | | C | D |\n",
    "  | --- | --- | --- |\n",
    "  | C | -1, -1 | -3, 0 |\n",
    "  | D | 0, -3 | -2, -2 |"
   ]
  },
  {
   "cell_type": "code",
   "execution_count": null,
   "metadata": {},
   "outputs": [],
   "source": [
    "payoffMatrix1 = [[-1, -3],[0, -2]]\n",
    "payoffMatrix2 = [[-1, 0],[-3, -2]]\n",
    "\n",
    "player1 = Player(\"Alice\", ['C', 'D'])\n",
    "player2 = Player(\"Bob\", ['C', 'D'])\n",
    "\n",
    "game = Game([player1, player2], [payoffMatrix1, payoffMatrix2])"
   ]
  },
  {
   "cell_type": "code",
   "execution_count": null,
   "metadata": {},
   "outputs": [],
   "source": [
    "player1.play('C')\n",
    "player2.play('D')\n",
    "game.payoff()"
   ]
  },
  {
   "cell_type": "markdown",
   "metadata": {},
   "source": [
    "# Complete module file\n",
    "\n",
    "Put the following code in a `.py` file and import `Player` and `Game` into your notebook.\n"
   ]
  },
  {
   "cell_type": "code",
   "execution_count": null,
   "metadata": {},
   "outputs": [],
   "source": [
    "class Player:\n",
    "    def __init__(self, name: str, strategies: list[str]):\n",
    "        self.name = name\n",
    "        self.strategies = strategies\n",
    "        self.played_strategy = None\n",
    "    def play(self, played_strategy):\n",
    "        play_method(self, played_strategy)\n",
    "\n",
    "class Game:\n",
    "    def __init__(self, player1, player2, payoff_function, name=None):\n",
    "        if name:\n",
    "            self.name = name\n",
    "        self.players = [player1, player2]\n",
    "        self.payoff_function = payoff_function\n",
    "    def payoff(self):\n",
    "        payoff(self)\n",
    "\n",
    "# helper function\n",
    "def payoff(game):\n",
    "    played_strategies = game.players[0].played_strategy, game.players[1].played_strategy\n",
    "    if all(played_strategies):\n",
    "        # if both players have played their strategies\n",
    "        return game.payoff_function(played_strategies)\n",
    "    else:\n",
    "        print(\"Not all players have played their strategies yet.\")\n",
    "\n",
    "def play_method(player, played_strategy):\n",
    "    if played_strategy not in player.strategies:\n",
    "        raise ValueError(\"Invalid strategy\")\n",
    "    else:\n",
    "        player.played_strategy = played_strategy"
   ]
  },
  {
   "cell_type": "markdown",
   "metadata": {},
   "source": [
    "If you put it under \n",
    "\n",
    "`/ipynb folder/py/game.py`"
   ]
  },
  {
   "cell_type": "code",
   "execution_count": 1,
   "metadata": {},
   "outputs": [],
   "source": [
    "# reload your vscode\n",
    "from py.game import Game, Player\n",
    "\n",
    "alice = Player(\"Alice\", ['C', 'D'])\n",
    "bob = Player(\"Bob\", ['C', 'D'])\n",
    "payoffMatrix = {\n",
    "    ('C', 'C'): (-1, -1),\n",
    "    ('C', 'D'): (-3, 0),\n",
    "    ('D', 'C'): (0, -3),\n",
    "    ('D', 'D'): (-2, -2)\n",
    "}\n",
    "def payoff_func(strategies: tuple[str, str]) -> tuple[float, float]:\n",
    "    return payoffMatrix[strategies]\n",
    "\n",
    "game = Game(alice, bob, payoff_func)"
   ]
  },
  {
   "cell_type": "markdown",
   "metadata": {},
   "source": [
    "Our Game and Player class can be used as a scalfolding for other games. For organizing purpose, we add flexibility of game name input argument in the `Game` class. \n"
   ]
  },
  {
   "cell_type": "code",
   "execution_count": null,
   "metadata": {},
   "outputs": [],
   "source": [
    "class Game:\n",
    "    def __init__(self, player1, player2, payoff_function, name=None):\n",
    "        if name:\n",
    "            self.name = name\n",
    "        self.players = [player1, player2]\n",
    "        self.payoff_function = payoff_function\n",
    "    def payoff(self):\n",
    "        payoff(self)\n"
   ]
  },
  {
   "cell_type": "code",
   "execution_count": 1,
   "metadata": {},
   "outputs": [],
   "source": [
    "from py.game import Game, Player\n",
    "\n",
    "game_prisoner_dilemma # Prisoner's Dilemma\n",
    "player1 = Player(\"player1\", ['C', 'D'])\n",
    "player2 = Player(\"player2\", ['C', 'D'])\n",
    "payoffMatrix = {\n",
    "    ('C', 'C'): (-1, -1),\n",
    "    ('C', 'D'): (-3, 0),\n",
    "    ('D', 'C'): (0, -3),\n",
    "    ('D', 'D'): (-2, -2)\n",
    "}\n",
    "def payoff_func(strategies: tuple[str, str]) -> tuple[float, float]:\n",
    "    return payoffMatrix[strategies]\n",
    "\n",
    "game = Game(player1, player2, payoff_func, name=\"Prisoner's Dilemma\")"
   ]
  },
  {
   "cell_type": "markdown",
   "metadata": {},
   "source": [
    "# paper scissor rock game\n",
    "\n",
    "Paper-Scissor-Rock game can be expressed as the following normal form:\n",
    "\n",
    "| | P | S | R |\n",
    "| --- | --- | --- | --- |\n",
    "| P | 0, 0 | -1, 1 | 1, -1 |\n",
    "| S | 1, -1 | 0, 0 | -1, 1 |\n",
    "| R | -1, 1 | 1, -1 | 0, 0 |\n"
   ]
  },
  {
   "cell_type": "code",
   "execution_count": 2,
   "metadata": {},
   "outputs": [],
   "source": [
    "player1 = Player(\"player1\", ['P', 'S', 'R'])\n",
    "player2 = Player(\"player2\", ['P', 'S', 'R'])\n",
    "payoffMatrix = {\n",
    "    ('P', 'P'): (0, 0),\n",
    "    ('P', 'S'): (-1, 1),\n",
    "    ('P', 'R'): (1, -1),\n",
    "    ('S', 'P'): (1, -1),\n",
    "    ('S', 'S'): (0, 0),\n",
    "    ('S', 'R'): (-1, 1),\n",
    "    ('R', 'P'): (-1, 1),\n",
    "    ('R', 'S'): (1, -1),\n",
    "    ('R', 'R'): (0, 0)\n",
    "}\n",
    "def payoff_func(strategies: tuple[str, str]) -> tuple[float, float]:\n",
    "    return payoffMatrix[strategies]\n",
    "\n",
    "game_paper_scissor_rock = Game(player1, player2, payoff_func, name=\"Paper Scissor Rock\")"
   ]
  },
  {
   "cell_type": "markdown",
   "metadata": {},
   "source": [
    "# Class Property and Method\n",
    "\n",
    "Suppose you want to save all the game instances that you created for different game. You can use a class property to do so."
   ]
  },
  {
   "cell_type": "code",
   "execution_count": 1,
   "metadata": {},
   "outputs": [
    {
     "ename": "NameError",
     "evalue": "name 'Player' is not defined",
     "output_type": "error",
     "traceback": [
      "\u001b[0;31m---------------------------------------------------------------------------\u001b[0m",
      "\u001b[0;31mNameError\u001b[0m                                 Traceback (most recent call last)",
      "\u001b[1;32m/Users/martin/Documents/GitHub/112-2-programming-for-economic-modeling/ipynb/week-10-class-property-method.ipynb Cell 51\u001b[0m line \u001b[0;36m3\n\u001b[1;32m      <a href='vscode-notebook-cell:/Users/martin/Documents/GitHub/112-2-programming-for-economic-modeling/ipynb/week-10-class-property-method.ipynb#Y101sZmlsZQ%3D%3D?line=0'>1</a>\u001b[0m \u001b[39m# ideal interface\u001b[39;00m\n\u001b[1;32m      <a href='vscode-notebook-cell:/Users/martin/Documents/GitHub/112-2-programming-for-economic-modeling/ipynb/week-10-class-property-method.ipynb#Y101sZmlsZQ%3D%3D?line=1'>2</a>\u001b[0m \u001b[39m# Prisoner's Dilemma\u001b[39;00m\n\u001b[0;32m----> <a href='vscode-notebook-cell:/Users/martin/Documents/GitHub/112-2-programming-for-economic-modeling/ipynb/week-10-class-property-method.ipynb#Y101sZmlsZQ%3D%3D?line=2'>3</a>\u001b[0m player1 \u001b[39m=\u001b[39m Player(\u001b[39m\"\u001b[39m\u001b[39mplayer1\u001b[39m\u001b[39m\"\u001b[39m, [\u001b[39m'\u001b[39m\u001b[39mC\u001b[39m\u001b[39m'\u001b[39m, \u001b[39m'\u001b[39m\u001b[39mD\u001b[39m\u001b[39m'\u001b[39m])\n\u001b[1;32m      <a href='vscode-notebook-cell:/Users/martin/Documents/GitHub/112-2-programming-for-economic-modeling/ipynb/week-10-class-property-method.ipynb#Y101sZmlsZQ%3D%3D?line=3'>4</a>\u001b[0m player2 \u001b[39m=\u001b[39m Player(\u001b[39m\"\u001b[39m\u001b[39mplayer2\u001b[39m\u001b[39m\"\u001b[39m, [\u001b[39m'\u001b[39m\u001b[39mC\u001b[39m\u001b[39m'\u001b[39m, \u001b[39m'\u001b[39m\u001b[39mD\u001b[39m\u001b[39m'\u001b[39m])\n\u001b[1;32m      <a href='vscode-notebook-cell:/Users/martin/Documents/GitHub/112-2-programming-for-economic-modeling/ipynb/week-10-class-property-method.ipynb#Y101sZmlsZQ%3D%3D?line=4'>5</a>\u001b[0m payoffMatrix \u001b[39m=\u001b[39m {\n\u001b[1;32m      <a href='vscode-notebook-cell:/Users/martin/Documents/GitHub/112-2-programming-for-economic-modeling/ipynb/week-10-class-property-method.ipynb#Y101sZmlsZQ%3D%3D?line=5'>6</a>\u001b[0m     (\u001b[39m'\u001b[39m\u001b[39mC\u001b[39m\u001b[39m'\u001b[39m, \u001b[39m'\u001b[39m\u001b[39mC\u001b[39m\u001b[39m'\u001b[39m): (\u001b[39m-\u001b[39m\u001b[39m1\u001b[39m, \u001b[39m-\u001b[39m\u001b[39m1\u001b[39m),\n\u001b[1;32m      <a href='vscode-notebook-cell:/Users/martin/Documents/GitHub/112-2-programming-for-economic-modeling/ipynb/week-10-class-property-method.ipynb#Y101sZmlsZQ%3D%3D?line=6'>7</a>\u001b[0m     (\u001b[39m'\u001b[39m\u001b[39mC\u001b[39m\u001b[39m'\u001b[39m, \u001b[39m'\u001b[39m\u001b[39mD\u001b[39m\u001b[39m'\u001b[39m): (\u001b[39m-\u001b[39m\u001b[39m3\u001b[39m, \u001b[39m0\u001b[39m),\n\u001b[1;32m      <a href='vscode-notebook-cell:/Users/martin/Documents/GitHub/112-2-programming-for-economic-modeling/ipynb/week-10-class-property-method.ipynb#Y101sZmlsZQ%3D%3D?line=7'>8</a>\u001b[0m     (\u001b[39m'\u001b[39m\u001b[39mD\u001b[39m\u001b[39m'\u001b[39m, \u001b[39m'\u001b[39m\u001b[39mC\u001b[39m\u001b[39m'\u001b[39m): (\u001b[39m0\u001b[39m, \u001b[39m-\u001b[39m\u001b[39m3\u001b[39m),\n\u001b[1;32m      <a href='vscode-notebook-cell:/Users/martin/Documents/GitHub/112-2-programming-for-economic-modeling/ipynb/week-10-class-property-method.ipynb#Y101sZmlsZQ%3D%3D?line=8'>9</a>\u001b[0m     (\u001b[39m'\u001b[39m\u001b[39mD\u001b[39m\u001b[39m'\u001b[39m, \u001b[39m'\u001b[39m\u001b[39mD\u001b[39m\u001b[39m'\u001b[39m): (\u001b[39m-\u001b[39m\u001b[39m2\u001b[39m, \u001b[39m-\u001b[39m\u001b[39m2\u001b[39m)\n\u001b[1;32m     <a href='vscode-notebook-cell:/Users/martin/Documents/GitHub/112-2-programming-for-economic-modeling/ipynb/week-10-class-property-method.ipynb#Y101sZmlsZQ%3D%3D?line=9'>10</a>\u001b[0m }\n",
      "\u001b[0;31mNameError\u001b[0m: name 'Player' is not defined"
     ]
    }
   ],
   "source": [
    "# ideal interface\n",
    "# Prisoner's Dilemma\n",
    "player1 = Player(\"player1\", ['C', 'D'])\n",
    "player2 = Player(\"player2\", ['C', 'D'])\n",
    "payoffMatrix = {\n",
    "    ('C', 'C'): (-1, -1),\n",
    "    ('C', 'D'): (-3, 0),\n",
    "    ('D', 'C'): (0, -3),\n",
    "    ('D', 'D'): (-2, -2)\n",
    "}\n",
    "def payoff_func(strategies: tuple[str, str]) -> tuple[float, float]:\n",
    "    return payoffMatrix[strategies]\n",
    "\n",
    "game = Game(player1, player2, payoff_func, name=\"Prisoner's Dilemma\", save=True)\n",
    "\n",
    "# paper scissor rock\n",
    "player1 = Player(\"player1\", ['P', 'S', 'R'])\n",
    "player2 = Player(\"player2\", ['P', 'S', 'R'])\n",
    "payoffMatrix = {\n",
    "    ('P', 'P'): (0, 0),\n",
    "    ('P', 'S'): (-1, 1),\n",
    "    ('P', 'R'): (1, -1),\n",
    "    ('S', 'P'): (1, -1),\n",
    "    ('S', 'S'): (0, 0),\n",
    "    ('S', 'R'): (-1, 1),\n",
    "    ('R', 'P'): (-1, 1),\n",
    "    ('R', 'S'): (1, -1),\n",
    "    ('R', 'R'): (0, 0)\n",
    "}\n",
    "def payoff_func(strategies: tuple[str, str]) -> tuple[float, float]:\n",
    "    return payoffMatrix[strategies]\n",
    "\n",
    "game_paper_scissor_rock = Game(player1, player2, payoff_func, name=\"Paper Scissor Rock\", save=True)"
   ]
  },
  {
   "cell_type": "markdown",
   "metadata": {},
   "source": [
    "- Game initi add `save` option, when `True`. The saved game can be seen in `Game.games`."
   ]
  },
  {
   "cell_type": "code",
   "execution_count": null,
   "metadata": {},
   "outputs": [],
   "source": [
    "Game.games # show all saved games\n",
    "game = Game.create_from_template(\"game_id\") # create a game instance using game[0] structure"
   ]
  },
  {
   "cell_type": "code",
   "execution_count": 7,
   "metadata": {},
   "outputs": [],
   "source": [
    "from py.game_week11 import Game, Player\n",
    "\n",
    "# ideal interface\n",
    "# Prisoner's Dilemma\n",
    "player1 = Player(\"player1\", ['C', 'D'])\n",
    "player2 = Player(\"player2\", ['C', 'D'])\n",
    "\n",
    "def payoff_func(strategies: tuple[str, str]) -> tuple[float, float]:\n",
    "    payoffMatrix = {\n",
    "        ('C', 'C'): (-1, -1),\n",
    "        ('C', 'D'): (-3, 0),\n",
    "        ('D', 'C'): (0, -3),\n",
    "        ('D', 'D'): (-2, -2)\n",
    "    }\n",
    "    return payoffMatrix[strategies]\n",
    "\n",
    "game = Game(player1, player2, payoff_func, name=\"Prisoner's Dilemma\", save=True, game_id='g-faa1')\n",
    "\n",
    "# paper scissor rock\n",
    "player1 = Player(\"player1\", ['P', 'S', 'R'])\n",
    "player2 = Player(\"player2\", ['P', 'S', 'R'])\n",
    "\n",
    "def payoff_func(strategies: tuple[str, str]) -> tuple[float, float]:\n",
    "    payoffMatrix = {\n",
    "        ('P', 'P'): (0, 0),\n",
    "        ('P', 'S'): (-1, 1),\n",
    "        ('P', 'R'): (1, -1),\n",
    "        ('S', 'P'): (1, -1),\n",
    "        ('S', 'S'): (0, 0),\n",
    "        ('S', 'R'): (-1, 1),\n",
    "        ('R', 'P'): (-1, 1),\n",
    "        ('R', 'S'): (1, -1),\n",
    "        ('R', 'R'): (0, 0)\n",
    "    }\n",
    "    return payoffMatrix[strategies]\n",
    "\n",
    "game_paper_scissor_rock = Game(player1, player2, payoff_func, name=\"Paper Scissor Rock\", save=True, game_id='g-42b7')"
   ]
  },
  {
   "cell_type": "code",
   "execution_count": null,
   "metadata": {},
   "outputs": [],
   "source": [
    "game_paper_scissor_rock.__class__.games # show all saved games"
   ]
  },
  {
   "cell_type": "code",
   "execution_count": null,
   "metadata": {},
   "outputs": [],
   "source": [
    "Game.games\n"
   ]
  },
  {
   "cell_type": "code",
   "execution_count": 10,
   "metadata": {},
   "outputs": [],
   "source": [
    "(game, player1, player2) = Game.create_from_template('g-faa1')\n"
   ]
  },
  {
   "cell_type": "code",
   "execution_count": 11,
   "metadata": {},
   "outputs": [
    {
     "data": {
      "text/plain": [
       "(-3, 0)"
      ]
     },
     "execution_count": 11,
     "metadata": {},
     "output_type": "execute_result"
    }
   ],
   "source": [
    "game.name\n",
    "player1.play(\"C\")\n",
    "player2.play(\"D\")\n",
    "game.players[0].played_strategy\n",
    "game.players[1].played_strategy\n",
    "game.payoff()"
   ]
  },
  {
   "cell_type": "code",
   "execution_count": 7,
   "metadata": {},
   "outputs": [
    {
     "name": "stdout",
     "output_type": "stream",
     "text": [
      "None\n"
     ]
    }
   ],
   "source": [
    "print(game.payoff())"
   ]
  },
  {
   "cell_type": "code",
   "execution_count": 5,
   "metadata": {},
   "outputs": [
    {
     "data": {
      "text/plain": [
       "{'id': 'g-93cc',\n",
       " 'name': 'Paper Scissor Rock',\n",
       " 'players': [{'name': 'player1', 'strategies': ['P', 'S', 'R']},\n",
       "  {'name': 'player1', 'strategies': ['P', 'S', 'R']}],\n",
       " 'payoff_function': <function __main__.payoff_func(strategies: tuple[str, str]) -> tuple[float, float]>}"
      ]
     },
     "execution_count": 5,
     "metadata": {},
     "output_type": "execute_result"
    }
   ],
   "source": [
    "chosenGame[0]"
   ]
  },
  {
   "cell_type": "code",
   "execution_count": null,
   "metadata": {},
   "outputs": [],
   "source": [
    "player1 = Player(chosenGame[])"
   ]
  },
  {
   "cell_type": "code",
   "execution_count": 7,
   "metadata": {},
   "outputs": [],
   "source": [
    "class Game:\n",
    "    info=\"hello world\"\n",
    "    def __init__(self):\n",
    "        pass\n",
    "    def create(self):\n",
    "        pass\n",
    "    @staticmethod\n",
    "    def fun():\n",
    "        pass\n",
    "    @classmethod\n",
    "    def cfun(cls):\n",
    "        print(cls.info)"
   ]
  },
  {
   "cell_type": "code",
   "execution_count": 36,
   "metadata": {},
   "outputs": [],
   "source": [
    "import random\n",
    "import string\n",
    "def create_gameId():\n",
    "    return 'g-'+''.join(random.choices('0123456789abcdef', k=4))"
   ]
  },
  {
   "cell_type": "code",
   "execution_count": 37,
   "metadata": {},
   "outputs": [
    {
     "data": {
      "text/plain": [
       "'g-2e09'"
      ]
     },
     "execution_count": 37,
     "metadata": {},
     "output_type": "execute_result"
    }
   ],
   "source": [
    "create_gameId()"
   ]
  },
  {
   "cell_type": "code",
   "execution_count": 30,
   "metadata": {},
   "outputs": [
    {
     "data": {
      "text/plain": [
       "'0123456789abcdefABCDEF'"
      ]
     },
     "execution_count": 30,
     "metadata": {},
     "output_type": "execute_result"
    }
   ],
   "source": [
    "string.hexdigits"
   ]
  },
  {
   "cell_type": "markdown",
   "metadata": {},
   "source": [
    "> Be aware `game.games` will also give you the result as `Game.games` This is because Python has a scoping rule saying that if an instance property is not found, it will look for a class property with the same name."
   ]
  },
  {
   "cell_type": "code",
   "execution_count": null,
   "metadata": {},
   "outputs": [],
   "source": []
  },
  {
   "cell_type": "code",
   "execution_count": null,
   "metadata": {},
   "outputs": [],
   "source": [
    "gameBox = GameBox()\n",
    "GameBox.games # show all available games\n",
    "game = GameBox.create_game(game_id) # create a game instance of game_id"
   ]
  },
  {
   "cell_type": "code",
   "execution_count": 3,
   "metadata": {},
   "outputs": [],
   "source": [
    "class GameBox:\n",
    "    games = [1, 2]\n",
    "    def __init__(self):\n",
    "        pass\n"
   ]
  },
  {
   "cell_type": "code",
   "execution_count": 4,
   "metadata": {},
   "outputs": [],
   "source": [
    "gb = GameBox()\n"
   ]
  },
  {
   "cell_type": "markdown",
   "metadata": {},
   "source": [
    "### Mixed strategy"
   ]
  },
  {
   "cell_type": "markdown",
   "metadata": {},
   "source": [
    "#### How to draw a strategy"
   ]
  },
  {
   "cell_type": "code",
   "execution_count": 4,
   "metadata": {},
   "outputs": [
    {
     "data": {
      "text/plain": [
       "'C'"
      ]
     },
     "execution_count": 4,
     "metadata": {},
     "output_type": "execute_result"
    }
   ],
   "source": [
    "import numpy as np\n",
    "\n",
    "chosen_strategy = np.random.choice(alice.strategies, p=[0.35, 0.65])\n",
    "chosen_strategy"
   ]
  },
  {
   "cell_type": "markdown",
   "metadata": {},
   "source": [
    "# Google Sheets API\n",
    "\n",
    "  - [Google Sheets API](https://developers.google.com/sheets/api/quickstart/python)"
   ]
  },
  {
   "cell_type": "code",
   "execution_count": 2,
   "metadata": {},
   "outputs": [
    {
     "name": "stdout",
     "output_type": "stream",
     "text": [
      "Name, Major:\n",
      "Alexandra, English\n",
      "Andrew, Math\n",
      "Anna, English\n",
      "Becky, Art\n",
      "Benjamin, English\n",
      "Carl, Art\n",
      "Carrie, English\n",
      "Dorothy, Math\n",
      "Dylan, Math\n",
      "Edward, English\n",
      "Ellen, Physics\n",
      "Fiona, Art\n",
      "John, Physics\n",
      "Jonathan, Math\n",
      "Joseph, English\n",
      "Josephine, Math\n",
      "Karen, English\n",
      "Kevin, Physics\n",
      "Lisa, Art\n",
      "Mary, Physics\n",
      "Maureen, Physics\n",
      "Nick, Art\n",
      "Olivia, Physics\n",
      "Pamela, Math\n",
      "Patrick, Art\n",
      "Robert, English\n",
      "Sean, Physics\n",
      "Stacy, Math\n",
      "Thomas, Art\n",
      "Will, Math\n"
     ]
    }
   ],
   "source": [
    "import os.path\n",
    "\n",
    "from google.auth.transport.requests import Request\n",
    "from google.oauth2.credentials import Credentials\n",
    "from google_auth_oauthlib.flow import InstalledAppFlow\n",
    "from googleapiclient.discovery import build\n",
    "from googleapiclient.errors import HttpError\n",
    "\n",
    "\n",
    "# If modifying these scopes, delete the file token.json.\n",
    "SCOPES = [\"https://www.googleapis.com/auth/spreadsheets.readonly\"]\n",
    "\n",
    "# The ID and range of a sample spreadsheet.\n",
    "SAMPLE_SPREADSHEET_ID = \"1BxiMVs0XRA5nFMdKvBdBZjgmUUqptlbs74OgvE2upms\"\n",
    "SAMPLE_RANGE_NAME = \"Class Data!A2:E\"\n",
    "\n",
    "\n",
    "def main():\n",
    "  \"\"\"Shows basic usage of the Sheets API.\n",
    "  Prints values from a sample spreadsheet.\n",
    "  \"\"\"\n",
    "  creds = None\n",
    "  # The file token.json stores the user's access and refresh tokens, and is\n",
    "  # created automatically when the authorization flow completes for the first\n",
    "  # time.\n",
    "  if os.path.exists(\"token.json\"):\n",
    "    creds = Credentials.from_authorized_user_file(\"token.json\", SCOPES)\n",
    "  # If there are no (valid) credentials available, let the user log in.\n",
    "  if not creds or not creds.valid:\n",
    "    if creds and creds.expired and creds.refresh_token:\n",
    "      creds.refresh(Request())\n",
    "    else:\n",
    "      flow = InstalledAppFlow.from_client_secrets_file(\n",
    "          \"credentials.json\", SCOPES\n",
    "      )\n",
    "      creds = flow.run_local_server(port=0)\n",
    "    # Save the credentials for the next run\n",
    "    with open(\"token.json\", \"w\") as token:\n",
    "      token.write(creds.to_json())\n",
    "\n",
    "  try:\n",
    "    service = build(\"sheets\", \"v4\", credentials=creds)\n",
    "\n",
    "    # Call the Sheets API\n",
    "    sheet = service.spreadsheets()\n",
    "    result = (\n",
    "        sheet.values()\n",
    "        .get(spreadsheetId=SAMPLE_SPREADSHEET_ID, range=SAMPLE_RANGE_NAME)\n",
    "        .execute()\n",
    "    )\n",
    "    values = result.get(\"values\", [])\n",
    "\n",
    "    if not values:\n",
    "      print(\"No data found.\")\n",
    "      return\n",
    "\n",
    "    print(\"Name, Major:\")\n",
    "    for row in values:\n",
    "      # Print columns A and E, which correspond to indices 0 and 4.\n",
    "      print(f\"{row[0]}, {row[4]}\")\n",
    "  except HttpError as err:\n",
    "    print(err)\n",
    "\n",
    "\n",
    "if __name__ == \"__main__\":\n",
    "  main()"
   ]
  }
 ],
 "metadata": {
  "kernelspec": {
   "display_name": ".venv",
   "language": "python",
   "name": "python3"
  },
  "language_info": {
   "codemirror_mode": {
    "name": "ipython",
    "version": 3
   },
   "file_extension": ".py",
   "mimetype": "text/x-python",
   "name": "python",
   "nbconvert_exporter": "python",
   "pygments_lexer": "ipython3",
   "version": "3.11.5"
  }
 },
 "nbformat": 4,
 "nbformat_minor": 2
}
