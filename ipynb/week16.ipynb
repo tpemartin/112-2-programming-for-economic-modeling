{
 "cells": [
  {
   "cell_type": "markdown",
   "metadata": {},
   "source": [
    "# Nashpy"
   ]
  },
  {
   "cell_type": "markdown",
   "metadata": {},
   "source": [
    "To use the `nashpy` package in Python, you'll need to follow these steps:\n",
    "\n",
    "1. Install the `nashpy` package using pip by running the following command in your terminal or command prompt:\n",
    "   ```\n",
    "   pip install nashpy\n",
    "   ```\n",
    "\n",
    "2. Import the necessary modules in your Python script:\n",
    "   \n"
   ]
  },
  {
   "cell_type": "code",
   "execution_count": null,
   "metadata": {},
   "outputs": [],
   "source": [
    "import numpy as np\n",
    "import nashpy as nash"
   ]
  },
  {
   "cell_type": "markdown",
   "metadata": {},
   "source": [
    "\n",
    "4. Define the payoff matrices for the game you want to analyze. Payoff matrices represent the rewards or utilities for each player based on their strategies.\n",
    "\n",
    "5. Create a `Game` object by passing the payoff matrices as numpy arrays:\n",
    "   "
   ]
  },
  {
   "cell_type": "code",
   "execution_count": null,
   "metadata": {},
   "outputs": [],
   "source": [
    "payoff_matrix_player1 = np.array([[1, 0], [0, 1]])\n",
    "payoff_matrix_player2 = np.array([[0, 1], [1, 0]])\n",
    "\n",
    "nashpyGame = nash.Game(payoff_matrix_player1, payoff_matrix_player2)"
   ]
  },
  {
   "cell_type": "markdown",
   "metadata": {},
   "source": [
    "\n",
    "6. Analyze the game using various methods provided by the `Game` object. For example, you can compute the Nash equilibria:\n",
    "   "
   ]
  },
  {
   "cell_type": "code",
   "execution_count": null,
   "metadata": {},
   "outputs": [],
   "source": [
    "equilibria = nashpyGame.support_enumeration()\n",
    "\n",
    "for eq in equilibria:\n",
    "    print(\"Nash Equilibrium:\")\n",
    "    print(f\"Player 1: {eq[0]}\")\n",
    "    print(f\"Player 2: {eq[1]}\")"
   ]
  },
  {
   "cell_type": "markdown",
   "metadata": {},
   "source": [
    "\n",
    "   You can also perform other analyses such as finding the best response strategies or computing utilities for specific strategies.\n",
    "\n",
    "Remember to replace the payoff matrices with the ones relevant to your game. The `nashpy` package provides additional functionalities for game theory analysis, so you can explore its documentation for more advanced usage."
   ]
  },
  {
   "cell_type": "markdown",
   "metadata": {},
   "source": [
    "# gamepy application"
   ]
  },
  {
   "cell_type": "code",
   "execution_count": null,
   "metadata": {},
   "outputs": [],
   "source": [
    "from gamepy.games import Games"
   ]
  },
  {
   "cell_type": "code",
   "execution_count": null,
   "metadata": {},
   "outputs": [],
   "source": [
    "game, (player1, player2) = Games().new('g-1')"
   ]
  },
  {
   "cell_type": "code",
   "execution_count": null,
   "metadata": {},
   "outputs": [],
   "source": [
    "game.create_room('r-221')"
   ]
  },
  {
   "cell_type": "code",
   "execution_count": null,
   "metadata": {},
   "outputs": [],
   "source": [
    "player1.join(\"r-221\")\n",
    "player2.join(\"r-221\")"
   ]
  },
  {
   "cell_type": "code",
   "execution_count": null,
   "metadata": {},
   "outputs": [],
   "source": [
    "player1.play(\"C\")\n",
    "player2.play(\"C\")"
   ]
  },
  {
   "cell_type": "code",
   "execution_count": null,
   "metadata": {},
   "outputs": [],
   "source": [
    "player1.payoff()"
   ]
  },
  {
   "cell_type": "code",
   "execution_count": null,
   "metadata": {},
   "outputs": [],
   "source": [
    "player1.play_mixed({\"C\": 0.5, \"D\": 0.5})\n",
    "player2.play_mixed({\"C\": 0.3, \"D\": 0.7})\n"
   ]
  },
  {
   "cell_type": "code",
   "execution_count": null,
   "metadata": {},
   "outputs": [],
   "source": [
    "player1.payoff()"
   ]
  },
  {
   "cell_type": "markdown",
   "metadata": {},
   "source": [
    "# Package"
   ]
  },
  {
   "cell_type": "markdown",
   "metadata": {},
   "source": [
    "## Steps\n",
    "\n",
    "1. Run `python setup.py sdist bdist_wheel` to build the package.\n",
    "2. Commit in Github desktop and add a version tag.\n",
    "3. In Github.com create new release."
   ]
  },
  {
   "cell_type": "markdown",
   "metadata": {},
   "source": [
    "## installation\n",
    "\n",
    "1. Go to the terminal of your current environment.\n",
    "2. `pip install git+https://github.com/tpemartin/gamepy.git@<tag>` where `<tag>` is the version tag you created.\n",
    "3. Reload your vscode window.\n",
    "\n",
    "> Make sure your local path specification does not point to the local version of the package."
   ]
  },
  {
   "cell_type": "markdown",
   "metadata": {},
   "source": [
    "## External file\n",
    "\n",
    "> How to include a credentials.json to a pip github installable package and use that file in a package module?"
   ]
  },
  {
   "cell_type": "markdown",
   "metadata": {},
   "source": [
    "### ChatGPT answer\n",
    "\n",
    "To include a `credentials.json` file in a pip-installable package and use it within a package module, you can follow these steps:\n",
    "\n",
    "1. Create a directory structure for your package. For example:\n",
    "   ```\n",
    "   mypackage/\n",
    "   ├── mypackage/\n",
    "   │   ├── __init__.py\n",
    "   │   └── mymodule.py\n",
    "   ├── credentials.json\n",
    "   ├── setup.py\n",
    "   └── README.md\n",
    "   ```\n",
    "\n",
    "2. Place your `credentials.json` file in the root directory of your package.\n",
    "\n",
    "3. In your `setup.py` file, include the `data_files` parameter to specify that `credentials.json` should be included in the package distribution:\n",
    "\n",
    "   ```python\n",
    "   from setuptools import setup\n",
    "\n",
    "   setup(\n",
    "       name='mypackage',\n",
    "       version='1.0',\n",
    "       packages=['mypackage'],\n",
    "       package_data={'mypackage': ['../credentials.json']},\n",
    "       include_package_data=True,\n",
    "       install_requires=[\n",
    "           'requests',\n",
    "       ],\n",
    "   )\n",
    "   ```\n",
    "\n",
    "4. In your package module (`mymodule.py`), you can access the `credentials.json` file using its relative path:\n",
    "\n",
    "   ```python\n",
    "   import os\n",
    "   import json\n",
    "\n",
    "   def load_credentials():\n",
    "       credentials_path = os.path.join(os.path.dirname(__file__), '../credentials.json')\n",
    "       with open(credentials_path) as f:\n",
    "           credentials = json.load(f)\n",
    "       return credentials\n",
    "   ```\n",
    "\n",
    "   The `os.path.join` function is used to construct the correct path to `credentials.json` relative to your module file.\n",
    "\n",
    "5. Build and install your package using `pip` or `python setup.py install`. This will include the `credentials.json` file in the package distribution.\n",
    "\n",
    "When using the installed package, you can import the `mymodule` and call the `load_credentials()` function to load the contents of `credentials.json`.\n",
    "\n",
    "Please note that including sensitive credentials in a package may pose security risks, especially if the package is distributed publicly. It's generally recommended to use environment variables or other secure methods for storing and accessing credentials."
   ]
  },
  {
   "cell_type": "code",
   "execution_count": null,
   "metadata": {},
   "outputs": [],
   "source": []
  }
 ],
 "metadata": {
  "kernelspec": {
   "display_name": ".venv",
   "language": "python",
   "name": "python3"
  },
  "language_info": {
   "codemirror_mode": {
    "name": "ipython",
    "version": 3
   },
   "file_extension": ".py",
   "mimetype": "text/x-python",
   "name": "python",
   "nbconvert_exporter": "python",
   "pygments_lexer": "ipython3",
   "version": "3.11.5"
  }
 },
 "nbformat": 4,
 "nbformat_minor": 2
}
