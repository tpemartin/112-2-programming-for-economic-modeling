{
 "cells": [
  {
   "cell_type": "markdown",
   "metadata": {},
   "source": [
    "# Nashpy"
   ]
  },
  {
   "cell_type": "markdown",
   "metadata": {},
   "source": [
    "To use the `nashpy` package in Python, you'll need to follow these steps:\n",
    "\n",
    "1. Install the `nashpy` package using pip by running the following command in your terminal or command prompt:\n",
    "   ```\n",
    "   pip install nashpy\n",
    "   ```\n",
    "\n",
    "2. Import the necessary modules in your Python script:\n",
    "   \n"
   ]
  },
  {
   "cell_type": "code",
   "execution_count": null,
   "metadata": {},
   "outputs": [],
   "source": [
    "import numpy as np\n",
    "import nashpy as nash"
   ]
  },
  {
   "cell_type": "markdown",
   "metadata": {},
   "source": [
    "\n",
    "4. Define the payoff matrices for the game you want to analyze. Payoff matrices represent the rewards or utilities for each player based on their strategies.\n",
    "\n",
    "5. Create a `Game` object by passing the payoff matrices as numpy arrays:\n",
    "   "
   ]
  },
  {
   "cell_type": "code",
   "execution_count": null,
   "metadata": {},
   "outputs": [],
   "source": [
    "payoff_matrix_player1 = np.array([[1, 0], [0, 1]])\n",
    "payoff_matrix_player2 = np.array([[0, 1], [1, 0]])\n",
    "\n",
    "nashpyGame = nash.Game(payoff_matrix_player1, payoff_matrix_player2)"
   ]
  },
  {
   "cell_type": "markdown",
   "metadata": {},
   "source": [
    "\n",
    "6. Analyze the game using various methods provided by the `Game` object. For example, you can compute the Nash equilibria:\n",
    "   "
   ]
  },
  {
   "cell_type": "code",
   "execution_count": null,
   "metadata": {},
   "outputs": [],
   "source": [
    "equilibria = nashpyGame.support_enumeration()\n",
    "\n",
    "for eq in equilibria:\n",
    "    print(\"Nash Equilibrium:\")\n",
    "    print(f\"Player 1: {eq[0]}\")\n",
    "    print(f\"Player 2: {eq[1]}\")"
   ]
  },
  {
   "cell_type": "markdown",
   "metadata": {},
   "source": [
    "\n",
    "   You can also perform other analyses such as finding the best response strategies or computing utilities for specific strategies.\n",
    "\n",
    "Remember to replace the payoff matrices with the ones relevant to your game. The `nashpy` package provides additional functionalities for game theory analysis, so you can explore its documentation for more advanced usage."
   ]
  },
  {
   "cell_type": "markdown",
   "metadata": {},
   "source": [
    "# gamepy application"
   ]
  },
  {
   "cell_type": "code",
   "execution_count": null,
   "metadata": {},
   "outputs": [],
   "source": [
    "from gamepy.games import Games"
   ]
  },
  {
   "cell_type": "code",
   "execution_count": null,
   "metadata": {},
   "outputs": [],
   "source": [
    "game, (player1, player2) = Games().new('g-1')"
   ]
  },
  {
   "cell_type": "code",
   "execution_count": null,
   "metadata": {},
   "outputs": [],
   "source": [
    "game.create_room('r-221')"
   ]
  },
  {
   "cell_type": "code",
   "execution_count": null,
   "metadata": {},
   "outputs": [],
   "source": [
    "player1.join(\"r-221\")\n",
    "player2.join(\"r-221\")"
   ]
  },
  {
   "cell_type": "code",
   "execution_count": null,
   "metadata": {},
   "outputs": [],
   "source": [
    "player1.play(\"C\")\n",
    "player2.play(\"C\")"
   ]
  },
  {
   "cell_type": "code",
   "execution_count": null,
   "metadata": {},
   "outputs": [],
   "source": [
    "player1.payoff()"
   ]
  },
  {
   "cell_type": "code",
   "execution_count": null,
   "metadata": {},
   "outputs": [],
   "source": [
    "player1.play_mixed({\"C\": 0.5, \"D\": 0.5})\n",
    "player2.play_mixed({\"C\": 0.3, \"D\": 0.7})\n"
   ]
  },
  {
   "cell_type": "code",
   "execution_count": null,
   "metadata": {},
   "outputs": [],
   "source": [
    "player1.payoff()"
   ]
  },
  {
   "cell_type": "markdown",
   "metadata": {},
   "source": []
  }
 ],
 "metadata": {
  "kernelspec": {
   "display_name": ".venv",
   "language": "python",
   "name": "python3"
  },
  "language_info": {
   "codemirror_mode": {
    "name": "ipython",
    "version": 3
   },
   "file_extension": ".py",
   "mimetype": "text/x-python",
   "name": "python",
   "nbconvert_exporter": "python",
   "pygments_lexer": "ipython3",
   "version": "3.11.5"
  }
 },
 "nbformat": 4,
 "nbformat_minor": 2
}
