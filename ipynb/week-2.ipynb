{
 "cells": [
  {
   "cell_type": "markdown",
   "metadata": {},
   "source": [
    "# 1 Python Module\n",
    "\n",
    "Consider the following module importation example:"
   ]
  },
  {
   "cell_type": "code",
   "execution_count": null,
   "metadata": {},
   "outputs": [],
   "source": [
    "import pandas as pd\n",
    "import os\n",
    "import matplotlib as mpl\n",
    "import numpy as np"
   ]
  },
  {
   "cell_type": "markdown",
   "metadata": {},
   "source": [
    "> make sure you have the module installed in your computer at the right Python environment. \n",
    "> At **Command palette** (Ctrl+Shift+P or Cmd+Shift+P in Mac) select **> Python: Create Terminal** to open a terminal that is using the right Python environment (which is `.venv` ) and install the module using `pip install <module-name>`.\n",
    "> \n",
    "> ```bash\n",
    "> pip install pandas matpotlib numpy\n",
    "> ```\n",
    "\n"
   ]
  },
  {
   "cell_type": "markdown",
   "metadata": {},
   "source": [
    "## 1.1 What a module offers\n",
    "\n",
    "Once imported you an use the alias after `as` to access module functions. For example, the `numpy` module is imported with the alias `np` and the function `array()` is called using `np.array()`.\n"
   ]
  },
  {
   "cell_type": "markdown",
   "metadata": {},
   "source": [
    "## 1.2 VSCode intellisence type of completion\n",
    "\n",
    "  * [icon meanings](https://code.visualstudio.com/docs/editor/intellisense#_types-of-completions)\n",
    "\n",
    "![](../img/intellisense.png)\n",
    "\n"
   ]
  },
  {
   "cell_type": "markdown",
   "metadata": {},
   "source": [
    "## 1.3 Frequently used functions\n",
    "\n",
    "Sometimes there is a function you used often and you don't want to write the module name every time you call the function. You can import the function directly using the second method. For example, the `array()` function from the `numpy` module is imported directly using `from numpy import array`.\n",
    "\n",
    "Also you can use `as` to give the function a different name. For example, the `array()` function from the `numpy` module is imported directly using `from numpy import array as arr` or `import numpy.array as arr`\n",
    "\n",
    "```python\n",
    "from numpy import array # (no need to write np.array) Or \n",
    "from numpy import array as arr # Or \n",
    "import numpy.array as arr\n",
    "```\n"
   ]
  },
  {
   "cell_type": "markdown",
   "metadata": {},
   "source": [
    "# 2 Data types\n",
    "\n",
    "## 2.1 Python Data Types\n",
    "\n",
    "  * [Python Data Types](https://www.w3schools.com/python/python_datatypes.asp)\n"
   ]
  },
  {
   "cell_type": "code",
   "execution_count": null,
   "metadata": {},
   "outputs": [],
   "source": [
    "# primitive data types\n",
    "_string = \"Hello World\"\n",
    "_integer = 1  \n",
    "_float = 1.0  \n",
    "_boolean = True # of False\n",
    "_none = None # for a missig value\n",
    "\n",
    "# collection data types\n",
    "_range = range(5) # 0, 1, 2, 3, 4\n",
    "print(_range)\n",
    "_list = [\"apple\", 1, True]\n",
    "_tuple = (\"apple\", 1, True)\n",
    "_set = {\"apple\", \"orage\", \"banana\"}\n",
    "_dictionary = {\n",
    "    \"name\": \"John\", \n",
    "    \"age\": 36}  # \"name\": \"John\" is a key-value pair where key is \"name\""
   ]
  },
  {
   "cell_type": "markdown",
   "metadata": {},
   "source": [
    "\n",
    "## 2.2 Mutability and Immutability\n",
    "\n",
    "Consider the following code:\n",
    "\n",
    "```\n",
    "a = some value\n",
    "b = a\n",
    "b = other value\n",
    "```\n",
    "\n",
    "  * `a = some value` will have computer find a memory space and passed its **location** back to `a`. Therefore, later when we `print(a)`. Computer will use that **location address** to read the value stored.  \n",
    "  * At the second line, `b` is created and `a` will pass some information regarding `b`'s representing value. There are two possible passing methods:  \n",
    "    * passing the **memory location**; or just\n",
    "    * read the value and passs **just the value** \n",
    "```\n",
    "# if a is immutable\n",
    "b = other value # a is still some value\n",
    "\n",
    "# if a is mutable\n",
    "b = other value # a becomes other value\n",
    "```"
   ]
  },
  {
   "cell_type": "markdown",
   "metadata": {},
   "source": [
    "### a. Primitives are immutable\n",
    "All **primitive types** are immutable. They are single value data types. \n",
    "\n",
    "  * `int`: `a = 2`\n",
    "  * `float`: `a = 2.0`\n",
    "  * `bool`: `a = True`\n",
    "  * `str`: `a = \"Hello World\"`\n",
    "  * `None`: `a = None` for missing value"
   ]
  },
  {
   "cell_type": "markdown",
   "metadata": {},
   "source": [
    "### b. Most collections are mutable\n",
    "\n",
    "Ｆor non-primitive types (i.e. collections of values), they are mostly mutable. \n",
    "\n",
    "  * `list`: `a = [1, 2, 3]`\n",
    "  * `dict` (dictionary): `a = {\"a\": 1, \"b\": 2, \"c\": 3}`\n",
    "  * `set`: `a = {1, 2, 3}`\n"
   ]
  },
  {
   "cell_type": "markdown",
   "metadata": {},
   "source": [
    "### c. Collections with unchangeable values are immutable\n",
    "\n",
    "  * `tuple`: `a = (1, 2, 3)`\n",
    "  * `frozenset`: `a = frozenset({1, 2, 3})`"
   ]
  },
  {
   "cell_type": "markdown",
   "metadata": {},
   "source": [
    "# TBC"
   ]
  },
  {
   "cell_type": "code",
   "execution_count": null,
   "metadata": {},
   "outputs": [],
   "source": [
    "a = [1, 2, 3]\n",
    "b = (1, 2, 3)\n",
    "\n",
    "a[0] = 5 \n",
    "\n",
    "b[0] = 5 # error. Unchangeable - immutable"
   ]
  },
  {
   "cell_type": "code",
   "execution_count": null,
   "metadata": {},
   "outputs": [],
   "source": [
    "\n",
    "_list2 = _list \n",
    "_list2[0] = \"banana\"\n",
    "print(_list)\n",
    "\n",
    "_list3 = _list.copy()\n",
    "_list3[0] = \"apple\"\n",
    "print(_list)\n"
   ]
  },
  {
   "cell_type": "markdown",
   "metadata": {},
   "source": [
    "# List and dictionary"
   ]
  },
  {
   "cell_type": "markdown",
   "metadata": {},
   "source": [
    "List is a collection with each item indexed by a number, starting from 0."
   ]
  },
  {
   "cell_type": "code",
   "execution_count": null,
   "metadata": {},
   "outputs": [],
   "source": [
    "list_ = [1, 2, 3, 4, 5]\n",
    "print(list_[0]) # 1\n",
    "print(list_[-1]) # 5\n",
    "print(list_[1:3]) # [2, 3]\n",
    "print(list_[:3]) # [1, 2, 3] 0:3\n",
    "print(list_[3:]) # [4, 5] 3:5\n",
    "print(list_[-3:]) # [3, 4, 5] \n",
    "print(list_[:-3]) # [1, 2]\n"
   ]
  },
  {
   "cell_type": "markdown",
   "metadata": {},
   "source": [
    "Dictionary is a collection with each item indexed by a key."
   ]
  },
  {
   "cell_type": "code",
   "execution_count": null,
   "metadata": {},
   "outputs": [],
   "source": [
    "dictionary_ = {\"name\": \"John\", \"age\": 36}\n",
    "print(dictionary_[\"name\"]) # John\n",
    "print(dictionary_[\"age\"]) # 36\n"
   ]
  },
  {
   "cell_type": "markdown",
   "metadata": {},
   "source": [
    "> When we retrieve a value `[.]`, from a list `.` must be position index, but from a dictionary `.` must be a key."
   ]
  },
  {
   "cell_type": "markdown",
   "metadata": {},
   "source": [
    "List is used to store multiple items in a single variable, while dictionary is used to store each item in a key-value pair."
   ]
  },
  {
   "cell_type": "code",
   "execution_count": null,
   "metadata": {},
   "outputs": [],
   "source": [
    "obs1 = {\"name\": \"John\", \"age\": 36}\n",
    "obs2 = {\"name\": \"Amy\", \"age\": 24}\n",
    "obs3 = {\"name\": \"Peter\", \"age\": 48}\n",
    "\n",
    "employees = [obs1, obs2, obs3]"
   ]
  },
  {
   "cell_type": "markdown",
   "metadata": {},
   "source": [
    "We are going to see how FoodPanda store the data of **ONE** shop"
   ]
  },
  {
   "cell_type": "markdown",
   "metadata": {},
   "source": [
    "# Import JSON file\n",
    "\n",
    "JSON file is the most common format to store data and exchange data between different systems. No matter what programming language you use, you can easily import a JSON file into your program.\n",
    "\n",
    "To import a JSON file in Python, you can use the `json` module, which is a part of the standard library. Here is an example:\n",
    "\n",
    "```python\n",
    "import json\n",
    "\n",
    "with open('path_to_your_file.json') as f:\n",
    "    data = json.load(f)\n",
    "\n",
    "# Now 'data' holds the content of your JSON file\n",
    "```\n",
    "In this code, \n",
    "\n",
    "- First, we import the `json` module.\n",
    "- We use the built-in `open()` function to open the file. \n",
    "- The `'path_to_your_file.json'` should be replaced with the path to your JSON file. \n",
    "- We use the `json.load()` function to load the JSON file into the `data` variable. \n",
    "\n",
    "After this script is run, `data` will hold the contents of the JSON file as a Python object. If the JSON file contains a JSON object, `data` will be a dictionary. If the JSON file contains a JSON array, `data` will be a list."
   ]
  },
  {
   "cell_type": "markdown",
   "metadata": {},
   "source": [
    "Download [foodPandaMenu_a0ab.json](https://raw.githubusercontent.com/tpemartin/112-2-programming-for-economic-modeling/main/data/foodpandaMenu_a0ab.json) to your `root/data` folder. "
   ]
  },
  {
   "cell_type": "markdown",
   "metadata": {},
   "source": [
    "## File Path\n"
   ]
  },
  {
   "cell_type": "code",
   "execution_count": null,
   "metadata": {},
   "outputs": [
    {
     "name": "stdout",
     "output_type": "stream",
     "text": [
      "{'id': 28673, 'code': 'a0ab', 'accepts_instructions': True, 'address': '(△) 基隆市安樂區基金一路116-3號', 'address_line2': '', 'budget': 2, 'chain': {'code': '', 'name': '', 'main_vendor_code': '', 'url_key': ''}, 'city': {'name': 'Keelung City'}, 'cuisines': [{'id': 1227, 'name': '炒飯', 'url_key': 'chao-fan', 'main': False}, {'id': 201, 'name': '麵食', 'url_key': 'mian-shi', 'main': False}, {'id': 248, 'name': '台式', 'url_key': 'tai-shi', 'main': True}], 'custom_location_url': '', 'customer_type': 'all', 'delivery_box': '', 'delivery_fee_type': 'amount', 'description': '', 'distance': 0.929286742989499, 'food_characteristics': [{'id': 55, 'name': '<店內價>', 'is_halal': False, 'is_vegetarian': False}], 'has_delivery_provider': True, 'hero_image': 'https://images.deliveryhero.io/image/fd-tw/LH/a0ab-hero.jpg', 'hero_listing_image': 'https://images.deliveryhero.io/image/fd-tw/LH/a0ab-listing.jpg', 'is_new_until': '2019-11-04T00:00:00Z', 'premium_position': 0, 'latitude': 25.1401844, 'logo': '', 'longitude': 121.7125329, 'loyalty_percentage_amount': 0.0, 'loyalty_program_enabled': False, 'maximum_express_order_amount': 0, 'metadata': {'has_discount': False, 'timezone': 'Asia/Taipei', 'close_reasons': [], 'available_in': '2023-08-05T17:00:00+0800', 'events': [], 'is_delivery_available': False, 'is_pickup_available': True, 'is_dine_in_available': False, 'is_express_delivery_available': False, 'is_temporary_closed': False, 'is_flood_feature_closed': False}, 'minimum_delivery_fee': 25.0, 'minimum_delivery_time': 40.0, 'minimum_order_amount': 99.0, 'minimum_pickup_time': 10.0, 'name': '豪記一碗小羊肉', 'payment_types': [], 'post_code': '204', 'primary_cuisine_id': 248, 'rating': 4.7, 'redirection_url': 'https://foodpanda.com.tw/restaurant/a0ab/hao-ji-wan-xiao-yang-rou', 'review_number': 2140, 'review_with_comment_number': 0, 'score': 0.0, 'service_fee_percentage_amount': 0, 'service_tax_percentage_amount': 0, 'tag': '', 'tags': [], 'url_key': 'hao-ji-wan-xiao-yang-rou', 'vat_percentage_amount': 0, 'characteristics': {'cuisines': [{'id': 1227, 'name': '炒飯', 'url_key': 'chao-fan', 'main': False}, {'id': 201, 'name': '麵食', 'url_key': 'mian-shi', 'main': False}, {'id': 248, 'name': '台式', 'url_key': 'tai-shi', 'main': True}], 'food_characteristics': [{'id': 55, 'name': '<店內價>', 'is_halal': False, 'is_vegetarian': False}], 'primary_cuisine': {'id': 248, 'name': '台式', 'url_key': 'tai-shi', 'main': True}}, 'vendor_points': 83772, 'vertical': 'restaurants', 'vertical_segment': 'restaurants', 'vertical_parent': 'Restaurant', 'web_path': 'https://foodpanda.com.tw/restaurant/a0ab/hao-ji-wan-xiao-yang-rou', 'website': '', 'has_online_payment': True, 'discounts_info': [], 'discounts': [], 'vendor_legal_information': {'legal_name': '黃淑芬', 'trade_register_number': ''}, 'disclaimers': [], 'customer_phone': '+886224322659', 'vertical_type_ids': ['restaurants'], 'delivery_provider': 'platform_delivery', 'is_active': True, 'is_best_in_city': False, 'is_checkout_comment_enabled': False, 'is_delivery_enabled': True, 'is_new': False, 'is_pickup_enabled': True, 'is_premium': False, 'is_preorder_enabled': True, 'is_replacement_dish_enabled': False, 'is_service_fee_enabled': False, 'is_service_tax_enabled': False, 'is_service_tax_visible': False, 'is_test': False, 'is_vat_disabled': False, 'is_vat_included_in_product_price': True, 'is_vat_visible': False, 'is_voucher_enabled': True, 'is_promoted': False, 'tag_ids': []}\n"
     ]
    }
   ],
   "source": [
    "# import json file\n",
    "import json\n",
    "\n",
    "with open('../data/foodpandaMenu_a0ab.json') as f:\n",
    "    dd = json.load(f)\n",
    "\n",
    "print(dd)"
   ]
  },
  {
   "cell_type": "markdown",
   "metadata": {},
   "source": [
    "\n",
    "In programming, a file has two types of paths:  \n",
    "\n",
    "- **Relative path**: relative to the current working directory.  \n",
    "- **Absolute path**: the full path to the file.  \n",
    "\n",
    "For example, suppose you have a file with the absolute path `C:\\Users\\username\\Documents\\data.json`. If the current working directory is `C:\\Users\\username\\Documents`, then the relative path to the file `data.json` is `data.json`. If the current working directory is `C:\\Users\\username`, then the relative path to the file `data.json` is `Documents\\data.json`.\n",
    "\n",
    "In Python, you can get the current working directory using the `os` module (`os` module comes with Python installation. No need to install it first.). Here is an example:\n"
   ]
  },
  {
   "cell_type": "code",
   "execution_count": null,
   "metadata": {},
   "outputs": [],
   "source": [
    "import os\n",
    "\n",
    "cwd = os.getcwd()\n",
    "print(cwd)"
   ]
  },
  {
   "cell_type": "markdown",
   "metadata": {},
   "source": [
    "In my computer, I have the following folder structure:\n",
    "\n",
    "```\n",
    "root\n",
    "├── data\n",
    "│   ├── ...\n",
    "│   └── w_2023-02-07.json\n",
    "└── ipynb\n",
    "    └── week-2.ipynb\n",
    "```\n",
    "\n",
    "  * `root` means the project root folder. \n",
    "\n",
    "My `week-2.ipynb` working directory is `ipynb` folder. To access the file `w_2023-02-07.json` in `data` folder, we can use `..` which means the parent folder of the current working directory. \n",
    "\n",
    "Hence we can use `../data/w_2023-02-07.json` to access the file `w_2023-02-07.json` in `data` folder.\n",
    "\n"
   ]
  },
  {
   "cell_type": "markdown",
   "metadata": {},
   "source": [
    "> **Note**:  \n",
    "> 1. All the discussion regarding relative path here is based on that you have set up a Python environment and linked your Jupyter Notebook to the Python environment correctly.\n",
    "> 2. If you are running .py file, the current working directory is the folder where project root is. (This means if data folder's relative paths are the same across developers, the code line to access that file will be the same across developers regardless of where they saved their scripts inside the project root.)"
   ]
  },
  {
   "cell_type": "markdown",
   "metadata": {},
   "source": [
    "#### Exercise\n",
    "\n",
    "\n",
    "Create two files named `test.py` in different folders of your root with the following code:\n",
    "\n",
    "```python\n",
    "import os\n",
    "\n",
    "cwd = os.getcwd()\n",
    "print(cwd)\n",
    "```\n",
    "\n",
    "Verify that they both have the same `cwd`, then import the same json file inside your project folder"
   ]
  },
  {
   "cell_type": "markdown",
   "metadata": {},
   "source": [
    "# Download through command"
   ]
  },
  {
   "cell_type": "code",
   "execution_count": null,
   "metadata": {},
   "outputs": [],
   "source": [
    "import requests\n",
    "\n",
    "url = 'https://raw.githubusercontent.com/tpemartin/'\\\n",
    "    '112-2-programming-for-economic-modeling/main/data/foodpandaMenu_a0ab.json'  # URL of the file to download\n",
    "response = requests.get(url)\n",
    "\n",
    "# Ensure the request was successful\n",
    "response.raise_for_status()\n",
    "\n",
    "# Open the file in write mode\n",
    "with open('foodpandaMenu_a0ab.json', 'wb') as file:\n",
    "    file.write(response.content)\n"
   ]
  },
  {
   "cell_type": "markdown",
   "metadata": {},
   "source": [
    "### File modes:  \n"
   ]
  },
  {
   "cell_type": "markdown",
   "metadata": {},
   "source": [
    "\n",
    "In Python, the `open` function is used to open a file and it takes a mode parameter. Here are the available modes:\n",
    "\n",
    "1. `'r'`: Read mode which is used when the file is only being read. This is the default mode if no mode is specified.\n",
    "\n",
    "2. `'w'`: Write mode for rewriting the contents of a file.\n",
    "\n",
    "3. `'x'`: Exclusive creation mode for creating a new file. If the file already exists, the operation fails.\n",
    "\n",
    "4. `'a'`: Append mode for appending new content to the end of the file.\n",
    "\n",
    "5. `'b'`: Binary mode for reading or writing binary data.\n",
    "\n",
    "6. `'t'`: Text mode for reading or writing string data. This is the default mode if no mode is specified.\n",
    "\n",
    "7. `'+'`: Updating mode for reading and writing to the same file.\n",
    "\n",
    "These modes can also be combined. For example:\n",
    "\n",
    "- `'rb'`: Read in binary mode.\n",
    "- `'wt'`: Write in text mode.\n",
    "- `'a+'`: Append and read.\n",
    "- `'r+b'`: Read and write in binary mode.\n",
    "  \n",
    "Note: `'b'`, `'t'`, and `'+'` can be appended to `'r'`, `'w'`, `'x'`, and `'a'`."
   ]
  },
  {
   "cell_type": "markdown",
   "metadata": {},
   "source": [
    "# Saving your work\n",
    "\n",
    "In Python variables can be saved in a file using the `pickle` module. Here is an example:\n"
   ]
  },
  {
   "cell_type": "code",
   "execution_count": 58,
   "metadata": {},
   "outputs": [],
   "source": [
    "import pickle  \n",
    "\n",
    "# Save a dictionary into a pickle file.  \n",
    "favorite_color = { \"lion\": \"yellow\", \"kitty\": \"red\" }  \n",
    "with open( \"save.p\", \"wb\" ) as f:  \n",
    "    pickle.dump(favorite_color, f)   \n",
    "\n",
    "\n",
    "# To load the dictionary back from the pickle file.  \n",
    "with open( \"save.p\", \"rb\" ) as f:\n",
    "    favorite_color = pickle.load(f)\n"
   ]
  },
  {
   "cell_type": "markdown",
   "metadata": {},
   "source": [
    "  * Notice where `save.p` is saved in your computer (depending on you run it inside .ipynb or .py).   \n",
    "  * `pickle` module is for Python developers only. It is not for sharing data with other non-python developers."
   ]
  },
  {
   "cell_type": "markdown",
   "metadata": {},
   "source": [
    "If you are to share your saved variables with non-Python users, you can use the `json` module to save your variables in a JSON file. Here is an example:"
   ]
  },
  {
   "cell_type": "code",
   "execution_count": null,
   "metadata": {},
   "outputs": [],
   "source": [
    "import json\n",
    "\n",
    "with open('save.json', 'w') as f:\n",
    "    json.dump(favorite_color, f)\n"
   ]
  },
  {
   "cell_type": "code",
   "execution_count": null,
   "metadata": {},
   "outputs": [],
   "source": [
    "print(dd[0])"
   ]
  },
  {
   "cell_type": "code",
   "execution_count": null,
   "metadata": {},
   "outputs": [],
   "source": [
    "print(dd['466881'])"
   ]
  },
  {
   "cell_type": "markdown",
   "metadata": {},
   "source": [
    "# Retrieving Data\n",
    "\n",
    "`[.]`\n",
    "\n",
    "where `.` is \"one value\" which is:\n",
    "\n",
    "  * an integer index for lists, tuples, and strings, representing the location of the element to be retrieved. (index starts from 0)\n",
    "  * a key for dictionaries  "
   ]
  },
  {
   "cell_type": "code",
   "execution_count": null,
   "metadata": {},
   "outputs": [],
   "source": [
    "del _dictionary[\"name\"]\n",
    "print(_dictionary)\n"
   ]
  },
  {
   "cell_type": "code",
   "execution_count": null,
   "metadata": {},
   "outputs": [],
   "source": [
    "\n",
    "print(_list)\n",
    "del _list[0]\n",
    "print(_list)\n",
    "\n"
   ]
  },
  {
   "cell_type": "markdown",
   "metadata": {},
   "source": [
    "# Reassign Data\n",
    "\n"
   ]
  },
  {
   "cell_type": "code",
   "execution_count": null,
   "metadata": {},
   "outputs": [],
   "source": [
    "_list[1] = False\n",
    "print(_list)"
   ]
  },
  {
   "cell_type": "markdown",
   "metadata": {},
   "source": [
    "# Adding Data"
   ]
  },
  {
   "cell_type": "code",
   "execution_count": null,
   "metadata": {},
   "outputs": [],
   "source": [
    "_dictionary[\"name\"] = \"John\"\n",
    "print(_dictionary)"
   ]
  },
  {
   "cell_type": "code",
   "execution_count": null,
   "metadata": {},
   "outputs": [],
   "source": [
    "_list = [\"apple\", 1, True]\n",
    "print(_list)\n",
    "_list.append(\"apple\")\n",
    "print(_list)\n",
    "_list.append([2, 3])\n",
    "print(_list)\n",
    "_list.extend([2, 3])\n",
    "print(_list)\n"
   ]
  },
  {
   "cell_type": "code",
   "execution_count": null,
   "metadata": {},
   "outputs": [],
   "source": [
    "print(_list)\n",
    "_list.pop() # remove last\n",
    "print(_list)"
   ]
  },
  {
   "cell_type": "code",
   "execution_count": null,
   "metadata": {},
   "outputs": [],
   "source": [
    "_list = [\"apple\", 1, True]\n",
    "print(_list)"
   ]
  },
  {
   "cell_type": "code",
   "execution_count": null,
   "metadata": {},
   "outputs": [],
   "source": [
    "_list = [1, 2, 3]\n",
    "_list = [*_list, 5]\n",
    "print(_list)"
   ]
  },
  {
   "cell_type": "code",
   "execution_count": null,
   "metadata": {},
   "outputs": [],
   "source": [
    "_dictionary = {\n",
    "    \"name\": \"John\", \n",
    "    \"age\": 36}\n",
    "name, age = _dictionary.values()"
   ]
  }
 ],
 "metadata": {
  "kernelspec": {
   "display_name": ".venv",
   "language": "python",
   "name": "python3"
  },
  "language_info": {
   "codemirror_mode": {
    "name": "ipython",
    "version": 3
   },
   "file_extension": ".py",
   "mimetype": "text/x-python",
   "name": "python",
   "nbconvert_exporter": "python",
   "pygments_lexer": "ipython3",
   "version": "3.11.5"
  },
  "orig_nbformat": 4
 },
 "nbformat": 4,
 "nbformat_minor": 2
}
