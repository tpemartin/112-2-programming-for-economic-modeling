{
 "cells": [
  {
   "cell_type": "markdown",
   "metadata": {},
   "source": [
    "# Python indentation "
   ]
  },
  {
   "cell_type": "markdown",
   "metadata": {},
   "source": []
  },
  {
   "cell_type": "code",
   "execution_count": null,
   "metadata": {},
   "outputs": [],
   "source": []
  },
  {
   "cell_type": "markdown",
   "metadata": {},
   "source": [
    "# Python Module\n",
    "\n"
   ]
  },
  {
   "cell_type": "markdown",
   "metadata": {},
   "source": [
    "Consider the following module importation example:"
   ]
  },
  {
   "cell_type": "code",
   "execution_count": null,
   "metadata": {},
   "outputs": [],
   "source": [
    "import pandas as pd\n",
    "import os\n",
    "import matplotlib as mpl\n",
    "import numpy as np"
   ]
  },
  {
   "cell_type": "markdown",
   "metadata": {},
   "source": [
    "Once imported you an use the alias after `as` to access module functions. For example, the `numpy` module is imported with the alias `np` and the function `array()` is called using `np.array()`.\n",
    "\n",
    "Sometimes there is a function you used often and you don't want to write the module name every time you call the function. You can import the function directly using the second method. For example, the `array()` function from the `numpy` module is imported directly using `from numpy import array`.\n",
    "\n",
    "Also you can use `as` to give the function a different name. For example, the `array()` function from the `numpy` module is imported directly using `from numpy import array as arr` or `import numpy.array as arr`"
   ]
  },
  {
   "cell_type": "markdown",
   "metadata": {},
   "source": [
    "> make sure you have the module installed in your computer at the right Python environment. \n",
    "> At **Command palette** (Ctrl+Shift+P or Cmd+Shift+P in Mac) select **> Python: Create Terminal** to open a terminal that is using the right Python environment (which is `.venv` ) and install the module using `pip install <module-name>`.\n",
    "> \n",
    "> ```bash\n",
    "> pip install pandas matpotlib numpy\n",
    "> ```\n",
    "\n"
   ]
  },
  {
   "cell_type": "markdown",
   "metadata": {},
   "source": [
    "## VSCode intellisence type of completion\n",
    "\n",
    "  * [icon meanings](https://code.visualstudio.com/docs/editor/intellisense#_types-of-completions)"
   ]
  },
  {
   "cell_type": "markdown",
   "metadata": {},
   "source": [
    "![](../img/intellisense.png)"
   ]
  },
  {
   "cell_type": "markdown",
   "metadata": {},
   "source": [
    "# Data types\n",
    "\n",
    "## Python Data Types\n",
    "\n",
    "  * [Python Data Types](https://www.w3schools.com/python/python_datatypes.asp)\n"
   ]
  },
  {
   "cell_type": "markdown",
   "metadata": {},
   "source": []
  },
  {
   "cell_type": "code",
   "execution_count": null,
   "metadata": {},
   "outputs": [],
   "source": [
    "# primitive data types\n",
    "_string = \"Hello World\"\n",
    "_integer = 1  \n",
    "_float = 1.0  \n",
    "_boolean = True # of False\n",
    "_none = None \n",
    "\n",
    "# collection data types\n",
    "_range = range(5) # 0, 1, 2, 3, 4\n",
    "print(_range)\n",
    "_list = [\"apple\", 1, True]\n",
    "_tuple = (\"apple\", 1, True)\n",
    "_set = {\"apple\", \"orage\", \"banana\"}\n",
    "_dictionary = {\n",
    "    \"name\": \"John\", \n",
    "    \"age\": 36}  # \"name\": \"John\" is a key-value pair where key is \"name\""
   ]
  },
  {
   "cell_type": "markdown",
   "metadata": {},
   "source": [
    "\n",
    "## Mutability and Immutability\n",
    "\n",
    "* All primitive types are immutable.  \n",
    "* tuple and frozenset are immutable.\n",
    "\n",
    "> list, dict, set are mutable.\n",
    "\n"
   ]
  },
  {
   "cell_type": "code",
   "execution_count": null,
   "metadata": {},
   "outputs": [],
   "source": [
    "\n",
    "_list2 = _list \n",
    "_list2[0] = \"banana\"\n",
    "print(_list)\n",
    "\n",
    "_list3 = _list.copy()\n",
    "_list3[0] = \"apple\"\n",
    "print(_list)\n"
   ]
  },
  {
   "cell_type": "markdown",
   "metadata": {},
   "source": [
    "# List and dictionary"
   ]
  },
  {
   "cell_type": "markdown",
   "metadata": {},
   "source": [
    "List is a collection with each item indexed by a number, starting from 0."
   ]
  },
  {
   "cell_type": "code",
   "execution_count": null,
   "metadata": {},
   "outputs": [],
   "source": [
    "list_ = [1, 2, 3, 4, 5]\n",
    "print(list_[0]) # 1\n",
    "print(list_[-1]) # 5\n",
    "print(list_[1:3]) # [2, 3]\n",
    "print(list_[:3]) # [1, 2, 3] 0:3\n",
    "print(list_[3:]) # [4, 5] 3:5\n",
    "print(list_[-3:]) # [3, 4, 5] \n",
    "print(list_[:-3]) # [1, 2]\n"
   ]
  },
  {
   "cell_type": "markdown",
   "metadata": {},
   "source": [
    "Dictionary is a collection with each item indexed by a key."
   ]
  },
  {
   "cell_type": "code",
   "execution_count": null,
   "metadata": {},
   "outputs": [],
   "source": [
    "dictionary_ = {\"name\": \"John\", \"age\": 36}\n",
    "print(dictionary_[\"name\"]) # John\n",
    "print(dictionary_[\"age\"]) # 36\n"
   ]
  },
  {
   "cell_type": "markdown",
   "metadata": {},
   "source": [
    "List is used to store multiple items in a single variable, while dictionary is used to store each item in a key-value pair.\n",
    "\n"
   ]
  },
  {
   "cell_type": "code",
   "execution_count": null,
   "metadata": {},
   "outputs": [],
   "source": [
    "obs1 = {\"name\": \"John\", \"age\": 36}\n",
    "obs2 = {\"name\": \"Amy\", \"age\": 24}\n",
    "obs3 = {\"name\": \"Peter\", \"age\": 48}\n",
    "\n",
    "employees = [obs1, obs2, obs3]"
   ]
  },
  {
   "cell_type": "markdown",
   "metadata": {},
   "source": [
    "# Import JSON file\n",
    "\n",
    "To import a JSON file in Python, you can use the `json` module, which is a part of the standard library. Here is an example:\n",
    "\n",
    "```python\n",
    "import json\n",
    "\n",
    "with open('path_to_your_file.json') as f:\n",
    "    data = json.load(f)\n",
    "\n",
    "# Now 'data' holds the content of your JSON file\n",
    "```\n",
    "In this code, \n",
    "\n",
    "- First, we import the `json` module.\n",
    "- We use the built-in `open()` function to open the file. \n",
    "- The `'path_to_your_file.json'` should be replaced with the path to your JSON file. \n",
    "- We use the `json.load()` function to load the JSON file into the `data` variable. \n",
    "\n",
    "After this script is run, `data` will hold the contents of the JSON file as a Python object. If the JSON file contains a JSON object, `data` will be a dictionary. If the JSON file contains a JSON array, `data` will be a list."
   ]
  },
  {
   "cell_type": "code",
   "execution_count": null,
   "metadata": {},
   "outputs": [],
   "source": [
    "# import json file\n",
    "import json\n",
    "\n",
    "with open('../data/w_2023-02-07.json') as f:\n",
    "    dd = json.load(f)\n",
    "\n",
    "print(dd)"
   ]
  },
  {
   "cell_type": "markdown",
   "metadata": {},
   "source": [
    "## File Path\n",
    "\n",
    "In programming, a file has two types of paths:  \n",
    "\n",
    "- **Relative path**: relative to the current working directory.  \n",
    "- **Absolute path**: the full path to the file.  \n",
    "\n",
    "For example, suppose you have a file with the absolute path `C:\\Users\\username\\Documents\\data.json`. If the current working directory is `C:\\Users\\username\\Documents`, then the relative path to the file `data.json` is `data.json`. If the current working directory is `C:\\Users\\username`, then the relative path to the file `data.json` is `Documents\\data.json`.\n",
    "\n",
    "In Python, you can get the current working directory using the `os` module (`os` module comes with Python installation. No need to install it first.). Here is an example:\n"
   ]
  },
  {
   "cell_type": "code",
   "execution_count": null,
   "metadata": {},
   "outputs": [],
   "source": [
    "import os\n",
    "\n",
    "cwd = os.getcwd()\n",
    "print(cwd)"
   ]
  },
  {
   "cell_type": "markdown",
   "metadata": {},
   "source": [
    "In my computer, I have the following folder structure:\n",
    "\n",
    "```\n",
    "root\n",
    "├── data\n",
    "│   ├── ...\n",
    "│   └── w_2023-02-07.json\n",
    "└── ipynb\n",
    "    └── week-2.ipynb\n",
    "```\n",
    "\n",
    "  * `root` means the project root folder. \n",
    "\n",
    "My `week-2.ipynb` working directory is `ipynb` folder. To access the file `w_2023-02-07.json` in `data` folder, we can use `..` which means the parent folder of the current working directory. \n",
    "\n",
    "Hence we can use `../data/w_2023-02-07.json` to access the file `w_2023-02-07.json` in `data` folder.\n",
    "\n"
   ]
  },
  {
   "cell_type": "markdown",
   "metadata": {},
   "source": [
    "> **Note**:  \n",
    "> 1. All the discussion regarding relative path here is based on that you have set up a Python environment and linked your Jupyter Notebook to the Python environment correctly.\n",
    "> 2. If you are running .py file, the current working directory is the folder where project root is. "
   ]
  },
  {
   "cell_type": "markdown",
   "metadata": {},
   "source": [
    "#### Exercise\n",
    "\n",
    "\n",
    "Create a file `test.py` with the following code:\n",
    "\n",
    "```python\n",
    "import os\n",
    "\n",
    "cwd = os.getcwd()\n",
    "print(cwd)\n",
    "```"
   ]
  },
  {
   "cell_type": "code",
   "execution_count": null,
   "metadata": {},
   "outputs": [],
   "source": [
    "import os\n",
    "\n",
    "cwd = os.getcwd()\n",
    "print(cwd)"
   ]
  },
  {
   "cell_type": "code",
   "execution_count": null,
   "metadata": {},
   "outputs": [],
   "source": [
    "print(dd[0])"
   ]
  },
  {
   "cell_type": "code",
   "execution_count": null,
   "metadata": {},
   "outputs": [],
   "source": [
    "print(dd['466881'])"
   ]
  },
  {
   "cell_type": "markdown",
   "metadata": {},
   "source": [
    "# Retrieving Data\n",
    "\n",
    "`[.]`\n",
    "\n",
    "where `.` is \"one value\" which is:\n",
    "\n",
    "  * an integer index for lists, tuples, and strings, representing the location of the element to be retrieved. (index starts from 0)\n",
    "  * a key for dictionaries  "
   ]
  },
  {
   "cell_type": "code",
   "execution_count": null,
   "metadata": {},
   "outputs": [],
   "source": [
    "del _dictionary[\"name\"]\n",
    "print(_dictionary)\n"
   ]
  },
  {
   "cell_type": "code",
   "execution_count": null,
   "metadata": {},
   "outputs": [],
   "source": [
    "\n",
    "print(_list)\n",
    "del _list[0]\n",
    "print(_list)\n",
    "\n"
   ]
  },
  {
   "cell_type": "markdown",
   "metadata": {},
   "source": [
    "# Reassign Data\n",
    "\n"
   ]
  },
  {
   "cell_type": "code",
   "execution_count": null,
   "metadata": {},
   "outputs": [],
   "source": [
    "_list[1] = False\n",
    "print(_list)"
   ]
  },
  {
   "cell_type": "markdown",
   "metadata": {},
   "source": [
    "# Adding Data"
   ]
  },
  {
   "cell_type": "code",
   "execution_count": null,
   "metadata": {},
   "outputs": [],
   "source": [
    "_dictionary[\"name\"] = \"John\"\n",
    "print(_dictionary)"
   ]
  },
  {
   "cell_type": "code",
   "execution_count": null,
   "metadata": {},
   "outputs": [],
   "source": [
    "_list = [\"apple\", 1, True]\n",
    "print(_list)\n",
    "_list.append(\"apple\")\n",
    "print(_list)\n",
    "_list.append([2, 3])\n",
    "print(_list)\n",
    "_list.extend([2, 3])\n",
    "print(_list)\n"
   ]
  },
  {
   "cell_type": "code",
   "execution_count": null,
   "metadata": {},
   "outputs": [],
   "source": [
    "print(_list)\n",
    "_list.pop() # remove last\n",
    "print(_list)"
   ]
  },
  {
   "cell_type": "code",
   "execution_count": null,
   "metadata": {},
   "outputs": [],
   "source": [
    "_list = [\"apple\", 1, True]\n",
    "print(_list)"
   ]
  },
  {
   "cell_type": "code",
   "execution_count": null,
   "metadata": {},
   "outputs": [],
   "source": [
    "_list = [1, 2, 3]\n",
    "_list = [*_list, 5]\n",
    "print(_list)"
   ]
  },
  {
   "cell_type": "code",
   "execution_count": null,
   "metadata": {},
   "outputs": [],
   "source": [
    "_dictionary = {\n",
    "    \"name\": \"John\", \n",
    "    \"age\": 36}\n",
    "name, age = _dictionary.values()"
   ]
  }
 ],
 "metadata": {
  "kernelspec": {
   "display_name": ".venv",
   "language": "python",
   "name": "python3"
  },
  "language_info": {
   "codemirror_mode": {
    "name": "ipython",
    "version": 3
   },
   "file_extension": ".py",
   "mimetype": "text/x-python",
   "name": "python",
   "nbconvert_exporter": "python",
   "pygments_lexer": "ipython3",
   "version": "3.11.5"
  },
  "orig_nbformat": 4
 },
 "nbformat": 4,
 "nbformat_minor": 2
}
