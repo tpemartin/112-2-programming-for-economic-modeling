{
 "cells": [
  {
   "cell_type": "markdown",
   "metadata": {},
   "source": [
    "# Package\n"
   ]
  },
  {
   "cell_type": "code",
   "execution_count": null,
   "metadata": {},
   "outputs": [],
   "source": [
    "from gamepy.games import Games"
   ]
  },
  {
   "cell_type": "code",
   "execution_count": null,
   "metadata": {},
   "outputs": [],
   "source": [
    "game, (player1, _) = Games().new(\"g-2\")"
   ]
  },
  {
   "cell_type": "code",
   "execution_count": null,
   "metadata": {},
   "outputs": [],
   "source": [
    "# create a room\n",
    "game.create_room(\"r-26\")"
   ]
  },
  {
   "cell_type": "code",
   "execution_count": null,
   "metadata": {},
   "outputs": [],
   "source": [
    "player1.name=\"Alice\"\n",
    "player1.join(\"r-26\")"
   ]
  },
  {
   "cell_type": "code",
   "execution_count": null,
   "metadata": {},
   "outputs": [],
   "source": [
    "player1.play(\"P\")"
   ]
  },
  {
   "cell_type": "code",
   "execution_count": null,
   "metadata": {},
   "outputs": [],
   "source": [
    "game2, (_, player2) = Games().new(\"g-1\")"
   ]
  },
  {
   "cell_type": "code",
   "execution_count": null,
   "metadata": {},
   "outputs": [],
   "source": [
    "player2.name=\"Jenkins\"\n",
    "player2.join(\"r-26\")"
   ]
  },
  {
   "cell_type": "code",
   "execution_count": null,
   "metadata": {},
   "outputs": [],
   "source": [
    "player2.play(\"D\")"
   ]
  },
  {
   "cell_type": "markdown",
   "metadata": {},
   "source": [
    "# Read Strategies Played"
   ]
  },
  {
   "cell_type": "code",
   "execution_count": null,
   "metadata": {},
   "outputs": [],
   "source": [
    "player1.payoff()"
   ]
  },
  {
   "cell_type": "code",
   "execution_count": null,
   "metadata": {},
   "outputs": [],
   "source": [
    "player2.payoff()"
   ]
  },
  {
   "cell_type": "code",
   "execution_count": null,
   "metadata": {},
   "outputs": [],
   "source": [
    "player = player1"
   ]
  },
  {
   "cell_type": "markdown",
   "metadata": {},
   "source": [
    "# Exercise: warning when room full"
   ]
  },
  {
   "cell_type": "markdown",
   "metadata": {},
   "source": [
    "# pip installable\n",
    "\n",
    "> Every package/subpackage needs a `__init__.py` file.\n",
    "\n",
    "To create a GitHub pip installable package, you can follow these steps:\n",
    "\n",
    "1. Create a new repository on GitHub: Go to GitHub (https://github.com/) and create a new repository to host your package.\n",
    "\n",
    "2. Organize your code: Make sure your code is well-structured and organized in a directory. This directory will be the root of your package.\n",
    "\n",
    "3. Create a setup.py file: In the root directory of your package, create a file named `setup.py`. This file contains information about your package, such as its name, version, dependencies, and entry points. \n",
    "\n",
    "```\n",
    "from setuptools import setup, find_packages\n",
    "\n",
    "setup(\n",
    "    name='your_package_name',\n",
    "    version='1.0.0',\n",
    "    description='Description of your package',\n",
    "    author='Your Name',\n",
    "    packages=find_packages(),\n",
    "    install_requires=['dependency1', 'dependency2'],\n",
    ")\n",
    "\n",
    "```\n",
    "\n",
    "4. Commit your code to the GitHub repository: Initialize a Git repository in your package directory, add your code files, and commit them to the repository.\n",
    "\n",
    "5. Push the repository to GitHub: Push the Git repository to the remote GitHub repository you created in step 1.\n",
    "\n",
    "6. Create a release on GitHub: Go to your GitHub repository, navigate to the \"Releases\" tab, and create a new release. Specify a tag version for the release (e.g., \"v1.0.0\") and provide a release title and description.\n",
    "\n",
    "> Next step, you need to do `pip install wheel` first.\n",
    "\n",
    "7. Upload your package distribution files: Before you upload your package distribution files, you need to build them. Open a terminal or command prompt, navigate to the root directory of your package, and run the following command to build the package:\n",
    "\n",
    "```\n",
    "python setup.py sdist bdist_wheel\n",
    "```\n",
    "\n",
    "This command creates a `dist` directory containing the distribution files for your package.\n",
    "\n",
    "Next, in the release creation page on GitHub, click on \"Upload assets\" and select the distribution files (`*.tar.gz` and `*.whl`) from the `dist` directory.\n",
    "\n",
    "8. Publish the release: Once you've uploaded the distribution files, click on \"Publish release\" to make the release and the package files available to users.\n",
    "\n",
    "Now, users can install your package directly from GitHub using pip by running:\n",
    "```\n",
    "pip install git+https://github.com/username/repo.git@tag\n",
    "```\n",
    "\n",
    "for example,\n",
    "\n",
    "```\n",
    "pip install git+https://github.com/tpemartin/gamepy.git@v1.0.4\n",
    "```\n",
    "\n",
    "Replace `username` with your GitHub username, `repo` with the name of your repository, and `tag` with the tag version you provided in step 6.\n",
    "\n",
    "That's it! Your GitHub pip installable package is ready. Users can install it using pip by referencing your GitHub repository."
   ]
  }
 ],
 "metadata": {
  "kernelspec": {
   "display_name": ".venv",
   "language": "python",
   "name": "python3"
  },
  "language_info": {
   "codemirror_mode": {
    "name": "ipython",
    "version": 3
   },
   "file_extension": ".py",
   "mimetype": "text/x-python",
   "name": "python",
   "nbconvert_exporter": "python",
   "pygments_lexer": "ipython3",
   "version": "3.11.5"
  }
 },
 "nbformat": 4,
 "nbformat_minor": 2
}
