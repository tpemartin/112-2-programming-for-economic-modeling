{
 "cells": [
  {
   "cell_type": "code",
   "execution_count": 57,
   "metadata": {},
   "outputs": [],
   "source": [
    "from IPython.core.interactiveshell import InteractiveShell\n",
    "InteractiveShell.ast_node_interactivity = \"all\""
   ]
  },
  {
   "cell_type": "markdown",
   "metadata": {},
   "source": [
    "# 1. Functions\n",
    "\n",
    "## 1.1. How to define a function\n",
    "\n",
    "From the lecture note [Functions](https://python-programming.quantecon.org/functions.html), we know:\n",
    "\n",
    "  * Execution of the function terminates when the first return is hit.     \n",
    "  * Functions can be (and often are) defined inside other functions.  \n",
    "  * Any object can be passed to a function as an argument, including other functions.\n",
    "  * A function can return any kind of object, including functions."
   ]
  },
  {
   "cell_type": "markdown",
   "metadata": {},
   "source": [
    "> 善用`return`可以使函數更有效率的提早結束"
   ]
  },
  {
   "cell_type": "code",
   "execution_count": 58,
   "metadata": {},
   "outputs": [],
   "source": [
    "def f(x):\n",
    "    if x > 0:\n",
    "        result = 1\n",
    "    elif x == 0:\n",
    "        result = 0\n",
    "    else:\n",
    "        result = -1\n",
    "    return result\n"
   ]
  },
  {
   "cell_type": "code",
   "execution_count": 59,
   "metadata": {},
   "outputs": [],
   "source": [
    "def f(x):\n",
    "    if x > 0:\n",
    "        return 1\n",
    "    elif x == 0:\n",
    "        return 0\n",
    "    else:\n",
    "        return -1\n"
   ]
  },
  {
   "cell_type": "markdown",
   "metadata": {},
   "source": [
    "## 1.2 Function scoping rules\n",
    "\n",
    "![](https://media.geeksforgeeks.org/wp-content/uploads/ScopeResolution-1-300x260.png)"
   ]
  },
  {
   "cell_type": "markdown",
   "metadata": {},
   "source": [
    "  * Local scope: A variable created inside a function (including the input arguments) belongs to the local scope of that function, and can only be used inside that function.\n",
    "  * Enclosed scope: A variable created in the enclosing scope of a function can be used inside that function. (The birthplace of the function)"
   ]
  },
  {
   "cell_type": "code",
   "execution_count": 60,
   "metadata": {},
   "outputs": [
    {
     "name": "stdout",
     "output_type": "stream",
     "text": [
      "1\n",
      "4\n",
      "3\n"
     ]
    }
   ],
   "source": [
    "x=4\n",
    "def a():\n",
    "    y=1\n",
    "    def b(z): \n",
    "        print(y)\n",
    "        print(x)\n",
    "        print(z)\n",
    "    b(3)\n",
    "\n",
    "a()\n",
    "    "
   ]
  },
  {
   "cell_type": "markdown",
   "metadata": {},
   "source": [
    "## 1.3 lambda function\n",
    "\n",
    "  * A lambda function is a small anonymous function.\n",
    "  * A lambda function can take any number of arguments, but can only have one expression.\n",
    "  * Syntax: `lambda arguments : expression`"
   ]
  },
  {
   "cell_type": "code",
   "execution_count": 61,
   "metadata": {},
   "outputs": [
    {
     "data": {
      "text/plain": [
       "2"
      ]
     },
     "execution_count": 61,
     "metadata": {},
     "output_type": "execute_result"
    },
    {
     "data": {
      "text/plain": [
       "2"
      ]
     },
     "execution_count": 61,
     "metadata": {},
     "output_type": "execute_result"
    }
   ],
   "source": [
    "# lambda example\n",
    "f = lambda x: x + 1\n",
    "f(1)\n",
    "\n",
    "# lambda example\n",
    "f = lambda x, y: x + y\n",
    "f(1,1)\n"
   ]
  },
  {
   "cell_type": "markdown",
   "metadata": {},
   "source": [
    "Anonymous function is useful when we need a short function that will only be used once. "
   ]
  },
  {
   "cell_type": "code",
   "execution_count": 62,
   "metadata": {},
   "outputs": [],
   "source": [
    "def preference(x,y):\n",
    "    return x**0.8*y**0.2\n",
    "\n",
    "consumer = {\n",
    "    'name': 'John Doe',\n",
    "    'age': 30,\n",
    "    'preference': preference\n",
    "}\n",
    "\n",
    "# create a preference object in the environment for only one time use."
   ]
  },
  {
   "cell_type": "code",
   "execution_count": 63,
   "metadata": {},
   "outputs": [],
   "source": [
    "consumer = {\n",
    "    'name': 'John Doe',\n",
    "    'age': 30,\n",
    "    'preference': lambda x,y: x**0.8*y**0.2\n",
    "}\n"
   ]
  },
  {
   "cell_type": "markdown",
   "metadata": {},
   "source": [
    "# Constructor \n",
    "\n",
    "A constructor is a function that returns a function. \n",
    "\n",
    "> Constructor name should be capitalized.\n",
    "\n",
    "For example, assume we have a `Cobb_Doublas` constructor that returns a Cobb-Douglas function with a given parameter $\\alpha$. \n",
    "\n",
    "```python\n",
    "# Cobb-Douglas constructor\n",
    "cd = Cobb_Douglas(0.3)\n",
    "\n",
    "```\n",
    "\n",
    "  * The function call `Cobb_Douglas(0.3)`  returns $f(x,y)=x^{0.3}y^{0.7}$.\n",
    "\n",
    "Assume we have a `Derivative` constructor that returns the derivative of a given function $f$.\n",
    "```python\n",
    "# Derivative constructor\n",
    "df = Derivative(f)\n",
    "  \n",
    "```\n",
    "  \n",
    "  * The function call `Derivative(f)` returns $f'(x)$.\n"
   ]
  },
  {
   "cell_type": "markdown",
   "metadata": {},
   "source": [
    "## 1 Cobb-Douglas constructor\n",
    "\n",
    "A Cobb-Douglas preference function is defined as  \n",
    "$$\n",
    "u(x,y|\\alpha) = x^{\\alpha}y^{1-\\alpha}\n",
    "$$\n",
    "where $\\alpha \\in (0,1)$ is the preference parameter.\n",
    "\n"
   ]
  },
  {
   "cell_type": "code",
   "execution_count": 64,
   "metadata": {},
   "outputs": [],
   "source": [
    "def standard_cd(x, y, alpha):\n",
    "    return x**alpha*y**(1-alpha)"
   ]
  },
  {
   "cell_type": "markdown",
   "metadata": {},
   "source": [
    "  * `**` is the exponentiation operator in Python. For example, `2**3` returns 8."
   ]
  },
  {
   "cell_type": "markdown",
   "metadata": {},
   "source": [
    "If we write it as: \n",
    "\n",
    "```python\n",
    "def cd(x, y):\n",
    "    return x**alpha*y**(1-alpha)\n",
    "\n",
    "```\n",
    "\n",
    "then `cd(1,3)` will look for `alpha` in the global scope. \n",
    "\n"
   ]
  },
  {
   "cell_type": "code",
   "execution_count": 65,
   "metadata": {},
   "outputs": [
    {
     "ename": "TypeError",
     "evalue": "unsupported operand type(s) for ** or pow(): 'int' and 'tuple'",
     "output_type": "error",
     "traceback": [
      "\u001b[0;31m---------------------------------------------------------------------------\u001b[0m",
      "\u001b[0;31mTypeError\u001b[0m                                 Traceback (most recent call last)",
      "\u001b[1;32m/Users/martin/Documents/GitHub/112-2-programming-for-economic-modeling/ipynb/week-3-1-function.ipynb Cell 19\u001b[0m line \u001b[0;36m4\n\u001b[1;32m      <a href='vscode-notebook-cell:/Users/martin/Documents/GitHub/112-2-programming-for-economic-modeling/ipynb/week-3-1-function.ipynb#Y145sZmlsZQ%3D%3D?line=0'>1</a>\u001b[0m \u001b[39mdef\u001b[39;00m \u001b[39mcd\u001b[39m(x, y):\n\u001b[1;32m      <a href='vscode-notebook-cell:/Users/martin/Documents/GitHub/112-2-programming-for-economic-modeling/ipynb/week-3-1-function.ipynb#Y145sZmlsZQ%3D%3D?line=1'>2</a>\u001b[0m     \u001b[39mreturn\u001b[39;00m x\u001b[39m*\u001b[39m\u001b[39m*\u001b[39malpha\u001b[39m*\u001b[39my\u001b[39m*\u001b[39m\u001b[39m*\u001b[39m(\u001b[39m1\u001b[39m\u001b[39m-\u001b[39malpha)\n\u001b[0;32m----> <a href='vscode-notebook-cell:/Users/martin/Documents/GitHub/112-2-programming-for-economic-modeling/ipynb/week-3-1-function.ipynb#Y145sZmlsZQ%3D%3D?line=3'>4</a>\u001b[0m cd(\u001b[39m1\u001b[39;49m, \u001b[39m2\u001b[39;49m)\n",
      "\u001b[1;32m/Users/martin/Documents/GitHub/112-2-programming-for-economic-modeling/ipynb/week-3-1-function.ipynb Cell 19\u001b[0m line \u001b[0;36m2\n\u001b[1;32m      <a href='vscode-notebook-cell:/Users/martin/Documents/GitHub/112-2-programming-for-economic-modeling/ipynb/week-3-1-function.ipynb#Y145sZmlsZQ%3D%3D?line=0'>1</a>\u001b[0m \u001b[39mdef\u001b[39;00m \u001b[39mcd\u001b[39m(x, y):\n\u001b[0;32m----> <a href='vscode-notebook-cell:/Users/martin/Documents/GitHub/112-2-programming-for-economic-modeling/ipynb/week-3-1-function.ipynb#Y145sZmlsZQ%3D%3D?line=1'>2</a>\u001b[0m     \u001b[39mreturn\u001b[39;00m x\u001b[39m*\u001b[39;49m\u001b[39m*\u001b[39;49malpha\u001b[39m*\u001b[39my\u001b[39m*\u001b[39m\u001b[39m*\u001b[39m(\u001b[39m1\u001b[39m\u001b[39m-\u001b[39malpha)\n",
      "\u001b[0;31mTypeError\u001b[0m: unsupported operand type(s) for ** or pow(): 'int' and 'tuple'"
     ]
    }
   ],
   "source": [
    "def cd(x, y):\n",
    "    return x**alpha*y**(1-alpha)\n",
    "\n",
    "cd(1, 2)"
   ]
  },
  {
   "cell_type": "code",
   "execution_count": 10,
   "metadata": {},
   "outputs": [
    {
     "data": {
      "text/plain": [
       "1.624504792712471"
      ]
     },
     "execution_count": 10,
     "metadata": {},
     "output_type": "execute_result"
    }
   ],
   "source": [
    "alpha = 0.3\n",
    "cd(1, 2)"
   ]
  },
  {
   "cell_type": "code",
   "execution_count": 11,
   "metadata": {},
   "outputs": [
    {
     "data": {
      "text/plain": [
       "1.1486983549970349"
      ]
     },
     "execution_count": 11,
     "metadata": {},
     "output_type": "execute_result"
    }
   ],
   "source": [
    "alpha = 0.8\n",
    "cd(1, 2)"
   ]
  },
  {
   "cell_type": "markdown",
   "metadata": {},
   "source": [
    "If we want `alpha` to be a fixed parameter when `cd` is defined, we can use a constructor:\n",
    "\n",
    "  * `cd` is born inside the constructor `Cobb_Douglas` to gain access to enclosing scope.\n",
    "  * `alpha` is an input to the constructor `Cobb_Douglas`. Hence part of `cd`'s enclosing scope.\n"
   ]
  },
  {
   "cell_type": "code",
   "execution_count": 66,
   "metadata": {},
   "outputs": [],
   "source": [
    "def Cobb_Douglas(alpha):\n",
    "    def cd(x, y):\n",
    "        return x**alpha*y**(1-alpha)\n",
    "    return cd"
   ]
  },
  {
   "cell_type": "code",
   "execution_count": 67,
   "metadata": {},
   "outputs": [
    {
     "data": {
      "text/plain": [
       "(1.624504792712471, 5.428814526898253)"
      ]
     },
     "execution_count": 67,
     "metadata": {},
     "output_type": "execute_result"
    }
   ],
   "source": [
    "cd = Cobb_Douglas(0.3)\n",
    "\n",
    "alpha = 0.3\n",
    "cd(1, 2), cd(3,7)"
   ]
  },
  {
   "cell_type": "code",
   "execution_count": 68,
   "metadata": {},
   "outputs": [
    {
     "data": {
      "text/plain": [
       "(1.624504792712471, 5.428814526898253)"
      ]
     },
     "execution_count": 68,
     "metadata": {},
     "output_type": "execute_result"
    }
   ],
   "source": [
    "alpha = 0.8\n",
    "cd(1, 2), cd(3,7) # not affected by the change of alpha in the global environment"
   ]
  },
  {
   "cell_type": "markdown",
   "metadata": {},
   "source": [
    "## Exercise CES utility function\n",
    "\n",
    "A CES utility function is defined as\n",
    "$$\n",
    "u(x,y|\\sigma, \\alpha) = \\left(\\alpha x^{-\\sigma} + (1-\\alpha)y^{-\\sigma}\\right)^{-1/\\sigma}\n",
    "$$\n",
    "where $\\sigma \\in \\mathbb{R}$  and $\\alpha \\in (0,1)$ are the preference parameters.\n",
    "\n",
    "  * Write a constructor `CES` that returns a CES utility function with a given $\\sigma$ and $\\alpha$.\n",
    "  * Use the constructor to define a CES utility function with $\\sigma=0.5$, $\\alpha=0.7$.\n"
   ]
  },
  {
   "cell_type": "markdown",
   "metadata": {},
   "source": [
    "\n",
    "## Exercise CES in general\n",
    "\n",
    "A CES utility function of $n$ goods is defined as\n",
    "$$\n",
    "u(x_1, x_2, \\ldots, x_n|\\sigma, \\alpha) = \\left(\\sum_{i=1}^n \\alpha_i x_i^{-\\sigma}\\right)^{-1/\\sigma}\n",
    "$$\n",
    "where $\\sigma \\in \\mathbb{R}$  and $\\alpha_i > 0$ are the preference parameters.\n",
    "\n",
    "  * Write a constructor `CES` that returns a CES utility function with a given $\\sigma$ and $\\alpha$.\n",
    "  * Use the constructor to define a CES utility function `ces` with $\\sigma=0.5$, $\\alpha=(0.7, 0.2, 0.1)$.\n",
    "\n",
    "For this exercise, the `ces` function should take a vector of goods as input. For example, `ces(numpy.array([1,2,3]))` should return $u(1,2,3)$."
   ]
  },
  {
   "cell_type": "code",
   "execution_count": 31,
   "metadata": {},
   "outputs": [
    {
     "data": {
      "text/plain": [
       "0.8991563831562721"
      ]
     },
     "execution_count": 31,
     "metadata": {},
     "output_type": "execute_result"
    }
   ],
   "source": [
    "import numpy as np\n",
    "\n",
    "x = np.array([1, 2, 3])\n",
    "sigma = 0.5\n",
    "alpha = 0.7, 0.2, 0.1\n",
    "\n",
    "x**(-sigma)*alpha # ** and * are elementwise operations\n",
    "sum(x**(-sigma)*alpha)"
   ]
  },
  {
   "cell_type": "markdown",
   "metadata": {},
   "source": [
    "## 2 Derivative constructor\n",
    "First derivative of a function $f(x)$ is defined as\n",
    "$$\n",
    "f'(x) = \\lim_{h\\to 0} \\frac{f(x+h) - f(x)}{h}\n",
    "$$\n",
    "\n",
    "The following function `derivative` computes the first derivative of a function $f(x)$ at a point $x$.\n"
   ]
  },
  {
   "cell_type": "code",
   "execution_count": 25,
   "metadata": {},
   "outputs": [],
   "source": [
    "def derivative(f, x, h=0.00001):\n",
    "    return (f(x+h)-f(x))/h\n"
   ]
  },
  {
   "cell_type": "markdown",
   "metadata": {},
   "source": [
    "* `f` is a function input. \n",
    "* `h` is a keyword argument with default value 1e-5. (i.e. $10^{-5}$)\n"
   ]
  },
  {
   "cell_type": "code",
   "execution_count": 26,
   "metadata": {},
   "outputs": [
    {
     "data": {
      "text/plain": [
       "(2.0000009999243673, 4.000010000027032)"
      ]
     },
     "execution_count": 26,
     "metadata": {},
     "output_type": "execute_result"
    }
   ],
   "source": [
    "def f(x):\n",
    "    return x**2\n",
    "\n",
    "derivative(f, 1, 1e-6), derivative(f,2)"
   ]
  },
  {
   "cell_type": "markdown",
   "metadata": {},
   "source": [
    "But we want a return that is `f'(x)` so that we can use in the following way:\n",
    "\n",
    "```python\n",
    "df = Derivative(f)\n",
    "df(1, 1e-5), df(2)\n",
    "```\n"
   ]
  },
  {
   "cell_type": "code",
   "execution_count": 27,
   "metadata": {},
   "outputs": [],
   "source": [
    "def Derivative(f):\n",
    "    def df(x, h=0.00001):\n",
    "        return (f(x+h)-f(x))/h\n",
    "    return df\n"
   ]
  },
  {
   "cell_type": "code",
   "execution_count": 28,
   "metadata": {},
   "outputs": [
    {
     "data": {
      "text/plain": [
       "(2.00001000001393, 4.000010000027032)"
      ]
     },
     "execution_count": 28,
     "metadata": {},
     "output_type": "execute_result"
    }
   ],
   "source": [
    "df = Derivative(f)\n",
    "df(1, 1e-5), df(2) "
   ]
  },
  {
   "cell_type": "markdown",
   "metadata": {},
   "source": [
    "  * `f` is an input to the constructor `Derivative`. Hence part of `df`'s enclosing scope."
   ]
  },
  {
   "cell_type": "markdown",
   "metadata": {},
   "source": [
    "# Exercise Gradient constructor\n",
    "A gradient is a vector of partial derivatives. For example, the gradient of a function $f(x_0,x_1)$ is defined as\n",
    "$$\n",
    "\\nabla f(x_0,x_1) = \\left(\\frac{\\partial f(x_0,x_1)}{\\partial x_0}, \\frac{\\partial f(x_0,x_1)}{\\partial x_1}\\right)\n",
    "$$\n",
    "\n",
    "The numerical partial derivative of a function $f(x_0,x_1)$ at a point $(x_0,x_1)$ is defined as\n",
    "$$\n",
    "\\frac{\\partial f(x_0,x_1)}{\\partial x_0} = \\lim_{h\\to 0} \\frac{f(x_0+h,x_1) - f(x_0,x_1)}{h}\n",
    "$$\n",
    "vice versa for $\\frac{\\partial f(x_0,x_1)}{\\partial x_1}$.\n",
    "\n",
    "The following is a solution for the 2 dimensial case where $f(x_0,x_1)=x_0^2x_1$\n"
   ]
  },
  {
   "cell_type": "code",
   "execution_count": 76,
   "metadata": {},
   "outputs": [
    {
     "data": {
      "text/plain": [
       "(2, 128)"
      ]
     },
     "execution_count": 76,
     "metadata": {},
     "output_type": "execute_result"
    }
   ],
   "source": [
    "# gradient\n",
    "\n",
    "def f(x):\n",
    "    return x[0]**2*x[1]\n",
    "\n",
    "f([1,2]), f([8,2])"
   ]
  },
  {
   "cell_type": "code",
   "execution_count": 78,
   "metadata": {},
   "outputs": [
    {
     "data": {
      "text/plain": [
       "(array([4.000002, 1.      ]), array([32.00002, 64.     ]))"
      ]
     },
     "execution_count": 78,
     "metadata": {},
     "output_type": "execute_result"
    }
   ],
   "source": [
    "\n",
    "def gradient(f, x, h=0.00001):\n",
    "    x0 = x.copy()\n",
    "    x0[0] += h # += is equivalent to x0[0] = x0[0] + h but more efficient\n",
    "    x1 = x.copy()\n",
    "    x1[1] += h\n",
    "    return np.array([(f(x0)-f(x))/h, (f(x1)-f(x))/h])\n",
    "\n",
    "gradient(f, [1, 2], 1e-6), gradient(f, [8, 2])"
   ]
  },
  {
   "cell_type": "markdown",
   "metadata": {},
   "source": [
    "* Create a gradient constructor for 2D function named `Gradient2D` so that we can use in the following way:\n",
    "\n",
    "```python\n",
    "df = Gradient2D(f)\n",
    "df([1, 2]), df([8, 2])\n",
    "```"
   ]
  },
  {
   "cell_type": "markdown",
   "metadata": {},
   "source": [
    "# Exercise Demand and Supply\n",
    "\n",
    "Continue from Week2-1 Exercise B\n",
    "\n",
    "In general, we can write the demand equation as $ q^d = Dp + h $, where\n",
    "\n",
    "- $ q^d $ is an $ n \\times 1 $ vector of demand quantities for $ n $ different goods.  \n",
    "- $ D $ is an $ n \\times n $ “coefficient” matrix.  \n",
    "- $ h $ is an $ n \\times 1 $ vector of constant values.  \n",
    "\n",
    "\n",
    "Similarly, we can write the supply equation as $ q^s = Cp + e $, where\n",
    "\n",
    "- $ q^d $ is an $ n \\times 1 $ vector of supply quantities for the same goods.  \n",
    "- $ C $ is an $ n \\times n $ “coefficient” matrix.  \n",
    "- $ e $ is an $ n \\times 1 $ vector of constant values.  \n",
    "\n",
    "\n",
    "To find an equilibrium, we solve $ Dp + h = Cp + e $\n",
    "\n",
    "$$\n",
    "p = (C-D)^{-1} h\n",
    "q = Dp + h\n",
    "$$\n",
    "\n",
    "Write a function `compute_equilibrium_price`. \n",
    "\n",
    "  * Think carefully the inputs you need.  \n",
    "  * Think carefully the output object type."
   ]
  },
  {
   "cell_type": "markdown",
   "metadata": {},
   "source": [
    "# Object Oriented Programming\n",
    "\n",
    "OOP is a programming paradigm based on the concept of \"objects\", which can contain data and code: data in the form of fields (often known as attributes or properties), and code, in the form of procedures (often known as methods)."
   ]
  },
  {
   "cell_type": "markdown",
   "metadata": {},
   "source": [
    "## 1 Modules\n",
    "\n",
    "You can build a local module and import it\n",
    "\n",
    "  * Create a file named `mymodule.py` in the same directory as your notebook\n",
    "  * Put the following code in it \n"
   ]
  },
  {
   "cell_type": "code",
   "execution_count": null,
   "metadata": {},
   "outputs": [],
   "source": [
    "import numpy as np\n",
    "def consumer_example():\n",
    "    \n",
    "    example = {\n",
    "    \"beta\" : 0.96,\n",
    "    \"u\": lambda c: np.log(c) # anonymous function\n",
    "    }\n",
    "    return example"
   ]
  },
  {
   "cell_type": "markdown",
   "metadata": {},
   "source": [
    "The code define a function that can return [a consumer from OLG](https://intro.quantecon.org/olg.html#equation-max-sav-olg) with $\\beta=0.96$ and $u(c)=\\ln(c)$.\n",
    "\n",
    "  * Import the module `mymodule` and use the function `consumer_olg` to create a consumer."
   ]
  },
  {
   "cell_type": "markdown",
   "metadata": {},
   "source": [
    "  * In your notebook, you can import it by `import mymodule`"
   ]
  },
  {
   "cell_type": "code",
   "execution_count": 80,
   "metadata": {},
   "outputs": [
    {
     "data": {
      "text/plain": [
       "(0.96, 0.1823215567939546)"
      ]
     },
     "execution_count": 80,
     "metadata": {},
     "output_type": "execute_result"
    }
   ],
   "source": [
    "import py.olg2 as olg  \n",
    "ce = olg.consumer_example() \n",
    "\n",
    "ce[\"beta\"], ce[\"u\"](1.2)\n"
   ]
  },
  {
   "cell_type": "markdown",
   "metadata": {},
   "source": [
    "Given the log utility function, optimal consumption will link saving and wage as follows:\n",
    "\n",
    "$$\n",
    "s_t = s(w_t, R_{t+1}) = \\frac{\\beta}{1+\\beta} w_t \\tag{23.6}\n",
    "$$\n",
    "\n",
    "In programming, there is a method that this `ce` consumer can do -- which is decide his saving. "
   ]
  },
  {
   "cell_type": "code",
   "execution_count": null,
   "metadata": {},
   "outputs": [
    {
     "data": {
      "text/plain": [
       "0.4897959183673469"
      ]
     },
     "metadata": {},
     "output_type": "display_data"
    }
   ],
   "source": [
    "def saving(w, R):\n",
    "    return (ce[\"beta\"]/(1+ce[\"beta\"]))*w\n",
    "\n",
    "saving(1, 1.05)"
   ]
  },
  {
   "cell_type": "markdown",
   "metadata": {},
   "source": [
    "Define a saving function the above way means that   \n",
    "* The consumer example must be named `ce`; and  \n",
    "* has to be created in the global environment before `saving` is called."
   ]
  },
  {
   "cell_type": "markdown",
   "metadata": {},
   "source": [
    "## 2 OOP \n",
    "\n",
    "In the previous example, `ce` is a result of `consumer_example` function call, which is called an `instance`. (i.e. an `instance` is actually an example.)\n",
    "\n",
    "An example of consumer is not completed with his/her ability to save optimally, which is called a `method` or `instance method` to be more precisely (since saving's value will depend on `ce`'s attributes, like `beta` -- instance specific ).\n",
    "\n",
    "[python OOP](https://python-programming.quantecon.org/python_oop.html#)  \n",
    "[Overlapping Generation Model](https://intro.quantecon.org/olg.html)\n",
    "\n",
    "In Python, we use `class` to define a class within which are mostly functions."
   ]
  },
  {
   "cell_type": "code",
   "execution_count": 84,
   "metadata": {},
   "outputs": [],
   "source": [
    "class Consumer:\n",
    "    def __init__(self):\n",
    "        pass # do nothing\n",
    "\n",
    "ce = Consumer()"
   ]
  },
  {
   "cell_type": "markdown",
   "metadata": {},
   "source": [
    "You can see `ce` is like a dictionary with many keys already.  \n",
    "\n",
    "![](../img/ce%20as%20dict.png)\n",
    "\n",
    "* `__init__` is a special function that is called when an instance is created.     \n",
    "* `self` is the content of the instance, which is a dictionary like object and is **mutable**.  \n",
    "* All the functions defined in the class will be the methods of the instance.  \n",
    "* You can pass `self` to any method, but must be in the first argument, to gain access to the instance's attributes."
   ]
  },
  {
   "cell_type": "code",
   "execution_count": 86,
   "metadata": {},
   "outputs": [],
   "source": [
    "class Consumer:\n",
    "    def __init__(self, beta, u):\n",
    "        self.beta = beta # self is mutable. \n",
    "        self.u = u\n",
    "    def saving(self, w, R):\n",
    "        return (self.beta/(1+self.beta))*w\n",
    "\n",
    "import numpy as np\n",
    "ce = Consumer(0.9, lambda c: np.log(c)) # a lambda function example"
   ]
  },
  {
   "cell_type": "markdown",
   "metadata": {},
   "source": [
    "\n",
    "    \n",
    "  * No need to worry if `beta` information is available in the global namespace. It is part of the instance attributes. So always accessible.\n",
    "\n",
    "> Class name should be capitalized. Method name should be lower case."
   ]
  },
  {
   "cell_type": "code",
   "execution_count": 89,
   "metadata": {},
   "outputs": [
    {
     "data": {
      "text/plain": [
       "0.9"
      ]
     },
     "execution_count": 89,
     "metadata": {},
     "output_type": "execute_result"
    },
    {
     "data": {
      "text/plain": [
       "0.6931471805599453"
      ]
     },
     "execution_count": 89,
     "metadata": {},
     "output_type": "execute_result"
    },
    {
     "data": {
      "text/plain": [
       "0.4736842105263158"
      ]
     },
     "execution_count": 89,
     "metadata": {},
     "output_type": "execute_result"
    }
   ],
   "source": [
    "ce.beta\n",
    "ce.u(2)\n",
    "ce.saving(1, 1.05)"
   ]
  },
  {
   "cell_type": "code",
   "execution_count": 92,
   "metadata": {},
   "outputs": [
    {
     "data": {
      "text/plain": [
       "0.7"
      ]
     },
     "execution_count": 92,
     "metadata": {},
     "output_type": "execute_result"
    },
    {
     "data": {
      "text/plain": [
       "0.6931471805599453"
      ]
     },
     "execution_count": 92,
     "metadata": {},
     "output_type": "execute_result"
    },
    {
     "data": {
      "text/plain": [
       "0.4117647058823529"
      ]
     },
     "execution_count": 92,
     "metadata": {},
     "output_type": "execute_result"
    }
   ],
   "source": [
    "ce2 = Consumer(0.7, lambda c: np.log(c))\n",
    "\n",
    "ce2.beta\n",
    "ce2.u(2)\n",
    "ce2.saving(1, 1.05) # ce2 uses its own beta"
   ]
  },
  {
   "cell_type": "markdown",
   "metadata": {},
   "source": [
    "\\_\\_init\\_\\_ carries the fundamental picture of your model. Any other equilibrium conditions, first order conditions, etc. should be defined as methods of the class."
   ]
  },
  {
   "cell_type": "markdown",
   "metadata": {},
   "source": [
    "# Exercise Demand and Suppy in OOP\n",
    "\n",
    "Continue from exercise B, construct a DemandSupply class."
   ]
  }
 ],
 "metadata": {
  "kernelspec": {
   "display_name": ".venv",
   "language": "python",
   "name": "python3"
  },
  "language_info": {
   "codemirror_mode": {
    "name": "ipython",
    "version": 3
   },
   "file_extension": ".py",
   "mimetype": "text/x-python",
   "name": "python",
   "nbconvert_exporter": "python",
   "pygments_lexer": "ipython3",
   "version": "3.11.5"
  },
  "orig_nbformat": 4
 },
 "nbformat": 4,
 "nbformat_minor": 2
}
