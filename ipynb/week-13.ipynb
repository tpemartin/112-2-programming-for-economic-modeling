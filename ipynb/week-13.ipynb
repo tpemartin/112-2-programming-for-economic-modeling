{
 "cells": [
  {
   "cell_type": "markdown",
   "metadata": {},
   "source": [
    "# Inheritance"
   ]
  },
  {
   "cell_type": "markdown",
   "metadata": {},
   "source": [
    "Sometimes classes have parent (super class) and children (sub classes) relationship. The children inherit the attributes and methods of the parent. If you want the sub classes to have all the properties and methods of the parent class, you can use inheritance."
   ]
  },
  {
   "cell_type": "code",
   "execution_count": null,
   "metadata": {},
   "outputs": [],
   "source": [
    "class Differentiable:\n",
    "    type = \"Differentiable\"\n",
    "    def __init__(self, value):\n",
    "        self.value = value\n",
    "    def derivative(self, x):\n",
    "        pass\n",
    "    \n",
    "class LogLinear:\n",
    "    sub_type = \"LogLinear\"\n",
    "    def __init__(self, parameters):\n",
    "        self.parameters = parameters\n",
    "  "
   ]
  },
  {
   "cell_type": "markdown",
   "metadata": {},
   "source": [
    "All differentiable function can have derivative computed. Loglinear is class of differentiable functions. We can use inheritance to let `LogLinear` class inherit the `derivative` instance method from `Differentiable` class.\n"
   ]
  },
  {
   "cell_type": "code",
   "execution_count": null,
   "metadata": {},
   "outputs": [],
   "source": [
    "class Differentiable:\n",
    "    type = [\"Differentiable\"]\n",
    "    def __init__(self, value):\n",
    "        self.value = value\n",
    "    def derivative(self, x):\n",
    "        pass\n",
    "    @classmethod\n",
    "    def change_type(cls, new_type):\n",
    "        cls.type = new_type\n",
    "    \n",
    "class LogLinear(Differentiable):\n",
    "    sub_type = [\"LogLinear\"]\n",
    "    def __init__(self, parameters, value):\n",
    "        super().__init__(value)\n",
    "        self.parameters = parameters\n",
    "    "
   ]
  },
  {
   "cell_type": "markdown",
   "metadata": {},
   "source": [
    "- sub class `__init__` also inherit super class `__init__` input argument `value`.  \n",
    "- `super().__init__(...)` is used to call the super class `__init__` method."
   ]
  },
  {
   "cell_type": "code",
   "execution_count": null,
   "metadata": {},
   "outputs": [],
   "source": [
    "ll = LogLinear(1, 2)"
   ]
  },
  {
   "cell_type": "code",
   "execution_count": null,
   "metadata": {},
   "outputs": [],
   "source": [
    "ll.__class__.type, ll.__class__.sub_type, ll.derivative(1)"
   ]
  },
  {
   "cell_type": "markdown",
   "metadata": {},
   "source": [
    "> If the super class property is **mutable**, then modify the sub class same property will change its super class counterpart as well."
   ]
  },
  {
   "cell_type": "code",
   "execution_count": null,
   "metadata": {},
   "outputs": [],
   "source": [
    "# modify the inherited class property\n",
    "#   also modifies the parent class property\n",
    "ll.type.append(\"Continuous\")\n",
    "ll.type"
   ]
  },
  {
   "cell_type": "code",
   "execution_count": null,
   "metadata": {},
   "outputs": [],
   "source": [
    "Differentiable.type"
   ]
  },
  {
   "cell_type": "markdown",
   "metadata": {},
   "source": [
    "## Games class\n",
    "\n",
    "`Games` class encapsulates the menu of available games, and the method to start a new game, the history of game played will be tracked underneath. \n",
    "\n",
    "`Game` class is to initialize a game, and to play the game. \n",
    "\n",
    "When playing a game of `Game` class, users might want to play another game. If we let `Game` class inherit `Games` class, `Game` class will have the method to start a new game -- no need to use `Games` class to start a new game.\n",
    " \n",
    "\n",
    "- `Games` a super class\n",
    "- `Game` a sub class\n",
    "\n"
   ]
  },
  {
   "cell_type": "code",
   "execution_count": null,
   "metadata": {},
   "outputs": [],
   "source": [
    "# Demo: Do not run\n",
    "\n",
    "# No inheritance\n",
    "games = Games()\n",
    "game = games.new('g-1')\n",
    "Alice, Bob = game.players\n",
    "\n",
    "## To play another game, we use games again\n",
    "game2 = games.new('g-2') # use games\n"
   ]
  },
  {
   "cell_type": "code",
   "execution_count": null,
   "metadata": {},
   "outputs": [],
   "source": [
    "\n",
    "# With inheritance\n",
    "### new game can be initialized with the current game instance\n",
    "game2 = game.new('g-2') # use game not games\n"
   ]
  },
  {
   "cell_type": "markdown",
   "metadata": {},
   "source": [
    "### Details"
   ]
  },
  {
   "cell_type": "code",
   "execution_count": null,
   "metadata": {},
   "outputs": [],
   "source": [
    "from gamepy.games import Games"
   ]
  },
  {
   "cell_type": "markdown",
   "metadata": {},
   "source": [
    "`Games` in `games.py`:\n",
    "  \n",
    "https://github.com/tpemartin/gamepy/blob/681ba5c2b4ff7ffc7eba3f724ab212634c2e388f/games.py#L11_L37\n",
    "\n",
    "  - All class method must have `@classmethod` decorator.\n",
    "  - class property `games_played` is a dictionary which is mutable.\n"
   ]
  },
  {
   "cell_type": "markdown",
   "metadata": {},
   "source": [
    "### Usage"
   ]
  },
  {
   "cell_type": "code",
   "execution_count": null,
   "metadata": {},
   "outputs": [],
   "source": [
    "# The first time to initiate a new game\n",
    "\n",
    "game, (player1, player2) = Games().new(\"g-1\") \n",
    "# Or\n",
    "# games = Games()\n",
    "# game = games.new(\"g-1\")\n",
    "\n",
    "# Afterward, can use `game` to initiate a different new game\n",
    "# Game class inherits `new` instance method from Games class\n",
    "game2, (player1, player2) = game.new(\"g-2\")\n",
    "\n",
    "# a new g-1\n",
    "game3, (player1, _ ) = game.new(\"g-1\")\n",
    "# if you don't need player2, use meaningless holder `_`"
   ]
  },
  {
   "cell_type": "markdown",
   "metadata": {},
   "source": [
    "- `Games.new` will return `game` and `players` (a list of two player instances)\n",
    "- The above code uses unpacking skill."
   ]
  },
  {
   "cell_type": "code",
   "execution_count": null,
   "metadata": {},
   "outputs": [],
   "source": [
    "a = [1, (2, 3)]\n",
    "a1, other = a\n",
    "a1, _ = a\n"
   ]
  },
  {
   "cell_type": "code",
   "execution_count": null,
   "metadata": {},
   "outputs": [],
   "source": [
    "\n",
    "b = [1, (2, 3), 5]\n",
    "b1, *other = b # `*` force `other` to take in all the rest\n",
    "other"
   ]
  },
  {
   "cell_type": "code",
   "execution_count": null,
   "metadata": {},
   "outputs": [],
   "source": [
    "b1, b2, b3 = b\n",
    "b2\n",
    "\n",
    "b1, (c1, c2), b3 = b\n",
    "c1, c2\n"
   ]
  },
  {
   "cell_type": "markdown",
   "metadata": {},
   "source": [
    "The instances of the sub class `Game` all inherit properties and methods from super class `Games`.\n",
    "\n",
    "Instance properties and methods continue to be the instance properties and methods in the sub class (`Game` here), and class properties and methods continue to be the class properties and methods in the sub class (`Game` here)."
   ]
  },
  {
   "cell_type": "code",
   "execution_count": null,
   "metadata": {},
   "outputs": [],
   "source": [
    "# All sub class have inherited super class methods and properties\n",
    "game.new\n",
    "game.new2 # class method\n",
    "game.switch\n",
    "game.switch2 # class method\n",
    "game.games_played # class property\n",
    "\n",
    "game2.new\n",
    "game2.new2\n",
    "game2.switch\n",
    "game2.switch2\n",
    "game.games_played"
   ]
  },
  {
   "cell_type": "markdown",
   "metadata": {},
   "source": [
    "### Modify super class property though subclass\n",
    "\n",
    "If the super class property is **mutable** and there is method that can change it under the hood. When sub class instance call the method, the super class property will be changed as well -- as long as it is mutable."
   ]
  },
  {
   "cell_type": "code",
   "execution_count": null,
   "metadata": {},
   "outputs": [],
   "source": [
    "# current super class property\n",
    "Games.games_played"
   ]
  },
  {
   "cell_type": "code",
   "execution_count": null,
   "metadata": {},
   "outputs": [],
   "source": [
    "# sub class method (inherited) call\n",
    "game.new('g-2')\n",
    "game.new('g-2')\n",
    "\n",
    "# check super class property\n",
    "Games.games_played"
   ]
  },
  {
   "cell_type": "markdown",
   "metadata": {},
   "source": [
    "> Even the super class `Games` remembers the played game created by its subclasses `game`. The `games_played` class property is in sync between `Games` and its subclasses.\n",
    "\n",
    "- Inheritance can create a feedback loop from the subclass back to the super class as long as the property value is *mutable*."
   ]
  },
  {
   "cell_type": "markdown",
   "metadata": {},
   "source": [
    "### Two types of game play\n",
    "\n",
    "new game (`game.new()`) vs. returning game (`game.switch()`)"
   ]
  },
  {
   "cell_type": "code",
   "execution_count": null,
   "metadata": {},
   "outputs": [],
   "source": [
    "# return to g-2\n",
    "game, (Alice, Bob) = game.switch('g-2')\n",
    "Alice.play(\"S\"), Bob.play(\"R\")\n",
    "Alice.played_strategy, Bob.played_strategy, game.payoff()"
   ]
  },
  {
   "cell_type": "markdown",
   "metadata": {},
   "source": [
    "You can switch through class method `Games.switch2`. Also create new game through `Games.new2`."
   ]
  },
  {
   "cell_type": "code",
   "execution_count": null,
   "metadata": {},
   "outputs": [],
   "source": [
    "game, (Alice, Bob) = Games.switch2('g-1')\n",
    "game, (Alice, Bob) = Games.new2('g-2')"
   ]
  },
  {
   "cell_type": "markdown",
   "metadata": {},
   "source": [
    "For a game that has multiple instances (like same game played in different rooms), we can `switch` to the specific instance using its index in `game.games_played['game_id'][index]`"
   ]
  },
  {
   "cell_type": "code",
   "execution_count": null,
   "metadata": {},
   "outputs": [],
   "source": [
    "# return to first g-1\n",
    "game, (Alice, Bob) = game.switch('g-1')\n",
    "Alice.play(\"C\"), Bob.play(\"D\")\n",
    "Alice.played_strategy, Bob.played_strategy, game.payoff()"
   ]
  },
  {
   "cell_type": "code",
   "execution_count": null,
   "metadata": {},
   "outputs": [],
   "source": [
    "# return to second g-1\n",
    "game, (Alice, Bob) = game.switch('g-1',index=1)\n",
    "Alice.play(\"D\"), Bob.play(\"D\")\n",
    "Alice.played_strategy, Bob.played_strategy, game.payoff()"
   ]
  },
  {
   "cell_type": "code",
   "execution_count": null,
   "metadata": {},
   "outputs": [],
   "source": [
    "# check 1st g-1 played_strategy\n",
    "[p.played_strategy \n",
    "    for p in game.games_played['g-1'][0].players]"
   ]
  },
  {
   "cell_type": "code",
   "execution_count": null,
   "metadata": {},
   "outputs": [],
   "source": [
    "# check 2nd g-1 played_strategy\n",
    "[p.played_strategy \n",
    "    for p in game.games_played['g-1'][1].players]"
   ]
  },
  {
   "cell_type": "markdown",
   "metadata": {},
   "source": [
    "# Exercise: Game Room\n"
   ]
  },
  {
   "cell_type": "markdown",
   "metadata": {},
   "source": [
    "Given the following setup of `GameRoom`"
   ]
  },
  {
   "cell_type": "code",
   "execution_count": null,
   "metadata": {},
   "outputs": [],
   "source": [
    "from gamepy.gamesheet.gamesheet import spreadsheets_id, scopes\n",
    "from gamepy.gamesheet.gameroom import GameRoom\n",
    "game_room = GameRoom(spreadsheets_id, scopes)"
   ]
  },
  {
   "cell_type": "code",
   "execution_count": null,
   "metadata": {},
   "outputs": [],
   "source": [
    "game_room.register_game_room(\"g-1:r-1\")\n",
    "game_room.register_player1_name(\"g-1:r-1\", \"Alice\")\n",
    "game_room.register_player2_name(\"g-1:r-1\", \"Bob\")\n",
    "game_room.register_player1_choice(\"g-1:r-1\", \"C\")\n",
    "game_room.register_player2_choice(\"g-1:r-1\", \"D\")\n"
   ]
  },
  {
   "cell_type": "markdown",
   "metadata": {},
   "source": [
    "Modify `Game` class and ``"
   ]
  },
  {
   "cell_type": "code",
   "execution_count": null,
   "metadata": {},
   "outputs": [],
   "source": [
    "game.create_room(room_id = \"r-1\")\n",
    "player1.join_room(room_id = \"r-1\")"
   ]
  },
  {
   "cell_type": "code",
   "execution_count": null,
   "metadata": {},
   "outputs": [],
   "source": [
    "game, (player1, player2) = Games().new(\"g-1\")\n",
    "game.create_room(room_id = \"r-1\") \n",
    "# register game room under game_room_id \"g-1:r-1\"\n",
    "\n",
    "player1.join_room(room_id = \"r-1\")\n",
    "# register player1 name under game_room_id \"g-1:r-1\"\n",
    "player2.join_room(room_id = \"r-1\")\n",
    "# register player2 name under game_room_id \"g-1:r-1\"\n",
    "\n",
    "player1.play(\"C\")\n",
    "# register player1 choice under game_room_id \"g-1:r-1\"\n",
    "player2.play(\"D\")\n",
    "# register player2 choice under game_room_id \"g-1:r-1\"\n"
   ]
  },
  {
   "cell_type": "markdown",
   "metadata": {},
   "source": [
    "#### Define Package * import\n",
    "\n",
    "Instead of using `from gamepy.gamesheet.gamesheet import *` where the last `gamesheet` is the module name, we can use `from gamepy.gamesheet import *` if we have `__ALL__` defined what to export in `__init__.py`.\n",
    "\n",
    "\n",
    "In `__init__.py`\n",
    "```python\n",
    "# package attributes used in `test` must \n",
    "#  go above the `test` import\n",
    "from .gamesheet import test\n",
    "\n",
    "__ALL__ = ['test']\n",
    "```"
   ]
  },
  {
   "cell_type": "markdown",
   "metadata": {},
   "source": [
    "> Note: package attributes, like `scopes` used in `test` must go above the `test` import."
   ]
  },
  {
   "cell_type": "code",
   "execution_count": null,
   "metadata": {},
   "outputs": [],
   "source": [
    "# import from package (not from module)\n",
    "from gamepy.gamesheet import test, scopes"
   ]
  },
  {
   "cell_type": "code",
   "execution_count": null,
   "metadata": {},
   "outputs": [],
   "source": [
    "test()"
   ]
  },
  {
   "cell_type": "markdown",
   "metadata": {},
   "source": [
    "Import `spreadsheet_id` from package is not allowed since it is not defined in `__ALL__`."
   ]
  },
  {
   "cell_type": "code",
   "execution_count": null,
   "metadata": {},
   "outputs": [],
   "source": [
    "# can not import spreadsheet_id from package,\n",
    "# since it is not in __ALL__\n",
    "from gamepy.gamesheet import spreadsheets_id"
   ]
  },
  {
   "cell_type": "markdown",
   "metadata": {},
   "source": [
    "However, if you import `spreadsheet_id` from `gamesheet.py`, it is allowed.\n",
    "\n",
    "> `__init__.py` only control export in `from {package}` level. It does not control export in `from {package}.{module}` level."
   ]
  },
  {
   "cell_type": "code",
   "execution_count": null,
   "metadata": {},
   "outputs": [],
   "source": [
    "# Can still import from module level though\n",
    "from gamepy.gamesheet.gamesheet import spreadsheets_id"
   ]
  }
 ],
 "metadata": {
  "kernelspec": {
   "display_name": ".venv",
   "language": "python",
   "name": "python3"
  },
  "language_info": {
   "codemirror_mode": {
    "name": "ipython",
    "version": 3
   },
   "file_extension": ".py",
   "mimetype": "text/x-python",
   "name": "python",
   "nbconvert_exporter": "python",
   "pygments_lexer": "ipython3",
   "version": "3.11.5"
  }
 },
 "nbformat": 4,
 "nbformat_minor": 2
}
