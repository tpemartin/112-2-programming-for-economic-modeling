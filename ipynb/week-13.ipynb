{
 "cells": [
  {
   "cell_type": "markdown",
   "metadata": {},
   "source": [
    "# Inheritance"
   ]
  },
  {
   "cell_type": "markdown",
   "metadata": {},
   "source": [
    "Sometimes classes have parent (super class) and children (sub classes) relationship. The children inherit the attributes and methods of the parent. If you want the sub classes to have all the properties and methods of the parent class, you can use inheritance."
   ]
  },
  {
   "cell_type": "code",
   "execution_count": 20,
   "metadata": {},
   "outputs": [],
   "source": [
    "class Differentiable:\n",
    "    type = \"Differentiable\"\n",
    "    def __init__(self, value):\n",
    "        self.value = value\n",
    "    def derivative(self, x):\n",
    "        pass\n",
    "    \n",
    "class LogLinear:\n",
    "    sub_type = \"LogLinear\"\n",
    "    def __init__(self, parameters):\n",
    "        self.parameters = parameters\n",
    "  "
   ]
  },
  {
   "cell_type": "markdown",
   "metadata": {},
   "source": [
    "All differentiable function can have derivative computed. Loglinear is class of differentiable functions. We can use inheritance to let `LogLinear` class inherit the `derivative` instance method from `Differentiable` class.\n"
   ]
  },
  {
   "cell_type": "code",
   "execution_count": 9,
   "metadata": {},
   "outputs": [],
   "source": [
    "class Differentiable:\n",
    "    type = [\"Differentiable\"]\n",
    "    def __init__(self, value):\n",
    "        self.value = value\n",
    "    def derivative(self, x):\n",
    "        pass\n",
    "    @classmethod\n",
    "    def change_type(cls, new_type):\n",
    "        cls.type = new_type\n",
    "    \n",
    "class LogLinear(Differentiable):\n",
    "    sub_type = [\"LogLinear\"]\n",
    "    def __init__(self, parameters, value):\n",
    "        super().__init__(value)\n",
    "        self.parameters = parameters\n",
    "    "
   ]
  },
  {
   "cell_type": "markdown",
   "metadata": {},
   "source": [
    "- sub class `__init__` also inherit super class `__init__` input argument `value`.  \n",
    "- `super().__init__(...)` is used to call the super class `__init__` method."
   ]
  },
  {
   "cell_type": "code",
   "execution_count": 10,
   "metadata": {},
   "outputs": [],
   "source": [
    "ll = LogLinear(1, 2)"
   ]
  },
  {
   "cell_type": "code",
   "execution_count": 11,
   "metadata": {},
   "outputs": [
    {
     "data": {
      "text/plain": [
       "(['Differentiable'], ['LogLinear'], None)"
      ]
     },
     "execution_count": 11,
     "metadata": {},
     "output_type": "execute_result"
    }
   ],
   "source": [
    "ll.__class__.type, ll.__class__.sub_type, ll.derivative(1)"
   ]
  },
  {
   "cell_type": "markdown",
   "metadata": {},
   "source": [
    "> If the super class property is **mutable**, then modify the sub class same property will change its super class counterpart as well."
   ]
  },
  {
   "cell_type": "code",
   "execution_count": 12,
   "metadata": {},
   "outputs": [
    {
     "data": {
      "text/plain": [
       "['Differentiable', 'Continuous']"
      ]
     },
     "execution_count": 12,
     "metadata": {},
     "output_type": "execute_result"
    }
   ],
   "source": [
    "# modify the inherited class property\n",
    "#   also modifies the parent class property\n",
    "ll.type.append(\"Continuous\")\n",
    "ll.type"
   ]
  },
  {
   "cell_type": "code",
   "execution_count": 13,
   "metadata": {},
   "outputs": [
    {
     "data": {
      "text/plain": [
       "['Differentiable', 'Continuous']"
      ]
     },
     "execution_count": 13,
     "metadata": {},
     "output_type": "execute_result"
    }
   ],
   "source": [
    "Differentiable.type"
   ]
  },
  {
   "cell_type": "markdown",
   "metadata": {},
   "source": [
    "## Games class\n",
    "\n",
    "`Games` class encapsulates the menu of available games, and the method to start a new game, the history of game played will be tracked underneath. \n",
    "\n",
    "`Game` class is to initialize a game, and to play the game. \n",
    "\n",
    "When playing a game of `Game` class, users might want to play another game. If we let `Game` class inherit `Games` class, `Game` class will have the method to start a new game -- no need to use `Games` class to start a new game.\n",
    " \n",
    "\n",
    "- `Games` a super class\n",
    "- `Game` a sub class\n",
    "\n"
   ]
  },
  {
   "cell_type": "code",
   "execution_count": null,
   "metadata": {},
   "outputs": [],
   "source": [
    "# Demo: Do not run\n",
    "\n",
    "# No inheritance\n",
    "games = Games()\n",
    "game = games.new('g-1')\n",
    "Alice, Bob = game.players\n",
    "\n",
    "## To play another game, we use games again\n",
    "game2 = games.new('g-2') # use games\n"
   ]
  },
  {
   "cell_type": "code",
   "execution_count": null,
   "metadata": {},
   "outputs": [],
   "source": [
    "\n",
    "# With inheritance\n",
    "### new game can be initialized with the current game instance\n",
    "game2 = game.new('g-2') # use game not games\n"
   ]
  },
  {
   "cell_type": "markdown",
   "metadata": {},
   "source": [
    "### Details"
   ]
  },
  {
   "cell_type": "code",
   "execution_count": 1,
   "metadata": {},
   "outputs": [],
   "source": [
    "from gamepy.games import Games"
   ]
  },
  {
   "cell_type": "markdown",
   "metadata": {},
   "source": [
    "`Games` in `games.py`:\n",
    "  \n",
    "https://github.com/tpemartin/gamepy/blob/681ba5c2b4ff7ffc7eba3f724ab212634c2e388f/games.py#L11_L37\n",
    "\n",
    "  - All class method must have `@classmethod` decorator.\n",
    "  - class property `games_played` is a dictionary which is mutable.\n"
   ]
  },
  {
   "cell_type": "markdown",
   "metadata": {},
   "source": [
    "### Usage"
   ]
  },
  {
   "cell_type": "code",
   "execution_count": 2,
   "metadata": {},
   "outputs": [],
   "source": [
    "# The first time to initiate a new game\n",
    "\n",
    "game, (player1, player2) = Games().new(\"g-1\") \n",
    "# Or\n",
    "# games = Games()\n",
    "# game = games.new(\"g-1\")\n",
    "\n",
    "# Afterward, can use `game` to initiate a different new game\n",
    "# Game class inherits `new` instance method from Games class\n",
    "game2, (player1, player2) = game.new(\"g-2\")\n",
    "\n",
    "# a new g-1\n",
    "game3, (player1, _ ) = game.new(\"g-1\")\n",
    "# if you don't need player2, use meaningless holder `_`"
   ]
  },
  {
   "cell_type": "markdown",
   "metadata": {},
   "source": [
    "- `Games.new` will return `game` and `players` (a list of two player instances)\n",
    "- The above code uses unpacking skill."
   ]
  },
  {
   "cell_type": "code",
   "execution_count": 5,
   "metadata": {},
   "outputs": [],
   "source": [
    "a = [1, (2, 3)]\n",
    "a1, other = a\n",
    "a1, _ = a\n"
   ]
  },
  {
   "cell_type": "code",
   "execution_count": 6,
   "metadata": {},
   "outputs": [
    {
     "data": {
      "text/plain": [
       "[(2, 3), 5]"
      ]
     },
     "execution_count": 6,
     "metadata": {},
     "output_type": "execute_result"
    }
   ],
   "source": [
    "\n",
    "b = [1, (2, 3), 5]\n",
    "b1, *other = b # `*` force `other` to take in all the rest\n",
    "other"
   ]
  },
  {
   "cell_type": "code",
   "execution_count": 9,
   "metadata": {},
   "outputs": [
    {
     "data": {
      "text/plain": [
       "(2, 3)"
      ]
     },
     "execution_count": 9,
     "metadata": {},
     "output_type": "execute_result"
    }
   ],
   "source": [
    "b1, b2, b3 = b\n",
    "b2\n",
    "\n",
    "b1, (c1, c2), b3 = b\n",
    "c1, c2\n"
   ]
  },
  {
   "cell_type": "markdown",
   "metadata": {},
   "source": [
    "The instances of the sub class `Game` all inherit properties and methods from super class `Games`.\n",
    "\n",
    "Instance properties and methods continue to be the instance properties and methods in the sub class (`Game` here), and class properties and methods continue to be the class properties and methods in the sub class (`Game` here)."
   ]
  },
  {
   "cell_type": "code",
   "execution_count": 3,
   "metadata": {},
   "outputs": [
    {
     "data": {
      "text/plain": [
       "{'g-1': [<gamepy.games.Game at 0x106ecb210>,\n",
       "  <gamepy.games.Game at 0x106edbbd0>],\n",
       " 'g-2': [<gamepy.games.Game at 0x106ecb1d0>]}"
      ]
     },
     "execution_count": 3,
     "metadata": {},
     "output_type": "execute_result"
    }
   ],
   "source": [
    "# All sub class have inherited super class methods and properties\n",
    "game.new\n",
    "game.new2 # class method\n",
    "game.switch\n",
    "game.switch2 # class method\n",
    "game.games_played # class property\n",
    "\n",
    "game2.new\n",
    "game2.new2\n",
    "game2.switch\n",
    "game2.switch2\n",
    "game.games_played"
   ]
  },
  {
   "cell_type": "markdown",
   "metadata": {},
   "source": [
    "### Modify super class property though subclass\n",
    "\n",
    "If the super class property is **mutable** and there is method that can change it under the hood. When sub class instance call the method, the super class property will be changed as well -- as long as it is mutable."
   ]
  },
  {
   "cell_type": "code",
   "execution_count": 4,
   "metadata": {},
   "outputs": [
    {
     "data": {
      "text/plain": [
       "{'g-1': [<gamepy.games.Game at 0x106ecb210>,\n",
       "  <gamepy.games.Game at 0x106edbbd0>],\n",
       " 'g-2': [<gamepy.games.Game at 0x106ecb1d0>]}"
      ]
     },
     "execution_count": 4,
     "metadata": {},
     "output_type": "execute_result"
    }
   ],
   "source": [
    "# current super class property\n",
    "Games.games_played"
   ]
  },
  {
   "cell_type": "code",
   "execution_count": 5,
   "metadata": {},
   "outputs": [
    {
     "data": {
      "text/plain": [
       "{'g-1': [<gamepy.games.Game at 0x106ecb210>,\n",
       "  <gamepy.games.Game at 0x106edbbd0>],\n",
       " 'g-2': [<gamepy.games.Game at 0x106ecb1d0>,\n",
       "  <gamepy.games.Game at 0x106edfc90>,\n",
       "  <gamepy.games.Game at 0x106edffd0>]}"
      ]
     },
     "execution_count": 5,
     "metadata": {},
     "output_type": "execute_result"
    }
   ],
   "source": [
    "# sub class method (inherited) call\n",
    "game.new('g-2')\n",
    "game.new('g-2')\n",
    "\n",
    "# check super class property\n",
    "Games.games_played"
   ]
  },
  {
   "cell_type": "markdown",
   "metadata": {},
   "source": [
    "> Even the super class `Games` remembers the played game created by its subclasses `game`. The `games_played` class property is in sync between `Games` and its subclasses.\n",
    "\n",
    "- Inheritance can create a feedback loop from the subclass back to the super class as long as the property value is *mutable*."
   ]
  },
  {
   "cell_type": "markdown",
   "metadata": {},
   "source": [
    "### Two types of game play\n",
    "\n",
    "new game (`game.new()`) vs. returning game (`game.switch()`)"
   ]
  },
  {
   "cell_type": "code",
   "execution_count": 12,
   "metadata": {},
   "outputs": [
    {
     "data": {
      "text/plain": [
       "('S', 'R', (-1, 1))"
      ]
     },
     "execution_count": 12,
     "metadata": {},
     "output_type": "execute_result"
    }
   ],
   "source": [
    "# return to g-2\n",
    "game, (Alice, Bob) = game.switch('g-2')\n",
    "Alice.play(\"S\"), Bob.play(\"R\")\n",
    "Alice.played_strategy, Bob.played_strategy, game.payoff()"
   ]
  },
  {
   "cell_type": "markdown",
   "metadata": {},
   "source": [
    "You can switch through class method `Games.switch2`. Also create new game through `Games.new2`."
   ]
  },
  {
   "cell_type": "code",
   "execution_count": 19,
   "metadata": {},
   "outputs": [],
   "source": [
    "game, (Alice, Bob) = Games.switch2('g-1')\n",
    "game, (Alice, Bob) = Games.new2('g-2')"
   ]
  },
  {
   "cell_type": "markdown",
   "metadata": {},
   "source": [
    "For a game that has multiple instances (like same game played in different rooms), we can `switch` to the specific instance using its index in `game.games_played['game_id'][index]`"
   ]
  },
  {
   "cell_type": "code",
   "execution_count": 13,
   "metadata": {},
   "outputs": [
    {
     "data": {
      "text/plain": [
       "('C', 'D', (-3, 0))"
      ]
     },
     "execution_count": 13,
     "metadata": {},
     "output_type": "execute_result"
    }
   ],
   "source": [
    "# return to first g-1\n",
    "game, (Alice, Bob) = game.switch('g-1')\n",
    "Alice.play(\"C\"), Bob.play(\"D\")\n",
    "Alice.played_strategy, Bob.played_strategy, game.payoff()"
   ]
  },
  {
   "cell_type": "code",
   "execution_count": 14,
   "metadata": {},
   "outputs": [
    {
     "data": {
      "text/plain": [
       "('D', 'D', (-2, -2))"
      ]
     },
     "execution_count": 14,
     "metadata": {},
     "output_type": "execute_result"
    }
   ],
   "source": [
    "# return to second g-1\n",
    "game, (Alice, Bob) = game.switch('g-1',index=1)\n",
    "Alice.play(\"D\"), Bob.play(\"D\")\n",
    "Alice.played_strategy, Bob.played_strategy, game.payoff()"
   ]
  },
  {
   "cell_type": "code",
   "execution_count": 15,
   "metadata": {},
   "outputs": [
    {
     "data": {
      "text/plain": [
       "['C', 'D']"
      ]
     },
     "execution_count": 15,
     "metadata": {},
     "output_type": "execute_result"
    }
   ],
   "source": [
    "# check 1st g-1 played_strategy\n",
    "[p.played_strategy \n",
    "    for p in game.games_played['g-1'][0].players]"
   ]
  },
  {
   "cell_type": "code",
   "execution_count": 16,
   "metadata": {},
   "outputs": [
    {
     "data": {
      "text/plain": [
       "['D', 'D']"
      ]
     },
     "execution_count": 16,
     "metadata": {},
     "output_type": "execute_result"
    }
   ],
   "source": [
    "# check 2nd g-1 played_strategy\n",
    "[p.played_strategy \n",
    "    for p in game.games_played['g-1'][1].players]"
   ]
  },
  {
   "cell_type": "markdown",
   "metadata": {},
   "source": [
    "# `Room` class\n"
   ]
  },
  {
   "cell_type": "code",
   "execution_count": null,
   "metadata": {},
   "outputs": [],
   "source": [
    "game.create_room(room_id = \"r-1\")\n",
    "player1.join_room(room_id = \"r-1\")"
   ]
  },
  {
   "cell_type": "code",
   "execution_count": null,
   "metadata": {},
   "outputs": [],
   "source": [
    "class Game:\n",
    "    def creat_room(self, room_id):\n",
    "        self.room_id = room_id\n",
    "        \n",
    "class Player:\n",
    "    def join_room(self, room_id):\n",
    "        self.room_id = room_id\n",
    "        "
   ]
  },
  {
   "cell_type": "markdown",
   "metadata": {},
   "source": [
    "## `GameSheet` class\n",
    "\n"
   ]
  },
  {
   "cell_type": "markdown",
   "metadata": {},
   "source": [
    "### Interface "
   ]
  },
  {
   "cell_type": "code",
   "execution_count": null,
   "metadata": {},
   "outputs": [],
   "source": [
    "service = GamesSheets().service()\n",
    "sheet_game_play = service.sheet(\"game-play\") # create a Sheet instance of game_play\n",
    "sheet_game_play.last_row # check the last row of the sheet\n",
    "sheet_game_play.append_row([1,2,3,4,5]) # append a row to the sheet\n",
    "sheet_game_play.update_row(index = 1, [1,2,3,4,5]) # update a row of the sheet"
   ]
  },
  {
   "cell_type": "code",
   "execution_count": 6,
   "metadata": {},
   "outputs": [],
   "source": [
    "from gamepy.gamesheet.gamesheet import test, scopes, build_sheet_service"
   ]
  },
  {
   "cell_type": "code",
   "execution_count": 26,
   "metadata": {},
   "outputs": [],
   "source": [
    "spreadsheets_id = \"1lFqtMo0jicu9JAkHgNisQnIlFQc1mJlJyCLnOuaGQX8\"\n",
    "\n",
    "class GamesSheets:\n",
    "    def __init__(self):\n",
    "        self.scopes = scopes\n",
    "        self.spreadsheets_id = spreadsheets_id\n",
    "    def service(self):\n",
    "        self.service = build_sheet_service(self.scopes)\n",
    "        return self\n",
    "    def spreadsheets_values(self):\n",
    "        spreadsheets_values = self.service.spreadsheets().values()\n",
    "        return spreadsheets_values\n",
    "    \n",
    "class Service:\n",
    "    def __init__(self, service):\n",
    "        self.service = service   \n",
    "    def sheet(self, name):\n",
    "        return Sheet(name)\n",
    "    \n",
    "class Sheet:\n",
    "    def __init__(self, name):\n",
    "        self.name = name\n",
    "    def last_row(self):\n",
    "        pass\n",
    "    def append_row(self, row):\n",
    "        pass\n",
    "    def update_row(self, index, row):\n",
    "        pass"
   ]
  },
  {
   "cell_type": "code",
   "execution_count": 7,
   "metadata": {},
   "outputs": [
    {
     "ename": "SyntaxError",
     "evalue": "positional argument follows keyword argument (187445865.py, line 4)",
     "output_type": "error",
     "traceback": [
      "\u001b[0;36m  Cell \u001b[0;32mIn[7], line 4\u001b[0;36m\u001b[0m\n\u001b[0;31m    gs.sheet(\"game-play\").update_row(index = 1, [1,2,3,4,5])\u001b[0m\n\u001b[0m                                                           ^\u001b[0m\n\u001b[0;31mSyntaxError\u001b[0m\u001b[0;31m:\u001b[0m positional argument follows keyword argument\n"
     ]
    }
   ],
   "source": [
    "gs = GameSheet(spreadsheets_id, scopes)\n",
    "gs.sheet(\"game-play\").last_row\n",
    "gs.sheet(\"game-play\").append_row([1,2,3,4,5])\n",
    "gs.sheet(\"game-play\").update_row(index = 1, [1,2,3,4,5])\n"
   ]
  },
  {
   "cell_type": "code",
   "execution_count": 30,
   "metadata": {},
   "outputs": [],
   "source": [
    "from gamepy.gamesheet.gamesheet import spreadsheets_id, scopes, build_sheet_service\n",
    "\n",
    "class GameSheet:\n",
    "    def __init__(self, spreadsheets_id, scopes):\n",
    "        self.scopes = scopes\n",
    "        self.spreadsheets_id = spreadsheets_id\n",
    "        self.service = self._build_sheet_service()\n",
    "    def _build_sheet_service(self):\n",
    "        return build_sheet_service(self.scopes)\n",
    "    \n"
   ]
  },
  {
   "cell_type": "code",
   "execution_count": 32,
   "metadata": {},
   "outputs": [
    {
     "data": {
      "text/plain": [
       "<googleapiclient.discovery.Resource at 0x117b48510>"
      ]
     },
     "execution_count": 32,
     "metadata": {},
     "output_type": "execute_result"
    }
   ],
   "source": [
    "gs = GameSheet(spreadsheets_id, scopes)\n",
    "gs.service.spreadsheets().values()"
   ]
  },
  {
   "cell_type": "code",
   "execution_count": 175,
   "metadata": {},
   "outputs": [],
   "source": [
    "class Sheet(GameSheet):\n",
    "    def __init__(self, name, spreadsheets_id, scopes, max_col=\"I\"):\n",
    "        super().__init__(spreadsheets_id, scopes)\n",
    "        self.name = name\n",
    "        self.max_col = max_col\n",
    "        # self._max_col = string.ascii_uppercase.find(max_col) + 1\n",
    "    def _get(self, range):\n",
    "        _range = f\"{self.name}!{range}\"\n",
    "        values = self.service.spreadsheets().values().get(\n",
    "            spreadsheetId=self.spreadsheets_id, range=_range).execute()\n",
    "        return values['values']\n",
    "    def _update(self, row_index, values):\n",
    "        _range = f\"{self.name}!A{row_index}:{self.max_col}{row_index}\"\n",
    "        body = {'values': [values]}\n",
    "        result = self.service.spreadsheets().values().update(\n",
    "            spreadsheetId=self.spreadsheets_id, range=_range,\n",
    "            valueInputOption=\"USER_ENTERED\", body=body).execute()\n",
    "        return result\n",
    "    def _append(self, values):\n",
    "        _range = f\"{self.name}!A{self.last_row+1}:{self.max_col}{self.last_row+1}\"\n",
    "        body = {'values': [values]}\n",
    "        result = self.service.spreadsheets().values().append(\n",
    "            spreadsheetId=self.spreadsheets_id, range=_range,\n",
    "            valueInputOption='RAW', body=body).execute()\n",
    "        return result\n",
    "    @property\n",
    "    def last_row(self):\n",
    "        return len(self._get(\"A1:A\"))\n",
    "    @staticmethod\n",
    "    def _create_values(index, value):\n",
    "        values = [None]*(index+1)\n",
    "        values[index] = value\n",
    "        return values\n",
    "    "
   ]
  },
  {
   "cell_type": "code",
   "execution_count": 176,
   "metadata": {},
   "outputs": [],
   "source": [
    "game_room = Sheet(\"game-room\", spreadsheets_id, scopes)"
   ]
  },
  {
   "cell_type": "code",
   "execution_count": 177,
   "metadata": {},
   "outputs": [
    {
     "data": {
      "text/plain": [
       "['https://www.googleapis.com/auth/spreadsheets']"
      ]
     },
     "execution_count": 177,
     "metadata": {},
     "output_type": "execute_result"
    }
   ],
   "source": [
    "scopes"
   ]
  },
  {
   "cell_type": "code",
   "execution_count": null,
   "metadata": {},
   "outputs": [],
   "source": [
    "gr = GameRoom()\n",
    "gr.register_game_room(\"game-id:room-id\")"
   ]
  },
  {
   "cell_type": "code",
   "execution_count": 70,
   "metadata": {},
   "outputs": [],
   "source": [
    "class GameRoomIndex:\n",
    "    (game_room_id,\n",
    "    game_id,\n",
    "    room_id,\n",
    "    player1_id,\n",
    "    player2_id,\n",
    "    round_number,\n",
    "    player1_choice,\n",
    "    player2_choice,\n",
    "    payoff) = [x for x in range(9)]\n",
    "    "
   ]
  },
  {
   "cell_type": "code",
   "execution_count": 71,
   "metadata": {},
   "outputs": [
    {
     "data": {
      "text/plain": [
       "1"
      ]
     },
     "execution_count": 71,
     "metadata": {},
     "output_type": "execute_result"
    }
   ],
   "source": [
    "GameRoomIndex.game_id"
   ]
  },
  {
   "cell_type": "code",
   "execution_count": 179,
   "metadata": {},
   "outputs": [],
   "source": [
    "import re\n",
    "\n",
    "class GameRoom(Sheet):\n",
    "    record = dict()\n",
    "    def __init__(self, spreadsheets_id, scopes):\n",
    "        super().__init__(\"game-room\", spreadsheets_id, scopes)\n",
    "    def register_game_room(self, game_room_id):\n",
    "        game_id, room_id = game_room_id.split(\":\")\n",
    "        values = [game_room_id, game_id, room_id]\n",
    "        result = self._append(values)\n",
    "        self.__class__.record[game_room_id] = find_row_number_from_range(\n",
    "              result['updates']['updatedRange']\n",
    "          )\n",
    "        return self\n",
    "    def register_player1_name(self, game_room_id, player1_name):\n",
    "        values = self._create_values(GameRoomIndex.player1_id, player1_name)\n",
    "        row_index = self.record[game_room_id]\n",
    "        self._update(row_index, values)\n",
    "        return self\n",
    "    def register_player2_name(self, game_room_id, player2_name):\n",
    "        values = [None]*(GameRoomIndex.player2_id+1)\n",
    "        values[GameRoomIndex.player2_id] = player2_name\n",
    "        row_index = self.record[game_room_id]\n",
    "        self._update(row_index, values)\n",
    "    def register_player1_choice(self, game_room_id, player1_choice):\n",
    "        values = [None]*(GameRoomIndex.player1_choice+1)\n",
    "        values[GameRoomIndex.player1_choice_id] = player1_choice\n",
    "        row_index = self.record[game_room_id]\n",
    "        self._update(row_index, values)\n",
    "        return self\n",
    "    def register_player2_choice(self, game_room_id, player2_choice):\n",
    "        values = [None]*(GameRoomIndex.player2_choice+1)\n",
    "        values[GameRoomIndex.player2_choice] = player2_choice\n",
    "        row_index = self.record[game_room_id]\n",
    "        self._update(row_index, values)\n",
    "        return self\n",
    "    def register_payoff(self, game_room_id, payoff):\n",
    "        values = self._create_values(GameRoomIndex.payoff, payoff)\n",
    "        row_index = self.record[game_room_id]\n",
    "        self._update(row_index, values)\n",
    "        return self\n",
    "\n",
    "\n",
    "    \n",
    "def find_row_number_from_range(range):\n",
    "    return int(re.findall(r\"\\d+\",range)[0])\n",
    "\n",
    "    "
   ]
  },
  {
   "cell_type": "markdown",
   "metadata": {},
   "source": [
    "### Usage `GameRoom`"
   ]
  },
  {
   "cell_type": "code",
   "execution_count": 8,
   "metadata": {},
   "outputs": [],
   "source": [
    "from gamepy.gamesheet.gamesheet import spreadsheets_id, scopes\n",
    "from gamepy.gamesheet.gameroom import GameRoom\n",
    "game_room = GameRoom(spreadsheets_id, scopes)"
   ]
  },
  {
   "cell_type": "code",
   "execution_count": 9,
   "metadata": {},
   "outputs": [
    {
     "data": {
      "text/plain": [
       "23"
      ]
     },
     "execution_count": 9,
     "metadata": {},
     "output_type": "execute_result"
    }
   ],
   "source": [
    "# inherited @property\n",
    "game_room.last_row"
   ]
  },
  {
   "cell_type": "code",
   "execution_count": 4,
   "metadata": {},
   "outputs": [],
   "source": [
    "result = game_room.register_game_room(\"g-3:r-9\")"
   ]
  },
  {
   "cell_type": "code",
   "execution_count": 5,
   "metadata": {},
   "outputs": [
    {
     "data": {
      "text/plain": [
       "{'g-3:r-9': 23}"
      ]
     },
     "execution_count": 5,
     "metadata": {},
     "output_type": "execute_result"
    }
   ],
   "source": [
    "game_room.record"
   ]
  },
  {
   "cell_type": "code",
   "execution_count": 182,
   "metadata": {},
   "outputs": [
    {
     "data": {
      "text/plain": [
       "<__main__.GameRoom at 0x1307a7a50>"
      ]
     },
     "execution_count": 182,
     "metadata": {},
     "output_type": "execute_result"
    }
   ],
   "source": [
    "game_room.register_player1_name('g-3:r-9',\"Alice\")\n",
    "game_room.register_payoff('g-3:r-9',\"(3,3)\")"
   ]
  },
  {
   "cell_type": "code",
   "execution_count": 118,
   "metadata": {},
   "outputs": [
    {
     "data": {
      "text/plain": [
       "3"
      ]
     },
     "execution_count": 118,
     "metadata": {},
     "output_type": "execute_result"
    }
   ],
   "source": [
    "GameRoomIndex.player1_id"
   ]
  },
  {
   "cell_type": "code",
   "execution_count": 24,
   "metadata": {},
   "outputs": [],
   "source": [
    "gs = GamesSheets()\n",
    "service = gs.service()\n"
   ]
  },
  {
   "cell_type": "code",
   "execution_count": 28,
   "metadata": {},
   "outputs": [
    {
     "data": {
      "text/plain": [
       "{'range': \"'game-room'!A1:E1000\",\n",
       " 'majorDimension': 'ROWS',\n",
       " 'values': [['game-room-id', 'game-id', 'room-id', 'player1-id', 'player2-id'],\n",
       "  ['g-1:r-2', 'g-1', 'r-2', 'player1', 'player2'],\n",
       "  ['g-1:r-N84LUM', 'g-1', 'r-N84LUM', 'player1', 'player2'],\n",
       "  ['g-1:r-N84LUM', 'g-1', 'r-N84LUM', 'player1', 'player2'],\n",
       "  ['g-1:r-N84LUM', 'g-1', 'r-N84LUM', 'player1', 'player2']]}"
      ]
     },
     "execution_count": 28,
     "metadata": {},
     "output_type": "execute_result"
    }
   ],
   "source": [
    "service.spreadsheets_values().get(spreadsheetId=spreadsheets_id, range=\"game-room!A1:E\").execute()"
   ]
  },
  {
   "cell_type": "code",
   "execution_count": 18,
   "metadata": {},
   "outputs": [
    {
     "ename": "TypeError",
     "evalue": "'Resource' object is not callable",
     "output_type": "error",
     "traceback": [
      "\u001b[0;31m---------------------------------------------------------------------------\u001b[0m",
      "\u001b[0;31mTypeError\u001b[0m                                 Traceback (most recent call last)",
      "\u001b[1;32m/Users/martin/Documents/GitHub/112-2-programming-for-economic-modeling/ipynb/week-13.ipynb Cell 44\u001b[0m line \u001b[0;36m1\n\u001b[0;32m----> <a href='vscode-notebook-cell:/Users/martin/Documents/GitHub/112-2-programming-for-economic-modeling/ipynb/week-13.ipynb#Y160sZmlsZQ%3D%3D?line=0'>1</a>\u001b[0m gs\u001b[39m.\u001b[39;49mservice()\u001b[39m.\u001b[39mspreadsheets_values()\n",
      "\u001b[0;31mTypeError\u001b[0m: 'Resource' object is not callable"
     ]
    }
   ],
   "source": [
    "gs.service()"
   ]
  },
  {
   "cell_type": "code",
   "execution_count": null,
   "metadata": {},
   "outputs": [],
   "source": []
  },
  {
   "cell_type": "code",
   "execution_count": 12,
   "metadata": {},
   "outputs": [
    {
     "data": {
      "text/plain": [
       "<googleapiclient.discovery.Resource at 0x11062cb10>"
      ]
     },
     "execution_count": 12,
     "metadata": {},
     "output_type": "execute_result"
    }
   ],
   "source": [
    "service"
   ]
  },
  {
   "cell_type": "code",
   "execution_count": 11,
   "metadata": {},
   "outputs": [
    {
     "data": {
      "text/plain": [
       "<googleapiclient.discovery.Resource at 0x11052e010>"
      ]
     },
     "execution_count": 11,
     "metadata": {},
     "output_type": "execute_result"
    }
   ],
   "source": [
    "service.spreadsheets()\n"
   ]
  },
  {
   "cell_type": "code",
   "execution_count": 4,
   "metadata": {},
   "outputs": [
    {
     "data": {
      "text/plain": [
       "['https://www.googleapis.com/auth/spreadsheets']"
      ]
     },
     "execution_count": 4,
     "metadata": {},
     "output_type": "execute_result"
    }
   ],
   "source": [
    "gs.scopes"
   ]
  },
  {
   "cell_type": "code",
   "execution_count": 5,
   "metadata": {},
   "outputs": [],
   "source": [
    "\n",
    "service = build_sheet_service(gs.scopes)"
   ]
  },
  {
   "cell_type": "code",
   "execution_count": null,
   "metadata": {},
   "outputs": [],
   "source": [
    "class Service:\n",
    "    def __init__(self, scopes):\n",
    "        self.scopes = scopes\n",
    "    def sheet(self, name):\n",
    "        pass"
   ]
  },
  {
   "cell_type": "markdown",
   "metadata": {},
   "source": [
    "### `__init__.py`\n",
    "\n",
    "The `__init__.py` file is used to make Python treat the directories as containing modules. It is usually empty - but can be different.\n"
   ]
  },
  {
   "cell_type": "markdown",
   "metadata": {},
   "source": [
    "\n",
    "#### Define Package Attribute\n",
    "\n",
    "Define inside `__init__.py`\n",
    "```python\n",
    "scopes = [\"https://www.googleapis.com/auth/spreadsheets\"]\n",
    "```\n",
    "\n",
    "For all the sub modules (like `gamesheet.py`)in the package, they can import the package attribute using the following code.\n",
    "\n",
    "Use pacakge attribute `scopes` in `gamesheet.py`\n",
    "```python\n",
    "from . import scopes\n",
    "```\n",
    "\n",
    "`.` represent the current package. `from .` means importing the current package, which will trigger `__init__.py` to run and generate `scopes` for functions inside `gamesheet.py` to use."
   ]
  },
  {
   "cell_type": "code",
   "execution_count": 1,
   "metadata": {},
   "outputs": [],
   "source": [
    "from gamepy.gamesheet.gamesheet import test\n",
    "\n",
    "test()"
   ]
  },
  {
   "cell_type": "markdown",
   "metadata": {},
   "source": [
    "#### Define Package * import\n",
    "\n",
    "Instead of using `from gamepy.gamesheet.gamesheet import *` where the last `gamesheet` is the module name, we can use `from gamepy.gamesheet import *` if we have `__ALL__` defined what to export in `__init__.py`.\n",
    "\n",
    "\n",
    "In `__init__.py`\n",
    "```python\n",
    "# package attributes used in `test` must \n",
    "#  go above the `test` import\n",
    "from .gamesheet import test\n",
    "\n",
    "__ALL__ = ['test']\n",
    "```"
   ]
  },
  {
   "cell_type": "markdown",
   "metadata": {},
   "source": [
    "> Note: package attributes, like `scopes` used in `test` must go above the `test` import."
   ]
  },
  {
   "cell_type": "code",
   "execution_count": null,
   "metadata": {},
   "outputs": [],
   "source": [
    "# import from package (not from module)\n",
    "from gamepy.gamesheet import test, scopes"
   ]
  },
  {
   "cell_type": "code",
   "execution_count": 2,
   "metadata": {},
   "outputs": [
    {
     "name": "stdout",
     "output_type": "stream",
     "text": [
      "['https://www.googleapis.com/auth/spreadsheets']\n",
      "1lFqtMo0jicu9JAkHgNisQnIlFQc1mJlJyCLnOuaGQX8\n"
     ]
    }
   ],
   "source": [
    "test()"
   ]
  },
  {
   "cell_type": "markdown",
   "metadata": {},
   "source": [
    "Import `spreadsheet_id` from package is not allowed since it is not defined in `__ALL__`."
   ]
  },
  {
   "cell_type": "code",
   "execution_count": null,
   "metadata": {},
   "outputs": [],
   "source": [
    "# can not import spreadsheet_id from package,\n",
    "# since it is not in __ALL__\n",
    "from gamepy.gamesheet import spreadsheets_id"
   ]
  },
  {
   "cell_type": "markdown",
   "metadata": {},
   "source": [
    "However, if you import `spreadsheet_id` from `gamesheet.py`, it is allowed.\n",
    "\n",
    "> `__init__.py` only control export in `from {package}` level. It does not control export in `from {package}.{module}` level."
   ]
  },
  {
   "cell_type": "code",
   "execution_count": 6,
   "metadata": {},
   "outputs": [],
   "source": [
    "# Can still import from module level though\n",
    "from gamepy.gamesheet.gamesheet import spreadsheets_id"
   ]
  },
  {
   "cell_type": "markdown",
   "metadata": {},
   "source": [
    "## Cloud"
   ]
  },
  {
   "cell_type": "code",
   "execution_count": null,
   "metadata": {},
   "outputs": [],
   "source": [
    "game = Games().new('g-1')\n",
    "game.create_room() # create a room-id \n",
    "game.rooms # a list of room_id's that have been created\n",
    "Alice.join_room(\"room_id\") # join the room"
   ]
  },
  {
   "cell_type": "code",
   "execution_count": 1,
   "metadata": {},
   "outputs": [],
   "source": [
    "import random\n",
    "import string\n",
    "from gamepy.room import Room\n",
    "\n",
    "class Game:\n",
    "    def __init__(self, game_id):\n",
    "      self.rooms = dict()\n",
    "      self.game_id = game_id\n",
    "      pass\n",
    "    def create_room(self):\n",
    "        room_id = self.generate_room_id()\n",
    "        room = Room(game_room_id=self.game_id + \":\"+ room_id)\n",
    "        # room.register_room()\n",
    "        self.rooms[room_id] = room\n",
    "    @staticmethod\n",
    "    def generate_room_id():\n",
    "        return 'r-'+''.join(random.choices(string.ascii_uppercase + string.digits, k=6))\n",
    "        \n"
   ]
  },
  {
   "cell_type": "code",
   "execution_count": 2,
   "metadata": {},
   "outputs": [],
   "source": [
    "game = Game(\"g-1\")\n"
   ]
  },
  {
   "cell_type": "code",
   "execution_count": 3,
   "metadata": {},
   "outputs": [],
   "source": [
    "# set seed\n",
    "import random\n",
    "random.seed(2023)\n",
    "\n",
    "game.create_room()"
   ]
  },
  {
   "cell_type": "code",
   "execution_count": 4,
   "metadata": {},
   "outputs": [
    {
     "data": {
      "text/plain": [
       "dict_keys(['r-N84LUM'])"
      ]
     },
     "execution_count": 4,
     "metadata": {},
     "output_type": "execute_result"
    }
   ],
   "source": [
    "game.rooms.keys()"
   ]
  },
  {
   "cell_type": "code",
   "execution_count": 5,
   "metadata": {},
   "outputs": [],
   "source": [
    "room = game.rooms['r-N84LUM']"
   ]
  },
  {
   "cell_type": "code",
   "execution_count": 6,
   "metadata": {},
   "outputs": [],
   "source": [
    "from gamepy.sheets.sheets import GameSheets\n",
    "\n",
    "gs = GameSheets()\n"
   ]
  },
  {
   "cell_type": "code",
   "execution_count": 8,
   "metadata": {},
   "outputs": [
    {
     "data": {
      "text/plain": [
       "5"
      ]
     },
     "execution_count": 8,
     "metadata": {},
     "output_type": "execute_result"
    }
   ],
   "source": [
    "gs.register_room_in_game_room(room)"
   ]
  },
  {
   "cell_type": "code",
   "execution_count": 8,
   "metadata": {},
   "outputs": [
    {
     "data": {
      "text/plain": [
       "3"
      ]
     },
     "execution_count": 8,
     "metadata": {},
     "output_type": "execute_result"
    }
   ],
   "source": [
    "from gamepy.sheets.sheets import GService, register_room_in_game_room_sheet\n",
    "\n",
    "gs = GService()\n",
    "register_room_in_game_room_sheet(gs, room)"
   ]
  },
  {
   "cell_type": "code",
   "execution_count": 6,
   "metadata": {},
   "outputs": [
    {
     "data": {
      "text/plain": [
       "'r-0l7q'"
      ]
     },
     "execution_count": 6,
     "metadata": {},
     "output_type": "execute_result"
    }
   ],
   "source": [
    "# create room_id: r-xxxx where xxxx is a mixed of numbers and little case letters\n",
    "import random\n",
    "import string\n",
    "'r-'+''.join(random.choices(string.ascii_lowercase + string.digits, k=4))"
   ]
  },
  {
   "cell_type": "code",
   "execution_count": null,
   "metadata": {},
   "outputs": [],
   "source": [
    "\n",
    "\n",
    "import random\n",
    "import string\n",
    "'r-'+''.join(random.choices(string.ascii_letters + string.digits, k=4))"
   ]
  },
  {
   "cell_type": "markdown",
   "metadata": {},
   "source": [
    "### `.create_room()`\n",
    "\n",
    "- Modify the `game.rooms` property. `game.rooms` is a dictionary of `room_id` its keys are the following:\n",
    "    - `game_room_id`\n",
    "    - `round_number`: the latest finished round (that has payoff values)\n",
    "    - `player1_name`\n",
    "    - `player2_name`\n",
    "    - `player1_choice`\n",
    "    - `player2_choice`\n",
    "    - `payoff`\n",
    "    - `row_number_in_game_room`\n",
    "- Register "
   ]
  },
  {
   "cell_type": "markdown",
   "metadata": {},
   "source": [
    "### Room class"
   ]
  },
  {
   "cell_type": "code",
   "execution_count": 57,
   "metadata": {},
   "outputs": [],
   "source": [
    "class Room:\n",
    "    def __init__(self, game_room_id, player_names = [\"player1\", \"player2\"], player_choices = [\"\", \"\"], round_number = 0, payoff = \"\") -> None:\n",
    "        self.game_room_id = game_room_id\n",
    "        self.player1_name, self.player2_name = player_names\n",
    "        self.player1_choice, self.player2_choice = player_choices\n",
    "        self.round_number = round_number\n",
    "        self.payoff = payoff\n",
    "    def register_room(self):\n",
    "        self.row_game_room = register_room_in_game_room_sheet(self)\n",
    "    def update(self):\n",
    "        self.row_game_room = update_in_game_room_sheet(self)\n",
    "       \n",
    "# helper\n",
    "\n",
    "def register_room_in_game_room_sheet(room):\n",
    "    pass\n",
    "def update_in_game_room_sheet(room):\n",
    "    pass\n"
   ]
  },
  {
   "cell_type": "code",
   "execution_count": 58,
   "metadata": {},
   "outputs": [],
   "source": [
    "room = Room(\"g-1:r-2\")"
   ]
  },
  {
   "cell_type": "code",
   "execution_count": 60,
   "metadata": {},
   "outputs": [],
   "source": [
    "room.game_room_id\n",
    "room.register_room()\n",
    "room.row_game_room"
   ]
  },
  {
   "cell_type": "code",
   "execution_count": 52,
   "metadata": {},
   "outputs": [
    {
     "name": "stdout",
     "output_type": "stream",
     "text": [
      "Please visit this URL to authorize this application: https://accounts.google.com/o/oauth2/auth?response_type=code&client_id=235254569809-j9nb8jq2890gi4tf0u6cr434d4phrd6b.apps.googleusercontent.com&redirect_uri=http%3A%2F%2Flocalhost%3A58013%2F&scope=https%3A%2F%2Fwww.googleapis.com%2Fauth%2Fspreadsheets&state=0p5VmSG2iCMoiynfR8yJmk9Pk55SGR&access_type=offline\n"
     ]
    }
   ],
   "source": [
    "from gamepy.sheets.sheets import GService\n",
    "\n",
    "service = GService()"
   ]
  },
  {
   "cell_type": "code",
   "execution_count": 56,
   "metadata": {},
   "outputs": [
    {
     "data": {
      "text/plain": [
       "['g-1', 'r-2']"
      ]
     },
     "execution_count": 56,
     "metadata": {},
     "output_type": "execute_result"
    }
   ],
   "source": [
    "room.game_room_id.split(\":\")\n",
    "              "
   ]
  },
  {
   "cell_type": "code",
   "execution_count": 80,
   "metadata": {},
   "outputs": [],
   "source": [
    "def create_roomRecord(room):\n",
    "    game_id, room_id = room.game_room_id.split(\":\")\n",
    "    return [\n",
    "            room.game_room_id,\n",
    "            game_id,\n",
    "            room_id,\n",
    "            room.player1_name,\n",
    "            room.player2_name,\n",
    "            room.round_number,\n",
    "            room.player1_choice,\n",
    "            room.player2_choice,\n",
    "            room.payoff\n",
    "        ]"
   ]
  },
  {
   "cell_type": "code",
   "execution_count": 64,
   "metadata": {},
   "outputs": [],
   "source": [
    "spreadsheet_id = \"1lFqtMo0jicu9JAkHgNisQnIlFQc1mJlJyCLnOuaGQX8\"\n"
   ]
  },
  {
   "cell_type": "code",
   "execution_count": 74,
   "metadata": {},
   "outputs": [],
   "source": [
    "def get_last_row_game_room_sheet(service, spreadsheet_id):\n",
    "    # get game-room sheet game-room id column\n",
    "    range = \"game-room!A1:A\"\n",
    "\n",
    "    result = service.spreadsheets().values().get(\n",
    "        spreadsheetId=spreadsheet_id,\n",
    "        range=range\n",
    "    ).execute()\n",
    "\n",
    "    lastRow = len(result['values'])\n",
    "    return lastRow\n"
   ]
  },
  {
   "cell_type": "code",
   "execution_count": 81,
   "metadata": {},
   "outputs": [],
   "source": [
    "lastRow = get_last_row_game_room_sheet(service, spreadsheet_id)"
   ]
  },
  {
   "cell_type": "code",
   "execution_count": 82,
   "metadata": {},
   "outputs": [
    {
     "data": {
      "text/plain": [
       "2"
      ]
     },
     "execution_count": 82,
     "metadata": {},
     "output_type": "execute_result"
    }
   ],
   "source": [
    "lastRow"
   ]
  },
  {
   "cell_type": "code",
   "execution_count": 79,
   "metadata": {},
   "outputs": [],
   "source": [
    "def register_room_in_game_room_sheet(room):\n",
    "    roomRecord = create_roomRecord(room)\n",
    "    lastRow = get_last_row_game_room_sheet(service, spreadsheet_id)\n",
    "    values = [\n",
    "            roomRecord\n",
    "            # Additional rows ...\n",
    "        ]\n",
    "    body = {\"values\": values}\n",
    "    rangeName = f'game-room!A{lastRow+1}:I{lastRow+1}'\n",
    "    result = (\n",
    "            service.spreadsheets()\n",
    "                .values()\n",
    "                .update(\n",
    "                    spreadsheetId=spreadsheet_id,\n",
    "                    range=rangeName,\n",
    "                    valueInputOption=\"RAW\",\n",
    "                    body=body\n",
    "                )\n",
    "                .execute()\n",
    "        )\n",
    "    return lastRow+1\n"
   ]
  },
  {
   "cell_type": "code",
   "execution_count": null,
   "metadata": {},
   "outputs": [],
   "source": [
    "\n",
    "roomRecord = create_roomRecord(room)\n",
    "lastRow = get_last_row_game_room_sheet(service, spreadsheet_id)\n",
    "values = [\n",
    "        roomRecord\n",
    "        # Additional rows ...\n",
    "    ]\n",
    "body = {\"values\": values}\n",
    "rangeName = f'game-room!A{lastRow+1}:I{lastRow+1}'\n",
    "result = (\n",
    "        service.spreadsheets()\n",
    "            .values()\n",
    "            .update(\n",
    "                spreadsheetId=spreadsheet_id,\n",
    "                range=rangeName,\n",
    "                valueInputOption=\"RAW\",\n",
    "                body=body\n",
    "            )\n",
    "            .execute()\n",
    "    )\n",
    "return lastRow+1"
   ]
  },
  {
   "cell_type": "code",
   "execution_count": 1,
   "metadata": {},
   "outputs": [],
   "source": [
    "from gamepy.sheets.sheets import GameSheets"
   ]
  },
  {
   "cell_type": "code",
   "execution_count": 2,
   "metadata": {},
   "outputs": [],
   "source": [
    "gs = GameSheets()"
   ]
  },
  {
   "cell_type": "code",
   "execution_count": null,
   "metadata": {},
   "outputs": [],
   "source": [
    "gs.register_room_in_game_room()"
   ]
  },
  {
   "cell_type": "markdown",
   "metadata": {},
   "source": [
    "We want player's information can be "
   ]
  },
  {
   "cell_type": "code",
   "execution_count": 38,
   "metadata": {},
   "outputs": [
    {
     "name": "stdout",
     "output_type": "stream",
     "text": [
      "Woof!\n",
      "Meow!\n"
     ]
    }
   ],
   "source": [
    "from abc import ABC, abstractmethod\n",
    "\n",
    "class Animal(ABC):\n",
    "    def __init__(self, name):\n",
    "        self.name = name\n",
    "    @abstractmethod\n",
    "    def sound(self):\n",
    "        pass\n",
    "\n",
    "class Dog(Animal):\n",
    "    def __init__(self, name):\n",
    "        super().__init__(name)\n",
    "    def sound(self):\n",
    "        return \"Woof!\"\n",
    "\n",
    "class Cat(Animal):\n",
    "    def __init__(self, name):\n",
    "        super().__init__(name)\n",
    "    def sound(self):\n",
    "        return \"Meow!\"\n",
    "\n",
    "# Creating instances of the classes\n",
    "dog = Dog(\"dog\")\n",
    "cat = Cat(\"cat\")\n",
    "\n",
    "# Calling the sound method\n",
    "print(dog.sound())  # Output: Woof!\n",
    "print(cat.sound())  # Output: Meow!\n"
   ]
  }
 ],
 "metadata": {
  "kernelspec": {
   "display_name": ".venv",
   "language": "python",
   "name": "python3"
  },
  "language_info": {
   "codemirror_mode": {
    "name": "ipython",
    "version": 3
   },
   "file_extension": ".py",
   "mimetype": "text/x-python",
   "name": "python",
   "nbconvert_exporter": "python",
   "pygments_lexer": "ipython3",
   "version": "3.11.5"
  }
 },
 "nbformat": 4,
 "nbformat_minor": 2
}
