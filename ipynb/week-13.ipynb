{
 "cells": [
  {
   "cell_type": "markdown",
   "metadata": {},
   "source": [
    "# Inheritance"
   ]
  },
  {
   "cell_type": "markdown",
   "metadata": {},
   "source": [
    "Sometimes classes have parent (super class) and children (sub classes) relationship. The children inherit the attributes and methods of the parent. If you want the sub classes to have all the properties and methods of the parent class, you can use inheritance."
   ]
  },
  {
   "cell_type": "code",
   "execution_count": 20,
   "metadata": {},
   "outputs": [],
   "source": [
    "class Differentiable:\n",
    "    type = \"Differentiable\"\n",
    "    def __init__(self, value):\n",
    "        self.value = value\n",
    "    def derivative(self, x):\n",
    "        pass\n",
    "    \n",
    "class LogLinear:\n",
    "    sub_type = \"LogLinear\"\n",
    "    def __init__(self, parameters):\n",
    "        self.parameters = parameters\n",
    "  "
   ]
  },
  {
   "cell_type": "markdown",
   "metadata": {},
   "source": [
    "All differentiable function can have derivative computed. Loglinear is class of differentiable functions. We can use inheritance to let `LogLinear` class inherit the `derivative` instance method from `Differentiable` class.\n"
   ]
  },
  {
   "cell_type": "code",
   "execution_count": 9,
   "metadata": {},
   "outputs": [],
   "source": [
    "class Differentiable:\n",
    "    type = [\"Differentiable\"]\n",
    "    def __init__(self, value):\n",
    "        self.value = value\n",
    "    def derivative(self, x):\n",
    "        pass\n",
    "    @classmethod\n",
    "    def change_type(cls, new_type):\n",
    "        cls.type = new_type\n",
    "    \n",
    "class LogLinear(Differentiable):\n",
    "    sub_type = [\"LogLinear\"]\n",
    "    def __init__(self, parameters, value):\n",
    "        super().__init__(value)\n",
    "        self.parameters = parameters\n",
    "    "
   ]
  },
  {
   "cell_type": "markdown",
   "metadata": {},
   "source": [
    "- sub class `__init__` also inherit super class `__init__` input argument `value`.  \n",
    "- `super().__init__(...)` is used to call the super class `__init__` method."
   ]
  },
  {
   "cell_type": "code",
   "execution_count": 10,
   "metadata": {},
   "outputs": [],
   "source": [
    "ll = LogLinear(1, 2)"
   ]
  },
  {
   "cell_type": "code",
   "execution_count": 11,
   "metadata": {},
   "outputs": [
    {
     "data": {
      "text/plain": [
       "(['Differentiable'], ['LogLinear'], None)"
      ]
     },
     "execution_count": 11,
     "metadata": {},
     "output_type": "execute_result"
    }
   ],
   "source": [
    "ll.__class__.type, ll.__class__.sub_type, ll.derivative(1)"
   ]
  },
  {
   "cell_type": "markdown",
   "metadata": {},
   "source": [
    "> If the super class property is **mutable**, then modify the sub class same property will change its super class counterpart as well."
   ]
  },
  {
   "cell_type": "code",
   "execution_count": 12,
   "metadata": {},
   "outputs": [
    {
     "data": {
      "text/plain": [
       "['Differentiable', 'Continuous']"
      ]
     },
     "execution_count": 12,
     "metadata": {},
     "output_type": "execute_result"
    }
   ],
   "source": [
    "# modify the inherited class property\n",
    "#   also modifies the parent class property\n",
    "ll.type.append(\"Continuous\")\n",
    "ll.type"
   ]
  },
  {
   "cell_type": "code",
   "execution_count": 13,
   "metadata": {},
   "outputs": [
    {
     "data": {
      "text/plain": [
       "['Differentiable', 'Continuous']"
      ]
     },
     "execution_count": 13,
     "metadata": {},
     "output_type": "execute_result"
    }
   ],
   "source": [
    "Differentiable.type"
   ]
  },
  {
   "cell_type": "markdown",
   "metadata": {},
   "source": [
    "## Games class"
   ]
  },
  {
   "cell_type": "code",
   "execution_count": 22,
   "metadata": {},
   "outputs": [],
   "source": [
    "from gamepy.games import Games"
   ]
  },
  {
   "cell_type": "markdown",
   "metadata": {},
   "source": [
    "Games in games.py:\n",
    "  \n",
    "https://github.com/tpemartin/gamepy/blob/681ba5c2b4ff7ffc7eba3f724ab212634c2e388f/games.py#L11-L37\n",
    "\n",
    "  - All class method must have `@classmethod` decorator.\n",
    "  - class property `games_played` is a dictionary which is mutable.\n"
   ]
  },
  {
   "cell_type": "markdown",
   "metadata": {},
   "source": [
    "### Usage"
   ]
  },
  {
   "cell_type": "code",
   "execution_count": 23,
   "metadata": {},
   "outputs": [],
   "source": [
    "# Initiate a new game\n",
    "\n",
    "game = Games().new(\"g-1\") \n",
    "# Or\n",
    "# games = Games()\n",
    "# game = games.new(\"g-1\")\n",
    "\n",
    "# Game class inherits `new` instance method from Games class\n",
    "game2 = game.new(\"g-2\")\n",
    "\n",
    "# a new g-1\n",
    "game3 = game.new(\"g-1\")"
   ]
  },
  {
   "cell_type": "markdown",
   "metadata": {},
   "source": [
    "The instances of the sub class `Game` all inherit properties and methods from super class `Games`.\n",
    "\n",
    "Instance properties and methods continue to be the instance properties and methods in the sub class (`Game` here), and class properties and methods continue to be the class properties and methods in the sub class (`Game` here)."
   ]
  },
  {
   "cell_type": "code",
   "execution_count": 25,
   "metadata": {},
   "outputs": [
    {
     "data": {
      "text/plain": [
       "{'g-1': [<gamepy.games.Game at 0x11b9cb210>,\n",
       "  <gamepy.games.Game at 0x11b9cb3d0>,\n",
       "  <gamepy.games.Game at 0x11b9da090>,\n",
       "  <gamepy.games.Game at 0x11c034490>],\n",
       " 'g-2': [<gamepy.games.Game at 0x11b9cb350>,\n",
       "  <gamepy.games.Game at 0x11bfb85d0>]}"
      ]
     },
     "execution_count": 25,
     "metadata": {},
     "output_type": "execute_result"
    }
   ],
   "source": [
    "# All sub class have inherited super class methods and properties\n",
    "game.new\n",
    "game.new2\n",
    "game.switch\n",
    "game.switch2\n",
    "game.games_played\n",
    "\n",
    "game2.new\n",
    "game2.new2\n",
    "game2.switch\n",
    "game2.switch2\n",
    "game.games_played"
   ]
  },
  {
   "cell_type": "code",
   "execution_count": 26,
   "metadata": {},
   "outputs": [
    {
     "data": {
      "text/plain": [
       "{'g-1': [<gamepy.games.Game at 0x11b9cb210>,\n",
       "  <gamepy.games.Game at 0x11b9cb3d0>,\n",
       "  <gamepy.games.Game at 0x11b9da090>,\n",
       "  <gamepy.games.Game at 0x11c034490>],\n",
       " 'g-2': [<gamepy.games.Game at 0x11b9cb350>,\n",
       "  <gamepy.games.Game at 0x11bfb85d0>]}"
      ]
     },
     "execution_count": 26,
     "metadata": {},
     "output_type": "execute_result"
    }
   ],
   "source": [
    "Games.games_played"
   ]
  },
  {
   "cell_type": "markdown",
   "metadata": {},
   "source": [
    "> Even the super class `Games` remembers the played game created by its subclasses `game`. The `games_played` class property is in sync between `Games` and its subclasses.\n",
    "\n",
    "- Inheritance can create a feedback loop from the subclass back to the super class as long as the property value is *mutable*."
   ]
  },
  {
   "cell_type": "markdown",
   "metadata": {},
   "source": [
    "### Two types of game play\n",
    "\n",
    "new game (`game.new()`) vs. returning game (`game.switch()`)"
   ]
  },
  {
   "cell_type": "code",
   "execution_count": 19,
   "metadata": {},
   "outputs": [
    {
     "data": {
      "text/plain": [
       "('S', 'R', (-1, 1))"
      ]
     },
     "execution_count": 19,
     "metadata": {},
     "output_type": "execute_result"
    }
   ],
   "source": [
    "# return to g-2\n",
    "game = game.switch('g-2')\n",
    "Alice, Bob = game.players\n",
    "Alice.play(\"S\"), Bob.play(\"R\")\n",
    "Alice.played_strategy, Bob.played_strategy, game.payoff()"
   ]
  },
  {
   "cell_type": "markdown",
   "metadata": {},
   "source": [
    "For a game that has multiple instances, we can `switch` to the specific instance using its index in `game.games_played['game_id'][index]`"
   ]
  },
  {
   "cell_type": "code",
   "execution_count": 20,
   "metadata": {},
   "outputs": [
    {
     "data": {
      "text/plain": [
       "('C', 'D', (-3, 0))"
      ]
     },
     "execution_count": 20,
     "metadata": {},
     "output_type": "execute_result"
    }
   ],
   "source": [
    "# return to first g-1\n",
    "game = game.switch('g-1')\n",
    "Alice, Bob = game.players\n",
    "Alice.play(\"C\"), Bob.play(\"D\")\n",
    "Alice.played_strategy, Bob.played_strategy, game.payoff()"
   ]
  },
  {
   "cell_type": "code",
   "execution_count": 17,
   "metadata": {},
   "outputs": [
    {
     "data": {
      "text/plain": [
       "('D', 'D', (-2, -2))"
      ]
     },
     "execution_count": 17,
     "metadata": {},
     "output_type": "execute_result"
    }
   ],
   "source": [
    "# return to second g-1\n",
    "game = game.switch('g-1',index=1)\n",
    "Alice, Bob = game.players\n",
    "Alice.play(\"D\"), Bob.play(\"D\")\n",
    "Alice.played_strategy, Bob.played_strategy, game.payoff()"
   ]
  },
  {
   "cell_type": "code",
   "execution_count": 39,
   "metadata": {},
   "outputs": [
    {
     "data": {
      "text/plain": [
       "['C', 'D']"
      ]
     },
     "execution_count": 39,
     "metadata": {},
     "output_type": "execute_result"
    }
   ],
   "source": [
    "# check 1st g-1 played_strategy\n",
    "[p.played_strategy \n",
    "    for p in game.games_played['g-1'][0].players]"
   ]
  },
  {
   "cell_type": "code",
   "execution_count": 40,
   "metadata": {},
   "outputs": [
    {
     "data": {
      "text/plain": [
       "['D', 'D']"
      ]
     },
     "execution_count": 40,
     "metadata": {},
     "output_type": "execute_result"
    }
   ],
   "source": [
    "# check 2nd g-1 played_strategy\n",
    "[p.played_strategy \n",
    "    for p in game.games_played['g-1'][1].players]"
   ]
  },
  {
   "cell_type": "markdown",
   "metadata": {},
   "source": [
    "## Cloud"
   ]
  },
  {
   "cell_type": "code",
   "execution_count": null,
   "metadata": {},
   "outputs": [],
   "source": [
    "game = Games().new('g-1')\n",
    "game.create_room() # create a room-id \n",
    "game.rooms # a list of room_id's that have been created\n",
    "Alice.join_room(\"room_id\") # join the room"
   ]
  },
  {
   "cell_type": "code",
   "execution_count": 1,
   "metadata": {},
   "outputs": [],
   "source": [
    "import random\n",
    "import string\n",
    "from gamepy.room import Room\n",
    "\n",
    "class Game:\n",
    "    def __init__(self, game_id):\n",
    "      self.rooms = dict()\n",
    "      self.game_id = game_id\n",
    "      pass\n",
    "    def create_room(self):\n",
    "        room_id = self.generate_room_id()\n",
    "        room = Room(game_room_id=self.game_id + \":\"+ room_id)\n",
    "        # room.register_room()\n",
    "        self.rooms[room_id] = room\n",
    "    @staticmethod\n",
    "    def generate_room_id():\n",
    "        return 'r-'+''.join(random.choices(string.ascii_uppercase + string.digits, k=6))\n",
    "        \n"
   ]
  },
  {
   "cell_type": "code",
   "execution_count": 2,
   "metadata": {},
   "outputs": [],
   "source": [
    "game = Game(\"g-1\")\n"
   ]
  },
  {
   "cell_type": "code",
   "execution_count": 3,
   "metadata": {},
   "outputs": [],
   "source": [
    "# set seed\n",
    "import random\n",
    "random.seed(2023)\n",
    "\n",
    "game.create_room()"
   ]
  },
  {
   "cell_type": "code",
   "execution_count": 4,
   "metadata": {},
   "outputs": [
    {
     "data": {
      "text/plain": [
       "dict_keys(['r-N84LUM'])"
      ]
     },
     "execution_count": 4,
     "metadata": {},
     "output_type": "execute_result"
    }
   ],
   "source": [
    "game.rooms.keys()"
   ]
  },
  {
   "cell_type": "code",
   "execution_count": 5,
   "metadata": {},
   "outputs": [],
   "source": [
    "room = game.rooms['r-N84LUM']"
   ]
  },
  {
   "cell_type": "code",
   "execution_count": 6,
   "metadata": {},
   "outputs": [],
   "source": [
    "from gamepy.sheets.sheets import GameSheets\n",
    "\n",
    "gs = GameSheets()\n"
   ]
  },
  {
   "cell_type": "code",
   "execution_count": 8,
   "metadata": {},
   "outputs": [
    {
     "data": {
      "text/plain": [
       "5"
      ]
     },
     "execution_count": 8,
     "metadata": {},
     "output_type": "execute_result"
    }
   ],
   "source": [
    "gs.register_room_in_game_room(room)"
   ]
  },
  {
   "cell_type": "code",
   "execution_count": 8,
   "metadata": {},
   "outputs": [
    {
     "data": {
      "text/plain": [
       "3"
      ]
     },
     "execution_count": 8,
     "metadata": {},
     "output_type": "execute_result"
    }
   ],
   "source": [
    "from gamepy.sheets.sheets import GService, register_room_in_game_room_sheet\n",
    "\n",
    "gs = GService()\n",
    "register_room_in_game_room_sheet(gs, room)"
   ]
  },
  {
   "cell_type": "code",
   "execution_count": 6,
   "metadata": {},
   "outputs": [
    {
     "data": {
      "text/plain": [
       "'r-0l7q'"
      ]
     },
     "execution_count": 6,
     "metadata": {},
     "output_type": "execute_result"
    }
   ],
   "source": [
    "# create room_id: r-xxxx where xxxx is a mixed of numbers and little case letters\n",
    "import random\n",
    "import string\n",
    "'r-'+''.join(random.choices(string.ascii_lowercase + string.digits, k=4))"
   ]
  },
  {
   "cell_type": "code",
   "execution_count": null,
   "metadata": {},
   "outputs": [],
   "source": [
    "\n",
    "\n",
    "import random\n",
    "import string\n",
    "'r-'+''.join(random.choices(string.ascii_letters + string.digits, k=4))"
   ]
  },
  {
   "cell_type": "markdown",
   "metadata": {},
   "source": [
    "### `.create_room()`\n",
    "\n",
    "- Modify the `game.rooms` property. `game.rooms` is a dictionary of `room_id` its keys are the following:\n",
    "    - `game_room_id`\n",
    "    - `round_number`: the latest finished round (that has payoff values)\n",
    "    - `player1_name`\n",
    "    - `player2_name`\n",
    "    - `player1_choice`\n",
    "    - `player2_choice`\n",
    "    - `payoff`\n",
    "    - `row_number_in_game_room`\n",
    "- Register "
   ]
  },
  {
   "cell_type": "markdown",
   "metadata": {},
   "source": [
    "### Room class"
   ]
  },
  {
   "cell_type": "code",
   "execution_count": 57,
   "metadata": {},
   "outputs": [],
   "source": [
    "class Room:\n",
    "    def __init__(self, game_room_id, player_names = [\"player1\", \"player2\"], player_choices = [\"\", \"\"], round_number = 0, payoff = \"\") -> None:\n",
    "        self.game_room_id = game_room_id\n",
    "        self.player1_name, self.player2_name = player_names\n",
    "        self.player1_choice, self.player2_choice = player_choices\n",
    "        self.round_number = round_number\n",
    "        self.payoff = payoff\n",
    "    def register_room(self):\n",
    "        self.row_game_room = register_room_in_game_room_sheet(self)\n",
    "    def update(self):\n",
    "        self.row_game_room = update_in_game_room_sheet(self)\n",
    "       \n",
    "# helper\n",
    "\n",
    "def register_room_in_game_room_sheet(room):\n",
    "    pass\n",
    "def update_in_game_room_sheet(room):\n",
    "    pass\n"
   ]
  },
  {
   "cell_type": "code",
   "execution_count": 58,
   "metadata": {},
   "outputs": [],
   "source": [
    "room = Room(\"g-1:r-2\")"
   ]
  },
  {
   "cell_type": "code",
   "execution_count": 60,
   "metadata": {},
   "outputs": [],
   "source": [
    "room.game_room_id\n",
    "room.register_room()\n",
    "room.row_game_room"
   ]
  },
  {
   "cell_type": "code",
   "execution_count": 52,
   "metadata": {},
   "outputs": [
    {
     "name": "stdout",
     "output_type": "stream",
     "text": [
      "Please visit this URL to authorize this application: https://accounts.google.com/o/oauth2/auth?response_type=code&client_id=235254569809-j9nb8jq2890gi4tf0u6cr434d4phrd6b.apps.googleusercontent.com&redirect_uri=http%3A%2F%2Flocalhost%3A58013%2F&scope=https%3A%2F%2Fwww.googleapis.com%2Fauth%2Fspreadsheets&state=0p5VmSG2iCMoiynfR8yJmk9Pk55SGR&access_type=offline\n"
     ]
    }
   ],
   "source": [
    "from gamepy.sheets.sheets import GService\n",
    "\n",
    "service = GService()"
   ]
  },
  {
   "cell_type": "code",
   "execution_count": 56,
   "metadata": {},
   "outputs": [
    {
     "data": {
      "text/plain": [
       "['g-1', 'r-2']"
      ]
     },
     "execution_count": 56,
     "metadata": {},
     "output_type": "execute_result"
    }
   ],
   "source": [
    "room.game_room_id.split(\":\")\n",
    "              "
   ]
  },
  {
   "cell_type": "code",
   "execution_count": 80,
   "metadata": {},
   "outputs": [],
   "source": [
    "def create_roomRecord(room):\n",
    "    game_id, room_id = room.game_room_id.split(\":\")\n",
    "    return [\n",
    "            room.game_room_id,\n",
    "            game_id,\n",
    "            room_id,\n",
    "            room.player1_name,\n",
    "            room.player2_name,\n",
    "            room.round_number,\n",
    "            room.player1_choice,\n",
    "            room.player2_choice,\n",
    "            room.payoff\n",
    "        ]"
   ]
  },
  {
   "cell_type": "code",
   "execution_count": 64,
   "metadata": {},
   "outputs": [],
   "source": [
    "spreadsheet_id = \"1lFqtMo0jicu9JAkHgNisQnIlFQc1mJlJyCLnOuaGQX8\"\n"
   ]
  },
  {
   "cell_type": "code",
   "execution_count": 74,
   "metadata": {},
   "outputs": [],
   "source": [
    "def get_last_row_game_room_sheet(service, spreadsheet_id):\n",
    "    # get game-room sheet game-room id column\n",
    "    range = \"game-room!A1:A\"\n",
    "\n",
    "    result = service.spreadsheets().values().get(\n",
    "        spreadsheetId=spreadsheet_id,\n",
    "        range=range\n",
    "    ).execute()\n",
    "\n",
    "    lastRow = len(result['values'])\n",
    "    return lastRow\n"
   ]
  },
  {
   "cell_type": "code",
   "execution_count": 81,
   "metadata": {},
   "outputs": [],
   "source": [
    "lastRow = get_last_row_game_room_sheet(service, spreadsheet_id)"
   ]
  },
  {
   "cell_type": "code",
   "execution_count": 82,
   "metadata": {},
   "outputs": [
    {
     "data": {
      "text/plain": [
       "2"
      ]
     },
     "execution_count": 82,
     "metadata": {},
     "output_type": "execute_result"
    }
   ],
   "source": [
    "lastRow"
   ]
  },
  {
   "cell_type": "code",
   "execution_count": 79,
   "metadata": {},
   "outputs": [],
   "source": [
    "def register_room_in_game_room_sheet(room):\n",
    "    roomRecord = create_roomRecord(room)\n",
    "    lastRow = get_last_row_game_room_sheet(service, spreadsheet_id)\n",
    "    values = [\n",
    "            roomRecord\n",
    "            # Additional rows ...\n",
    "        ]\n",
    "    body = {\"values\": values}\n",
    "    rangeName = f'game-room!A{lastRow+1}:I{lastRow+1}'\n",
    "    result = (\n",
    "            service.spreadsheets()\n",
    "                .values()\n",
    "                .update(\n",
    "                    spreadsheetId=spreadsheet_id,\n",
    "                    range=rangeName,\n",
    "                    valueInputOption=\"RAW\",\n",
    "                    body=body\n",
    "                )\n",
    "                .execute()\n",
    "        )\n",
    "    return lastRow+1\n"
   ]
  },
  {
   "cell_type": "code",
   "execution_count": null,
   "metadata": {},
   "outputs": [],
   "source": [
    "\n",
    "roomRecord = create_roomRecord(room)\n",
    "lastRow = get_last_row_game_room_sheet(service, spreadsheet_id)\n",
    "values = [\n",
    "        roomRecord\n",
    "        # Additional rows ...\n",
    "    ]\n",
    "body = {\"values\": values}\n",
    "rangeName = f'game-room!A{lastRow+1}:I{lastRow+1}'\n",
    "result = (\n",
    "        service.spreadsheets()\n",
    "            .values()\n",
    "            .update(\n",
    "                spreadsheetId=spreadsheet_id,\n",
    "                range=rangeName,\n",
    "                valueInputOption=\"RAW\",\n",
    "                body=body\n",
    "            )\n",
    "            .execute()\n",
    "    )\n",
    "return lastRow+1"
   ]
  },
  {
   "cell_type": "code",
   "execution_count": 1,
   "metadata": {},
   "outputs": [],
   "source": [
    "from gamepy.sheets.sheets import GameSheets"
   ]
  },
  {
   "cell_type": "code",
   "execution_count": 2,
   "metadata": {},
   "outputs": [],
   "source": [
    "gs = GameSheets()"
   ]
  },
  {
   "cell_type": "code",
   "execution_count": null,
   "metadata": {},
   "outputs": [],
   "source": [
    "gs.register_room_in_game_room()"
   ]
  },
  {
   "cell_type": "markdown",
   "metadata": {},
   "source": [
    "We want player's information can be "
   ]
  },
  {
   "cell_type": "code",
   "execution_count": 38,
   "metadata": {},
   "outputs": [
    {
     "name": "stdout",
     "output_type": "stream",
     "text": [
      "Woof!\n",
      "Meow!\n"
     ]
    }
   ],
   "source": [
    "from abc import ABC, abstractmethod\n",
    "\n",
    "class Animal(ABC):\n",
    "    def __init__(self, name):\n",
    "        self.name = name\n",
    "    @abstractmethod\n",
    "    def sound(self):\n",
    "        pass\n",
    "\n",
    "class Dog(Animal):\n",
    "    def __init__(self, name):\n",
    "        super().__init__(name)\n",
    "    def sound(self):\n",
    "        return \"Woof!\"\n",
    "\n",
    "class Cat(Animal):\n",
    "    def __init__(self, name):\n",
    "        super().__init__(name)\n",
    "    def sound(self):\n",
    "        return \"Meow!\"\n",
    "\n",
    "# Creating instances of the classes\n",
    "dog = Dog(\"dog\")\n",
    "cat = Cat(\"cat\")\n",
    "\n",
    "# Calling the sound method\n",
    "print(dog.sound())  # Output: Woof!\n",
    "print(cat.sound())  # Output: Meow!\n"
   ]
  }
 ],
 "metadata": {
  "kernelspec": {
   "display_name": ".venv",
   "language": "python",
   "name": "python3"
  },
  "language_info": {
   "codemirror_mode": {
    "name": "ipython",
    "version": 3
   },
   "file_extension": ".py",
   "mimetype": "text/x-python",
   "name": "python",
   "nbconvert_exporter": "python",
   "pygments_lexer": "ipython3",
   "version": "3.11.5"
  }
 },
 "nbformat": 4,
 "nbformat_minor": 2
}
