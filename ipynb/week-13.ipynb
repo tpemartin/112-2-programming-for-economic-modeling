{
 "cells": [
  {
   "cell_type": "markdown",
   "metadata": {},
   "source": [
    "# Inheritance"
   ]
  },
  {
   "cell_type": "markdown",
   "metadata": {},
   "source": [
    "Sometimes classes have parent (super class) and children (sub classes) relationship. The children inherit the attributes and methods of the parent. If you want the sub classes to have all the properties and methods of the parent class, you can use inheritance."
   ]
  },
  {
   "cell_type": "code",
   "execution_count": 20,
   "metadata": {},
   "outputs": [],
   "source": [
    "class Differentiable:\n",
    "    type = \"Differentiable\"\n",
    "    def __init__(self, value):\n",
    "        self.value = value\n",
    "    def derivative(self, x):\n",
    "        pass\n",
    "    \n",
    "class LogLinear:\n",
    "    sub_type = \"LogLinear\"\n",
    "    def __init__(self, parameters):\n",
    "        self.parameters = parameters\n",
    "  "
   ]
  },
  {
   "cell_type": "markdown",
   "metadata": {},
   "source": [
    "All differentiable function can have derivative computed. Loglinear is class of differentiable functions. We can use inheritance to let `LogLinear` class inherit the `derivative` instance method from `Differentiable` class.\n"
   ]
  },
  {
   "cell_type": "code",
   "execution_count": 9,
   "metadata": {},
   "outputs": [],
   "source": [
    "class Differentiable:\n",
    "    type = [\"Differentiable\"]\n",
    "    def __init__(self, value):\n",
    "        self.value = value\n",
    "    def derivative(self, x):\n",
    "        pass\n",
    "    @classmethod\n",
    "    def change_type(cls, new_type):\n",
    "        cls.type = new_type\n",
    "    \n",
    "class LogLinear(Differentiable):\n",
    "    sub_type = [\"LogLinear\"]\n",
    "    def __init__(self, parameters, value):\n",
    "        super().__init__(value)\n",
    "        self.parameters = parameters\n",
    "    "
   ]
  },
  {
   "cell_type": "markdown",
   "metadata": {},
   "source": [
    "- sub class `__init__` also inherit super class `__init__` input argument `value`.  \n",
    "- `super().__init__(...)` is used to call the super class `__init__` method."
   ]
  },
  {
   "cell_type": "code",
   "execution_count": 10,
   "metadata": {},
   "outputs": [],
   "source": [
    "ll = LogLinear(1, 2)"
   ]
  },
  {
   "cell_type": "code",
   "execution_count": 11,
   "metadata": {},
   "outputs": [
    {
     "data": {
      "text/plain": [
       "(['Differentiable'], ['LogLinear'], None)"
      ]
     },
     "execution_count": 11,
     "metadata": {},
     "output_type": "execute_result"
    }
   ],
   "source": [
    "ll.__class__.type, ll.__class__.sub_type, ll.derivative(1)"
   ]
  },
  {
   "cell_type": "markdown",
   "metadata": {},
   "source": [
    "> If the super class property is **mutable**, then modify the sub class same property will change its super class counterpart as well."
   ]
  },
  {
   "cell_type": "code",
   "execution_count": 12,
   "metadata": {},
   "outputs": [
    {
     "data": {
      "text/plain": [
       "['Differentiable', 'Continuous']"
      ]
     },
     "execution_count": 12,
     "metadata": {},
     "output_type": "execute_result"
    }
   ],
   "source": [
    "# modify the inherited class property\n",
    "#   also modifies the parent class property\n",
    "ll.type.append(\"Continuous\")\n",
    "ll.type"
   ]
  },
  {
   "cell_type": "code",
   "execution_count": 13,
   "metadata": {},
   "outputs": [
    {
     "data": {
      "text/plain": [
       "['Differentiable', 'Continuous']"
      ]
     },
     "execution_count": 13,
     "metadata": {},
     "output_type": "execute_result"
    }
   ],
   "source": [
    "Differentiable.type"
   ]
  },
  {
   "cell_type": "markdown",
   "metadata": {},
   "source": [
    "## Games class"
   ]
  },
  {
   "cell_type": "code",
   "execution_count": 22,
   "metadata": {},
   "outputs": [],
   "source": [
    "from gamepy.games import Games"
   ]
  },
  {
   "cell_type": "markdown",
   "metadata": {},
   "source": [
    "Games in games.py:\n",
    "  \n",
    "https://github.com/tpemartin/gamepy/blob/681ba5c2b4ff7ffc7eba3f724ab212634c2e388f/games.py#L11-L37\n",
    "\n"
   ]
  },
  {
   "cell_type": "code",
   "execution_count": 23,
   "metadata": {},
   "outputs": [],
   "source": [
    "game = Games().new(\"g-1\") \n",
    "# Or\n",
    "# games = Games()\n",
    "# game = games.new(\"g-1\")\n",
    "\n",
    "# Game class inherits `new` instance method from Games class\n",
    "game2 = game.new(\"g-2\")\n",
    "\n",
    "# a new g-1\n",
    "game3 = game.new(\"g-1\")"
   ]
  },
  {
   "cell_type": "markdown",
   "metadata": {},
   "source": [
    "The instances of the sub class `Game` all inherit properties and methods from super class `Games`.\n",
    "\n",
    "Instance properties and methods continue to be the instance properties and methods in the sub class (`Game` here), and class properties and methods continue to be the class properties and methods in the sub class (`Game` here)."
   ]
  },
  {
   "cell_type": "code",
   "execution_count": 25,
   "metadata": {},
   "outputs": [
    {
     "data": {
      "text/plain": [
       "{'g-1': [<gamepy.games.Game at 0x11b9cb210>,\n",
       "  <gamepy.games.Game at 0x11b9cb3d0>,\n",
       "  <gamepy.games.Game at 0x11b9da090>,\n",
       "  <gamepy.games.Game at 0x11c034490>],\n",
       " 'g-2': [<gamepy.games.Game at 0x11b9cb350>,\n",
       "  <gamepy.games.Game at 0x11bfb85d0>]}"
      ]
     },
     "execution_count": 25,
     "metadata": {},
     "output_type": "execute_result"
    }
   ],
   "source": [
    "# All sub class have inherited super class methods and properties\n",
    "game.new\n",
    "game.new2\n",
    "game.switch\n",
    "game.switch2\n",
    "game.games_played\n",
    "\n",
    "game2.new\n",
    "game2.new2\n",
    "game2.switch\n",
    "game2.switch2\n",
    "game.games_played"
   ]
  },
  {
   "cell_type": "code",
   "execution_count": 26,
   "metadata": {},
   "outputs": [
    {
     "data": {
      "text/plain": [
       "{'g-1': [<gamepy.games.Game at 0x11b9cb210>,\n",
       "  <gamepy.games.Game at 0x11b9cb3d0>,\n",
       "  <gamepy.games.Game at 0x11b9da090>,\n",
       "  <gamepy.games.Game at 0x11c034490>],\n",
       " 'g-2': [<gamepy.games.Game at 0x11b9cb350>,\n",
       "  <gamepy.games.Game at 0x11bfb85d0>]}"
      ]
     },
     "execution_count": 26,
     "metadata": {},
     "output_type": "execute_result"
    }
   ],
   "source": [
    "Games.games_played"
   ]
  },
  {
   "cell_type": "markdown",
   "metadata": {},
   "source": [
    "> Even the super class `Games` remembers the played game created by its subclasses `game`. The `games_played` class property is in sync between `Games` and its subclasses.\n",
    "\n",
    "- Inheritance can create a feedback loop from the subclass back to the super class as long as the property value is *mutable*."
   ]
  },
  {
   "cell_type": "code",
   "execution_count": 19,
   "metadata": {},
   "outputs": [
    {
     "data": {
      "text/plain": [
       "('S', 'R', (-1, 1))"
      ]
     },
     "execution_count": 19,
     "metadata": {},
     "output_type": "execute_result"
    }
   ],
   "source": [
    "# return to g-2\n",
    "game = game.switch('g-2')\n",
    "Alice, Bob = game.players\n",
    "Alice.play(\"S\"), Bob.play(\"R\")\n",
    "Alice.played_strategy, Bob.played_strategy, game.payoff()"
   ]
  },
  {
   "cell_type": "code",
   "execution_count": 20,
   "metadata": {},
   "outputs": [
    {
     "data": {
      "text/plain": [
       "('C', 'D', (-3, 0))"
      ]
     },
     "execution_count": 20,
     "metadata": {},
     "output_type": "execute_result"
    }
   ],
   "source": [
    "# return to first g-1\n",
    "game = game.switch('g-1')\n",
    "Alice, Bob = game.players\n",
    "Alice.play(\"C\"), Bob.play(\"D\")\n",
    "Alice.played_strategy, Bob.played_strategy, game.payoff()"
   ]
  },
  {
   "cell_type": "code",
   "execution_count": 21,
   "metadata": {},
   "outputs": [
    {
     "data": {
      "text/plain": [
       "['C', 'D']"
      ]
     },
     "execution_count": 21,
     "metadata": {},
     "output_type": "execute_result"
    }
   ],
   "source": [
    "# check 1st g-1 played_strategy\n",
    "[p.played_strategy \n",
    "    for p in game.games_played['g-1'][0].players]"
   ]
  },
  {
   "cell_type": "code",
   "execution_count": 17,
   "metadata": {},
   "outputs": [
    {
     "data": {
      "text/plain": [
       "('D', 'D', (-2, -2))"
      ]
     },
     "execution_count": 17,
     "metadata": {},
     "output_type": "execute_result"
    }
   ],
   "source": [
    "# return to second g-1\n",
    "game = game.switch('g-1',index=1)\n",
    "Alice, Bob = game.players\n",
    "Alice.play(\"D\"), Bob.play(\"D\")\n",
    "Alice.played_strategy, Bob.played_strategy, game.payoff()"
   ]
  },
  {
   "cell_type": "code",
   "execution_count": 18,
   "metadata": {},
   "outputs": [
    {
     "data": {
      "text/plain": [
       "['D', 'D']"
      ]
     },
     "execution_count": 18,
     "metadata": {},
     "output_type": "execute_result"
    }
   ],
   "source": [
    "# check 2nd g-1 played_strategy\n",
    "[p.played_strategy \n",
    "    for p in game.games_played['g-1'][1].players]"
   ]
  },
  {
   "cell_type": "code",
   "execution_count": 13,
   "metadata": {},
   "outputs": [
    {
     "data": {
      "text/plain": [
       "('C', 'D')"
      ]
     },
     "execution_count": 13,
     "metadata": {},
     "output_type": "execute_result"
    }
   ],
   "source": [
    "game = Games().new('g-1')\n",
    "Alice, Bob = game.players\n",
    "Alice.play('C')\n",
    "Bob.play(\"D\")\n",
    "Alice.played_strategy, Bob.played_strategy"
   ]
  },
  {
   "cell_type": "code",
   "execution_count": 14,
   "metadata": {},
   "outputs": [
    {
     "data": {
      "text/plain": [
       "('R', 'S')"
      ]
     },
     "execution_count": 14,
     "metadata": {},
     "output_type": "execute_result"
    }
   ],
   "source": [
    "game = Games().new('g-2')\n",
    "Alice, Bob = game.players\n",
    "Alice.play('R')\n",
    "Bob.play(\"S\")\n",
    "Alice.played_strategy, Bob.played_strategy"
   ]
  },
  {
   "cell_type": "markdown",
   "metadata": {},
   "source": [
    "Reuse the old 'g-1' game"
   ]
  },
  {
   "cell_type": "code",
   "execution_count": 15,
   "metadata": {},
   "outputs": [
    {
     "data": {
      "text/plain": [
       "('C', 'D')"
      ]
     },
     "execution_count": 15,
     "metadata": {},
     "output_type": "execute_result"
    }
   ],
   "source": [
    "game = game.games_played['g-1']\n",
    "Alice, Bob = game.players\n",
    "Alice.played_strategy, Bob.played_strategy"
   ]
  },
  {
   "cell_type": "code",
   "execution_count": 16,
   "metadata": {},
   "outputs": [
    {
     "data": {
      "text/plain": [
       "('C', 'D')"
      ]
     },
     "execution_count": 16,
     "metadata": {},
     "output_type": "execute_result"
    }
   ],
   "source": [
    "game = Games.games_played['g-1']\n",
    "Alice, Bob = game.players\n",
    "Alice.played_strategy, Bob.played_strategy"
   ]
  }
 ],
 "metadata": {
  "kernelspec": {
   "display_name": ".venv",
   "language": "python",
   "name": "python3"
  },
  "language_info": {
   "codemirror_mode": {
    "name": "ipython",
    "version": 3
   },
   "file_extension": ".py",
   "mimetype": "text/x-python",
   "name": "python",
   "nbconvert_exporter": "python",
   "pygments_lexer": "ipython3",
   "version": "3.11.5"
  }
 },
 "nbformat": 4,
 "nbformat_minor": 2
}
