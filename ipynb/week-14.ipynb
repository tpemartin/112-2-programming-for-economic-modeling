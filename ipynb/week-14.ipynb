{
 "cells": [
  {
   "cell_type": "markdown",
   "metadata": {},
   "source": [
    "# Recap\n",
    "\n",
    "- Inheritance: `Game` inherits from `Games` which inherits its class property `games_played` to track what games have been played, and its `new` method to create a new game, and its `switch` method to play a played game from `games_played`.\n",
    "\n"
   ]
  },
  {
   "cell_type": "code",
   "execution_count": null,
   "metadata": {},
   "outputs": [],
   "source": [
    "from gamepy.games import Games"
   ]
  },
  {
   "cell_type": "code",
   "execution_count": null,
   "metadata": {},
   "outputs": [],
   "source": [
    "# prisoner's dilemma\n",
    "game, (player1, player2) = Games().new(\"g-1\")"
   ]
  },
  {
   "cell_type": "code",
   "execution_count": null,
   "metadata": {},
   "outputs": [],
   "source": [
    "player1.play(\"C\")\n",
    "player2.play(\"D\")\n",
    "game.payoff()"
   ]
  },
  {
   "cell_type": "code",
   "execution_count": null,
   "metadata": {},
   "outputs": [],
   "source": [
    "# scissors paper rock\n",
    "game, (player1, player2) = game.new(\"g-2\")"
   ]
  },
  {
   "cell_type": "code",
   "execution_count": null,
   "metadata": {},
   "outputs": [],
   "source": [
    "player1.play(\"S\")\n",
    "player2.play(\"R\")\n",
    "game.payoff()"
   ]
  },
  {
   "cell_type": "markdown",
   "metadata": {},
   "source": [
    "- `__init__.py` to constrol package/subpackage imports through `__all__` and objects created in `__init__.py`."
   ]
  },
  {
   "cell_type": "code",
   "execution_count": null,
   "metadata": {},
   "outputs": [],
   "source": [
    "# objects created within gamepy/gamesheet/__init__.py\n",
    "from gamepy.gamesheet import scopes, spreadsheets_id\n",
    "# objects exported through __ALL__ definition\n",
    "from gamepy.gamesheet import GameRoom\n",
    "\n",
    "# You can combine above into one line as well"
   ]
  },
  {
   "cell_type": "markdown",
   "metadata": {},
   "source": [
    "- `GameRoom` class to control the game-room sheet in Google spreadsheets. "
   ]
  },
  {
   "cell_type": "code",
   "execution_count": null,
   "metadata": {},
   "outputs": [],
   "source": [
    "game_room = GameRoom(scopes=scopes, spreadsheets_id=spreadsheets_id)"
   ]
  },
  {
   "cell_type": "code",
   "execution_count": null,
   "metadata": {},
   "outputs": [],
   "source": [
    "game_room.register_game_room(\"g-1:r-14\")\n",
    "game_room.register_player1_name(\"g-1:r-14\", \"Alice\")\n",
    "game_room.register_player1_choice(\"g-1:r-14\", \"C\")"
   ]
  },
  {
   "cell_type": "markdown",
   "metadata": {},
   "source": [
    "## Exercise: GameRoom()\n",
    "What should you do to make the following code valid?\n"
   ]
  },
  {
   "cell_type": "code",
   "execution_count": null,
   "metadata": {},
   "outputs": [],
   "source": [
    "from gamepy.gamesheet import GameRoom\n",
    "\n",
    "game_room = GameRoom() # no need to pass scopes and spreadsheets_id again"
   ]
  },
  {
   "cell_type": "markdown",
   "metadata": {},
   "source": [
    "## Exercise: from gamepy import Games\n",
    "\n",
    "What should you do to make the following code valid?"
   ]
  },
  {
   "cell_type": "code",
   "execution_count": null,
   "metadata": {},
   "outputs": [],
   "source": [
    "from gamepy import Games"
   ]
  },
  {
   "cell_type": "markdown",
   "metadata": {},
   "source": [
    "# `Gamesheet` subpackage\n",
    "\n",
    "- `gamesheet.py` to control the game sheet in Google spreadsheets.\n",
    "- `gameroom.py` to control the game-room sheet in Google spreadsheets."
   ]
  },
  {
   "cell_type": "markdown",
   "metadata": {},
   "source": [
    "## `gamesheet.py`\n",
    "\n",
    "- `Service` class to initiate a Google sheets service object through `service._build_sheet_service` method.\n",
    "- `Sheet` class inherits from `Service` to control a Google sheet with **name** from a spreadsheet with **spreadsheet_id** and **scopes** specified. "
   ]
  },
  {
   "cell_type": "code",
   "execution_count": null,
   "metadata": {},
   "outputs": [],
   "source": [
    "from gamepy.gamesheet.gamesheet import Service, Sheet, scopes, spreadsheets_id"
   ]
  },
  {
   "cell_type": "code",
   "execution_count": null,
   "metadata": {},
   "outputs": [],
   "source": [
    "# initiate a Google sheet service object\n",
    "service = Service(spreadsheets_id=spreadsheets_id, scopes=scopes)\n",
    "\n",
    "# check serice property and methods\n",
    "service._build_sheet_service()"
   ]
  },
  {
   "cell_type": "code",
   "execution_count": null,
   "metadata": {},
   "outputs": [],
   "source": [
    "\n",
    "sheet_game_room = Sheet(\"game-room\", spreadsheets_id=spreadsheets_id, scopes=scopes)\n",
    "sheet_play = Sheet(\"play\", spreadsheets_id=spreadsheets_id, scopes=scopes)"
   ]
  },
  {
   "cell_type": "code",
   "execution_count": null,
   "metadata": {},
   "outputs": [],
   "source": [
    "# check property and method\n",
    "sheet_game_room._get(\"B8:E12\")\n"
   ]
  },
  {
   "cell_type": "code",
   "execution_count": null,
   "metadata": {},
   "outputs": [],
   "source": [
    "sheet_game_room._update(8,[None, None, None, \"Jack\"])"
   ]
  },
  {
   "cell_type": "code",
   "execution_count": null,
   "metadata": {},
   "outputs": [],
   "source": [
    "sheet_game_room._append(['g-2:r-7', 'g-2', 'r-7'])"
   ]
  },
  {
   "cell_type": "code",
   "execution_count": null,
   "metadata": {},
   "outputs": [],
   "source": [
    "sheet_game_room.last_row"
   ]
  },
  {
   "cell_type": "markdown",
   "metadata": {},
   "source": [
    "## Exercise Answers\n",
    "\n",
    "- [answers](https://github.com/tpemartin/gamepy/commit/5c901ea3121bc376eedd3f85d3c21024088998c0)"
   ]
  }
 ],
 "metadata": {
  "kernelspec": {
   "display_name": ".venv",
   "language": "python",
   "name": "python3"
  },
  "language_info": {
   "codemirror_mode": {
    "name": "ipython",
    "version": 3
   },
   "file_extension": ".py",
   "mimetype": "text/x-python",
   "name": "python",
   "nbconvert_exporter": "python",
   "pygments_lexer": "ipython3",
   "version": "3.11.5"
  }
 },
 "nbformat": 4,
 "nbformat_minor": 2
}
