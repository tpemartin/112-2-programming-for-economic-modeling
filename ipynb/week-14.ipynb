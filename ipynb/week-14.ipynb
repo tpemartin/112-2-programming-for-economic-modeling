{
 "cells": [
  {
   "cell_type": "markdown",
   "metadata": {},
   "source": [
    "# Recap\n",
    "\n",
    "- Inheritance: `Game` inherits from `Games` which inherits its class property `games_played` to track what games have been played, and its `new` method to create a new game, and its `switch` method to play a played game from `games_played`.\n",
    "\n"
   ]
  },
  {
   "cell_type": "code",
   "execution_count": null,
   "metadata": {},
   "outputs": [],
   "source": [
    "from gamepy.games import Games"
   ]
  },
  {
   "cell_type": "code",
   "execution_count": null,
   "metadata": {},
   "outputs": [],
   "source": [
    "# prisoner's dilemma\n",
    "game, (player1, player2) = Games().new(\"g-1\")"
   ]
  },
  {
   "cell_type": "code",
   "execution_count": null,
   "metadata": {},
   "outputs": [],
   "source": [
    "player1.play(\"C\")\n",
    "player2.play(\"D\")\n",
    "game.payoff()"
   ]
  },
  {
   "cell_type": "code",
   "execution_count": null,
   "metadata": {},
   "outputs": [],
   "source": [
    "# scissors paper rock\n",
    "game, (player1, player2) = game.new(\"g-2\")"
   ]
  },
  {
   "cell_type": "code",
   "execution_count": null,
   "metadata": {},
   "outputs": [],
   "source": [
    "player1.play(\"S\")\n",
    "player2.play(\"R\")\n",
    "game.payoff()"
   ]
  },
  {
   "cell_type": "markdown",
   "metadata": {},
   "source": [
    "- `__init__.py` to constrol package/subpackage imports through `__all__` and objects created in `__init__.py`."
   ]
  },
  {
   "cell_type": "code",
   "execution_count": null,
   "metadata": {},
   "outputs": [],
   "source": [
    "# objects created within gamepy/gamesheet/__init__.py\n",
    "from gamepy.gamesheet import scopes, spreadsheets_id\n",
    "# objects exported through __ALL__ definition\n",
    "from gamepy.gamesheet import GameRoom\n",
    "\n",
    "# You can combine above into one line as well"
   ]
  },
  {
   "cell_type": "markdown",
   "metadata": {},
   "source": [
    "- `GameRoom` class to control the game-room sheet in Google spreadsheets. "
   ]
  },
  {
   "cell_type": "code",
   "execution_count": null,
   "metadata": {},
   "outputs": [],
   "source": [
    "game_room = GameRoom(scopes=scopes, spreadsheets_id=spreadsheets_id)"
   ]
  },
  {
   "cell_type": "code",
   "execution_count": null,
   "metadata": {},
   "outputs": [],
   "source": [
    "game_room.register_game_room(\"g-1:r-14\")\n",
    "game_room.register_player1_name(\"g-1:r-14\", \"Alice\")\n",
    "game_room.register_player1_choice(\"g-1:r-14\", \"C\")"
   ]
  },
  {
   "cell_type": "markdown",
   "metadata": {},
   "source": [
    "## Exercise: GameRoom()\n",
    "What should you do to make the following code valid?\n"
   ]
  },
  {
   "cell_type": "code",
   "execution_count": null,
   "metadata": {},
   "outputs": [],
   "source": [
    "from gamepy.gamesheet import GameRoom\n",
    "\n",
    "game_room = GameRoom() # no need to pass scopes and spreadsheets_id again"
   ]
  },
  {
   "cell_type": "markdown",
   "metadata": {},
   "source": [
    "## Exercise: from gamepy import Games\n",
    "\n",
    "What should you do to make the following code valid?"
   ]
  },
  {
   "cell_type": "code",
   "execution_count": null,
   "metadata": {},
   "outputs": [],
   "source": [
    "from gamepy import Games"
   ]
  },
  {
   "cell_type": "markdown",
   "metadata": {},
   "source": [
    "# `Gamesheet` subpackage\n",
    "\n",
    "- `gamesheet.py` to control the game sheet in Google spreadsheets.\n",
    "- `gameroom.py` to control the game-room sheet in Google spreadsheets."
   ]
  },
  {
   "cell_type": "markdown",
   "metadata": {},
   "source": [
    "## `gamesheet.py`\n",
    "\n",
    "- `Service` class to initiate a Google sheets service object through `service._build_sheet_service` method.\n",
    "- `Sheet` class inherits from `Service` to control a Google sheet with **name** from a spreadsheet with **spreadsheet_id** and **scopes** specified. "
   ]
  },
  {
   "cell_type": "code",
   "execution_count": null,
   "metadata": {},
   "outputs": [],
   "source": [
    "from gamepy.gamesheet.gamesheet import Service, Sheet, scopes, spreadsheets_id"
   ]
  },
  {
   "cell_type": "code",
   "execution_count": null,
   "metadata": {},
   "outputs": [],
   "source": [
    "# initiate a Google sheet service object\n",
    "service = Service(spreadsheets_id=spreadsheets_id, scopes=scopes)\n",
    "\n",
    "# check serice property and methods\n",
    "service._build_sheet_service()"
   ]
  },
  {
   "cell_type": "code",
   "execution_count": null,
   "metadata": {},
   "outputs": [],
   "source": [
    "\n",
    "sheet_game_room = Sheet(\"game-room\", spreadsheets_id=spreadsheets_id, scopes=scopes)\n",
    "sheet_play = Sheet(\"play\", spreadsheets_id=spreadsheets_id, scopes=scopes)"
   ]
  },
  {
   "cell_type": "code",
   "execution_count": null,
   "metadata": {},
   "outputs": [],
   "source": [
    "# check property and method\n",
    "sheet_game_room._get(\"B8:E12\")\n"
   ]
  },
  {
   "cell_type": "code",
   "execution_count": null,
   "metadata": {},
   "outputs": [],
   "source": [
    "sheet_game_room._update(8,[None, None, None, \"Jack\"])"
   ]
  },
  {
   "cell_type": "code",
   "execution_count": null,
   "metadata": {},
   "outputs": [],
   "source": [
    "sheet_game_room._append(['g-2:r-7', 'g-2', 'r-7'])"
   ]
  },
  {
   "cell_type": "code",
   "execution_count": null,
   "metadata": {},
   "outputs": [],
   "source": [
    "sheet_game_room.last_row"
   ]
  },
  {
   "cell_type": "markdown",
   "metadata": {},
   "source": [
    "## Exercise Answers\n",
    "\n",
    "- [answers](https://github.com/tpemartin/gamepy/commit/5c901ea3121bc376eedd3f85d3c21024088998c0)"
   ]
  },
  {
   "cell_type": "markdown",
   "metadata": {},
   "source": [
    "# pip installable\n",
    "\n",
    "To create a GitHub pip installable package, you can follow these steps:\n",
    "\n",
    "1. Create a new repository on GitHub: Go to GitHub (https://github.com/) and create a new repository to host your package.\n",
    "\n",
    "2. Organize your code: Make sure your code is well-structured and organized in a directory. This directory will be the root of your package.\n",
    "\n",
    "3. Create a setup.py file: In the root directory of your package, create a file named `setup.py`. This file contains information about your package, such as its name, version, dependencies, and entry points. \n",
    "\n",
    "```\n",
    "from setuptools import setup\n",
    "\n",
    "setup(\n",
    "    name='your_package_name',\n",
    "    version='1.0.0',\n",
    "    description='Description of your package',\n",
    "    author='Your Name',\n",
    "    packages=find_packages(),\n",
    "    install_requires=['dependency1', 'dependency2'],\n",
    ")\n",
    "\n",
    "```\n",
    "\n",
    "4. Commit your code to the GitHub repository: Initialize a Git repository in your package directory, add your code files, and commit them to the repository.\n",
    "\n",
    "5. Push the repository to GitHub: Push the Git repository to the remote GitHub repository you created in step 1.\n",
    "\n",
    "6. Create a release on GitHub: Go to your GitHub repository, navigate to the \"Releases\" tab, and create a new release. Specify a tag version for the release (e.g., \"v1.0.0\") and provide a release title and description.\n",
    "\n",
    "> Next step, you need to do `pip install wheel` first.\n",
    "\n",
    "7. Upload your package distribution files: Before you upload your package distribution files, you need to build them. Open a terminal or command prompt, navigate to the root directory of your package, and run the following command to build the package:\n",
    "\n",
    "```\n",
    "python setup.py sdist bdist_wheel\n",
    "```\n",
    "\n",
    "This command creates a `dist` directory containing the distribution files for your package.\n",
    "\n",
    "Next, in the release creation page on GitHub, click on \"Upload assets\" and select the distribution files (`*.tar.gz` and `*.whl`) from the `dist` directory.\n",
    "\n",
    "8. Publish the release: Once you've uploaded the distribution files, click on \"Publish release\" to make the release and the package files available to users.\n",
    "\n",
    "Now, users can install your package directly from GitHub using pip by running:\n",
    "```\n",
    "pip install git+https://github.com/username/repo.git@tag\n",
    "```\n",
    "\n",
    "for example,\n",
    "\n",
    "```\n",
    "pip install git+https://github.com/tpemartin/gamepy.git@v1.0.4\n",
    "```\n",
    "\n",
    "Replace `username` with your GitHub username, `repo` with the name of your repository, and `tag` with the tag version you provided in step 6.\n",
    "\n",
    "That's it! Your GitHub pip installable package is ready. Users can install it using pip by referencing your GitHub repository."
   ]
  },
  {
   "cell_type": "markdown",
   "metadata": {},
   "source": []
  }
 ],
 "metadata": {
  "kernelspec": {
   "display_name": ".venv",
   "language": "python",
   "name": "python3"
  },
  "language_info": {
   "codemirror_mode": {
    "name": "ipython",
    "version": 3
   },
   "file_extension": ".py",
   "mimetype": "text/x-python",
   "name": "python",
   "nbconvert_exporter": "python",
   "pygments_lexer": "ipython3",
   "version": "3.11.5"
  }
 },
 "nbformat": 4,
 "nbformat_minor": 2
}
